{
 "cells": [
  {
   "cell_type": "markdown",
   "metadata": {},
   "source": [
    "### Pandas demo segunda parte"
   ]
  },
  {
   "cell_type": "code",
   "execution_count": 4,
   "metadata": {
    "collapsed": false
   },
   "outputs": [
    {
     "name": "stdout",
     "output_type": "stream",
     "text": [
      "%pylab is deprecated, use %matplotlib inline and import the required libraries.\n",
      "Populating the interactive namespace from numpy and matplotlib\n"
     ]
    }
   ],
   "source": [
    "%pylab inline\n",
    "import pandas as pd\n"
   ]
  },
  {
   "cell_type": "code",
   "execution_count": 5,
   "metadata": {
    "collapsed": false
   },
   "outputs": [
    {
     "data": {
      "text/html": [
       "<div>\n",
       "<style scoped>\n",
       "    .dataframe tbody tr th:only-of-type {\n",
       "        vertical-align: middle;\n",
       "    }\n",
       "\n",
       "    .dataframe tbody tr th {\n",
       "        vertical-align: top;\n",
       "    }\n",
       "\n",
       "    .dataframe thead th {\n",
       "        text-align: right;\n",
       "    }\n",
       "</style>\n",
       "<table border=\"1\" class=\"dataframe\">\n",
       "  <thead>\n",
       "    <tr style=\"text-align: right;\">\n",
       "      <th></th>\n",
       "      <th>title</th>\n",
       "      <th>year</th>\n",
       "      <th>name</th>\n",
       "      <th>type</th>\n",
       "      <th>character</th>\n",
       "      <th>n</th>\n",
       "    </tr>\n",
       "  </thead>\n",
       "  <tbody>\n",
       "    <tr>\n",
       "      <th>0</th>\n",
       "      <td>Closet Monster</td>\n",
       "      <td>2015</td>\n",
       "      <td>Buffy #1</td>\n",
       "      <td>actor</td>\n",
       "      <td>Buffy 4</td>\n",
       "      <td>31.0</td>\n",
       "    </tr>\n",
       "    <tr>\n",
       "      <th>1</th>\n",
       "      <td>Suuri illusioni</td>\n",
       "      <td>1985</td>\n",
       "      <td>Homo $</td>\n",
       "      <td>actor</td>\n",
       "      <td>Guests</td>\n",
       "      <td>22.0</td>\n",
       "    </tr>\n",
       "    <tr>\n",
       "      <th>2</th>\n",
       "      <td>Battle of the Sexes</td>\n",
       "      <td>2017</td>\n",
       "      <td>$hutter</td>\n",
       "      <td>actor</td>\n",
       "      <td>Bobby Riggs Fan</td>\n",
       "      <td>10.0</td>\n",
       "    </tr>\n",
       "    <tr>\n",
       "      <th>3</th>\n",
       "      <td>Secret in Their Eyes</td>\n",
       "      <td>2015</td>\n",
       "      <td>$hutter</td>\n",
       "      <td>actor</td>\n",
       "      <td>2002 Dodger Fan</td>\n",
       "      <td>NaN</td>\n",
       "    </tr>\n",
       "    <tr>\n",
       "      <th>4</th>\n",
       "      <td>Steve Jobs</td>\n",
       "      <td>2015</td>\n",
       "      <td>$hutter</td>\n",
       "      <td>actor</td>\n",
       "      <td>1988 Opera House Patron</td>\n",
       "      <td>NaN</td>\n",
       "    </tr>\n",
       "  </tbody>\n",
       "</table>\n",
       "</div>"
      ],
      "text/plain": [
       "                  title  year      name   type                character     n\n",
       "0        Closet Monster  2015  Buffy #1  actor                  Buffy 4  31.0\n",
       "1       Suuri illusioni  1985    Homo $  actor                   Guests  22.0\n",
       "2   Battle of the Sexes  2017   $hutter  actor          Bobby Riggs Fan  10.0\n",
       "3  Secret in Their Eyes  2015   $hutter  actor          2002 Dodger Fan   NaN\n",
       "4            Steve Jobs  2015   $hutter  actor  1988 Opera House Patron   NaN"
      ]
     },
     "execution_count": 5,
     "metadata": {},
     "output_type": "execute_result"
    }
   ],
   "source": [
    "elenco = pd.read_csv(r'C:\\Users\\luism\\Documents\\data\\cast.csv', encoding='utf-8')\n",
    "elenco.head()"
   ]
  },
  {
   "cell_type": "code",
   "execution_count": 6,
   "metadata": {
    "collapsed": false
   },
   "outputs": [
    {
     "data": {
      "text/plain": [
       "3564650"
      ]
     },
     "execution_count": 6,
     "metadata": {},
     "output_type": "execute_result"
    }
   ],
   "source": [
    "e = elenco\n",
    "len(e)"
   ]
  },
  {
   "cell_type": "code",
   "execution_count": 7,
   "metadata": {
    "collapsed": false
   },
   "outputs": [
    {
     "name": "stdout",
     "output_type": "stream",
     "text": [
      "CPU times: total: 312 ms\n",
      "Wall time: 560 ms\n"
     ]
    },
    {
     "data": {
      "text/html": [
       "<div>\n",
       "<style scoped>\n",
       "    .dataframe tbody tr th:only-of-type {\n",
       "        vertical-align: middle;\n",
       "    }\n",
       "\n",
       "    .dataframe tbody tr th {\n",
       "        vertical-align: top;\n",
       "    }\n",
       "\n",
       "    .dataframe thead th {\n",
       "        text-align: right;\n",
       "    }\n",
       "</style>\n",
       "<table border=\"1\" class=\"dataframe\">\n",
       "  <thead>\n",
       "    <tr style=\"text-align: right;\">\n",
       "      <th></th>\n",
       "      <th>title</th>\n",
       "      <th>year</th>\n",
       "      <th>name</th>\n",
       "      <th>type</th>\n",
       "      <th>character</th>\n",
       "      <th>n</th>\n",
       "    </tr>\n",
       "  </thead>\n",
       "  <tbody>\n",
       "    <tr>\n",
       "      <th>3936</th>\n",
       "      <td>The Silence of the Lambs</td>\n",
       "      <td>1991</td>\n",
       "      <td>Chuck Aber</td>\n",
       "      <td>actor</td>\n",
       "      <td>Agent Terry</td>\n",
       "      <td>21.0</td>\n",
       "    </tr>\n",
       "    <tr>\n",
       "      <th>78450</th>\n",
       "      <td>The Silence of the Lambs</td>\n",
       "      <td>1991</td>\n",
       "      <td>Lamont Arnold</td>\n",
       "      <td>actor</td>\n",
       "      <td>Flower Delivery Man</td>\n",
       "      <td>54.0</td>\n",
       "    </tr>\n",
       "    <tr>\n",
       "      <th>101250</th>\n",
       "      <td>The Silence of the Lambs</td>\n",
       "      <td>1991</td>\n",
       "      <td>Obba Babatund?</td>\n",
       "      <td>actor</td>\n",
       "      <td>TV Anchor Man</td>\n",
       "      <td>30.0</td>\n",
       "    </tr>\n",
       "    <tr>\n",
       "      <th>203810</th>\n",
       "      <td>The Silence of the Lambs</td>\n",
       "      <td>1991</td>\n",
       "      <td>Andre B. Blake</td>\n",
       "      <td>actor</td>\n",
       "      <td>Tall Memphis Cop</td>\n",
       "      <td>45.0</td>\n",
       "    </tr>\n",
       "    <tr>\n",
       "      <th>223263</th>\n",
       "      <td>The Silence of the Lambs</td>\n",
       "      <td>1991</td>\n",
       "      <td>Lawrence A. Bonney</td>\n",
       "      <td>actor</td>\n",
       "      <td>FBI Instructor</td>\n",
       "      <td>2.0</td>\n",
       "    </tr>\n",
       "  </tbody>\n",
       "</table>\n",
       "</div>"
      ],
      "text/plain": [
       "                           title  year                name   type  \\\n",
       "3936    The Silence of the Lambs  1991          Chuck Aber  actor   \n",
       "78450   The Silence of the Lambs  1991       Lamont Arnold  actor   \n",
       "101250  The Silence of the Lambs  1991      Obba Babatund?  actor   \n",
       "203810  The Silence of the Lambs  1991      Andre B. Blake  actor   \n",
       "223263  The Silence of the Lambs  1991  Lawrence A. Bonney  actor   \n",
       "\n",
       "                  character     n  \n",
       "3936            Agent Terry  21.0  \n",
       "78450   Flower Delivery Man  54.0  \n",
       "101250        TV Anchor Man  30.0  \n",
       "203810     Tall Memphis Cop  45.0  \n",
       "223263       FBI Instructor   2.0  "
      ]
     },
     "execution_count": 7,
     "metadata": {},
     "output_type": "execute_result"
    }
   ],
   "source": [
    "%%time\n",
    "e[e.title == 'The Silence of the Lambs'].head()"
   ]
  },
  {
   "cell_type": "code",
   "execution_count": 8,
   "metadata": {
    "collapsed": true
   },
   "outputs": [],
   "source": [
    "# Indexamos por el titulo\n",
    "eti = e.set_index('title')"
   ]
  },
  {
   "cell_type": "code",
   "execution_count": 9,
   "metadata": {
    "collapsed": false
   },
   "outputs": [
    {
     "name": "stdout",
     "output_type": "stream",
     "text": [
      "CPU times: total: 969 ms\n",
      "Wall time: 1.64 s\n"
     ]
    },
    {
     "data": {
      "text/html": [
       "<div>\n",
       "<style scoped>\n",
       "    .dataframe tbody tr th:only-of-type {\n",
       "        vertical-align: middle;\n",
       "    }\n",
       "\n",
       "    .dataframe tbody tr th {\n",
       "        vertical-align: top;\n",
       "    }\n",
       "\n",
       "    .dataframe thead th {\n",
       "        text-align: right;\n",
       "    }\n",
       "</style>\n",
       "<table border=\"1\" class=\"dataframe\">\n",
       "  <thead>\n",
       "    <tr style=\"text-align: right;\">\n",
       "      <th></th>\n",
       "      <th>year</th>\n",
       "      <th>name</th>\n",
       "      <th>type</th>\n",
       "      <th>character</th>\n",
       "      <th>n</th>\n",
       "    </tr>\n",
       "    <tr>\n",
       "      <th>title</th>\n",
       "      <th></th>\n",
       "      <th></th>\n",
       "      <th></th>\n",
       "      <th></th>\n",
       "      <th></th>\n",
       "    </tr>\n",
       "  </thead>\n",
       "  <tbody>\n",
       "    <tr>\n",
       "      <th>The Silence of the Lambs</th>\n",
       "      <td>1991</td>\n",
       "      <td>Chuck Aber</td>\n",
       "      <td>actor</td>\n",
       "      <td>Agent Terry</td>\n",
       "      <td>21.0</td>\n",
       "    </tr>\n",
       "    <tr>\n",
       "      <th>The Silence of the Lambs</th>\n",
       "      <td>1991</td>\n",
       "      <td>Lamont Arnold</td>\n",
       "      <td>actor</td>\n",
       "      <td>Flower Delivery Man</td>\n",
       "      <td>54.0</td>\n",
       "    </tr>\n",
       "    <tr>\n",
       "      <th>The Silence of the Lambs</th>\n",
       "      <td>1991</td>\n",
       "      <td>Obba Babatund?</td>\n",
       "      <td>actor</td>\n",
       "      <td>TV Anchor Man</td>\n",
       "      <td>30.0</td>\n",
       "    </tr>\n",
       "    <tr>\n",
       "      <th>The Silence of the Lambs</th>\n",
       "      <td>1991</td>\n",
       "      <td>Andre B. Blake</td>\n",
       "      <td>actor</td>\n",
       "      <td>Tall Memphis Cop</td>\n",
       "      <td>45.0</td>\n",
       "    </tr>\n",
       "    <tr>\n",
       "      <th>The Silence of the Lambs</th>\n",
       "      <td>1991</td>\n",
       "      <td>Lawrence A. Bonney</td>\n",
       "      <td>actor</td>\n",
       "      <td>FBI Instructor</td>\n",
       "      <td>2.0</td>\n",
       "    </tr>\n",
       "  </tbody>\n",
       "</table>\n",
       "</div>"
      ],
      "text/plain": [
       "                          year                name   type  \\\n",
       "title                                                       \n",
       "The Silence of the Lambs  1991          Chuck Aber  actor   \n",
       "The Silence of the Lambs  1991       Lamont Arnold  actor   \n",
       "The Silence of the Lambs  1991      Obba Babatund?  actor   \n",
       "The Silence of the Lambs  1991      Andre B. Blake  actor   \n",
       "The Silence of the Lambs  1991  Lawrence A. Bonney  actor   \n",
       "\n",
       "                                    character     n  \n",
       "title                                                \n",
       "The Silence of the Lambs          Agent Terry  21.0  \n",
       "The Silence of the Lambs  Flower Delivery Man  54.0  \n",
       "The Silence of the Lambs        TV Anchor Man  30.0  \n",
       "The Silence of the Lambs     Tall Memphis Cop  45.0  \n",
       "The Silence of the Lambs       FBI Instructor   2.0  "
      ]
     },
     "execution_count": 9,
     "metadata": {},
     "output_type": "execute_result"
    }
   ],
   "source": [
    "%%time\n",
    "eti.loc[\"The Silence of the Lambs\"].head()"
   ]
  },
  {
   "cell_type": "code",
   "execution_count": 10,
   "metadata": {
    "collapsed": false
   },
   "outputs": [
    {
     "data": {
      "text/html": [
       "<div>\n",
       "<style scoped>\n",
       "    .dataframe tbody tr th:only-of-type {\n",
       "        vertical-align: middle;\n",
       "    }\n",
       "\n",
       "    .dataframe tbody tr th {\n",
       "        vertical-align: top;\n",
       "    }\n",
       "\n",
       "    .dataframe thead th {\n",
       "        text-align: right;\n",
       "    }\n",
       "</style>\n",
       "<table border=\"1\" class=\"dataframe\">\n",
       "  <thead>\n",
       "    <tr style=\"text-align: right;\">\n",
       "      <th></th>\n",
       "      <th>year</th>\n",
       "      <th>name</th>\n",
       "      <th>type</th>\n",
       "      <th>character</th>\n",
       "      <th>n</th>\n",
       "    </tr>\n",
       "    <tr>\n",
       "      <th>title</th>\n",
       "      <th></th>\n",
       "      <th></th>\n",
       "      <th></th>\n",
       "      <th></th>\n",
       "      <th></th>\n",
       "    </tr>\n",
       "  </thead>\n",
       "  <tbody>\n",
       "    <tr>\n",
       "      <th>#1 Serial Killer</th>\n",
       "      <td>2013</td>\n",
       "      <td>Gemma Massot</td>\n",
       "      <td>actress</td>\n",
       "      <td>Betty Goodman</td>\n",
       "      <td>7.0</td>\n",
       "    </tr>\n",
       "    <tr>\n",
       "      <th>#1 Serial Killer</th>\n",
       "      <td>2013</td>\n",
       "      <td>Romina Bovolini</td>\n",
       "      <td>actress</td>\n",
       "      <td>Lisa Simpson</td>\n",
       "      <td>14.0</td>\n",
       "    </tr>\n",
       "    <tr>\n",
       "      <th>#1 Serial Killer</th>\n",
       "      <td>2013</td>\n",
       "      <td>Kylee Cochran</td>\n",
       "      <td>actress</td>\n",
       "      <td>Jennifer Griffin</td>\n",
       "      <td>NaN</td>\n",
       "    </tr>\n",
       "    <tr>\n",
       "      <th>#1 Serial Killer</th>\n",
       "      <td>2013</td>\n",
       "      <td>Thomas McCurdy</td>\n",
       "      <td>actor</td>\n",
       "      <td>Golf Club Victim</td>\n",
       "      <td>23.0</td>\n",
       "    </tr>\n",
       "    <tr>\n",
       "      <th>#1 Serial Killer</th>\n",
       "      <td>2013</td>\n",
       "      <td>Tzi Ma</td>\n",
       "      <td>actor</td>\n",
       "      <td>Mr. Chang</td>\n",
       "      <td>3.0</td>\n",
       "    </tr>\n",
       "  </tbody>\n",
       "</table>\n",
       "</div>"
      ],
      "text/plain": [
       "                  year             name     type         character     n\n",
       "title                                                                   \n",
       "#1 Serial Killer  2013     Gemma Massot  actress     Betty Goodman   7.0\n",
       "#1 Serial Killer  2013  Romina Bovolini  actress      Lisa Simpson  14.0\n",
       "#1 Serial Killer  2013    Kylee Cochran  actress  Jennifer Griffin   NaN\n",
       "#1 Serial Killer  2013   Thomas McCurdy    actor  Golf Club Victim  23.0\n",
       "#1 Serial Killer  2013           Tzi Ma    actor         Mr. Chang   3.0"
      ]
     },
     "execution_count": 10,
     "metadata": {},
     "output_type": "execute_result"
    }
   ],
   "source": [
    "# El indice realmente funciona cuando esa columna esta ordenada\n",
    "eti = e.set_index('title').sort_index()\n",
    "eti.head()"
   ]
  },
  {
   "cell_type": "code",
   "execution_count": 11,
   "metadata": {
    "collapsed": false
   },
   "outputs": [
    {
     "name": "stdout",
     "output_type": "stream",
     "text": [
      "CPU times: total: 1.03 s\n",
      "Wall time: 1.45 s\n"
     ]
    },
    {
     "data": {
      "text/html": [
       "<div>\n",
       "<style scoped>\n",
       "    .dataframe tbody tr th:only-of-type {\n",
       "        vertical-align: middle;\n",
       "    }\n",
       "\n",
       "    .dataframe tbody tr th {\n",
       "        vertical-align: top;\n",
       "    }\n",
       "\n",
       "    .dataframe thead th {\n",
       "        text-align: right;\n",
       "    }\n",
       "</style>\n",
       "<table border=\"1\" class=\"dataframe\">\n",
       "  <thead>\n",
       "    <tr style=\"text-align: right;\">\n",
       "      <th></th>\n",
       "      <th>year</th>\n",
       "      <th>name</th>\n",
       "      <th>type</th>\n",
       "      <th>character</th>\n",
       "      <th>n</th>\n",
       "    </tr>\n",
       "    <tr>\n",
       "      <th>title</th>\n",
       "      <th></th>\n",
       "      <th></th>\n",
       "      <th></th>\n",
       "      <th></th>\n",
       "      <th></th>\n",
       "    </tr>\n",
       "  </thead>\n",
       "  <tbody>\n",
       "    <tr>\n",
       "      <th>The Silence of the Lambs</th>\n",
       "      <td>1991</td>\n",
       "      <td>Jodie Foster</td>\n",
       "      <td>actress</td>\n",
       "      <td>Clarice Starling</td>\n",
       "      <td>1.0</td>\n",
       "    </tr>\n",
       "    <tr>\n",
       "      <th>The Silence of the Lambs</th>\n",
       "      <td>1991</td>\n",
       "      <td>Daniel von Bargen</td>\n",
       "      <td>actor</td>\n",
       "      <td>SWAT Communicator</td>\n",
       "      <td>48.0</td>\n",
       "    </tr>\n",
       "    <tr>\n",
       "      <th>The Silence of the Lambs</th>\n",
       "      <td>1991</td>\n",
       "      <td>Kasi Lemmons</td>\n",
       "      <td>actress</td>\n",
       "      <td>Ardelia Mapp</td>\n",
       "      <td>3.0</td>\n",
       "    </tr>\n",
       "    <tr>\n",
       "      <th>The Silence of the Lambs</th>\n",
       "      <td>1991</td>\n",
       "      <td>Cynthia Ettinger</td>\n",
       "      <td>actress</td>\n",
       "      <td>Officer Jacobs</td>\n",
       "      <td>40.0</td>\n",
       "    </tr>\n",
       "    <tr>\n",
       "      <th>The Silence of the Lambs</th>\n",
       "      <td>1991</td>\n",
       "      <td>Brent Hinkley</td>\n",
       "      <td>actor</td>\n",
       "      <td>Officer Murray</td>\n",
       "      <td>41.0</td>\n",
       "    </tr>\n",
       "  </tbody>\n",
       "</table>\n",
       "</div>"
      ],
      "text/plain": [
       "                          year               name     type          character  \\\n",
       "title                                                                           \n",
       "The Silence of the Lambs  1991       Jodie Foster  actress   Clarice Starling   \n",
       "The Silence of the Lambs  1991  Daniel von Bargen    actor  SWAT Communicator   \n",
       "The Silence of the Lambs  1991       Kasi Lemmons  actress       Ardelia Mapp   \n",
       "The Silence of the Lambs  1991   Cynthia Ettinger  actress     Officer Jacobs   \n",
       "The Silence of the Lambs  1991      Brent Hinkley    actor     Officer Murray   \n",
       "\n",
       "                             n  \n",
       "title                           \n",
       "The Silence of the Lambs   1.0  \n",
       "The Silence of the Lambs  48.0  \n",
       "The Silence of the Lambs   3.0  \n",
       "The Silence of the Lambs  40.0  \n",
       "The Silence of the Lambs  41.0  "
      ]
     },
     "execution_count": 11,
     "metadata": {},
     "output_type": "execute_result"
    }
   ],
   "source": [
    "%%time\n",
    "eti.loc[\"The Silence of the Lambs\"].head()"
   ]
  },
  {
   "cell_type": "code",
   "execution_count": 12,
   "metadata": {
    "collapsed": false
   },
   "outputs": [
    {
     "data": {
      "text/html": [
       "<div>\n",
       "<style scoped>\n",
       "    .dataframe tbody tr th:only-of-type {\n",
       "        vertical-align: middle;\n",
       "    }\n",
       "\n",
       "    .dataframe tbody tr th {\n",
       "        vertical-align: top;\n",
       "    }\n",
       "\n",
       "    .dataframe thead th {\n",
       "        text-align: right;\n",
       "    }\n",
       "</style>\n",
       "<table border=\"1\" class=\"dataframe\">\n",
       "  <thead>\n",
       "    <tr style=\"text-align: right;\">\n",
       "      <th></th>\n",
       "      <th></th>\n",
       "      <th>name</th>\n",
       "      <th>type</th>\n",
       "      <th>character</th>\n",
       "      <th>n</th>\n",
       "    </tr>\n",
       "    <tr>\n",
       "      <th>title</th>\n",
       "      <th>year</th>\n",
       "      <th></th>\n",
       "      <th></th>\n",
       "      <th></th>\n",
       "      <th></th>\n",
       "    </tr>\n",
       "  </thead>\n",
       "  <tbody>\n",
       "    <tr>\n",
       "      <th rowspan=\"5\" valign=\"top\">#1 Serial Killer</th>\n",
       "      <th>2013</th>\n",
       "      <td>Michael Alton</td>\n",
       "      <td>actor</td>\n",
       "      <td>Detective Roberts</td>\n",
       "      <td>17.0</td>\n",
       "    </tr>\n",
       "    <tr>\n",
       "      <th>2013</th>\n",
       "      <td>Aaron Aoki</td>\n",
       "      <td>actor</td>\n",
       "      <td>Plastic Bag Victim</td>\n",
       "      <td>21.0</td>\n",
       "    </tr>\n",
       "    <tr>\n",
       "      <th>2013</th>\n",
       "      <td>Zachary (X) Brown</td>\n",
       "      <td>actor</td>\n",
       "      <td>Africian American Teen</td>\n",
       "      <td>18.0</td>\n",
       "    </tr>\n",
       "    <tr>\n",
       "      <th>2013</th>\n",
       "      <td>Yvis Cannavale</td>\n",
       "      <td>actor</td>\n",
       "      <td>Homeless Man</td>\n",
       "      <td>25.0</td>\n",
       "    </tr>\n",
       "    <tr>\n",
       "      <th>2013</th>\n",
       "      <td>Patrick Chien</td>\n",
       "      <td>actor</td>\n",
       "      <td>Cleaver Victim</td>\n",
       "      <td>22.0</td>\n",
       "    </tr>\n",
       "  </tbody>\n",
       "</table>\n",
       "</div>"
      ],
      "text/plain": [
       "                                    name   type               character     n\n",
       "title            year                                                        \n",
       "#1 Serial Killer 2013      Michael Alton  actor       Detective Roberts  17.0\n",
       "                 2013         Aaron Aoki  actor      Plastic Bag Victim  21.0\n",
       "                 2013  Zachary (X) Brown  actor  Africian American Teen  18.0\n",
       "                 2013     Yvis Cannavale  actor            Homeless Man  25.0\n",
       "                 2013      Patrick Chien  actor          Cleaver Victim  22.0"
      ]
     },
     "execution_count": 12,
     "metadata": {},
     "output_type": "execute_result"
    }
   ],
   "source": [
    "# El indice se puede generar de multiples columnas **Puede tardar en construirse**\n",
    "eti = e.set_index(['title','year']).sort_index()\n",
    "eti.head()"
   ]
  },
  {
   "cell_type": "code",
   "execution_count": 13,
   "metadata": {
    "collapsed": false
   },
   "outputs": [
    {
     "name": "stdout",
     "output_type": "stream",
     "text": [
      "CPU times: total: 188 ms\n",
      "Wall time: 289 ms\n"
     ]
    },
    {
     "name": "stderr",
     "output_type": "stream",
     "text": [
      "<timed exec>:2: PerformanceWarning: indexing past lexsort depth may impact performance.\n"
     ]
    }
   ],
   "source": [
    "%%time\n",
    "# Se puede localizar por multiples columnas\n",
    "b89 = eti.loc['Batman',1989].sort_index(ascending=False)"
   ]
  },
  {
   "cell_type": "code",
   "execution_count": 14,
   "metadata": {
    "collapsed": false
   },
   "outputs": [
    {
     "data": {
      "text/plain": [
       "FrozenList(['title', 'year'])"
      ]
     },
     "execution_count": 14,
     "metadata": {},
     "output_type": "execute_result"
    }
   ],
   "source": [
    "# Nombre de nuestros indices\n",
    "b89.index.names"
   ]
  },
  {
   "cell_type": "code",
   "execution_count": 15,
   "metadata": {
    "collapsed": false
   },
   "outputs": [
    {
     "data": {
      "text/html": [
       "<div>\n",
       "<style scoped>\n",
       "    .dataframe tbody tr th:only-of-type {\n",
       "        vertical-align: middle;\n",
       "    }\n",
       "\n",
       "    .dataframe tbody tr th {\n",
       "        vertical-align: top;\n",
       "    }\n",
       "\n",
       "    .dataframe thead th {\n",
       "        text-align: right;\n",
       "    }\n",
       "</style>\n",
       "<table border=\"1\" class=\"dataframe\">\n",
       "  <thead>\n",
       "    <tr style=\"text-align: right;\">\n",
       "      <th></th>\n",
       "      <th>year</th>\n",
       "      <th>name</th>\n",
       "      <th>type</th>\n",
       "      <th>character</th>\n",
       "      <th>n</th>\n",
       "    </tr>\n",
       "    <tr>\n",
       "      <th>title</th>\n",
       "      <th></th>\n",
       "      <th></th>\n",
       "      <th></th>\n",
       "      <th></th>\n",
       "      <th></th>\n",
       "    </tr>\n",
       "  </thead>\n",
       "  <tbody>\n",
       "    <tr>\n",
       "      <th>Batman</th>\n",
       "      <td>1989</td>\n",
       "      <td>Del Baker</td>\n",
       "      <td>actor</td>\n",
       "      <td>Napier Hood</td>\n",
       "      <td>31.0</td>\n",
       "    </tr>\n",
       "    <tr>\n",
       "      <th>Batman</th>\n",
       "      <td>1989</td>\n",
       "      <td>Michael Balfour</td>\n",
       "      <td>actor</td>\n",
       "      <td>Scientist</td>\n",
       "      <td>44.0</td>\n",
       "    </tr>\n",
       "    <tr>\n",
       "      <th>Batman</th>\n",
       "      <td>1989</td>\n",
       "      <td>David Baxt</td>\n",
       "      <td>actor</td>\n",
       "      <td>Dr. Thomas Wayne</td>\n",
       "      <td>48.0</td>\n",
       "    </tr>\n",
       "    <tr>\n",
       "      <th>Batman</th>\n",
       "      <td>1989</td>\n",
       "      <td>Paul Birchard</td>\n",
       "      <td>actor</td>\n",
       "      <td>Another Reporter</td>\n",
       "      <td>55.0</td>\n",
       "    </tr>\n",
       "    <tr>\n",
       "      <th>Batman</th>\n",
       "      <td>1989</td>\n",
       "      <td>Hugo Blick</td>\n",
       "      <td>actor</td>\n",
       "      <td>Young Jack Napier</td>\n",
       "      <td>41.0</td>\n",
       "    </tr>\n",
       "    <tr>\n",
       "      <th>...</th>\n",
       "      <td>...</td>\n",
       "      <td>...</td>\n",
       "      <td>...</td>\n",
       "      <td>...</td>\n",
       "      <td>...</td>\n",
       "    </tr>\n",
       "    <tr>\n",
       "      <th>Batman</th>\n",
       "      <td>1989</td>\n",
       "      <td>Kit Hollerbach</td>\n",
       "      <td>actress</td>\n",
       "      <td>Becky</td>\n",
       "      <td>29.0</td>\n",
       "    </tr>\n",
       "    <tr>\n",
       "      <th>Batman</th>\n",
       "      <td>1989</td>\n",
       "      <td>Sharon Holm</td>\n",
       "      <td>actress</td>\n",
       "      <td>Mrs. Wayne</td>\n",
       "      <td>49.0</td>\n",
       "    </tr>\n",
       "    <tr>\n",
       "      <th>Batman</th>\n",
       "      <td>1989</td>\n",
       "      <td>Pam Rose</td>\n",
       "      <td>actress</td>\n",
       "      <td>Party Guest at Wayne Manor</td>\n",
       "      <td>NaN</td>\n",
       "    </tr>\n",
       "    <tr>\n",
       "      <th>Batman</th>\n",
       "      <td>1989</td>\n",
       "      <td>Liza Ross</td>\n",
       "      <td>actress</td>\n",
       "      <td>Tourist Mom</td>\n",
       "      <td>45.0</td>\n",
       "    </tr>\n",
       "    <tr>\n",
       "      <th>Batman</th>\n",
       "      <td>1989</td>\n",
       "      <td>Rachel Ryan</td>\n",
       "      <td>actress</td>\n",
       "      <td>Corpse</td>\n",
       "      <td>NaN</td>\n",
       "    </tr>\n",
       "  </tbody>\n",
       "</table>\n",
       "<p>68 rows × 5 columns</p>\n",
       "</div>"
      ],
      "text/plain": [
       "        year             name     type                   character     n\n",
       "title                                                                   \n",
       "Batman  1989        Del Baker    actor                 Napier Hood  31.0\n",
       "Batman  1989  Michael Balfour    actor                   Scientist  44.0\n",
       "Batman  1989       David Baxt    actor            Dr. Thomas Wayne  48.0\n",
       "Batman  1989    Paul Birchard    actor            Another Reporter  55.0\n",
       "Batman  1989       Hugo Blick    actor           Young Jack Napier  41.0\n",
       "...      ...              ...      ...                         ...   ...\n",
       "Batman  1989   Kit Hollerbach  actress                       Becky  29.0\n",
       "Batman  1989      Sharon Holm  actress                  Mrs. Wayne  49.0\n",
       "Batman  1989         Pam Rose  actress  Party Guest at Wayne Manor   NaN\n",
       "Batman  1989        Liza Ross  actress                 Tourist Mom  45.0\n",
       "Batman  1989      Rachel Ryan  actress                      Corpse   NaN\n",
       "\n",
       "[68 rows x 5 columns]"
      ]
     },
     "execution_count": 15,
     "metadata": {},
     "output_type": "execute_result"
    }
   ],
   "source": [
    "# Quitar indices, \n",
    "b89.reset_index('year')"
   ]
  },
  {
   "cell_type": "code",
   "execution_count": 16,
   "metadata": {
    "collapsed": false
   },
   "outputs": [
    {
     "data": {
      "text/plain": [
       "title                       year  character                \n",
       "3:10 to Yuma                2007  Dan Evans                    1\n",
       "A Midsummer Night's Dream   1999  Demetrius                    1\n",
       "All the Little Animals      1998  Bobby Platt                  1\n",
       "American Hustle             2013  Irving Rosenfeld             1\n",
       "American Psycho             2000  Patrick Bateman              1\n",
       "Batman Begins               2005  Batman                       1\n",
       "                                  Bruce Wayne                  1\n",
       "Captain Corelli's Mandolin  2001  Mandras                      1\n",
       "Empire of the Sun           1987  Jim                          1\n",
       "Equilibrium                 2002  John Preston                 1\n",
       "Exodus: Gods and Kings      2014  Moses                        1\n",
       "Harsh Times                 2005  Jim Luther Davis             1\n",
       "Hauru no ugoku shiro        2004  Howl                         1\n",
       "Henry V                     1989  Robin the Luggage-Boy        1\n",
       "Hostiles                    2017  Captain Joseph J. Blocker    1\n",
       "I'm Not There.              2007  Jack                         1\n",
       "                                  Pastor John                  1\n",
       "Jin ling shi san chai       2011  John Miller                  1\n",
       "Jungle Book                 2018  Bagheera                     1\n",
       "Knight of Cups              2015  Rick                         1\n",
       "Laurel Canyon               2002  Sam                          1\n",
       "Little Women                1994  Laurie                       1\n",
       "Metroland                   1997  Chris                        1\n",
       "Mio min Mio                 1987  Benke                        1\n",
       "                                  Jum-Jum                      1\n",
       "Newsies                     1992  Jack Kelly                   1\n",
       "Out of the Furnace          2013  Russell Baze                 1\n",
       "Pocahontas                  1995  Thomas                       1\n",
       "Prince of Jutland           1994  Amled                        1\n",
       "Public Enemies              2009  Melvin Purvis                1\n",
       "Reign of Fire               2002  Quinn Abercromby             1\n",
       "Rescue Dawn                 2006  Dieter Dengler               1\n",
       "Shaft                       2000  Walter Wade, Jr.             1\n",
       "Swing Kids                  1993  Thomas Berger                1\n",
       "Terminator Salvation        2009  John Connor                  1\n",
       "The Big Short               2015  Michael Burry                1\n",
       "The Dark Knight             2008  Bruce Wayne                  1\n",
       "The Dark Knight Rises       2012  Bruce Wayne                  1\n",
       "The Fighter                 2010  Dicky Eklund                 1\n",
       "The Machinist               2004  Trevor Reznik                1\n",
       "The New World               2005  John Rolfe                   1\n",
       "The Portrait of a Lady      1996  Edward Rosier                1\n",
       "The Prestige                2006  Alfred Borden                1\n",
       "The Promise (II)            2016  Chris                        1\n",
       "The Secret Agent            1996  Stevie                       1\n",
       "Velvet Goldmine             1998  Arthur Stuart                1\n",
       "dtype: int64"
      ]
     },
     "execution_count": 16,
     "metadata": {},
     "output_type": "execute_result"
    }
   ],
   "source": [
    "# Groupby, agrupando por elementos\n",
    "e = elenco\n",
    "e = e[e.name == \"Christian Bale\"]\n",
    "e.groupby(['title','year','character']).size()"
   ]
  },
  {
   "cell_type": "code",
   "execution_count": 17,
   "metadata": {
    "collapsed": false
   },
   "outputs": [
    {
     "data": {
      "text/plain": [
       "title                       year\n",
       "3:10 to Yuma                2007    1\n",
       "A Midsummer Night's Dream   1999    1\n",
       "All the Little Animals      1998    1\n",
       "American Hustle             2013    1\n",
       "American Psycho             2000    1\n",
       "Batman Begins               2005    2\n",
       "Captain Corelli's Mandolin  2001    1\n",
       "Empire of the Sun           1987    1\n",
       "Equilibrium                 2002    1\n",
       "Exodus: Gods and Kings      2014    1\n",
       "Harsh Times                 2005    1\n",
       "Hauru no ugoku shiro        2004    1\n",
       "Henry V                     1989    1\n",
       "Hostiles                    2017    1\n",
       "I'm Not There.              2007    2\n",
       "Jin ling shi san chai       2011    1\n",
       "Jungle Book                 2018    1\n",
       "Knight of Cups              2015    1\n",
       "Laurel Canyon               2002    1\n",
       "Little Women                1994    1\n",
       "Metroland                   1997    1\n",
       "Mio min Mio                 1987    2\n",
       "Newsies                     1992    1\n",
       "Out of the Furnace          2013    1\n",
       "Pocahontas                  1995    1\n",
       "Prince of Jutland           1994    1\n",
       "Public Enemies              2009    1\n",
       "Reign of Fire               2002    1\n",
       "Rescue Dawn                 2006    1\n",
       "Shaft                       2000    1\n",
       "Swing Kids                  1993    1\n",
       "Terminator Salvation        2009    1\n",
       "The Big Short               2015    1\n",
       "The Dark Knight             2008    1\n",
       "The Dark Knight Rises       2012    1\n",
       "The Fighter                 2010    1\n",
       "The Machinist               2004    1\n",
       "The New World               2005    1\n",
       "The Portrait of a Lady      1996    1\n",
       "The Prestige                2006    1\n",
       "The Promise (II)            2016    1\n",
       "The Secret Agent            1996    1\n",
       "Velvet Goldmine             1998    1\n",
       "dtype: int64"
      ]
     },
     "execution_count": 17,
     "metadata": {},
     "output_type": "execute_result"
    }
   ],
   "source": [
    "e = elenco\n",
    "e = e[e.name == \"Christian Bale\"]\n",
    "e.groupby(['title','year']).size()"
   ]
  },
  {
   "cell_type": "code",
   "execution_count": 18,
   "metadata": {
    "collapsed": false
   },
   "outputs": [
    {
     "data": {
      "text/plain": [
       "<Axes: xlabel='year'>"
      ]
     },
     "execution_count": 18,
     "metadata": {},
     "output_type": "execute_result"
    },
    {
     "data": {
      "image/png": "[encoded data removed]",
      "text/plain": [
       "<Figure size 640x480 with 1 Axes>"
      ]
     },
     "metadata": {},
     "output_type": "display_data"
    }
   ],
   "source": [
    "e = elenco\n",
    "e = e[e.name == \"Christian Bale\"]\n",
    "e.groupby(['year']).size().plot()"
   ]
  },
  {
   "cell_type": "code",
   "execution_count": 19,
   "metadata": {
    "collapsed": false
   },
   "outputs": [
    {
     "data": {
      "text/plain": [
       "<Axes: xlabel='year'>"
      ]
     },
     "execution_count": 19,
     "metadata": {},
     "output_type": "execute_result"
    },
    {
     "data": {
      "image/png": "[encoded data removed]",
      "text/plain": [
       "<Figure size 640x480 with 1 Axes>"
      ]
     },
     "metadata": {},
     "output_type": "display_data"
    }
   ],
   "source": [
    "e = elenco\n",
    "e = e[e.name == \"Christian Bale\"]\n",
    "e.groupby(['year']).size().plot(kind='bar')"
   ]
  },
  {
   "cell_type": "code",
   "execution_count": 20,
   "metadata": {
    "collapsed": false
   },
   "outputs": [
    {
     "data": {
      "text/plain": [
       "<Axes: xlabel='year'>"
      ]
     },
     "execution_count": 20,
     "metadata": {},
     "output_type": "execute_result"
    },
    {
     "data": {
      "image/png": "[encoded data removed]",
      "text/plain": [
       "<Figure size 640x480 with 1 Axes>"
      ]
     },
     "metadata": {},
     "output_type": "display_data"
    }
   ],
   "source": [
    "# Por decada\n",
    "e = elenco\n",
    "e = e[e.name == \"Christian Bale\"]\n",
    "e.groupby(e.year // 10 * 10).size().plot(kind='bar')"
   ]
  },
  {
   "cell_type": "code",
   "execution_count": 21,
   "metadata": {
    "collapsed": false
   },
   "outputs": [
    {
     "data": {
      "text/html": [
       "<div>\n",
       "<style scoped>\n",
       "    .dataframe tbody tr th:only-of-type {\n",
       "        vertical-align: middle;\n",
       "    }\n",
       "\n",
       "    .dataframe tbody tr th {\n",
       "        vertical-align: top;\n",
       "    }\n",
       "\n",
       "    .dataframe thead th {\n",
       "        text-align: right;\n",
       "    }\n",
       "</style>\n",
       "<table border=\"1\" class=\"dataframe\">\n",
       "  <thead>\n",
       "    <tr style=\"text-align: right;\">\n",
       "      <th></th>\n",
       "      <th>title</th>\n",
       "      <th>year</th>\n",
       "      <th>name</th>\n",
       "      <th>type</th>\n",
       "      <th>character</th>\n",
       "      <th>n</th>\n",
       "    </tr>\n",
       "  </thead>\n",
       "  <tbody>\n",
       "    <tr>\n",
       "      <th>47507</th>\n",
       "      <td>The Three Musketeers</td>\n",
       "      <td>1939</td>\n",
       "      <td>Don Ameche</td>\n",
       "      <td>actor</td>\n",
       "      <td>D'Artagnan</td>\n",
       "      <td>1.0</td>\n",
       "    </tr>\n",
       "    <tr>\n",
       "      <th>129535</th>\n",
       "      <td>Robin Hood e i pirati</td>\n",
       "      <td>1960</td>\n",
       "      <td>Lex Barker</td>\n",
       "      <td>actor</td>\n",
       "      <td>Robin Hood</td>\n",
       "      <td>1.0</td>\n",
       "    </tr>\n",
       "    <tr>\n",
       "      <th>133752</th>\n",
       "      <td>Les trois mousquetaires: La vengeance de Milady</td>\n",
       "      <td>1961</td>\n",
       "      <td>G?rard Barray</td>\n",
       "      <td>actor</td>\n",
       "      <td>D'Artagnan</td>\n",
       "      <td>1.0</td>\n",
       "    </tr>\n",
       "    <tr>\n",
       "      <th>176174</th>\n",
       "      <td>Robin Hood</td>\n",
       "      <td>1991</td>\n",
       "      <td>Patrick Bergin</td>\n",
       "      <td>actor</td>\n",
       "      <td>Robin Hood</td>\n",
       "      <td>1.0</td>\n",
       "    </tr>\n",
       "    <tr>\n",
       "      <th>207693</th>\n",
       "      <td>Robin Hood: Ghosts of Sherwood</td>\n",
       "      <td>2012</td>\n",
       "      <td>Ben Bledsoe</td>\n",
       "      <td>actor</td>\n",
       "      <td>Robin Hood</td>\n",
       "      <td>NaN</td>\n",
       "    </tr>\n",
       "  </tbody>\n",
       "</table>\n",
       "</div>"
      ],
      "text/plain": [
       "                                                  title  year            name  \\\n",
       "47507                              The Three Musketeers  1939      Don Ameche   \n",
       "129535                            Robin Hood e i pirati  1960      Lex Barker   \n",
       "133752  Les trois mousquetaires: La vengeance de Milady  1961   G?rard Barray   \n",
       "176174                                       Robin Hood  1991  Patrick Bergin   \n",
       "207693                   Robin Hood: Ghosts of Sherwood  2012     Ben Bledsoe   \n",
       "\n",
       "         type   character    n  \n",
       "47507   actor  D'Artagnan  1.0  \n",
       "129535  actor  Robin Hood  1.0  \n",
       "133752  actor  D'Artagnan  1.0  \n",
       "176174  actor  Robin Hood  1.0  \n",
       "207693  actor  Robin Hood  NaN  "
      ]
     },
     "execution_count": 21,
     "metadata": {},
     "output_type": "execute_result"
    }
   ],
   "source": [
    "# stack y unstack\n",
    "e = elenco\n",
    "e = e[(e.character == \"D'Artagnan\") | (e.character == 'Robin Hood')]\n",
    "e.head()"
   ]
  },
  {
   "cell_type": "code",
   "execution_count": 22,
   "metadata": {
    "collapsed": false
   },
   "outputs": [
    {
     "data": {
      "text/plain": [
       "character   year\n",
       "D'Artagnan  1916    1\n",
       "            1917    1\n",
       "            1921    1\n",
       "            1929    1\n",
       "            1939    2\n",
       "                   ..\n",
       "Robin Hood  2002    1\n",
       "            2006    1\n",
       "            2012    3\n",
       "            2013    1\n",
       "            2017    1\n",
       "Length: 62, dtype: int64"
      ]
     },
     "execution_count": 22,
     "metadata": {},
     "output_type": "execute_result"
    }
   ],
   "source": [
    "e = e.groupby(['character', 'year'])\n",
    "e.size()"
   ]
  },
  {
   "cell_type": "code",
   "execution_count": 23,
   "metadata": {
    "collapsed": false
   },
   "outputs": [
    {
     "data": {
      "text/html": [
       "<div>\n",
       "<style scoped>\n",
       "    .dataframe tbody tr th:only-of-type {\n",
       "        vertical-align: middle;\n",
       "    }\n",
       "\n",
       "    .dataframe tbody tr th {\n",
       "        vertical-align: top;\n",
       "    }\n",
       "\n",
       "    .dataframe thead th {\n",
       "        text-align: right;\n",
       "    }\n",
       "</style>\n",
       "<table border=\"1\" class=\"dataframe\">\n",
       "  <thead>\n",
       "    <tr style=\"text-align: right;\">\n",
       "      <th>character</th>\n",
       "      <th>D'Artagnan</th>\n",
       "      <th>Robin Hood</th>\n",
       "    </tr>\n",
       "    <tr>\n",
       "      <th>year</th>\n",
       "      <th></th>\n",
       "      <th></th>\n",
       "    </tr>\n",
       "  </thead>\n",
       "  <tbody>\n",
       "    <tr>\n",
       "      <th>1913</th>\n",
       "      <td>NaN</td>\n",
       "      <td>2.0</td>\n",
       "    </tr>\n",
       "    <tr>\n",
       "      <th>1916</th>\n",
       "      <td>1.0</td>\n",
       "      <td>NaN</td>\n",
       "    </tr>\n",
       "    <tr>\n",
       "      <th>1917</th>\n",
       "      <td>1.0</td>\n",
       "      <td>NaN</td>\n",
       "    </tr>\n",
       "    <tr>\n",
       "      <th>1921</th>\n",
       "      <td>1.0</td>\n",
       "      <td>NaN</td>\n",
       "    </tr>\n",
       "    <tr>\n",
       "      <th>1929</th>\n",
       "      <td>1.0</td>\n",
       "      <td>1.0</td>\n",
       "    </tr>\n",
       "  </tbody>\n",
       "</table>\n",
       "</div>"
      ],
      "text/plain": [
       "character  D'Artagnan  Robin Hood\n",
       "year                             \n",
       "1913              NaN         2.0\n",
       "1916              1.0         NaN\n",
       "1917              1.0         NaN\n",
       "1921              1.0         NaN\n",
       "1929              1.0         1.0"
      ]
     },
     "execution_count": 23,
     "metadata": {},
     "output_type": "execute_result"
    }
   ],
   "source": [
    "# Comparemos cada personaje en una columna\n",
    "e.size().unstack(0).head()"
   ]
  },
  {
   "cell_type": "code",
   "execution_count": 24,
   "metadata": {
    "collapsed": false
   },
   "outputs": [
    {
     "data": {
      "text/html": [
       "<div>\n",
       "<style scoped>\n",
       "    .dataframe tbody tr th:only-of-type {\n",
       "        vertical-align: middle;\n",
       "    }\n",
       "\n",
       "    .dataframe tbody tr th {\n",
       "        vertical-align: top;\n",
       "    }\n",
       "\n",
       "    .dataframe thead th {\n",
       "        text-align: right;\n",
       "    }\n",
       "</style>\n",
       "<table border=\"1\" class=\"dataframe\">\n",
       "  <thead>\n",
       "    <tr style=\"text-align: right;\">\n",
       "      <th>year</th>\n",
       "      <th>1913</th>\n",
       "      <th>1916</th>\n",
       "      <th>1917</th>\n",
       "      <th>1921</th>\n",
       "      <th>1929</th>\n",
       "      <th>1938</th>\n",
       "      <th>1939</th>\n",
       "      <th>1942</th>\n",
       "      <th>1948</th>\n",
       "      <th>1951</th>\n",
       "      <th>...</th>\n",
       "      <th>2001</th>\n",
       "      <th>2002</th>\n",
       "      <th>2005</th>\n",
       "      <th>2006</th>\n",
       "      <th>2010</th>\n",
       "      <th>2011</th>\n",
       "      <th>2012</th>\n",
       "      <th>2013</th>\n",
       "      <th>2015</th>\n",
       "      <th>2017</th>\n",
       "    </tr>\n",
       "    <tr>\n",
       "      <th>character</th>\n",
       "      <th></th>\n",
       "      <th></th>\n",
       "      <th></th>\n",
       "      <th></th>\n",
       "      <th></th>\n",
       "      <th></th>\n",
       "      <th></th>\n",
       "      <th></th>\n",
       "      <th></th>\n",
       "      <th></th>\n",
       "      <th></th>\n",
       "      <th></th>\n",
       "      <th></th>\n",
       "      <th></th>\n",
       "      <th></th>\n",
       "      <th></th>\n",
       "      <th></th>\n",
       "      <th></th>\n",
       "      <th></th>\n",
       "      <th></th>\n",
       "      <th></th>\n",
       "    </tr>\n",
       "  </thead>\n",
       "  <tbody>\n",
       "    <tr>\n",
       "      <th>D'Artagnan</th>\n",
       "      <td>NaN</td>\n",
       "      <td>1.0</td>\n",
       "      <td>1.0</td>\n",
       "      <td>1.0</td>\n",
       "      <td>1.0</td>\n",
       "      <td>NaN</td>\n",
       "      <td>2.0</td>\n",
       "      <td>1.0</td>\n",
       "      <td>1.0</td>\n",
       "      <td>1.0</td>\n",
       "      <td>...</td>\n",
       "      <td>1.0</td>\n",
       "      <td>1.0</td>\n",
       "      <td>3.0</td>\n",
       "      <td>NaN</td>\n",
       "      <td>1.0</td>\n",
       "      <td>1.0</td>\n",
       "      <td>1.0</td>\n",
       "      <td>1.0</td>\n",
       "      <td>1.0</td>\n",
       "      <td>NaN</td>\n",
       "    </tr>\n",
       "    <tr>\n",
       "      <th>Robin Hood</th>\n",
       "      <td>2.0</td>\n",
       "      <td>NaN</td>\n",
       "      <td>NaN</td>\n",
       "      <td>NaN</td>\n",
       "      <td>1.0</td>\n",
       "      <td>1.0</td>\n",
       "      <td>NaN</td>\n",
       "      <td>NaN</td>\n",
       "      <td>1.0</td>\n",
       "      <td>1.0</td>\n",
       "      <td>...</td>\n",
       "      <td>NaN</td>\n",
       "      <td>1.0</td>\n",
       "      <td>NaN</td>\n",
       "      <td>1.0</td>\n",
       "      <td>NaN</td>\n",
       "      <td>NaN</td>\n",
       "      <td>3.0</td>\n",
       "      <td>1.0</td>\n",
       "      <td>NaN</td>\n",
       "      <td>1.0</td>\n",
       "    </tr>\n",
       "  </tbody>\n",
       "</table>\n",
       "<p>2 rows × 50 columns</p>\n",
       "</div>"
      ],
      "text/plain": [
       "year        1913  1916  1917  1921  1929  1938  1939  1942  1948  1951  ...  \\\n",
       "character                                                               ...   \n",
       "D'Artagnan   NaN   1.0   1.0   1.0   1.0   NaN   2.0   1.0   1.0   1.0  ...   \n",
       "Robin Hood   2.0   NaN   NaN   NaN   1.0   1.0   NaN   NaN   1.0   1.0  ...   \n",
       "\n",
       "year        2001  2002  2005  2006  2010  2011  2012  2013  2015  2017  \n",
       "character                                                               \n",
       "D'Artagnan   1.0   1.0   3.0   NaN   1.0   1.0   1.0   1.0   1.0   NaN  \n",
       "Robin Hood   NaN   1.0   NaN   1.0   NaN   NaN   3.0   1.0   NaN   1.0  \n",
       "\n",
       "[2 rows x 50 columns]"
      ]
     },
     "execution_count": 24,
     "metadata": {},
     "output_type": "execute_result"
    }
   ],
   "source": [
    "e.size().unstack(1).head()"
   ]
  },
  {
   "cell_type": "code",
   "execution_count": 25,
   "metadata": {
    "collapsed": false
   },
   "outputs": [
    {
     "data": {
      "text/html": [
       "<div>\n",
       "<style scoped>\n",
       "    .dataframe tbody tr th:only-of-type {\n",
       "        vertical-align: middle;\n",
       "    }\n",
       "\n",
       "    .dataframe tbody tr th {\n",
       "        vertical-align: top;\n",
       "    }\n",
       "\n",
       "    .dataframe thead th {\n",
       "        text-align: right;\n",
       "    }\n",
       "</style>\n",
       "<table border=\"1\" class=\"dataframe\">\n",
       "  <thead>\n",
       "    <tr style=\"text-align: right;\">\n",
       "      <th>year</th>\n",
       "      <th>1913</th>\n",
       "      <th>1916</th>\n",
       "      <th>1917</th>\n",
       "      <th>1921</th>\n",
       "      <th>1929</th>\n",
       "      <th>1938</th>\n",
       "      <th>1939</th>\n",
       "      <th>1942</th>\n",
       "      <th>1948</th>\n",
       "      <th>1951</th>\n",
       "      <th>...</th>\n",
       "      <th>2001</th>\n",
       "      <th>2002</th>\n",
       "      <th>2005</th>\n",
       "      <th>2006</th>\n",
       "      <th>2010</th>\n",
       "      <th>2011</th>\n",
       "      <th>2012</th>\n",
       "      <th>2013</th>\n",
       "      <th>2015</th>\n",
       "      <th>2017</th>\n",
       "    </tr>\n",
       "    <tr>\n",
       "      <th>character</th>\n",
       "      <th></th>\n",
       "      <th></th>\n",
       "      <th></th>\n",
       "      <th></th>\n",
       "      <th></th>\n",
       "      <th></th>\n",
       "      <th></th>\n",
       "      <th></th>\n",
       "      <th></th>\n",
       "      <th></th>\n",
       "      <th></th>\n",
       "      <th></th>\n",
       "      <th></th>\n",
       "      <th></th>\n",
       "      <th></th>\n",
       "      <th></th>\n",
       "      <th></th>\n",
       "      <th></th>\n",
       "      <th></th>\n",
       "      <th></th>\n",
       "      <th></th>\n",
       "    </tr>\n",
       "  </thead>\n",
       "  <tbody>\n",
       "    <tr>\n",
       "      <th>D'Artagnan</th>\n",
       "      <td>NaN</td>\n",
       "      <td>1.0</td>\n",
       "      <td>1.0</td>\n",
       "      <td>1.0</td>\n",
       "      <td>1.0</td>\n",
       "      <td>NaN</td>\n",
       "      <td>2.0</td>\n",
       "      <td>1.0</td>\n",
       "      <td>1.0</td>\n",
       "      <td>1.0</td>\n",
       "      <td>...</td>\n",
       "      <td>1.0</td>\n",
       "      <td>1.0</td>\n",
       "      <td>3.0</td>\n",
       "      <td>NaN</td>\n",
       "      <td>1.0</td>\n",
       "      <td>1.0</td>\n",
       "      <td>1.0</td>\n",
       "      <td>1.0</td>\n",
       "      <td>1.0</td>\n",
       "      <td>NaN</td>\n",
       "    </tr>\n",
       "    <tr>\n",
       "      <th>Robin Hood</th>\n",
       "      <td>2.0</td>\n",
       "      <td>NaN</td>\n",
       "      <td>NaN</td>\n",
       "      <td>NaN</td>\n",
       "      <td>1.0</td>\n",
       "      <td>1.0</td>\n",
       "      <td>NaN</td>\n",
       "      <td>NaN</td>\n",
       "      <td>1.0</td>\n",
       "      <td>1.0</td>\n",
       "      <td>...</td>\n",
       "      <td>NaN</td>\n",
       "      <td>1.0</td>\n",
       "      <td>NaN</td>\n",
       "      <td>1.0</td>\n",
       "      <td>NaN</td>\n",
       "      <td>NaN</td>\n",
       "      <td>3.0</td>\n",
       "      <td>1.0</td>\n",
       "      <td>NaN</td>\n",
       "      <td>1.0</td>\n",
       "    </tr>\n",
       "  </tbody>\n",
       "</table>\n",
       "<p>2 rows × 50 columns</p>\n",
       "</div>"
      ],
      "text/plain": [
       "year        1913  1916  1917  1921  1929  1938  1939  1942  1948  1951  ...  \\\n",
       "character                                                               ...   \n",
       "D'Artagnan   NaN   1.0   1.0   1.0   1.0   NaN   2.0   1.0   1.0   1.0  ...   \n",
       "Robin Hood   2.0   NaN   NaN   NaN   1.0   1.0   NaN   NaN   1.0   1.0  ...   \n",
       "\n",
       "year        2001  2002  2005  2006  2010  2011  2012  2013  2015  2017  \n",
       "character                                                               \n",
       "D'Artagnan   1.0   1.0   3.0   NaN   1.0   1.0   1.0   1.0   1.0   NaN  \n",
       "Robin Hood   NaN   1.0   NaN   1.0   NaN   NaN   3.0   1.0   NaN   1.0  \n",
       "\n",
       "[2 rows x 50 columns]"
      ]
     },
     "execution_count": 25,
     "metadata": {},
     "output_type": "execute_result"
    }
   ],
   "source": [
    "e.size().unstack().head()"
   ]
  },
  {
   "cell_type": "code",
   "execution_count": 26,
   "metadata": {
    "collapsed": false
   },
   "outputs": [
    {
     "data": {
      "text/html": [
       "<div>\n",
       "<style scoped>\n",
       "    .dataframe tbody tr th:only-of-type {\n",
       "        vertical-align: middle;\n",
       "    }\n",
       "\n",
       "    .dataframe tbody tr th {\n",
       "        vertical-align: top;\n",
       "    }\n",
       "\n",
       "    .dataframe thead th {\n",
       "        text-align: right;\n",
       "    }\n",
       "</style>\n",
       "<table border=\"1\" class=\"dataframe\">\n",
       "  <thead>\n",
       "    <tr style=\"text-align: right;\">\n",
       "      <th>character</th>\n",
       "      <th>D'Artagnan</th>\n",
       "      <th>Robin Hood</th>\n",
       "    </tr>\n",
       "    <tr>\n",
       "      <th>year</th>\n",
       "      <th></th>\n",
       "      <th></th>\n",
       "    </tr>\n",
       "  </thead>\n",
       "  <tbody>\n",
       "    <tr>\n",
       "      <th>1913</th>\n",
       "      <td>0.0</td>\n",
       "      <td>2.0</td>\n",
       "    </tr>\n",
       "    <tr>\n",
       "      <th>1916</th>\n",
       "      <td>1.0</td>\n",
       "      <td>0.0</td>\n",
       "    </tr>\n",
       "    <tr>\n",
       "      <th>1917</th>\n",
       "      <td>1.0</td>\n",
       "      <td>0.0</td>\n",
       "    </tr>\n",
       "    <tr>\n",
       "      <th>1921</th>\n",
       "      <td>1.0</td>\n",
       "      <td>0.0</td>\n",
       "    </tr>\n",
       "    <tr>\n",
       "      <th>1929</th>\n",
       "      <td>1.0</td>\n",
       "      <td>1.0</td>\n",
       "    </tr>\n",
       "  </tbody>\n",
       "</table>\n",
       "</div>"
      ],
      "text/plain": [
       "character  D'Artagnan  Robin Hood\n",
       "year                             \n",
       "1913              0.0         2.0\n",
       "1916              1.0         0.0\n",
       "1917              1.0         0.0\n",
       "1921              1.0         0.0\n",
       "1929              1.0         1.0"
      ]
     },
     "execution_count": 26,
     "metadata": {},
     "output_type": "execute_result"
    }
   ],
   "source": [
    "e.size().unstack(0).fillna(0).head()"
   ]
  },
  {
   "cell_type": "code",
   "execution_count": 27,
   "metadata": {
    "collapsed": false
   },
   "outputs": [
    {
     "data": {
      "text/plain": [
       "<Axes: xlabel='year'>"
      ]
     },
     "execution_count": 27,
     "metadata": {},
     "output_type": "execute_result"
    },
    {
     "data": {
      "image/png": "[encoded data removed]",
      "text/plain": [
       "<Figure size 1500x600 with 1 Axes>"
      ]
     },
     "metadata": {},
     "output_type": "display_data"
    }
   ],
   "source": [
    "e.size().unstack(0).fillna(0).plot(kind='bar',figsize=(15,6))"
   ]
  },
  {
   "cell_type": "code",
   "execution_count": 28,
   "metadata": {
    "collapsed": false
   },
   "outputs": [
    {
     "data": {
      "text/plain": [
       "<Axes: xlabel='year'>"
      ]
     },
     "execution_count": 28,
     "metadata": {},
     "output_type": "execute_result"
    },
    {
     "data": {
      "image/png": "[encoded data removed]",
      "text/plain": [
       "<Figure size 640x480 with 1 Axes>"
      ]
     },
     "metadata": {},
     "output_type": "display_data"
    }
   ],
   "source": [
    "e = elenco\n",
    "\n",
    "e = e[(e.character == \"D'Artagnan\") | (e.character == 'Robin Hood')]\n",
    "\n",
    "e = e.groupby(['character', e.year // 10 * 10])\n",
    "e.size().unstack(0).fillna(0).plot(kind='bar')\n",
    "#e.size().unstack(0).plot(kind='bar')"
   ]
  },
  {
   "cell_type": "code",
   "execution_count": 29,
   "metadata": {
    "collapsed": false
   },
   "outputs": [
    {
     "data": {
      "text/html": [
       "<div>\n",
       "<style scoped>\n",
       "    .dataframe tbody tr th:only-of-type {\n",
       "        vertical-align: middle;\n",
       "    }\n",
       "\n",
       "    .dataframe tbody tr th {\n",
       "        vertical-align: top;\n",
       "    }\n",
       "\n",
       "    .dataframe thead th {\n",
       "        text-align: right;\n",
       "    }\n",
       "</style>\n",
       "<table border=\"1\" class=\"dataframe\">\n",
       "  <thead>\n",
       "    <tr style=\"text-align: right;\">\n",
       "      <th>year</th>\n",
       "      <th>1910</th>\n",
       "      <th>1920</th>\n",
       "      <th>1930</th>\n",
       "      <th>1940</th>\n",
       "      <th>1950</th>\n",
       "      <th>1960</th>\n",
       "      <th>1970</th>\n",
       "      <th>1980</th>\n",
       "      <th>1990</th>\n",
       "      <th>2000</th>\n",
       "      <th>2010</th>\n",
       "    </tr>\n",
       "    <tr>\n",
       "      <th>character</th>\n",
       "      <th></th>\n",
       "      <th></th>\n",
       "      <th></th>\n",
       "      <th></th>\n",
       "      <th></th>\n",
       "      <th></th>\n",
       "      <th></th>\n",
       "      <th></th>\n",
       "      <th></th>\n",
       "      <th></th>\n",
       "      <th></th>\n",
       "    </tr>\n",
       "  </thead>\n",
       "  <tbody>\n",
       "    <tr>\n",
       "      <th>D'Artagnan</th>\n",
       "      <td>2</td>\n",
       "      <td>2</td>\n",
       "      <td>2</td>\n",
       "      <td>2</td>\n",
       "      <td>6</td>\n",
       "      <td>6</td>\n",
       "      <td>5</td>\n",
       "      <td>3</td>\n",
       "      <td>5</td>\n",
       "      <td>5</td>\n",
       "      <td>5</td>\n",
       "    </tr>\n",
       "    <tr>\n",
       "      <th>Robin Hood</th>\n",
       "      <td>2</td>\n",
       "      <td>1</td>\n",
       "      <td>1</td>\n",
       "      <td>1</td>\n",
       "      <td>3</td>\n",
       "      <td>6</td>\n",
       "      <td>9</td>\n",
       "      <td>4</td>\n",
       "      <td>7</td>\n",
       "      <td>2</td>\n",
       "      <td>5</td>\n",
       "    </tr>\n",
       "  </tbody>\n",
       "</table>\n",
       "</div>"
      ],
      "text/plain": [
       "year        1910  1920  1930  1940  1950  1960  1970  1980  1990  2000  2010\n",
       "character                                                                   \n",
       "D'Artagnan     2     2     2     2     6     6     5     3     5     5     5\n",
       "Robin Hood     2     1     1     1     3     6     9     4     7     2     5"
      ]
     },
     "execution_count": 29,
     "metadata": {},
     "output_type": "execute_result"
    }
   ],
   "source": [
    "e = elenco\n",
    "e = e[(e.character == \"D'Artagnan\") | (e.character == 'Robin Hood')]\n",
    "\n",
    "e = e.groupby(['character', e.year // 10 * 10])\n",
    "\n",
    "e = e.size().unstack(0)\n",
    "e\n",
    "\n",
    "e = e.stack(0)\n",
    "e\n",
    "e = e.unstack(0)\n",
    "e"
   ]
  },
  {
   "cell_type": "code",
   "execution_count": 30,
   "metadata": {
    "collapsed": false
   },
   "outputs": [
    {
     "data": {
      "text/plain": [
       "<Axes: ylabel='year'>"
      ]
     },
     "execution_count": 30,
     "metadata": {},
     "output_type": "execute_result"
    },
    {
     "data": {
      "image/png": "[encoded data removed]",
      "text/plain": [
       "<Figure size 640x480 with 1 Axes>"
      ]
     },
     "metadata": {},
     "output_type": "display_data"
    }
   ],
   "source": [
    "# stack y unstack\n",
    "\n",
    "e = elenco\n",
    "e = e[(e.character == \"D'Artagnan\") | (e.character == 'Robin Hood')]\n",
    "e = e.groupby(['character',e.year //10 * 10]).size() \n",
    "e.unstack(0).fillna(0).plot(kind='barh')\n"
   ]
  },
  {
   "cell_type": "code",
   "execution_count": 31,
   "metadata": {
    "collapsed": true
   },
   "outputs": [],
   "source": [
    "# Graficar la diferencia entre el numero de papeles \n",
    "# para actores cada año y el numero de papeles para actrices\n",
    "# cada año en la historia de la filmografia"
   ]
  },
  {
   "cell_type": "code",
   "execution_count": 32,
   "metadata": {
    "collapsed": false
   },
   "outputs": [
    {
     "data": {
      "text/plain": [
       "<Axes: xlabel='year'>"
      ]
     },
     "execution_count": 32,
     "metadata": {},
     "output_type": "execute_result"
    },
    {
     "data": {
      "image/png": "[encoded data removed]",
      "text/plain": [
       "<Figure size 640x480 with 1 Axes>"
      ]
     },
     "metadata": {},
     "output_type": "display_data"
    }
   ],
   "source": [
    "e = elenco\n",
    "e = e.groupby(['year','type']).size()\n",
    "e = e.unstack('type').fillna(0)\n",
    "(e.actor - e.actress).plot()"
   ]
  },
  {
   "cell_type": "code",
   "execution_count": 33,
   "metadata": {
    "collapsed": false
   },
   "outputs": [
    {
     "data": {
      "text/plain": [
       "<Axes: xlabel='year'>"
      ]
     },
     "execution_count": 33,
     "metadata": {},
     "output_type": "execute_result"
    },
    {
     "data": {
      "image/png": "[encoded data removed]",
      "text/plain": [
       "<Figure size 640x480 with 1 Axes>"
      ]
     },
     "metadata": {},
     "output_type": "display_data"
    }
   ],
   "source": [
    "# Graficar en numero de papeles de actores cada año\n",
    "# y el numero de papeles para actrices cada año\n",
    "\n",
    "e = elenco\n",
    "e = e.groupby(['year','type']).size()\n",
    "\n",
    "e = e.unstack('type')\n",
    "\n",
    "e.plot()"
   ]
  },
  {
   "cell_type": "code",
   "execution_count": 34,
   "metadata": {
    "collapsed": false
   },
   "outputs": [
    {
     "data": {
      "text/plain": [
       "<Axes: xlabel='year'>"
      ]
     },
     "execution_count": 34,
     "metadata": {},
     "output_type": "execute_result"
    },
    {
     "data": {
      "image/png": "[encoded data removed]",
      "text/plain": [
       "<Figure size 640x480 with 1 Axes>"
      ]
     },
     "metadata": {},
     "output_type": "display_data"
    }
   ],
   "source": [
    "# El mismo grafico anterior pero categorizado por decada y\n",
    "# con un grafico de area\n",
    "\n",
    "e = elenco\n",
    "e = e.groupby([e.year//10*10,'type']).size()\n",
    "e = e.unstack('type')\n",
    "e.plot(kind='area')"
   ]
  },
  {
   "cell_type": "code",
   "execution_count": 35,
   "metadata": {
    "collapsed": false
   },
   "outputs": [
    {
     "data": {
      "text/plain": [
       "<Axes: xlabel='year'>"
      ]
     },
     "execution_count": 35,
     "metadata": {},
     "output_type": "execute_result"
    },
    {
     "data": {
      "image/png": "[encoded data removed]",
      "text/plain": [
       "<Figure size 640x480 with 1 Axes>"
      ]
     },
     "metadata": {},
     "output_type": "display_data"
    }
   ],
   "source": [
    "# Graficar el porcentaje de papeles que han sido \n",
    "# actores cada año en la historia de la filmografia\n",
    "\n",
    "e = elenco\n",
    "e = e.groupby(['year','type']).size()\n",
    "e = e.unstack('type')\n",
    "(e.actor / (e.actor+e.actress) * 100).plot(ylim=[0,100])"
   ]
  },
  {
   "cell_type": "code",
   "execution_count": 36,
   "metadata": {
    "collapsed": false
   },
   "outputs": [
    {
     "data": {
      "text/plain": [
       "<matplotlib.legend.Legend at 0x213819fd290>"
      ]
     },
     "execution_count": 36,
     "metadata": {},
     "output_type": "execute_result"
    },
    {
     "data": {
      "image/png": "[encoded data removed]",
      "text/plain": [
       "<Figure size 640x480 with 1 Axes>"
      ]
     },
     "metadata": {},
     "output_type": "display_data"
    }
   ],
   "source": [
    "# Graficar el porcentaje de papeles que han sido \n",
    "# actores cada año en la historia de la filmografia\n",
    "# junto al mismo porcentaje pero de actrices\n",
    "\n",
    "e = elenco\n",
    "e = e.groupby(['year','type']).size()\n",
    "e = e.unstack('type')\n",
    "\n",
    "\n",
    "(e.actor / (e.actor+e.actress) * 100).plot(ylim=[0,100],label=\"actor %\")\n",
    "(e.actress / (e.actor+e.actress) * 100).plot(ylim=[0,100],label=\"actress %\")\n",
    "plt.legend()"
   ]
  },
  {
   "cell_type": "code",
   "execution_count": 37,
   "metadata": {
    "collapsed": false
   },
   "outputs": [
    {
     "data": {
      "text/plain": [
       "<Axes: xlabel='year'>"
      ]
     },
     "execution_count": 37,
     "metadata": {},
     "output_type": "execute_result"
    },
    {
     "data": {
      "image/png": "[encoded data removed]",
      "text/plain": [
       "<Figure size 640x480 with 1 Axes>"
      ]
     },
     "metadata": {},
     "output_type": "display_data"
    }
   ],
   "source": [
    "# Graficar 3 lines con clasificacion \"n\" de 1 al 3 donde cada \n",
    "# linea represente el porcentaje de la clasificacion para \n",
    "# los papeles de actores en cada año.\n",
    "\n",
    "e = elenco\n",
    "e = e[e.n <=3 ]\n",
    "\n",
    "e = e.groupby(['year','type','n']).size()\n",
    "\n",
    "\n",
    "e = e.unstack('type')   # Mover actor, actress a la dimension superior o de keys\n",
    "\n",
    "p = e.actor / (e.actor+e.actress) * 100   # Reducimos\n",
    "p = p.unstack('n')                        # Subimos la categoria 'n'\n",
    "p.plot()"
   ]
  },
  {
   "cell_type": "code",
   "execution_count": 38,
   "metadata": {
    "collapsed": false
   },
   "outputs": [
    {
     "data": {
      "text/plain": [
       "<Axes: title={'center': 'Peliculas con mas actrices en el reparto'}, xlabel='title'>"
      ]
     },
     "execution_count": 38,
     "metadata": {},
     "output_type": "execute_result"
    },
    {
     "data": {
      "image/png": "[encoded data removed]",
      "text/plain": [
       "<Figure size 640x480 with 1 Axes>"
      ]
     },
     "metadata": {},
     "output_type": "display_data"
    }
   ],
   "source": [
    "# Encontrar las 5 peliculas de la historia tengan mas\n",
    "# actrices que actores\n",
    "\n",
    "e = elenco\n",
    "e = e.groupby(['type','title']).size()\n",
    "e = e.unstack('type')\n",
    "e = (e.actress - e.actor).sort_values(ascending=False)\n",
    "e[:5].plot(kind='bar',title=\"Peliculas con mas actrices en el reparto\")\n"
   ]
  }
 ],
 "metadata": {
  "anaconda-cloud": {},
  "kernelspec": {
   "display_name": "progrma2",
   "language": "python",
   "name": "python3"
  },
  "language_info": {
   "codemirror_mode": {
    "name": "ipython",
    "version": 3
   },
   "file_extension": ".py",
   "mimetype": "text/x-python",
   "name": "python",
   "nbconvert_exporter": "python",
   "pygments_lexer": "ipython3",
   "version": "3.11.5"
  },
  "vscode": {
   "interpreter": {
    "hash": "4d1e9685241859556e110a9762602881454d4d48d6248d124be558de354edd4e"
   }
  }
 },
 "nbformat": 4,
 "nbformat_minor": 0
}

{
 "cells": [
  {
   "cell_type": "markdown",
   "metadata": {},
   "source": [
    "## Tercera parte pandas \n",
    "- Operaciones con fechas\n",
    "- Combinar dataframes\n",
    "- Reacomodar datos "
   ]
  },
  {
   "cell_type": "code",
   "execution_count": 13,
   "metadata": {
    "collapsed": false
   },
   "outputs": [
    {
     "name": "stdout",
     "output_type": "stream",
     "text": [
      "%pylab is deprecated, use %matplotlib inline and import the required libraries.\n",
      "Populating the interactive namespace from numpy and matplotlib\n"
     ]
    }
   ],
   "source": [
    "%pylab inline\n",
    "import pandas as pd"
   ]
  },
  {
   "cell_type": "code",
   "execution_count": 14,
   "metadata": {
    "collapsed": false
   },
   "outputs": [
    {
     "data": {
      "text/html": [
       "<div>\n",
       "<style scoped>\n",
       "    .dataframe tbody tr th:only-of-type {\n",
       "        vertical-align: middle;\n",
       "    }\n",
       "\n",
       "    .dataframe tbody tr th {\n",
       "        vertical-align: top;\n",
       "    }\n",
       "\n",
       "    .dataframe thead th {\n",
       "        text-align: right;\n",
       "    }\n",
       "</style>\n",
       "<table border=\"1\" class=\"dataframe\">\n",
       "  <thead>\n",
       "    <tr style=\"text-align: right;\">\n",
       "      <th></th>\n",
       "      <th>title</th>\n",
       "      <th>year</th>\n",
       "      <th>name</th>\n",
       "      <th>type</th>\n",
       "      <th>character</th>\n",
       "      <th>n</th>\n",
       "    </tr>\n",
       "  </thead>\n",
       "  <tbody>\n",
       "    <tr>\n",
       "      <th>0</th>\n",
       "      <td>Closet Monster</td>\n",
       "      <td>2015</td>\n",
       "      <td>Buffy #1</td>\n",
       "      <td>actor</td>\n",
       "      <td>Buffy 4</td>\n",
       "      <td>31.0</td>\n",
       "    </tr>\n",
       "    <tr>\n",
       "      <th>1</th>\n",
       "      <td>Suuri illusioni</td>\n",
       "      <td>1985</td>\n",
       "      <td>Homo $</td>\n",
       "      <td>actor</td>\n",
       "      <td>Guests</td>\n",
       "      <td>22.0</td>\n",
       "    </tr>\n",
       "    <tr>\n",
       "      <th>2</th>\n",
       "      <td>Battle of the Sexes</td>\n",
       "      <td>2017</td>\n",
       "      <td>$hutter</td>\n",
       "      <td>actor</td>\n",
       "      <td>Bobby Riggs Fan</td>\n",
       "      <td>10.0</td>\n",
       "    </tr>\n",
       "    <tr>\n",
       "      <th>3</th>\n",
       "      <td>Secret in Their Eyes</td>\n",
       "      <td>2015</td>\n",
       "      <td>$hutter</td>\n",
       "      <td>actor</td>\n",
       "      <td>2002 Dodger Fan</td>\n",
       "      <td>NaN</td>\n",
       "    </tr>\n",
       "    <tr>\n",
       "      <th>4</th>\n",
       "      <td>Steve Jobs</td>\n",
       "      <td>2015</td>\n",
       "      <td>$hutter</td>\n",
       "      <td>actor</td>\n",
       "      <td>1988 Opera House Patron</td>\n",
       "      <td>NaN</td>\n",
       "    </tr>\n",
       "  </tbody>\n",
       "</table>\n",
       "</div>"
      ],
      "text/plain": [
       "                  title  year      name   type                character     n\n",
       "0        Closet Monster  2015  Buffy #1  actor                  Buffy 4  31.0\n",
       "1       Suuri illusioni  1985    Homo $  actor                   Guests  22.0\n",
       "2   Battle of the Sexes  2017   $hutter  actor          Bobby Riggs Fan  10.0\n",
       "3  Secret in Their Eyes  2015   $hutter  actor          2002 Dodger Fan   NaN\n",
       "4            Steve Jobs  2015   $hutter  actor  1988 Opera House Patron   NaN"
      ]
     },
     "execution_count": 14,
     "metadata": {},
     "output_type": "execute_result"
    }
   ],
   "source": [
    "# Cargar nuestra base de datos de elencos\n",
    "elenco = pd.read_csv(r'C:\\Users\\luism\\Documents\\data\\cast.csv', encoding='utf-8')\n",
    "elenco.head()"
   ]
  },
  {
   "cell_type": "code",
   "execution_count": 15,
   "metadata": {
    "collapsed": false
   },
   "outputs": [
    {
     "data": {
      "text/html": [
       "<div>\n",
       "<style scoped>\n",
       "    .dataframe tbody tr th:only-of-type {\n",
       "        vertical-align: middle;\n",
       "    }\n",
       "\n",
       "    .dataframe tbody tr th {\n",
       "        vertical-align: top;\n",
       "    }\n",
       "\n",
       "    .dataframe thead th {\n",
       "        text-align: right;\n",
       "    }\n",
       "</style>\n",
       "<table border=\"1\" class=\"dataframe\">\n",
       "  <thead>\n",
       "    <tr style=\"text-align: right;\">\n",
       "      <th></th>\n",
       "      <th>title</th>\n",
       "      <th>year</th>\n",
       "      <th>country</th>\n",
       "      <th>date</th>\n",
       "    </tr>\n",
       "  </thead>\n",
       "  <tbody>\n",
       "    <tr>\n",
       "      <th>0</th>\n",
       "      <td>#73, Shaanthi Nivaasa</td>\n",
       "      <td>2007</td>\n",
       "      <td>India</td>\n",
       "      <td>2007-06-15</td>\n",
       "    </tr>\n",
       "    <tr>\n",
       "      <th>1</th>\n",
       "      <td>#Beings</td>\n",
       "      <td>2015</td>\n",
       "      <td>Romania</td>\n",
       "      <td>2015-01-29</td>\n",
       "    </tr>\n",
       "    <tr>\n",
       "      <th>2</th>\n",
       "      <td>#Ewankosau saranghaeyo</td>\n",
       "      <td>2015</td>\n",
       "      <td>Philippines</td>\n",
       "      <td>2015-01-21</td>\n",
       "    </tr>\n",
       "    <tr>\n",
       "      <th>3</th>\n",
       "      <td>#Horror</td>\n",
       "      <td>2015</td>\n",
       "      <td>USA</td>\n",
       "      <td>2015-11-20</td>\n",
       "    </tr>\n",
       "    <tr>\n",
       "      <th>4</th>\n",
       "      <td>#Horror</td>\n",
       "      <td>2015</td>\n",
       "      <td>UK</td>\n",
       "      <td>2016-05-16</td>\n",
       "    </tr>\n",
       "  </tbody>\n",
       "</table>\n",
       "</div>"
      ],
      "text/plain": [
       "                    title  year      country        date\n",
       "0   #73, Shaanthi Nivaasa  2007        India  2007-06-15\n",
       "1                 #Beings  2015      Romania  2015-01-29\n",
       "2  #Ewankosau saranghaeyo  2015  Philippines  2015-01-21\n",
       "3                 #Horror  2015          USA  2015-11-20\n",
       "4                 #Horror  2015           UK  2016-05-16"
      ]
     },
     "execution_count": 15,
     "metadata": {},
     "output_type": "execute_result"
    }
   ],
   "source": [
    "# Ahora tambien cargaremos datos de otra base de datos\n",
    "# \n",
    "fecha_lanz = pd.read_csv(r'C:\\Users\\luism\\Documents\\data\\release_dates.csv', encoding='utf-8')\n",
    "fecha_lanz.head()"
   ]
  },
  {
   "cell_type": "code",
   "execution_count": 16,
   "metadata": {
    "collapsed": false
   },
   "outputs": [
    {
     "name": "stderr",
     "output_type": "stream",
     "text": [
      "C:\\Users\\luism\\AppData\\Local\\Temp\\ipykernel_9992\\3509899908.py:4: FutureWarning: The argument 'infer_datetime_format' is deprecated and will be removed in a future version. A strict version of it is now the default, see https://pandas.pydata.org/pdeps/0004-consistent-to-datetime-parsing.html. You can safely remove this argument.\n",
      "  fecha_lanz = pd.read_csv(r'C:\\Users\\luism\\Documents\\data\\release_dates.csv', parse_dates=['date'], infer_datetime_format=True)\n"
     ]
    },
    {
     "data": {
      "text/html": [
       "<div>\n",
       "<style scoped>\n",
       "    .dataframe tbody tr th:only-of-type {\n",
       "        vertical-align: middle;\n",
       "    }\n",
       "\n",
       "    .dataframe tbody tr th {\n",
       "        vertical-align: top;\n",
       "    }\n",
       "\n",
       "    .dataframe thead th {\n",
       "        text-align: right;\n",
       "    }\n",
       "</style>\n",
       "<table border=\"1\" class=\"dataframe\">\n",
       "  <thead>\n",
       "    <tr style=\"text-align: right;\">\n",
       "      <th></th>\n",
       "      <th>title</th>\n",
       "      <th>year</th>\n",
       "      <th>country</th>\n",
       "      <th>date</th>\n",
       "    </tr>\n",
       "  </thead>\n",
       "  <tbody>\n",
       "    <tr>\n",
       "      <th>0</th>\n",
       "      <td>#73, Shaanthi Nivaasa</td>\n",
       "      <td>2007</td>\n",
       "      <td>India</td>\n",
       "      <td>2007-06-15</td>\n",
       "    </tr>\n",
       "    <tr>\n",
       "      <th>1</th>\n",
       "      <td>#Beings</td>\n",
       "      <td>2015</td>\n",
       "      <td>Romania</td>\n",
       "      <td>2015-01-29</td>\n",
       "    </tr>\n",
       "    <tr>\n",
       "      <th>2</th>\n",
       "      <td>#Ewankosau saranghaeyo</td>\n",
       "      <td>2015</td>\n",
       "      <td>Philippines</td>\n",
       "      <td>2015-01-21</td>\n",
       "    </tr>\n",
       "    <tr>\n",
       "      <th>3</th>\n",
       "      <td>#Horror</td>\n",
       "      <td>2015</td>\n",
       "      <td>USA</td>\n",
       "      <td>2015-11-20</td>\n",
       "    </tr>\n",
       "    <tr>\n",
       "      <th>4</th>\n",
       "      <td>#Horror</td>\n",
       "      <td>2015</td>\n",
       "      <td>UK</td>\n",
       "      <td>2016-05-16</td>\n",
       "    </tr>\n",
       "  </tbody>\n",
       "</table>\n",
       "</div>"
      ],
      "text/plain": [
       "                    title  year      country       date\n",
       "0   #73, Shaanthi Nivaasa  2007        India 2007-06-15\n",
       "1                 #Beings  2015      Romania 2015-01-29\n",
       "2  #Ewankosau saranghaeyo  2015  Philippines 2015-01-21\n",
       "3                 #Horror  2015          USA 2015-11-20\n",
       "4                 #Horror  2015           UK 2016-05-16"
      ]
     },
     "execution_count": 16,
     "metadata": {},
     "output_type": "execute_result"
    }
   ],
   "source": [
    "# Que tal si cargamos esta base de datos pero la columna date la convertirmos a un \n",
    "# formato datetime que tiene metodos para hacer operaciones sobre fechas.. Mejor!\n",
    "\n",
    "fecha_lanz = pd.read_csv(r'C:\\Users\\luism\\Documents\\data\\release_dates.csv', parse_dates=['date'], infer_datetime_format=True)\n",
    "fecha_lanz.head()"
   ]
  },
  {
   "cell_type": "code",
   "execution_count": 17,
   "metadata": {
    "collapsed": false
   },
   "outputs": [
    {
     "data": {
      "text/plain": [
       "0         2007\n",
       "1         2015\n",
       "2         2015\n",
       "3         2015\n",
       "4         2016\n",
       "          ... \n",
       "443551    2005\n",
       "443552    2005\n",
       "443553    2005\n",
       "443554    2005\n",
       "443555    2005\n",
       "Name: date, Length: 443556, dtype: int32"
      ]
     },
     "execution_count": 17,
     "metadata": {},
     "output_type": "execute_result"
    }
   ],
   "source": [
    "# Podemos acceder a los metodos del namespace datetime, en pandas \"dt\"\n",
    "fl = fecha_lanz\n",
    "\n",
    "fl.date.dt.year"
   ]
  },
  {
   "cell_type": "code",
   "execution_count": 18,
   "metadata": {
    "collapsed": true
   },
   "outputs": [],
   "source": [
    "# Con esto que podemos hacer un listado categorizando por algun elemento de la \n",
    "# fecha como por ejemplo:\n"
   ]
  },
  {
   "cell_type": "code",
   "execution_count": 19,
   "metadata": {
    "collapsed": false
   },
   "outputs": [
    {
     "data": {
      "text/plain": [
       "<Axes: xlabel='date'>"
      ]
     },
     "execution_count": 19,
     "metadata": {},
     "output_type": "execute_result"
    },
    {
     "data": {
      "image/png": "[encoded data removed]",
      "text/plain": [
       "<Figure size 640x480 with 1 Axes>"
      ]
     },
     "metadata": {},
     "output_type": "display_data"
    }
   ],
   "source": [
    "# En que meses se lanzan mas comunmente peliculas que contienen la palabra\n",
    "# \"horror\"\n",
    "\n",
    "\n",
    "fl = fecha_lanz \n",
    "\n",
    "\n",
    "fl = fl[(fl.title.str.contains('horror',case=False)) & (fl.country == 'USA')]\n",
    "\n",
    "fl.date.dt.month.value_counts().sort_index().plot(kind='bar')"
   ]
  },
  {
   "cell_type": "code",
   "execution_count": 20,
   "metadata": {
    "collapsed": true
   },
   "outputs": [],
   "source": [
    "# Exploremos la funcionalidad para unir dataframes con el metodo \"merge\""
   ]
  },
  {
   "cell_type": "code",
   "execution_count": 21,
   "metadata": {
    "collapsed": false
   },
   "outputs": [
    {
     "data": {
      "text/html": [
       "<div>\n",
       "<style scoped>\n",
       "    .dataframe tbody tr th:only-of-type {\n",
       "        vertical-align: middle;\n",
       "    }\n",
       "\n",
       "    .dataframe tbody tr th {\n",
       "        vertical-align: top;\n",
       "    }\n",
       "\n",
       "    .dataframe thead th {\n",
       "        text-align: right;\n",
       "    }\n",
       "</style>\n",
       "<table border=\"1\" class=\"dataframe\">\n",
       "  <thead>\n",
       "    <tr style=\"text-align: right;\">\n",
       "      <th></th>\n",
       "      <th>title</th>\n",
       "      <th>year</th>\n",
       "      <th>name</th>\n",
       "      <th>type</th>\n",
       "      <th>character</th>\n",
       "      <th>n</th>\n",
       "    </tr>\n",
       "  </thead>\n",
       "  <tbody>\n",
       "    <tr>\n",
       "      <th>2288261</th>\n",
       "      <td>2 Guns</td>\n",
       "      <td>2013</td>\n",
       "      <td>Denzel Washington</td>\n",
       "      <td>actor</td>\n",
       "      <td>Bobby</td>\n",
       "      <td>1.0</td>\n",
       "    </tr>\n",
       "    <tr>\n",
       "      <th>2288262</th>\n",
       "      <td>A Soldier's Story</td>\n",
       "      <td>1984</td>\n",
       "      <td>Denzel Washington</td>\n",
       "      <td>actor</td>\n",
       "      <td>Private First Class Peterson</td>\n",
       "      <td>9.0</td>\n",
       "    </tr>\n",
       "    <tr>\n",
       "      <th>2288263</th>\n",
       "      <td>American Gangster</td>\n",
       "      <td>2007</td>\n",
       "      <td>Denzel Washington</td>\n",
       "      <td>actor</td>\n",
       "      <td>Frank Lucas</td>\n",
       "      <td>1.0</td>\n",
       "    </tr>\n",
       "    <tr>\n",
       "      <th>2288264</th>\n",
       "      <td>Antwone Fisher</td>\n",
       "      <td>2002</td>\n",
       "      <td>Denzel Washington</td>\n",
       "      <td>actor</td>\n",
       "      <td>Dr. Jerome Davenport</td>\n",
       "      <td>4.0</td>\n",
       "    </tr>\n",
       "    <tr>\n",
       "      <th>2288265</th>\n",
       "      <td>Carbon Copy</td>\n",
       "      <td>1981</td>\n",
       "      <td>Denzel Washington</td>\n",
       "      <td>actor</td>\n",
       "      <td>Roger Porter</td>\n",
       "      <td>5.0</td>\n",
       "    </tr>\n",
       "  </tbody>\n",
       "</table>\n",
       "</div>"
      ],
      "text/plain": [
       "                     title  year               name   type  \\\n",
       "2288261             2 Guns  2013  Denzel Washington  actor   \n",
       "2288262  A Soldier's Story  1984  Denzel Washington  actor   \n",
       "2288263  American Gangster  2007  Denzel Washington  actor   \n",
       "2288264     Antwone Fisher  2002  Denzel Washington  actor   \n",
       "2288265        Carbon Copy  1981  Denzel Washington  actor   \n",
       "\n",
       "                            character    n  \n",
       "2288261                         Bobby  1.0  \n",
       "2288262  Private First Class Peterson  9.0  \n",
       "2288263                   Frank Lucas  1.0  \n",
       "2288264          Dr. Jerome Davenport  4.0  \n",
       "2288265                  Roger Porter  5.0  "
      ]
     },
     "execution_count": 21,
     "metadata": {},
     "output_type": "execute_result"
    }
   ],
   "source": [
    "e = elenco\n",
    "e = e[e.name == \"Denzel Washington\"]\n",
    "e.head()"
   ]
  },
  {
   "cell_type": "code",
   "execution_count": 22,
   "metadata": {
    "collapsed": true
   },
   "outputs": [],
   "source": [
    "# Nos interesa conocer la fecha de lanzamiento de las peliculas en la que ah participado \n",
    "# Denzel Washington.. Pero esa información esta en otro dataframe!!"
   ]
  },
  {
   "cell_type": "code",
   "execution_count": 23,
   "metadata": {
    "collapsed": false
   },
   "outputs": [
    {
     "data": {
      "text/html": [
       "<div>\n",
       "<style scoped>\n",
       "    .dataframe tbody tr th:only-of-type {\n",
       "        vertical-align: middle;\n",
       "    }\n",
       "\n",
       "    .dataframe tbody tr th {\n",
       "        vertical-align: top;\n",
       "    }\n",
       "\n",
       "    .dataframe thead th {\n",
       "        text-align: right;\n",
       "    }\n",
       "</style>\n",
       "<table border=\"1\" class=\"dataframe\">\n",
       "  <thead>\n",
       "    <tr style=\"text-align: right;\">\n",
       "      <th></th>\n",
       "      <th>title</th>\n",
       "      <th>year</th>\n",
       "      <th>country</th>\n",
       "      <th>date</th>\n",
       "    </tr>\n",
       "  </thead>\n",
       "  <tbody>\n",
       "    <tr>\n",
       "      <th>0</th>\n",
       "      <td>#73, Shaanthi Nivaasa</td>\n",
       "      <td>2007</td>\n",
       "      <td>India</td>\n",
       "      <td>2007-06-15</td>\n",
       "    </tr>\n",
       "    <tr>\n",
       "      <th>1</th>\n",
       "      <td>#Beings</td>\n",
       "      <td>2015</td>\n",
       "      <td>Romania</td>\n",
       "      <td>2015-01-29</td>\n",
       "    </tr>\n",
       "    <tr>\n",
       "      <th>2</th>\n",
       "      <td>#Ewankosau saranghaeyo</td>\n",
       "      <td>2015</td>\n",
       "      <td>Philippines</td>\n",
       "      <td>2015-01-21</td>\n",
       "    </tr>\n",
       "    <tr>\n",
       "      <th>3</th>\n",
       "      <td>#Horror</td>\n",
       "      <td>2015</td>\n",
       "      <td>USA</td>\n",
       "      <td>2015-11-20</td>\n",
       "    </tr>\n",
       "    <tr>\n",
       "      <th>4</th>\n",
       "      <td>#Horror</td>\n",
       "      <td>2015</td>\n",
       "      <td>UK</td>\n",
       "      <td>2016-05-16</td>\n",
       "    </tr>\n",
       "  </tbody>\n",
       "</table>\n",
       "</div>"
      ],
      "text/plain": [
       "                    title  year      country       date\n",
       "0   #73, Shaanthi Nivaasa  2007        India 2007-06-15\n",
       "1                 #Beings  2015      Romania 2015-01-29\n",
       "2  #Ewankosau saranghaeyo  2015  Philippines 2015-01-21\n",
       "3                 #Horror  2015          USA 2015-11-20\n",
       "4                 #Horror  2015           UK 2016-05-16"
      ]
     },
     "execution_count": 23,
     "metadata": {},
     "output_type": "execute_result"
    }
   ],
   "source": [
    "fl = fecha_lanz\n",
    "fl.head()"
   ]
  },
  {
   "cell_type": "code",
   "execution_count": 24,
   "metadata": {
    "collapsed": false
   },
   "outputs": [
    {
     "data": {
      "text/html": [
       "<div>\n",
       "<style scoped>\n",
       "    .dataframe tbody tr th:only-of-type {\n",
       "        vertical-align: middle;\n",
       "    }\n",
       "\n",
       "    .dataframe tbody tr th {\n",
       "        vertical-align: top;\n",
       "    }\n",
       "\n",
       "    .dataframe thead th {\n",
       "        text-align: right;\n",
       "    }\n",
       "</style>\n",
       "<table border=\"1\" class=\"dataframe\">\n",
       "  <thead>\n",
       "    <tr style=\"text-align: right;\">\n",
       "      <th></th>\n",
       "      <th>title</th>\n",
       "      <th>year</th>\n",
       "      <th>name</th>\n",
       "      <th>type</th>\n",
       "      <th>character</th>\n",
       "      <th>n</th>\n",
       "      <th>country</th>\n",
       "      <th>date</th>\n",
       "    </tr>\n",
       "  </thead>\n",
       "  <tbody>\n",
       "    <tr>\n",
       "      <th>0</th>\n",
       "      <td>2 Guns</td>\n",
       "      <td>2013</td>\n",
       "      <td>Denzel Washington</td>\n",
       "      <td>actor</td>\n",
       "      <td>Bobby</td>\n",
       "      <td>1.0</td>\n",
       "      <td>Thailand</td>\n",
       "      <td>2013-08-01</td>\n",
       "    </tr>\n",
       "    <tr>\n",
       "      <th>1</th>\n",
       "      <td>2 Guns</td>\n",
       "      <td>2013</td>\n",
       "      <td>Denzel Washington</td>\n",
       "      <td>actor</td>\n",
       "      <td>Bobby</td>\n",
       "      <td>1.0</td>\n",
       "      <td>Canada</td>\n",
       "      <td>2013-08-02</td>\n",
       "    </tr>\n",
       "    <tr>\n",
       "      <th>2</th>\n",
       "      <td>2 Guns</td>\n",
       "      <td>2013</td>\n",
       "      <td>Denzel Washington</td>\n",
       "      <td>actor</td>\n",
       "      <td>Bobby</td>\n",
       "      <td>1.0</td>\n",
       "      <td>Turkey</td>\n",
       "      <td>2013-08-02</td>\n",
       "    </tr>\n",
       "    <tr>\n",
       "      <th>3</th>\n",
       "      <td>2 Guns</td>\n",
       "      <td>2013</td>\n",
       "      <td>Denzel Washington</td>\n",
       "      <td>actor</td>\n",
       "      <td>Bobby</td>\n",
       "      <td>1.0</td>\n",
       "      <td>USA</td>\n",
       "      <td>2013-08-02</td>\n",
       "    </tr>\n",
       "    <tr>\n",
       "      <th>4</th>\n",
       "      <td>2 Guns</td>\n",
       "      <td>2013</td>\n",
       "      <td>Denzel Washington</td>\n",
       "      <td>actor</td>\n",
       "      <td>Bobby</td>\n",
       "      <td>1.0</td>\n",
       "      <td>Iceland</td>\n",
       "      <td>2013-08-08</td>\n",
       "    </tr>\n",
       "    <tr>\n",
       "      <th>...</th>\n",
       "      <td>...</td>\n",
       "      <td>...</td>\n",
       "      <td>...</td>\n",
       "      <td>...</td>\n",
       "      <td>...</td>\n",
       "      <td>...</td>\n",
       "      <td>...</td>\n",
       "      <td>...</td>\n",
       "    </tr>\n",
       "    <tr>\n",
       "      <th>1380</th>\n",
       "      <td>Virtuosity</td>\n",
       "      <td>1995</td>\n",
       "      <td>Denzel Washington</td>\n",
       "      <td>actor</td>\n",
       "      <td>Lt. Parker Barnes</td>\n",
       "      <td>1.0</td>\n",
       "      <td>Greece</td>\n",
       "      <td>1996-01-05</td>\n",
       "    </tr>\n",
       "    <tr>\n",
       "      <th>1381</th>\n",
       "      <td>Virtuosity</td>\n",
       "      <td>1995</td>\n",
       "      <td>Denzel Washington</td>\n",
       "      <td>actor</td>\n",
       "      <td>Lt. Parker Barnes</td>\n",
       "      <td>1.0</td>\n",
       "      <td>Brazil</td>\n",
       "      <td>1996-02-16</td>\n",
       "    </tr>\n",
       "    <tr>\n",
       "      <th>1382</th>\n",
       "      <td>Virtuosity</td>\n",
       "      <td>1995</td>\n",
       "      <td>Denzel Washington</td>\n",
       "      <td>actor</td>\n",
       "      <td>Lt. Parker Barnes</td>\n",
       "      <td>1.0</td>\n",
       "      <td>UK</td>\n",
       "      <td>1996-05-31</td>\n",
       "    </tr>\n",
       "    <tr>\n",
       "      <th>1383</th>\n",
       "      <td>Virtuosity</td>\n",
       "      <td>1995</td>\n",
       "      <td>Denzel Washington</td>\n",
       "      <td>actor</td>\n",
       "      <td>Lt. Parker Barnes</td>\n",
       "      <td>1.0</td>\n",
       "      <td>Japan</td>\n",
       "      <td>1996-06-08</td>\n",
       "    </tr>\n",
       "    <tr>\n",
       "      <th>1384</th>\n",
       "      <td>Virtuosity</td>\n",
       "      <td>1995</td>\n",
       "      <td>Denzel Washington</td>\n",
       "      <td>actor</td>\n",
       "      <td>Lt. Parker Barnes</td>\n",
       "      <td>1.0</td>\n",
       "      <td>Finland</td>\n",
       "      <td>1996-07-05</td>\n",
       "    </tr>\n",
       "  </tbody>\n",
       "</table>\n",
       "<p>1385 rows × 8 columns</p>\n",
       "</div>"
      ],
      "text/plain": [
       "           title  year               name   type          character    n  \\\n",
       "0         2 Guns  2013  Denzel Washington  actor              Bobby  1.0   \n",
       "1         2 Guns  2013  Denzel Washington  actor              Bobby  1.0   \n",
       "2         2 Guns  2013  Denzel Washington  actor              Bobby  1.0   \n",
       "3         2 Guns  2013  Denzel Washington  actor              Bobby  1.0   \n",
       "4         2 Guns  2013  Denzel Washington  actor              Bobby  1.0   \n",
       "...          ...   ...                ...    ...                ...  ...   \n",
       "1380  Virtuosity  1995  Denzel Washington  actor  Lt. Parker Barnes  1.0   \n",
       "1381  Virtuosity  1995  Denzel Washington  actor  Lt. Parker Barnes  1.0   \n",
       "1382  Virtuosity  1995  Denzel Washington  actor  Lt. Parker Barnes  1.0   \n",
       "1383  Virtuosity  1995  Denzel Washington  actor  Lt. Parker Barnes  1.0   \n",
       "1384  Virtuosity  1995  Denzel Washington  actor  Lt. Parker Barnes  1.0   \n",
       "\n",
       "       country       date  \n",
       "0     Thailand 2013-08-01  \n",
       "1       Canada 2013-08-02  \n",
       "2       Turkey 2013-08-02  \n",
       "3          USA 2013-08-02  \n",
       "4      Iceland 2013-08-08  \n",
       "...        ...        ...  \n",
       "1380    Greece 1996-01-05  \n",
       "1381    Brazil 1996-02-16  \n",
       "1382        UK 1996-05-31  \n",
       "1383     Japan 1996-06-08  \n",
       "1384   Finland 1996-07-05  \n",
       "\n",
       "[1385 rows x 8 columns]"
      ]
     },
     "execution_count": 24,
     "metadata": {},
     "output_type": "execute_result"
    }
   ],
   "source": [
    "# Es realmente sencillo con pandas y su poderoso comando \"merge\"\n",
    "e = elenco\n",
    "\n",
    "e = e[e.name == \"Denzel Washington\"]\n",
    "\n",
    "e = e.merge(fecha_lanz)\n",
    "e"
   ]
  },
  {
   "cell_type": "code",
   "execution_count": 25,
   "metadata": {
    "collapsed": true
   },
   "outputs": [],
   "source": [
    "# Pero como funciona? \n",
    "# Empata para ambas dimensiones --> keys e indices las coincidencias y \n",
    "# agrega las entradas que no estan disponibles en el primer dataframe\n",
    "\n",
    "# Por default nos funciono, pero el comando es muy flexible.\n",
    "# Mas información: http://pandas.pydata.org/pandas-docs/stable/merging.html"
   ]
  },
  {
   "cell_type": "markdown",
   "metadata": {},
   "source": [
    "## Otro concepto: Pivot"
   ]
  },
  {
   "cell_type": "code",
   "execution_count": 31,
   "metadata": {
    "collapsed": false
   },
   "outputs": [
    {
     "name": "stdout",
     "output_type": "stream",
     "text": [
      "country                                          Canada     Mexico        USA\n",
      "title                                                                        \n",
      "Harry Potter and the Chamber of Secrets      2002-11-15 2002-11-29 2002-11-15\n",
      "Harry Potter and the Deathly Hallows: Part 1 2010-11-19 2010-11-18 2010-11-19\n",
      "Harry Potter and the Deathly Hallows: Part 2 2011-07-15 2011-07-15 2011-07-15\n",
      "Harry Potter and the Goblet of Fire          2005-11-18 2005-11-18 2005-11-18\n",
      "Harry Potter and the Half-Blood Prince       2009-07-15 2009-07-15 2009-07-15\n",
      "Harry Potter and the Order of the Phoenix    2007-07-11 2007-07-12 2007-07-11\n",
      "Harry Potter and the Prisoner of Azkaban     2004-06-04 2004-06-04 2004-06-04\n",
      "Harry Potter and the Sorcerer's Stone        2001-11-16 2001-11-30 2001-11-16\n"
     ]
    }
   ],
   "source": [
    "# Pivot permite el reacomodo de los valores del dataframe, moviendo una columna como \n",
    "# indice, otra como llave de datos y otra para los valores\n",
    "\n",
    "# Ejemplo fechas de lanzamiento de peliculas Harry Potter en Mexico, USA y Canada\n",
    "# Eliminar filas con valores NaN en las columnas 'title' y 'country' (si es necesario)\n",
    "fl = fl.dropna(subset=['title', 'country'])\n",
    "\n",
    "# Filtrar películas de Harry Potter en México, USA y Canadá\n",
    "fl_hp = fl[(fl['title'].str.startswith(\"Harry Potter\")) & fl['country'].isin([\"Mexico\", \"USA\", \"Canada\"])]\n",
    "\n",
    "# Utilizar pivot para reorganizar los datos\n",
    "pivot_fl = fl_hp.pivot(index='title', columns='country', values='date')\n",
    "\n",
    "# Mostrar el DataFrame reorganizado\n",
    "print(pivot_fl)"
   ]
  },
  {
   "cell_type": "code",
   "execution_count": 32,
   "metadata": {
    "collapsed": false
   },
   "outputs": [
    {
     "name": "stdout",
     "output_type": "stream",
     "text": [
      "country                                          Canada     Mexico        USA\n",
      "title                                                                        \n",
      "Harry Potter and the Chamber of Secrets      2002-11-15 2002-11-29 2002-11-15\n",
      "Harry Potter and the Deathly Hallows: Part 1 2010-11-19 2010-11-18 2010-11-19\n",
      "Harry Potter and the Deathly Hallows: Part 2 2011-07-15 2011-07-15 2011-07-15\n",
      "Harry Potter and the Goblet of Fire          2005-11-18 2005-11-18 2005-11-18\n",
      "Harry Potter and the Half-Blood Prince       2009-07-15 2009-07-15 2009-07-15\n",
      "Harry Potter and the Order of the Phoenix    2007-07-11 2007-07-12 2007-07-11\n",
      "Harry Potter and the Prisoner of Azkaban     2004-06-04 2004-06-04 2004-06-04\n",
      "Harry Potter and the Sorcerer's Stone        2001-11-16 2001-11-30 2001-11-16\n"
     ]
    }
   ],
   "source": [
    "# Reacomodemos los datos, \n",
    "# : title como indice\n",
    "# : country como columnas\n",
    "# : date como valores\n",
    "# Eliminar filas con valores NaN en las columnas 'title', 'country' y 'date'\n",
    "fl_cleaned = fecha_lanz.dropna(subset=['title', 'country', 'date'])\n",
    "\n",
    "# Filtrar películas de Harry Potter en México, USA y Canadá\n",
    "fl_hp = fl_cleaned[fl_cleaned['title'].str.startswith(\"Harry Potter\")]\n",
    "fl_hp = fl_hp[(fl_hp['country'] == \"Mexico\") | (fl_hp['country'] == \"USA\") | (fl_hp['country'] == \"Canada\")]\n",
    "\n",
    "# Utilizar pivot para reorganizar los datos\n",
    "fl_pivot = fl_hp.pivot(index='title', columns='country', values='date')\n",
    "\n",
    "# Mostrar el DataFrame reorganizado\n",
    "print(fl_pivot)\n",
    "# Extra\n",
    "#fl.apply(lambda x : x.dt.month)"
   ]
  },
  {
   "cell_type": "markdown",
   "metadata": {},
   "source": [
    "## Ejercicios\n"
   ]
  },
  {
   "cell_type": "code",
   "execution_count": null,
   "metadata": {
    "collapsed": true
   },
   "outputs": [],
   "source": [
    "# Del periodo 2010 al presente en cuantas peliculas ah participado\n",
    "# la actriz \"\""
   ]
  },
  {
   "cell_type": "code",
   "execution_count": 33,
   "metadata": {
    "collapsed": false
   },
   "outputs": [
    {
     "data": {
      "text/plain": [
       "<Axes: xlabel='month'>"
      ]
     },
     "execution_count": 33,
     "metadata": {},
     "output_type": "execute_result"
    },
    {
     "data": {
      "image/png": "[encoded data removed]",
      "text/plain": [
       "<Figure size 640x480 with 1 Axes>"
      ]
     },
     "metadata": {},
     "output_type": "display_data"
    }
   ],
   "source": [
    "# En que fechas fue lanzada cada pelicula de \"Salma Hayek\"\n",
    "# dentro de un periodo de 1990 al presente en Mexico\n",
    "fl = fecha_lanz\n",
    "fl = fl[fl.country == 'USA']\n",
    "\n",
    "e = elenco\n",
    "e = e[e.name == 'Salma Hayek']\n",
    "e = e[(e.year > 1990)]\n",
    "\n",
    "e = e.merge(fl)\n",
    "#e\n",
    "# Una nueva nueva columna con los valores del mes\n",
    "e['month'] = e.date.dt.month\n",
    "e\n",
    "# Graficado\n",
    "e.month.value_counts().sort_index().plot(kind='bar',ylim=[0,10])"
   ]
  },
  {
   "cell_type": "code",
   "execution_count": 34,
   "metadata": {
    "collapsed": false
   },
   "outputs": [
    {
     "data": {
      "text/plain": [
       "<Axes: xlabel='date'>"
      ]
     },
     "execution_count": 34,
     "metadata": {},
     "output_type": "execute_result"
    },
    {
     "data": {
      "image/png": "[encoded data removed]",
      "text/plain": [
       "<Figure size 640x480 with 1 Axes>"
      ]
     },
     "metadata": {},
     "output_type": "display_data"
    }
   ],
   "source": [
    "# En que dia de la semana se han lanzado en USA las peliculas de \n",
    "# donde aparece Tom Cuise.. Incluir un grafico \n",
    "\n",
    "fl = fecha_lanz\n",
    "fl = fl[fl.country == 'USA']\n",
    "\n",
    "e = elenco\n",
    "e = e[ (e.name == 'Tom Cruise') ] \n",
    "wd = e.merge(fl).date.dt.dayofweek.value_counts().sort_index()\n",
    "wd\n",
    "\n",
    "\n",
    "wd = wd.rename({4:'Friday', 3:'Thursday', 2:'Wednesday'})\n",
    "wd.plot(kind='bar')"
   ]
  },
  {
   "cell_type": "code",
   "execution_count": 35,
   "metadata": {
    "collapsed": false
   },
   "outputs": [
    {
     "data": {
      "text/plain": [
       "<Axes: ylabel='title,year'>"
      ]
     },
     "execution_count": 35,
     "metadata": {},
     "output_type": "execute_result"
    },
    {
     "data": {
      "image/png": "[encoded data removed]",
      "text/plain": [
       "<Figure size 640x480 with 1 Axes>"
      ]
     },
     "metadata": {},
     "output_type": "display_data"
    }
   ],
   "source": [
    "# Que peliculas han sido lanzadas en la mayor cantidad de \n",
    "# paises , incluir en un grafico las 5 mayores\n",
    "\n",
    "fl = fecha_lanz\n",
    "\n",
    "fl = fl.groupby(['title','year'])\n",
    "fl.size().sort_values(ascending=False)[:5].plot(kind='barh')\n"
   ]
  },
  {
   "cell_type": "code",
   "execution_count": 36,
   "metadata": {
    "collapsed": false
   },
   "outputs": [
    {
     "data": {
      "text/plain": [
       "name_x             name_y             \n",
       "Leonardo DiCaprio  Joseph P. Reidy        4\n",
       "                   J.C. MacKenzie         3\n",
       "                   Nellie Sciutto         3\n",
       "                   Steve Witting          3\n",
       "                   Joe Sheridan           2\n",
       "                                         ..\n",
       "                   Gloria Stuart          1\n",
       "                   Golshifteh Farahani    1\n",
       "                   Grace (II) Dove        1\n",
       "                   Grant Swanby           1\n",
       "                   Zineb Oukach           1\n",
       "Length: 1064, dtype: int64"
      ]
     },
     "execution_count": 36,
     "metadata": {},
     "output_type": "execute_result"
    }
   ],
   "source": [
    "# Quien tiende a ser el actor si clasificado (n > 1) que mas a \n",
    "# participado en peliculas donde el protagonista es\n",
    "# Leonardo DiCaprio \n",
    "\n",
    "e = elenco\n",
    "hf = e[(e.name == 'Leonardo DiCaprio') & (e.n == 1)]\n",
    "er = e[(e.n > 1)]\n",
    "mt = hf.merge(er,on=['title','year'])\n",
    "mt.groupby(['name_x','name_y']).size().sort_values(ascending=False)"
   ]
  }
 ],
 "metadata": {
  "kernelspec": {
   "display_name": "progrma2",
   "language": "python",
   "name": "python3"
  },
  "language_info": {
   "codemirror_mode": {
    "name": "ipython",
    "version": 3
   },
   "file_extension": ".py",
   "mimetype": "text/x-python",
   "name": "python",
   "nbconvert_exporter": "python",
   "pygments_lexer": "ipython3",
   "version": "3.11.5"
  },
  "vscode": {
   "interpreter": {
    "hash": "4d1e9685241859556e110a9762602881454d4d48d6248d124be558de354edd4e"
   }
  }
 },
 "nbformat": 4,
 "nbformat_minor": 0
}

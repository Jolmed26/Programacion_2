{
 "cells": [
  {
   "cell_type": "markdown",
   "metadata": {},
   "source": [
    "**1. Libraries and data cleaning**"
   ]
  },
  {
   "cell_type": "code",
   "execution_count": 70,
   "metadata": {},
   "outputs": [
    {
     "data": {
      "text/html": [
       "        <script type=\"text/javascript\">\n",
       "        window.PlotlyConfig = {MathJaxConfig: 'local'};\n",
       "        if (window.MathJax && window.MathJax.Hub && window.MathJax.Hub.Config) {window.MathJax.Hub.Config({SVG: {font: \"STIX-Web\"}});}\n",
       "        if (typeof require !== 'undefined') {\n",
       "        require.undef(\"plotly\");\n",
       "        requirejs.config({\n",
       "            paths: {\n",
       "                'plotly': ['https://cdn.plot.ly/plotly-2.12.1.min']\n",
       "            }\n",
       "        });\n",
       "        require(['plotly'], function(Plotly) {\n",
       "            window._Plotly = Plotly;\n",
       "        });\n",
       "        }\n",
       "        </script>\n",
       "        "
      ]
     },
     "metadata": {},
     "output_type": "display_data"
    }
   ],
   "source": [
    "import numpy as np \n",
    "import pandas as pd\n",
    "\n",
    "import seaborn as sns\n",
    "import matplotlib.pyplot as plt\n",
    "import plotly.express as px\n",
    "import plotly.graph_objects as go\n",
    "from sklearn.preprocessing import LabelEncoder\n",
    "from sklearn.preprocessing import RobustScaler #For data with outliers\n",
    "from sklearn.preprocessing import StandardScaler #For normally distributed data\n",
    "from sklearn.decomposition import PCA\n",
    "from sklearn.model_selection import train_test_split, GridSearchCV, StratifiedKFold\n",
    "from sklearn.feature_selection import RFECV\n",
    "from sklearn.tree import DecisionTreeClassifier\n",
    "from sklearn.linear_model import LogisticRegression\n",
    "from sklearn import svm\n",
    "from sklearn.ensemble import RandomForestClassifier\n",
    "from sklearn.neighbors import KNeighborsClassifier\n",
    "from sklearn.metrics import confusion_matrix, ConfusionMatrixDisplay, roc_curve, precision_recall_curve, auc\n",
    "from plotly.subplots import make_subplots\n",
    "import itertools\n",
    "import mlflow\n",
    "import mlflow.sklearn\n",
    "# The following two lines are for the error: Script error for plotly.\n",
    "from plotly.offline import plot, iplot, init_notebook_mode\n",
    "init_notebook_mode(connected=True)\n",
    "\n",
    "import plotly"
   ]
  },
  {
   "cell_type": "code",
   "execution_count": 7,
   "metadata": {},
   "outputs": [],
   "source": [
    "path = (r'C:\\Users\\luism\\OneDrive\\m_Tesis\\data_to.xlsx')"
   ]
  },
  {
   "cell_type": "code",
   "execution_count": 50,
   "metadata": {},
   "outputs": [
    {
     "data": {
      "text/html": [
       "<div>\n",
       "<style scoped>\n",
       "    .dataframe tbody tr th:only-of-type {\n",
       "        vertical-align: middle;\n",
       "    }\n",
       "\n",
       "    .dataframe tbody tr th {\n",
       "        vertical-align: top;\n",
       "    }\n",
       "\n",
       "    .dataframe thead th {\n",
       "        text-align: right;\n",
       "    }\n",
       "</style>\n",
       "<table border=\"1\" class=\"dataframe\">\n",
       "  <thead>\n",
       "    <tr style=\"text-align: right;\">\n",
       "      <th></th>\n",
       "      <th>FECHA DE INGRESO</th>\n",
       "      <th>FECHA DE BAJA</th>\n",
       "      <th>Estatus</th>\n",
       "      <th>Días Laborados</th>\n",
       "      <th>FECHA DE NACIMIENTO</th>\n",
       "      <th>No de Crédito Infonavit</th>\n",
       "      <th>PUESTO</th>\n",
       "      <th>AREA</th>\n",
       "      <th>TURNO</th>\n",
       "      <th>MUNICIPIO</th>\n",
       "      <th>SALARIO DIARIO</th>\n",
       "      <th>SALARIO MENSUAL</th>\n",
       "      <th>ESCOLARIDAD</th>\n",
       "      <th>GENERO</th>\n",
       "      <th>Tipo de renuncia</th>\n",
       "      <th>Motivo de renuncia</th>\n",
       "    </tr>\n",
       "  </thead>\n",
       "  <tbody>\n",
       "    <tr>\n",
       "      <th>0</th>\n",
       "      <td>2023-11-21 00:00:00</td>\n",
       "      <td>22/11/2023</td>\n",
       "      <td>baja</td>\n",
       "      <td>1.0</td>\n",
       "      <td>1979-08-26</td>\n",
       "      <td>Si</td>\n",
       "      <td>OP PRODUCCION</td>\n",
       "      <td>PRODUCCION</td>\n",
       "      <td>C</td>\n",
       "      <td>TALA</td>\n",
       "      <td>250.0</td>\n",
       "      <td>7500.0</td>\n",
       "      <td>SECUNDARIA</td>\n",
       "      <td>FEMENINO</td>\n",
       "      <td>RENUNCIA VOLUNTARIA</td>\n",
       "      <td>SE LE COMPLICÓ EL HORARIO DEL TRANSPORTE PARA ...</td>\n",
       "    </tr>\n",
       "    <tr>\n",
       "      <th>1</th>\n",
       "      <td>2023-10-16 00:00:00</td>\n",
       "      <td>17/10/2023</td>\n",
       "      <td>baja</td>\n",
       "      <td>1.0</td>\n",
       "      <td>1993-09-02</td>\n",
       "      <td>NO</td>\n",
       "      <td>OP PRODUCCION</td>\n",
       "      <td>PRODUCCION</td>\n",
       "      <td>C</td>\n",
       "      <td>TALA</td>\n",
       "      <td>250.0</td>\n",
       "      <td>7500.0</td>\n",
       "      <td>SECUNDARIA_TRUNCA</td>\n",
       "      <td>FEMENINO</td>\n",
       "      <td>SEPARACION VOLUNTARIA</td>\n",
       "      <td>PROBLEMA PERSONAL</td>\n",
       "    </tr>\n",
       "    <tr>\n",
       "      <th>2</th>\n",
       "      <td>2022-02-21 00:00:00</td>\n",
       "      <td>22/02/2022</td>\n",
       "      <td>baja</td>\n",
       "      <td>1.0</td>\n",
       "      <td>1993-10-17</td>\n",
       "      <td>NO</td>\n",
       "      <td>OP PRODUCCION</td>\n",
       "      <td>PRODUCCION</td>\n",
       "      <td>C</td>\n",
       "      <td>TALA</td>\n",
       "      <td>200.0</td>\n",
       "      <td>6000.0</td>\n",
       "      <td>SECUNDARIA</td>\n",
       "      <td>FEMENINO</td>\n",
       "      <td>ABANDONO</td>\n",
       "      <td>SOLO ACUDIÓ A INDUCCION</td>\n",
       "    </tr>\n",
       "    <tr>\n",
       "      <th>3</th>\n",
       "      <td>2022-02-21 00:00:00</td>\n",
       "      <td>22/02/2022</td>\n",
       "      <td>baja</td>\n",
       "      <td>1.0</td>\n",
       "      <td>1999-08-27</td>\n",
       "      <td>NO</td>\n",
       "      <td>OP PRODUCCION</td>\n",
       "      <td>PRODUCCION</td>\n",
       "      <td>C</td>\n",
       "      <td>TALA</td>\n",
       "      <td>200.0</td>\n",
       "      <td>6000.0</td>\n",
       "      <td>SECUNDARIA</td>\n",
       "      <td>FEMENINO</td>\n",
       "      <td>ABANDONO</td>\n",
       "      <td>SOLO ACUDIÓ A INDUCCION</td>\n",
       "    </tr>\n",
       "    <tr>\n",
       "      <th>4</th>\n",
       "      <td>2023-10-23 00:00:00</td>\n",
       "      <td>24/10/2023</td>\n",
       "      <td>baja</td>\n",
       "      <td>1.0</td>\n",
       "      <td>2002-06-16</td>\n",
       "      <td>NO</td>\n",
       "      <td>OP PRODUCCION</td>\n",
       "      <td>PRODUCCION</td>\n",
       "      <td>C</td>\n",
       "      <td>TALA</td>\n",
       "      <td>250.0</td>\n",
       "      <td>7500.0</td>\n",
       "      <td>PREPARATORIA</td>\n",
       "      <td>FEMENINO</td>\n",
       "      <td>SEPARACION VOLUNTARIA</td>\n",
       "      <td>ENVIARON A TRABJAR FORANEO A SU ESPOSO Y EL CU...</td>\n",
       "    </tr>\n",
       "  </tbody>\n",
       "</table>\n",
       "</div>"
      ],
      "text/plain": [
       "      FECHA DE INGRESO FECHA DE BAJA Estatus  Días Laborados  \\\n",
       "0  2023-11-21 00:00:00    22/11/2023    baja             1.0   \n",
       "1  2023-10-16 00:00:00    17/10/2023    baja             1.0   \n",
       "2  2022-02-21 00:00:00    22/02/2022    baja             1.0   \n",
       "3  2022-02-21 00:00:00    22/02/2022    baja             1.0   \n",
       "4  2023-10-23 00:00:00    24/10/2023    baja             1.0   \n",
       "\n",
       "  FECHA DE NACIMIENTO No de Crédito Infonavit         PUESTO        AREA  \\\n",
       "0          1979-08-26                      Si  OP PRODUCCION  PRODUCCION   \n",
       "1          1993-09-02                      NO  OP PRODUCCION  PRODUCCION   \n",
       "2          1993-10-17                      NO  OP PRODUCCION  PRODUCCION   \n",
       "3          1999-08-27                      NO  OP PRODUCCION  PRODUCCION   \n",
       "4          2002-06-16                      NO  OP PRODUCCION  PRODUCCION   \n",
       "\n",
       "  TURNO MUNICIPIO  SALARIO DIARIO  SALARIO MENSUAL        ESCOLARIDAD  \\\n",
       "0     C      TALA           250.0           7500.0         SECUNDARIA   \n",
       "1     C      TALA           250.0           7500.0  SECUNDARIA_TRUNCA   \n",
       "2     C      TALA           200.0           6000.0         SECUNDARIA   \n",
       "3     C      TALA           200.0           6000.0         SECUNDARIA   \n",
       "4     C      TALA           250.0           7500.0       PREPARATORIA   \n",
       "\n",
       "     GENERO        Tipo de renuncia  \\\n",
       "0  FEMENINO     RENUNCIA VOLUNTARIA   \n",
       "1  FEMENINO  SEPARACION VOLUNTARIA    \n",
       "2  FEMENINO                ABANDONO   \n",
       "3  FEMENINO                ABANDONO   \n",
       "4  FEMENINO  SEPARACION VOLUNTARIA    \n",
       "\n",
       "                                  Motivo de renuncia  \n",
       "0  SE LE COMPLICÓ EL HORARIO DEL TRANSPORTE PARA ...  \n",
       "1                                  PROBLEMA PERSONAL  \n",
       "2                            SOLO ACUDIÓ A INDUCCION  \n",
       "3                            SOLO ACUDIÓ A INDUCCION  \n",
       "4  ENVIARON A TRABJAR FORANEO A SU ESPOSO Y EL CU...  "
      ]
     },
     "execution_count": 50,
     "metadata": {},
     "output_type": "execute_result"
    }
   ],
   "source": [
    "df = pd.read_excel(path)\n",
    "df.head()"
   ]
  },
  {
   "cell_type": "code",
   "execution_count": 57,
   "metadata": {},
   "outputs": [
    {
     "data": {
      "text/html": [
       "<div>\n",
       "<style scoped>\n",
       "    .dataframe tbody tr th:only-of-type {\n",
       "        vertical-align: middle;\n",
       "    }\n",
       "\n",
       "    .dataframe tbody tr th {\n",
       "        vertical-align: top;\n",
       "    }\n",
       "\n",
       "    .dataframe thead th {\n",
       "        text-align: right;\n",
       "    }\n",
       "</style>\n",
       "<table border=\"1\" class=\"dataframe\">\n",
       "  <thead>\n",
       "    <tr style=\"text-align: right;\">\n",
       "      <th></th>\n",
       "      <th>Estatus</th>\n",
       "      <th>PUESTO</th>\n",
       "      <th>AREA</th>\n",
       "      <th>TURNO</th>\n",
       "      <th>MUNICIPIO</th>\n",
       "      <th>ESCOLARIDAD</th>\n",
       "      <th>GENERO</th>\n",
       "    </tr>\n",
       "  </thead>\n",
       "  <tbody>\n",
       "    <tr>\n",
       "      <th>0</th>\n",
       "      <td>baja</td>\n",
       "      <td>OP PRODUCCION</td>\n",
       "      <td>PRODUCCION</td>\n",
       "      <td>C</td>\n",
       "      <td>TALA</td>\n",
       "      <td>SECUNDARIA</td>\n",
       "      <td>FEMENINO</td>\n",
       "    </tr>\n",
       "    <tr>\n",
       "      <th>1</th>\n",
       "      <td>baja</td>\n",
       "      <td>OP PRODUCCION</td>\n",
       "      <td>PRODUCCION</td>\n",
       "      <td>C</td>\n",
       "      <td>TALA</td>\n",
       "      <td>SECUNDARIA_TRUNCA</td>\n",
       "      <td>FEMENINO</td>\n",
       "    </tr>\n",
       "    <tr>\n",
       "      <th>2</th>\n",
       "      <td>baja</td>\n",
       "      <td>OP PRODUCCION</td>\n",
       "      <td>PRODUCCION</td>\n",
       "      <td>C</td>\n",
       "      <td>TALA</td>\n",
       "      <td>SECUNDARIA</td>\n",
       "      <td>FEMENINO</td>\n",
       "    </tr>\n",
       "    <tr>\n",
       "      <th>3</th>\n",
       "      <td>baja</td>\n",
       "      <td>OP PRODUCCION</td>\n",
       "      <td>PRODUCCION</td>\n",
       "      <td>C</td>\n",
       "      <td>TALA</td>\n",
       "      <td>SECUNDARIA</td>\n",
       "      <td>FEMENINO</td>\n",
       "    </tr>\n",
       "    <tr>\n",
       "      <th>4</th>\n",
       "      <td>baja</td>\n",
       "      <td>OP PRODUCCION</td>\n",
       "      <td>PRODUCCION</td>\n",
       "      <td>C</td>\n",
       "      <td>TALA</td>\n",
       "      <td>PREPARATORIA</td>\n",
       "      <td>FEMENINO</td>\n",
       "    </tr>\n",
       "  </tbody>\n",
       "</table>\n",
       "</div>"
      ],
      "text/plain": [
       "  Estatus         PUESTO        AREA TURNO MUNICIPIO        ESCOLARIDAD  \\\n",
       "0    baja  OP PRODUCCION  PRODUCCION     C      TALA         SECUNDARIA   \n",
       "1    baja  OP PRODUCCION  PRODUCCION     C      TALA  SECUNDARIA_TRUNCA   \n",
       "2    baja  OP PRODUCCION  PRODUCCION     C      TALA         SECUNDARIA   \n",
       "3    baja  OP PRODUCCION  PRODUCCION     C      TALA         SECUNDARIA   \n",
       "4    baja  OP PRODUCCION  PRODUCCION     C      TALA       PREPARATORIA   \n",
       "\n",
       "     GENERO  \n",
       "0  FEMENINO  \n",
       "1  FEMENINO  \n",
       "2  FEMENINO  \n",
       "3  FEMENINO  \n",
       "4  FEMENINO  "
      ]
     },
     "execution_count": 57,
     "metadata": {},
     "output_type": "execute_result"
    }
   ],
   "source": [
    "#Choose variables to work with: Estatus, PUESTO, AREA, TURNO, MUNICIPIO, GENERO, ESCOLARIDAD\n",
    "\n",
    "df = pd.read_excel(path, usecols=['Estatus', 'PUESTO', 'AREA', 'TURNO', 'MUNICIPIO', 'GENERO', 'ESCOLARIDAD'])\n",
    "df.head(5)"
   ]
  },
  {
   "cell_type": "code",
   "execution_count": 58,
   "metadata": {},
   "outputs": [
    {
     "data": {
      "text/plain": [
       "Estatus        0\n",
       "PUESTO         0\n",
       "AREA           4\n",
       "TURNO          0\n",
       "MUNICIPIO      0\n",
       "ESCOLARIDAD    0\n",
       "GENERO         0\n",
       "dtype: int64"
      ]
     },
     "execution_count": 58,
     "metadata": {},
     "output_type": "execute_result"
    }
   ],
   "source": [
    "missing_values_count = df.isnull().sum()\n",
    "missing_values_count"
   ]
  },
  {
   "cell_type": "code",
   "execution_count": 59,
   "metadata": {},
   "outputs": [
    {
     "data": {
      "text/plain": [
       "Estatus        0\n",
       "PUESTO         0\n",
       "AREA           0\n",
       "TURNO          0\n",
       "MUNICIPIO      0\n",
       "ESCOLARIDAD    0\n",
       "GENERO         0\n",
       "dtype: int64"
      ]
     },
     "execution_count": 59,
     "metadata": {},
     "output_type": "execute_result"
    }
   ],
   "source": [
    "# Fill missing values with mode\n",
    "\n",
    "for col in ['AREA']:\n",
    "    df[col].fillna(df[col].mode()[0], inplace=True)\n",
    "df.isnull().sum()"
   ]
  },
  {
   "cell_type": "markdown",
   "metadata": {},
   "source": [
    "**2. Data Analysis** <br>\n",
    "<br>\n",
    "**2.1. Descriptive statistics**"
   ]
  },
  {
   "cell_type": "code",
   "execution_count": 60,
   "metadata": {},
   "outputs": [
    {
     "data": {
      "text/plain": [
       "(502, 7)"
      ]
     },
     "execution_count": 60,
     "metadata": {},
     "output_type": "execute_result"
    }
   ],
   "source": [
    "df.shape"
   ]
  },
  {
   "cell_type": "code",
   "execution_count": 61,
   "metadata": {},
   "outputs": [
    {
     "name": "stdout",
     "output_type": "stream",
     "text": [
      "['baja' 'activo']\n",
      "['OP PRODUCCION' 'OP PRENSA' 'AUXILIAR ALMACEN' 'INSP CALIDAD'\n",
      " 'MONTACARGUISTA' 'INTENDENCIA' 'MECANICO']\n",
      "['PRODUCCION' 'PRENSA' 'ALMACEN' 'CALIDAD' 'MANTENIMIENTO']\n",
      "['C' 'B' 'A' 'ROLA']\n",
      "['TALA' 'TLAJOMULCO' 'AHUISCULCO ' 'ZAP' 'HUAXTLA'\n",
      " 'LA VENTA DEL ASTILLERO ' 'ZAMORA' 'EL ARENAL' 'BUENA VISTA ' 'JALISCO'\n",
      " 'CD GUZMAN' 'HUAXTLA ' 'SAN JUAN DE LOS ARCOS ']\n",
      "['FEMENINO' 'MASCULINO']\n",
      "['SECUNDARIA' 'SECUNDARIA_TRUNCA' 'PREPARATORIA' 'PREPARATORIA_TRUNCA'\n",
      " 'PRIMARIA' 'CURSANDO_LICENCIATURA' 'INGENIERO' 'SIN_ESTUDIOS'\n",
      " 'PREPARATORIA_TECNICA' 'CURSANDO_PREPARATORIA' 'CURSANDO_SECUNDARIA'\n",
      " 'LICENCIATURA']\n"
     ]
    }
   ],
   "source": [
    "print(df.Estatus.unique())\n",
    "print(df.PUESTO.unique())\n",
    "print(df.AREA.unique())\n",
    "print(df.TURNO.unique())\n",
    "print(df.MUNICIPIO.unique())\n",
    "print(df.GENERO.unique())\n",
    "print(df.ESCOLARIDAD.unique())"
   ]
  },
  {
   "cell_type": "code",
   "execution_count": 62,
   "metadata": {},
   "outputs": [
    {
     "data": {
      "text/html": [
       "<div>\n",
       "<style scoped>\n",
       "    .dataframe tbody tr th:only-of-type {\n",
       "        vertical-align: middle;\n",
       "    }\n",
       "\n",
       "    .dataframe tbody tr th {\n",
       "        vertical-align: top;\n",
       "    }\n",
       "\n",
       "    .dataframe thead th {\n",
       "        text-align: right;\n",
       "    }\n",
       "</style>\n",
       "<table border=\"1\" class=\"dataframe\">\n",
       "  <thead>\n",
       "    <tr style=\"text-align: right;\">\n",
       "      <th></th>\n",
       "      <th>Estatus</th>\n",
       "      <th>PUESTO</th>\n",
       "      <th>AREA</th>\n",
       "      <th>TURNO</th>\n",
       "      <th>MUNICIPIO</th>\n",
       "      <th>ESCOLARIDAD</th>\n",
       "      <th>GENERO</th>\n",
       "    </tr>\n",
       "  </thead>\n",
       "  <tbody>\n",
       "    <tr>\n",
       "      <th>count</th>\n",
       "      <td>502</td>\n",
       "      <td>502</td>\n",
       "      <td>502</td>\n",
       "      <td>502</td>\n",
       "      <td>502</td>\n",
       "      <td>502</td>\n",
       "      <td>502</td>\n",
       "    </tr>\n",
       "    <tr>\n",
       "      <th>unique</th>\n",
       "      <td>2</td>\n",
       "      <td>7</td>\n",
       "      <td>5</td>\n",
       "      <td>4</td>\n",
       "      <td>13</td>\n",
       "      <td>12</td>\n",
       "      <td>2</td>\n",
       "    </tr>\n",
       "    <tr>\n",
       "      <th>top</th>\n",
       "      <td>baja</td>\n",
       "      <td>OP PRODUCCION</td>\n",
       "      <td>PRODUCCION</td>\n",
       "      <td>C</td>\n",
       "      <td>TALA</td>\n",
       "      <td>SECUNDARIA</td>\n",
       "      <td>FEMENINO</td>\n",
       "    </tr>\n",
       "    <tr>\n",
       "      <th>freq</th>\n",
       "      <td>431</td>\n",
       "      <td>268</td>\n",
       "      <td>272</td>\n",
       "      <td>200</td>\n",
       "      <td>465</td>\n",
       "      <td>210</td>\n",
       "      <td>266</td>\n",
       "    </tr>\n",
       "  </tbody>\n",
       "</table>\n",
       "</div>"
      ],
      "text/plain": [
       "       Estatus         PUESTO        AREA TURNO MUNICIPIO ESCOLARIDAD  \\\n",
       "count      502            502         502   502       502         502   \n",
       "unique       2              7           5     4        13          12   \n",
       "top       baja  OP PRODUCCION  PRODUCCION     C      TALA  SECUNDARIA   \n",
       "freq       431            268         272   200       465         210   \n",
       "\n",
       "          GENERO  \n",
       "count        502  \n",
       "unique         2  \n",
       "top     FEMENINO  \n",
       "freq         266  "
      ]
     },
     "execution_count": 62,
     "metadata": {},
     "output_type": "execute_result"
    }
   ],
   "source": [
    "df.describe()"
   ]
  },
  {
   "cell_type": "code",
   "execution_count": 64,
   "metadata": {},
   "outputs": [
    {
     "name": "stdout",
     "output_type": "stream",
     "text": [
      "GENERO                                                                            FEMENINO  \\\n",
      "ESCOLARIDAD                                                          CURSANDO_LICENCIATURA   \n",
      "Estatus PUESTO           AREA          TURNO MUNICIPIO                                       \n",
      "activo  AUXILIAR ALMACEN ALMACEN       A     TALA                                        0   \n",
      "                                       B     TALA                                        0   \n",
      "        INSP CALIDAD     CALIDAD       A     TALA                                        0   \n",
      "                                       B     TALA                                        0   \n",
      "                                       C     TALA                                        0   \n",
      "        INTENDENCIA      PRODUCCION    B     TALA                                        0   \n",
      "        MECANICO         MANTENIMIENTO ROLA  ZAP                                         0   \n",
      "        MONTACARGUISTA   ALMACEN       A     CD GUZMAN                                   0   \n",
      "                                             TALA                                        0   \n",
      "                                       B     TALA                                        0   \n",
      "                                       C     TALA                                        0   \n",
      "        OP PRENSA        PRENSA        B     TALA                                        0   \n",
      "                                       C     TALA                                        0   \n",
      "        OP PRODUCCION    PRODUCCION    A     EL ARENAL                                   0   \n",
      "                                             TALA                                        0   \n",
      "                                       B     EL ARENAL                                   0   \n",
      "                                             TALA                                        0   \n",
      "                                       C     EL ARENAL                                   0   \n",
      "                                             HUAXTLA                                     0   \n",
      "                                             SAN JUAN DE LOS ARCOS                       0   \n",
      "                                             TALA                                        1   \n",
      "                                             ZAP                                         0   \n",
      "baja    AUXILIAR ALMACEN ALMACEN       A     CD GUZMAN                                   0   \n",
      "                                             TALA                                        0   \n",
      "                                       B     TALA                                        0   \n",
      "        INSP CALIDAD     CALIDAD       A     TALA                                        0   \n",
      "                                       B     TALA                                        0   \n",
      "                                       C     TALA                                        1   \n",
      "                                             ZAP                                         0   \n",
      "        INTENDENCIA      PRODUCCION    C     TALA                                        0   \n",
      "        MECANICO         MANTENIMIENTO ROLA  TALA                                        0   \n",
      "                                             ZAP                                         0   \n",
      "        MONTACARGUISTA   ALMACEN       A     TALA                                        0   \n",
      "                                             ZAMORA                                      0   \n",
      "                                       B     TALA                                        0   \n",
      "                                             ZAP                                         0   \n",
      "                                       C     TALA                                        0   \n",
      "        OP PRENSA        ALMACEN       C     TALA                                        0   \n",
      "                         PRENSA        A     TALA                                        0   \n",
      "                                       B     TALA                                        0   \n",
      "                                       C     EL ARENAL                                   0   \n",
      "                                             TALA                                        0   \n",
      "                                             TLAJOMULCO                                  0   \n",
      "                                       ROLA  TALA                                        0   \n",
      "        OP PRODUCCION    PRODUCCION    A     EL ARENAL                                   0   \n",
      "                                             JALISCO                                     0   \n",
      "                                             TALA                                        0   \n",
      "                                       B     HUAXTLA                                     0   \n",
      "                                             LA VENTA DEL ASTILLERO                      0   \n",
      "                                             TALA                                        0   \n",
      "                                             ZAP                                         0   \n",
      "                                       C     AHUISCULCO                                  0   \n",
      "                                             BUENA VISTA                                 0   \n",
      "                                             EL ARENAL                                   0   \n",
      "                                             TALA                                        0   \n",
      "                                             ZAP                                         0   \n",
      "\n",
      "GENERO                                                                                      \\\n",
      "ESCOLARIDAD                                                          CURSANDO_PREPARATORIA   \n",
      "Estatus PUESTO           AREA          TURNO MUNICIPIO                                       \n",
      "activo  AUXILIAR ALMACEN ALMACEN       A     TALA                                        0   \n",
      "                                       B     TALA                                        0   \n",
      "        INSP CALIDAD     CALIDAD       A     TALA                                        0   \n",
      "                                       B     TALA                                        0   \n",
      "                                       C     TALA                                        0   \n",
      "        INTENDENCIA      PRODUCCION    B     TALA                                        0   \n",
      "        MECANICO         MANTENIMIENTO ROLA  ZAP                                         0   \n",
      "        MONTACARGUISTA   ALMACEN       A     CD GUZMAN                                   0   \n",
      "                                             TALA                                        0   \n",
      "                                       B     TALA                                        0   \n",
      "                                       C     TALA                                        0   \n",
      "        OP PRENSA        PRENSA        B     TALA                                        0   \n",
      "                                       C     TALA                                        0   \n",
      "        OP PRODUCCION    PRODUCCION    A     EL ARENAL                                   0   \n",
      "                                             TALA                                        0   \n",
      "                                       B     EL ARENAL                                   0   \n",
      "                                             TALA                                        0   \n",
      "                                       C     EL ARENAL                                   0   \n",
      "                                             HUAXTLA                                     0   \n",
      "                                             SAN JUAN DE LOS ARCOS                       0   \n",
      "                                             TALA                                        0   \n",
      "                                             ZAP                                         0   \n",
      "baja    AUXILIAR ALMACEN ALMACEN       A     CD GUZMAN                                   0   \n",
      "                                             TALA                                        0   \n",
      "                                       B     TALA                                        0   \n",
      "        INSP CALIDAD     CALIDAD       A     TALA                                        0   \n",
      "                                       B     TALA                                        1   \n",
      "                                       C     TALA                                        0   \n",
      "                                             ZAP                                         0   \n",
      "        INTENDENCIA      PRODUCCION    C     TALA                                        0   \n",
      "        MECANICO         MANTENIMIENTO ROLA  TALA                                        0   \n",
      "                                             ZAP                                         0   \n",
      "        MONTACARGUISTA   ALMACEN       A     TALA                                        0   \n",
      "                                             ZAMORA                                      0   \n",
      "                                       B     TALA                                        0   \n",
      "                                             ZAP                                         0   \n",
      "                                       C     TALA                                        0   \n",
      "        OP PRENSA        ALMACEN       C     TALA                                        0   \n",
      "                         PRENSA        A     TALA                                        0   \n",
      "                                       B     TALA                                        0   \n",
      "                                       C     EL ARENAL                                   0   \n",
      "                                             TALA                                        0   \n",
      "                                             TLAJOMULCO                                  0   \n",
      "                                       ROLA  TALA                                        0   \n",
      "        OP PRODUCCION    PRODUCCION    A     EL ARENAL                                   0   \n",
      "                                             JALISCO                                     0   \n",
      "                                             TALA                                        0   \n",
      "                                       B     HUAXTLA                                     0   \n",
      "                                             LA VENTA DEL ASTILLERO                      0   \n",
      "                                             TALA                                        0   \n",
      "                                             ZAP                                         0   \n",
      "                                       C     AHUISCULCO                                  0   \n",
      "                                             BUENA VISTA                                 0   \n",
      "                                             EL ARENAL                                   0   \n",
      "                                             TALA                                        0   \n",
      "                                             ZAP                                         0   \n",
      "\n",
      "GENERO                                                                                    \\\n",
      "ESCOLARIDAD                                                          CURSANDO_SECUNDARIA   \n",
      "Estatus PUESTO           AREA          TURNO MUNICIPIO                                     \n",
      "activo  AUXILIAR ALMACEN ALMACEN       A     TALA                                      0   \n",
      "                                       B     TALA                                      0   \n",
      "        INSP CALIDAD     CALIDAD       A     TALA                                      0   \n",
      "                                       B     TALA                                      0   \n",
      "                                       C     TALA                                      0   \n",
      "        INTENDENCIA      PRODUCCION    B     TALA                                      0   \n",
      "        MECANICO         MANTENIMIENTO ROLA  ZAP                                       0   \n",
      "        MONTACARGUISTA   ALMACEN       A     CD GUZMAN                                 0   \n",
      "                                             TALA                                      0   \n",
      "                                       B     TALA                                      0   \n",
      "                                       C     TALA                                      0   \n",
      "        OP PRENSA        PRENSA        B     TALA                                      0   \n",
      "                                       C     TALA                                      0   \n",
      "        OP PRODUCCION    PRODUCCION    A     EL ARENAL                                 0   \n",
      "                                             TALA                                      0   \n",
      "                                       B     EL ARENAL                                 0   \n",
      "                                             TALA                                      0   \n",
      "                                       C     EL ARENAL                                 0   \n",
      "                                             HUAXTLA                                   0   \n",
      "                                             SAN JUAN DE LOS ARCOS                     0   \n",
      "                                             TALA                                      0   \n",
      "                                             ZAP                                       0   \n",
      "baja    AUXILIAR ALMACEN ALMACEN       A     CD GUZMAN                                 0   \n",
      "                                             TALA                                      0   \n",
      "                                       B     TALA                                      0   \n",
      "        INSP CALIDAD     CALIDAD       A     TALA                                      0   \n",
      "                                       B     TALA                                      0   \n",
      "                                       C     TALA                                      0   \n",
      "                                             ZAP                                       0   \n",
      "        INTENDENCIA      PRODUCCION    C     TALA                                      0   \n",
      "        MECANICO         MANTENIMIENTO ROLA  TALA                                      0   \n",
      "                                             ZAP                                       0   \n",
      "        MONTACARGUISTA   ALMACEN       A     TALA                                      0   \n",
      "                                             ZAMORA                                    0   \n",
      "                                       B     TALA                                      0   \n",
      "                                             ZAP                                       0   \n",
      "                                       C     TALA                                      0   \n",
      "        OP PRENSA        ALMACEN       C     TALA                                      0   \n",
      "                         PRENSA        A     TALA                                      0   \n",
      "                                       B     TALA                                      0   \n",
      "                                       C     EL ARENAL                                 0   \n",
      "                                             TALA                                      0   \n",
      "                                             TLAJOMULCO                                0   \n",
      "                                       ROLA  TALA                                      0   \n",
      "        OP PRODUCCION    PRODUCCION    A     EL ARENAL                                 0   \n",
      "                                             JALISCO                                   0   \n",
      "                                             TALA                                      1   \n",
      "                                       B     HUAXTLA                                   0   \n",
      "                                             LA VENTA DEL ASTILLERO                    0   \n",
      "                                             TALA                                      0   \n",
      "                                             ZAP                                       0   \n",
      "                                       C     AHUISCULCO                                0   \n",
      "                                             BUENA VISTA                               0   \n",
      "                                             EL ARENAL                                 0   \n",
      "                                             TALA                                      0   \n",
      "                                             ZAP                                       0   \n",
      "\n",
      "GENERO                                                                             \\\n",
      "ESCOLARIDAD                                                          LICENCIATURA   \n",
      "Estatus PUESTO           AREA          TURNO MUNICIPIO                              \n",
      "activo  AUXILIAR ALMACEN ALMACEN       A     TALA                               0   \n",
      "                                       B     TALA                               0   \n",
      "        INSP CALIDAD     CALIDAD       A     TALA                               0   \n",
      "                                       B     TALA                               0   \n",
      "                                       C     TALA                               0   \n",
      "        INTENDENCIA      PRODUCCION    B     TALA                               0   \n",
      "        MECANICO         MANTENIMIENTO ROLA  ZAP                                0   \n",
      "        MONTACARGUISTA   ALMACEN       A     CD GUZMAN                          0   \n",
      "                                             TALA                               0   \n",
      "                                       B     TALA                               0   \n",
      "                                       C     TALA                               0   \n",
      "        OP PRENSA        PRENSA        B     TALA                               0   \n",
      "                                       C     TALA                               0   \n",
      "        OP PRODUCCION    PRODUCCION    A     EL ARENAL                          0   \n",
      "                                             TALA                               0   \n",
      "                                       B     EL ARENAL                          0   \n",
      "                                             TALA                               0   \n",
      "                                       C     EL ARENAL                          1   \n",
      "                                             HUAXTLA                            0   \n",
      "                                             SAN JUAN DE LOS ARCOS              0   \n",
      "                                             TALA                               0   \n",
      "                                             ZAP                                0   \n",
      "baja    AUXILIAR ALMACEN ALMACEN       A     CD GUZMAN                          0   \n",
      "                                             TALA                               0   \n",
      "                                       B     TALA                               0   \n",
      "        INSP CALIDAD     CALIDAD       A     TALA                               0   \n",
      "                                       B     TALA                               0   \n",
      "                                       C     TALA                               0   \n",
      "                                             ZAP                                0   \n",
      "        INTENDENCIA      PRODUCCION    C     TALA                               0   \n",
      "        MECANICO         MANTENIMIENTO ROLA  TALA                               0   \n",
      "                                             ZAP                                0   \n",
      "        MONTACARGUISTA   ALMACEN       A     TALA                               0   \n",
      "                                             ZAMORA                             0   \n",
      "                                       B     TALA                               0   \n",
      "                                             ZAP                                0   \n",
      "                                       C     TALA                               0   \n",
      "        OP PRENSA        ALMACEN       C     TALA                               0   \n",
      "                         PRENSA        A     TALA                               0   \n",
      "                                       B     TALA                               0   \n",
      "                                       C     EL ARENAL                          0   \n",
      "                                             TALA                               0   \n",
      "                                             TLAJOMULCO                         0   \n",
      "                                       ROLA  TALA                               0   \n",
      "        OP PRODUCCION    PRODUCCION    A     EL ARENAL                          0   \n",
      "                                             JALISCO                            0   \n",
      "                                             TALA                               0   \n",
      "                                       B     HUAXTLA                            0   \n",
      "                                             LA VENTA DEL ASTILLERO             0   \n",
      "                                             TALA                               0   \n",
      "                                             ZAP                                0   \n",
      "                                       C     AHUISCULCO                         0   \n",
      "                                             BUENA VISTA                        0   \n",
      "                                             EL ARENAL                          0   \n",
      "                                             TALA                               0   \n",
      "                                             ZAP                                0   \n",
      "\n",
      "GENERO                                                                             \\\n",
      "ESCOLARIDAD                                                          PREPARATORIA   \n",
      "Estatus PUESTO           AREA          TURNO MUNICIPIO                              \n",
      "activo  AUXILIAR ALMACEN ALMACEN       A     TALA                               0   \n",
      "                                       B     TALA                               0   \n",
      "        INSP CALIDAD     CALIDAD       A     TALA                               2   \n",
      "                                       B     TALA                               0   \n",
      "                                       C     TALA                               1   \n",
      "        INTENDENCIA      PRODUCCION    B     TALA                               0   \n",
      "        MECANICO         MANTENIMIENTO ROLA  ZAP                                0   \n",
      "        MONTACARGUISTA   ALMACEN       A     CD GUZMAN                          0   \n",
      "                                             TALA                               0   \n",
      "                                       B     TALA                               0   \n",
      "                                       C     TALA                               0   \n",
      "        OP PRENSA        PRENSA        B     TALA                               1   \n",
      "                                       C     TALA                               0   \n",
      "        OP PRODUCCION    PRODUCCION    A     EL ARENAL                          0   \n",
      "                                             TALA                               3   \n",
      "                                       B     EL ARENAL                          1   \n",
      "                                             TALA                               2   \n",
      "                                       C     EL ARENAL                          0   \n",
      "                                             HUAXTLA                            0   \n",
      "                                             SAN JUAN DE LOS ARCOS              0   \n",
      "                                             TALA                               1   \n",
      "                                             ZAP                                0   \n",
      "baja    AUXILIAR ALMACEN ALMACEN       A     CD GUZMAN                          0   \n",
      "                                             TALA                               0   \n",
      "                                       B     TALA                               0   \n",
      "        INSP CALIDAD     CALIDAD       A     TALA                               1   \n",
      "                                       B     TALA                               1   \n",
      "                                       C     TALA                               4   \n",
      "                                             ZAP                                0   \n",
      "        INTENDENCIA      PRODUCCION    C     TALA                               0   \n",
      "        MECANICO         MANTENIMIENTO ROLA  TALA                               0   \n",
      "                                             ZAP                                0   \n",
      "        MONTACARGUISTA   ALMACEN       A     TALA                               0   \n",
      "                                             ZAMORA                             0   \n",
      "                                       B     TALA                               0   \n",
      "                                             ZAP                                0   \n",
      "                                       C     TALA                               0   \n",
      "        OP PRENSA        ALMACEN       C     TALA                               0   \n",
      "                         PRENSA        A     TALA                               0   \n",
      "                                       B     TALA                               0   \n",
      "                                       C     EL ARENAL                          1   \n",
      "                                             TALA                               0   \n",
      "                                             TLAJOMULCO                         0   \n",
      "                                       ROLA  TALA                               0   \n",
      "        OP PRODUCCION    PRODUCCION    A     EL ARENAL                          0   \n",
      "                                             JALISCO                            0   \n",
      "                                             TALA                               2   \n",
      "                                       B     HUAXTLA                            0   \n",
      "                                             LA VENTA DEL ASTILLERO             1   \n",
      "                                             TALA                               5   \n",
      "                                             ZAP                                0   \n",
      "                                       C     AHUISCULCO                         0   \n",
      "                                             BUENA VISTA                        1   \n",
      "                                             EL ARENAL                          0   \n",
      "                                             TALA                               6   \n",
      "                                             ZAP                                0   \n",
      "\n",
      "GENERO                                                                                    \\\n",
      "ESCOLARIDAD                                                          PREPARATORIA_TRUNCA   \n",
      "Estatus PUESTO           AREA          TURNO MUNICIPIO                                     \n",
      "activo  AUXILIAR ALMACEN ALMACEN       A     TALA                                      0   \n",
      "                                       B     TALA                                      0   \n",
      "        INSP CALIDAD     CALIDAD       A     TALA                                      0   \n",
      "                                       B     TALA                                      0   \n",
      "                                       C     TALA                                      0   \n",
      "        INTENDENCIA      PRODUCCION    B     TALA                                      0   \n",
      "        MECANICO         MANTENIMIENTO ROLA  ZAP                                       0   \n",
      "        MONTACARGUISTA   ALMACEN       A     CD GUZMAN                                 0   \n",
      "                                             TALA                                      0   \n",
      "                                       B     TALA                                      0   \n",
      "                                       C     TALA                                      0   \n",
      "        OP PRENSA        PRENSA        B     TALA                                      0   \n",
      "                                       C     TALA                                      0   \n",
      "        OP PRODUCCION    PRODUCCION    A     EL ARENAL                                 0   \n",
      "                                             TALA                                      0   \n",
      "                                       B     EL ARENAL                                 0   \n",
      "                                             TALA                                      0   \n",
      "                                       C     EL ARENAL                                 0   \n",
      "                                             HUAXTLA                                   0   \n",
      "                                             SAN JUAN DE LOS ARCOS                     0   \n",
      "                                             TALA                                      0   \n",
      "                                             ZAP                                       0   \n",
      "baja    AUXILIAR ALMACEN ALMACEN       A     CD GUZMAN                                 0   \n",
      "                                             TALA                                      0   \n",
      "                                       B     TALA                                      0   \n",
      "        INSP CALIDAD     CALIDAD       A     TALA                                      0   \n",
      "                                       B     TALA                                      0   \n",
      "                                       C     TALA                                      0   \n",
      "                                             ZAP                                       0   \n",
      "        INTENDENCIA      PRODUCCION    C     TALA                                      0   \n",
      "        MECANICO         MANTENIMIENTO ROLA  TALA                                      0   \n",
      "                                             ZAP                                       0   \n",
      "        MONTACARGUISTA   ALMACEN       A     TALA                                      1   \n",
      "                                             ZAMORA                                    0   \n",
      "                                       B     TALA                                      1   \n",
      "                                             ZAP                                       0   \n",
      "                                       C     TALA                                      1   \n",
      "        OP PRENSA        ALMACEN       C     TALA                                      0   \n",
      "                         PRENSA        A     TALA                                      6   \n",
      "                                       B     TALA                                      7   \n",
      "                                       C     EL ARENAL                                 0   \n",
      "                                             TALA                                      2   \n",
      "                                             TLAJOMULCO                                0   \n",
      "                                       ROLA  TALA                                      0   \n",
      "        OP PRODUCCION    PRODUCCION    A     EL ARENAL                                 0   \n",
      "                                             JALISCO                                   0   \n",
      "                                             TALA                                      0   \n",
      "                                       B     HUAXTLA                                   0   \n",
      "                                             LA VENTA DEL ASTILLERO                    0   \n",
      "                                             TALA                                      4   \n",
      "                                             ZAP                                       0   \n",
      "                                       C     AHUISCULCO                                0   \n",
      "                                             BUENA VISTA                               0   \n",
      "                                             EL ARENAL                                 0   \n",
      "                                             TALA                                      7   \n",
      "                                             ZAP                                       2   \n",
      "\n",
      "GENERO                                                                         \\\n",
      "ESCOLARIDAD                                                          PRIMARIA   \n",
      "Estatus PUESTO           AREA          TURNO MUNICIPIO                          \n",
      "activo  AUXILIAR ALMACEN ALMACEN       A     TALA                           0   \n",
      "                                       B     TALA                           0   \n",
      "        INSP CALIDAD     CALIDAD       A     TALA                           0   \n",
      "                                       B     TALA                           0   \n",
      "                                       C     TALA                           0   \n",
      "        INTENDENCIA      PRODUCCION    B     TALA                           0   \n",
      "        MECANICO         MANTENIMIENTO ROLA  ZAP                            0   \n",
      "        MONTACARGUISTA   ALMACEN       A     CD GUZMAN                      0   \n",
      "                                             TALA                           0   \n",
      "                                       B     TALA                           0   \n",
      "                                       C     TALA                           0   \n",
      "        OP PRENSA        PRENSA        B     TALA                           0   \n",
      "                                       C     TALA                           0   \n",
      "        OP PRODUCCION    PRODUCCION    A     EL ARENAL                      0   \n",
      "                                             TALA                           1   \n",
      "                                       B     EL ARENAL                      0   \n",
      "                                             TALA                           3   \n",
      "                                       C     EL ARENAL                      0   \n",
      "                                             HUAXTLA                        1   \n",
      "                                             SAN JUAN DE LOS ARCOS          0   \n",
      "                                             TALA                           1   \n",
      "                                             ZAP                            0   \n",
      "baja    AUXILIAR ALMACEN ALMACEN       A     CD GUZMAN                      0   \n",
      "                                             TALA                           0   \n",
      "                                       B     TALA                           0   \n",
      "        INSP CALIDAD     CALIDAD       A     TALA                           0   \n",
      "                                       B     TALA                           0   \n",
      "                                       C     TALA                           0   \n",
      "                                             ZAP                            0   \n",
      "        INTENDENCIA      PRODUCCION    C     TALA                           0   \n",
      "        MECANICO         MANTENIMIENTO ROLA  TALA                           0   \n",
      "                                             ZAP                            0   \n",
      "        MONTACARGUISTA   ALMACEN       A     TALA                           0   \n",
      "                                             ZAMORA                         0   \n",
      "                                       B     TALA                           0   \n",
      "                                             ZAP                            0   \n",
      "                                       C     TALA                           1   \n",
      "        OP PRENSA        ALMACEN       C     TALA                           0   \n",
      "                         PRENSA        A     TALA                           0   \n",
      "                                       B     TALA                           1   \n",
      "                                       C     EL ARENAL                      0   \n",
      "                                             TALA                           1   \n",
      "                                             TLAJOMULCO                     0   \n",
      "                                       ROLA  TALA                           1   \n",
      "        OP PRODUCCION    PRODUCCION    A     EL ARENAL                      0   \n",
      "                                             JALISCO                        0   \n",
      "                                             TALA                           4   \n",
      "                                       B     HUAXTLA                        0   \n",
      "                                             LA VENTA DEL ASTILLERO         0   \n",
      "                                             TALA                          11   \n",
      "                                             ZAP                            0   \n",
      "                                       C     AHUISCULCO                     1   \n",
      "                                             BUENA VISTA                    0   \n",
      "                                             EL ARENAL                      0   \n",
      "                                             TALA                           9   \n",
      "                                             ZAP                            0   \n",
      "\n",
      "GENERO                                                                           \\\n",
      "ESCOLARIDAD                                                          SECUNDARIA   \n",
      "Estatus PUESTO           AREA          TURNO MUNICIPIO                            \n",
      "activo  AUXILIAR ALMACEN ALMACEN       A     TALA                             0   \n",
      "                                       B     TALA                             0   \n",
      "        INSP CALIDAD     CALIDAD       A     TALA                             0   \n",
      "                                       B     TALA                             2   \n",
      "                                       C     TALA                             0   \n",
      "        INTENDENCIA      PRODUCCION    B     TALA                             0   \n",
      "        MECANICO         MANTENIMIENTO ROLA  ZAP                              0   \n",
      "        MONTACARGUISTA   ALMACEN       A     CD GUZMAN                        0   \n",
      "                                             TALA                             0   \n",
      "                                       B     TALA                             0   \n",
      "                                       C     TALA                             0   \n",
      "        OP PRENSA        PRENSA        B     TALA                             1   \n",
      "                                       C     TALA                             1   \n",
      "        OP PRODUCCION    PRODUCCION    A     EL ARENAL                        0   \n",
      "                                             TALA                             5   \n",
      "                                       B     EL ARENAL                        0   \n",
      "                                             TALA                             4   \n",
      "                                       C     EL ARENAL                        0   \n",
      "                                             HUAXTLA                          0   \n",
      "                                             SAN JUAN DE LOS ARCOS            1   \n",
      "                                             TALA                             6   \n",
      "                                             ZAP                              0   \n",
      "baja    AUXILIAR ALMACEN ALMACEN       A     CD GUZMAN                        0   \n",
      "                                             TALA                             0   \n",
      "                                       B     TALA                             0   \n",
      "        INSP CALIDAD     CALIDAD       A     TALA                             0   \n",
      "                                       B     TALA                             2   \n",
      "                                       C     TALA                             2   \n",
      "                                             ZAP                              1   \n",
      "        INTENDENCIA      PRODUCCION    C     TALA                             0   \n",
      "        MECANICO         MANTENIMIENTO ROLA  TALA                             1   \n",
      "                                             ZAP                              0   \n",
      "        MONTACARGUISTA   ALMACEN       A     TALA                             0   \n",
      "                                             ZAMORA                           0   \n",
      "                                       B     TALA                             1   \n",
      "                                             ZAP                              0   \n",
      "                                       C     TALA                             0   \n",
      "        OP PRENSA        ALMACEN       C     TALA                             0   \n",
      "                         PRENSA        A     TALA                            14   \n",
      "                                       B     TALA                             8   \n",
      "                                       C     EL ARENAL                        0   \n",
      "                                             TALA                             5   \n",
      "                                             TLAJOMULCO                       0   \n",
      "                                       ROLA  TALA                             3   \n",
      "        OP PRODUCCION    PRODUCCION    A     EL ARENAL                        1   \n",
      "                                             JALISCO                          0   \n",
      "                                             TALA                            12   \n",
      "                                       B     HUAXTLA                          2   \n",
      "                                             LA VENTA DEL ASTILLERO           1   \n",
      "                                             TALA                            21   \n",
      "                                             ZAP                              0   \n",
      "                                       C     AHUISCULCO                       0   \n",
      "                                             BUENA VISTA                      0   \n",
      "                                             EL ARENAL                        1   \n",
      "                                             TALA                            31   \n",
      "                                             ZAP                              0   \n",
      "\n",
      "GENERO                                                                                  \\\n",
      "ESCOLARIDAD                                                          SECUNDARIA_TRUNCA   \n",
      "Estatus PUESTO           AREA          TURNO MUNICIPIO                                   \n",
      "activo  AUXILIAR ALMACEN ALMACEN       A     TALA                                    0   \n",
      "                                       B     TALA                                    0   \n",
      "        INSP CALIDAD     CALIDAD       A     TALA                                    0   \n",
      "                                       B     TALA                                    0   \n",
      "                                       C     TALA                                    0   \n",
      "        INTENDENCIA      PRODUCCION    B     TALA                                    0   \n",
      "        MECANICO         MANTENIMIENTO ROLA  ZAP                                     0   \n",
      "        MONTACARGUISTA   ALMACEN       A     CD GUZMAN                               0   \n",
      "                                             TALA                                    0   \n",
      "                                       B     TALA                                    0   \n",
      "                                       C     TALA                                    0   \n",
      "        OP PRENSA        PRENSA        B     TALA                                    0   \n",
      "                                       C     TALA                                    0   \n",
      "        OP PRODUCCION    PRODUCCION    A     EL ARENAL                               0   \n",
      "                                             TALA                                    0   \n",
      "                                       B     EL ARENAL                               0   \n",
      "                                             TALA                                    0   \n",
      "                                       C     EL ARENAL                               0   \n",
      "                                             HUAXTLA                                 0   \n",
      "                                             SAN JUAN DE LOS ARCOS                   0   \n",
      "                                             TALA                                    0   \n",
      "                                             ZAP                                     0   \n",
      "baja    AUXILIAR ALMACEN ALMACEN       A     CD GUZMAN                               0   \n",
      "                                             TALA                                    0   \n",
      "                                       B     TALA                                    1   \n",
      "        INSP CALIDAD     CALIDAD       A     TALA                                    0   \n",
      "                                       B     TALA                                    0   \n",
      "                                       C     TALA                                    0   \n",
      "                                             ZAP                                     0   \n",
      "        INTENDENCIA      PRODUCCION    C     TALA                                    0   \n",
      "        MECANICO         MANTENIMIENTO ROLA  TALA                                    1   \n",
      "                                             ZAP                                     0   \n",
      "        MONTACARGUISTA   ALMACEN       A     TALA                                    0   \n",
      "                                             ZAMORA                                  0   \n",
      "                                       B     TALA                                    2   \n",
      "                                             ZAP                                     0   \n",
      "                                       C     TALA                                    1   \n",
      "        OP PRENSA        ALMACEN       C     TALA                                    0   \n",
      "                         PRENSA        A     TALA                                    3   \n",
      "                                       B     TALA                                    1   \n",
      "                                       C     EL ARENAL                               0   \n",
      "                                             TALA                                    4   \n",
      "                                             TLAJOMULCO                              0   \n",
      "                                       ROLA  TALA                                    0   \n",
      "        OP PRODUCCION    PRODUCCION    A     EL ARENAL                               0   \n",
      "                                             JALISCO                                 0   \n",
      "                                             TALA                                    1   \n",
      "                                       B     HUAXTLA                                 0   \n",
      "                                             LA VENTA DEL ASTILLERO                  0   \n",
      "                                             TALA                                    1   \n",
      "                                             ZAP                                     0   \n",
      "                                       C     AHUISCULCO                              0   \n",
      "                                             BUENA VISTA                             0   \n",
      "                                             EL ARENAL                               0   \n",
      "                                             TALA                                    5   \n",
      "                                             ZAP                                     0   \n",
      "\n",
      "GENERO                                                                             \\\n",
      "ESCOLARIDAD                                                          SIN_ESTUDIOS   \n",
      "Estatus PUESTO           AREA          TURNO MUNICIPIO                              \n",
      "activo  AUXILIAR ALMACEN ALMACEN       A     TALA                               0   \n",
      "                                       B     TALA                               0   \n",
      "        INSP CALIDAD     CALIDAD       A     TALA                               0   \n",
      "                                       B     TALA                               0   \n",
      "                                       C     TALA                               0   \n",
      "        INTENDENCIA      PRODUCCION    B     TALA                               0   \n",
      "        MECANICO         MANTENIMIENTO ROLA  ZAP                                0   \n",
      "        MONTACARGUISTA   ALMACEN       A     CD GUZMAN                          0   \n",
      "                                             TALA                               0   \n",
      "                                       B     TALA                               0   \n",
      "                                       C     TALA                               0   \n",
      "        OP PRENSA        PRENSA        B     TALA                               0   \n",
      "                                       C     TALA                               0   \n",
      "        OP PRODUCCION    PRODUCCION    A     EL ARENAL                          0   \n",
      "                                             TALA                               1   \n",
      "                                       B     EL ARENAL                          0   \n",
      "                                             TALA                               1   \n",
      "                                       C     EL ARENAL                          0   \n",
      "                                             HUAXTLA                            0   \n",
      "                                             SAN JUAN DE LOS ARCOS              0   \n",
      "                                             TALA                               1   \n",
      "                                             ZAP                                0   \n",
      "baja    AUXILIAR ALMACEN ALMACEN       A     CD GUZMAN                          0   \n",
      "                                             TALA                               0   \n",
      "                                       B     TALA                               0   \n",
      "        INSP CALIDAD     CALIDAD       A     TALA                               0   \n",
      "                                       B     TALA                               0   \n",
      "                                       C     TALA                               0   \n",
      "                                             ZAP                                0   \n",
      "        INTENDENCIA      PRODUCCION    C     TALA                               0   \n",
      "        MECANICO         MANTENIMIENTO ROLA  TALA                               0   \n",
      "                                             ZAP                                0   \n",
      "        MONTACARGUISTA   ALMACEN       A     TALA                               1   \n",
      "                                             ZAMORA                             0   \n",
      "                                       B     TALA                               0   \n",
      "                                             ZAP                                0   \n",
      "                                       C     TALA                               0   \n",
      "        OP PRENSA        ALMACEN       C     TALA                               0   \n",
      "                         PRENSA        A     TALA                               3   \n",
      "                                       B     TALA                               3   \n",
      "                                       C     EL ARENAL                          0   \n",
      "                                             TALA                               3   \n",
      "                                             TLAJOMULCO                         0   \n",
      "                                       ROLA  TALA                               1   \n",
      "        OP PRODUCCION    PRODUCCION    A     EL ARENAL                          0   \n",
      "                                             JALISCO                            0   \n",
      "                                             TALA                               1   \n",
      "                                       B     HUAXTLA                            0   \n",
      "                                             LA VENTA DEL ASTILLERO             0   \n",
      "                                             TALA                               1   \n",
      "                                             ZAP                                0   \n",
      "                                       C     AHUISCULCO                         0   \n",
      "                                             BUENA VISTA                        0   \n",
      "                                             EL ARENAL                          0   \n",
      "                                             TALA                               0   \n",
      "                                             ZAP                                0   \n",
      "\n",
      "GENERO                                                                           MASCULINO  \\\n",
      "ESCOLARIDAD                                                          CURSANDO_LICENCIATURA   \n",
      "Estatus PUESTO           AREA          TURNO MUNICIPIO                                       \n",
      "activo  AUXILIAR ALMACEN ALMACEN       A     TALA                                        0   \n",
      "                                       B     TALA                                        0   \n",
      "        INSP CALIDAD     CALIDAD       A     TALA                                        0   \n",
      "                                       B     TALA                                        0   \n",
      "                                       C     TALA                                        0   \n",
      "        INTENDENCIA      PRODUCCION    B     TALA                                        0   \n",
      "        MECANICO         MANTENIMIENTO ROLA  ZAP                                         0   \n",
      "        MONTACARGUISTA   ALMACEN       A     CD GUZMAN                                   0   \n",
      "                                             TALA                                        0   \n",
      "                                       B     TALA                                        0   \n",
      "                                       C     TALA                                        0   \n",
      "        OP PRENSA        PRENSA        B     TALA                                        0   \n",
      "                                       C     TALA                                        0   \n",
      "        OP PRODUCCION    PRODUCCION    A     EL ARENAL                                   0   \n",
      "                                             TALA                                        0   \n",
      "                                       B     EL ARENAL                                   0   \n",
      "                                             TALA                                        0   \n",
      "                                       C     EL ARENAL                                   0   \n",
      "                                             HUAXTLA                                     0   \n",
      "                                             SAN JUAN DE LOS ARCOS                       0   \n",
      "                                             TALA                                        0   \n",
      "                                             ZAP                                         0   \n",
      "baja    AUXILIAR ALMACEN ALMACEN       A     CD GUZMAN                                   0   \n",
      "                                             TALA                                        0   \n",
      "                                       B     TALA                                        0   \n",
      "        INSP CALIDAD     CALIDAD       A     TALA                                        0   \n",
      "                                       B     TALA                                        0   \n",
      "                                       C     TALA                                        0   \n",
      "                                             ZAP                                         0   \n",
      "        INTENDENCIA      PRODUCCION    C     TALA                                        0   \n",
      "        MECANICO         MANTENIMIENTO ROLA  TALA                                        0   \n",
      "                                             ZAP                                         0   \n",
      "        MONTACARGUISTA   ALMACEN       A     TALA                                        0   \n",
      "                                             ZAMORA                                      0   \n",
      "                                       B     TALA                                        0   \n",
      "                                             ZAP                                         0   \n",
      "                                       C     TALA                                        0   \n",
      "        OP PRENSA        ALMACEN       C     TALA                                        0   \n",
      "                         PRENSA        A     TALA                                        0   \n",
      "                                       B     TALA                                        0   \n",
      "                                       C     EL ARENAL                                   0   \n",
      "                                             TALA                                        0   \n",
      "                                             TLAJOMULCO                                  0   \n",
      "                                       ROLA  TALA                                        0   \n",
      "        OP PRODUCCION    PRODUCCION    A     EL ARENAL                                   0   \n",
      "                                             JALISCO                                     0   \n",
      "                                             TALA                                        0   \n",
      "                                       B     HUAXTLA                                     0   \n",
      "                                             LA VENTA DEL ASTILLERO                      0   \n",
      "                                             TALA                                        0   \n",
      "                                             ZAP                                         1   \n",
      "                                       C     AHUISCULCO                                  0   \n",
      "                                             BUENA VISTA                                 0   \n",
      "                                             EL ARENAL                                   1   \n",
      "                                             TALA                                        1   \n",
      "                                             ZAP                                         0   \n",
      "\n",
      "GENERO                                                                          \\\n",
      "ESCOLARIDAD                                                          INGENIERO   \n",
      "Estatus PUESTO           AREA          TURNO MUNICIPIO                           \n",
      "activo  AUXILIAR ALMACEN ALMACEN       A     TALA                            0   \n",
      "                                       B     TALA                            1   \n",
      "        INSP CALIDAD     CALIDAD       A     TALA                            0   \n",
      "                                       B     TALA                            0   \n",
      "                                       C     TALA                            0   \n",
      "        INTENDENCIA      PRODUCCION    B     TALA                            0   \n",
      "        MECANICO         MANTENIMIENTO ROLA  ZAP                             0   \n",
      "        MONTACARGUISTA   ALMACEN       A     CD GUZMAN                       1   \n",
      "                                             TALA                            0   \n",
      "                                       B     TALA                            0   \n",
      "                                       C     TALA                            0   \n",
      "        OP PRENSA        PRENSA        B     TALA                            0   \n",
      "                                       C     TALA                            0   \n",
      "        OP PRODUCCION    PRODUCCION    A     EL ARENAL                       0   \n",
      "                                             TALA                            0   \n",
      "                                       B     EL ARENAL                       0   \n",
      "                                             TALA                            0   \n",
      "                                       C     EL ARENAL                       0   \n",
      "                                             HUAXTLA                         0   \n",
      "                                             SAN JUAN DE LOS ARCOS           0   \n",
      "                                             TALA                            0   \n",
      "                                             ZAP                             0   \n",
      "baja    AUXILIAR ALMACEN ALMACEN       A     CD GUZMAN                       0   \n",
      "                                             TALA                            0   \n",
      "                                       B     TALA                            0   \n",
      "        INSP CALIDAD     CALIDAD       A     TALA                            0   \n",
      "                                       B     TALA                            0   \n",
      "                                       C     TALA                            0   \n",
      "                                             ZAP                             0   \n",
      "        INTENDENCIA      PRODUCCION    C     TALA                            0   \n",
      "        MECANICO         MANTENIMIENTO ROLA  TALA                            3   \n",
      "                                             ZAP                             0   \n",
      "        MONTACARGUISTA   ALMACEN       A     TALA                            0   \n",
      "                                             ZAMORA                          0   \n",
      "                                       B     TALA                            0   \n",
      "                                             ZAP                             0   \n",
      "                                       C     TALA                            0   \n",
      "        OP PRENSA        ALMACEN       C     TALA                            0   \n",
      "                         PRENSA        A     TALA                            0   \n",
      "                                       B     TALA                            0   \n",
      "                                       C     EL ARENAL                       0   \n",
      "                                             TALA                            0   \n",
      "                                             TLAJOMULCO                      0   \n",
      "                                       ROLA  TALA                            0   \n",
      "        OP PRODUCCION    PRODUCCION    A     EL ARENAL                       0   \n",
      "                                             JALISCO                         0   \n",
      "                                             TALA                            0   \n",
      "                                       B     HUAXTLA                         0   \n",
      "                                             LA VENTA DEL ASTILLERO          0   \n",
      "                                             TALA                            0   \n",
      "                                             ZAP                             0   \n",
      "                                       C     AHUISCULCO                      0   \n",
      "                                             BUENA VISTA                     0   \n",
      "                                             EL ARENAL                       0   \n",
      "                                             TALA                            0   \n",
      "                                             ZAP                             0   \n",
      "\n",
      "GENERO                                                                             \\\n",
      "ESCOLARIDAD                                                          PREPARATORIA   \n",
      "Estatus PUESTO           AREA          TURNO MUNICIPIO                              \n",
      "activo  AUXILIAR ALMACEN ALMACEN       A     TALA                               0   \n",
      "                                       B     TALA                               2   \n",
      "        INSP CALIDAD     CALIDAD       A     TALA                               0   \n",
      "                                       B     TALA                               0   \n",
      "                                       C     TALA                               0   \n",
      "        INTENDENCIA      PRODUCCION    B     TALA                               0   \n",
      "        MECANICO         MANTENIMIENTO ROLA  ZAP                                0   \n",
      "        MONTACARGUISTA   ALMACEN       A     CD GUZMAN                          0   \n",
      "                                             TALA                               0   \n",
      "                                       B     TALA                               0   \n",
      "                                       C     TALA                               1   \n",
      "        OP PRENSA        PRENSA        B     TALA                               1   \n",
      "                                       C     TALA                               0   \n",
      "        OP PRODUCCION    PRODUCCION    A     EL ARENAL                          2   \n",
      "                                             TALA                               0   \n",
      "                                       B     EL ARENAL                          0   \n",
      "                                             TALA                               0   \n",
      "                                       C     EL ARENAL                          0   \n",
      "                                             HUAXTLA                            0   \n",
      "                                             SAN JUAN DE LOS ARCOS              0   \n",
      "                                             TALA                               1   \n",
      "                                             ZAP                                1   \n",
      "baja    AUXILIAR ALMACEN ALMACEN       A     CD GUZMAN                          1   \n",
      "                                             TALA                               0   \n",
      "                                       B     TALA                               0   \n",
      "        INSP CALIDAD     CALIDAD       A     TALA                               0   \n",
      "                                       B     TALA                               0   \n",
      "                                       C     TALA                               0   \n",
      "                                             ZAP                                0   \n",
      "        INTENDENCIA      PRODUCCION    C     TALA                               0   \n",
      "        MECANICO         MANTENIMIENTO ROLA  TALA                               1   \n",
      "                                             ZAP                                0   \n",
      "        MONTACARGUISTA   ALMACEN       A     TALA                               1   \n",
      "                                             ZAMORA                             1   \n",
      "                                       B     TALA                               4   \n",
      "                                             ZAP                                0   \n",
      "                                       C     TALA                               2   \n",
      "        OP PRENSA        ALMACEN       C     TALA                               0   \n",
      "                         PRENSA        A     TALA                               0   \n",
      "                                       B     TALA                               1   \n",
      "                                       C     EL ARENAL                          0   \n",
      "                                             TALA                               1   \n",
      "                                             TLAJOMULCO                         1   \n",
      "                                       ROLA  TALA                               0   \n",
      "        OP PRODUCCION    PRODUCCION    A     EL ARENAL                          0   \n",
      "                                             JALISCO                            0   \n",
      "                                             TALA                               2   \n",
      "                                       B     HUAXTLA                            0   \n",
      "                                             LA VENTA DEL ASTILLERO             0   \n",
      "                                             TALA                               4   \n",
      "                                             ZAP                                0   \n",
      "                                       C     AHUISCULCO                         0   \n",
      "                                             BUENA VISTA                        0   \n",
      "                                             EL ARENAL                          0   \n",
      "                                             TALA                               2   \n",
      "                                             ZAP                                1   \n",
      "\n",
      "GENERO                                                                                     \\\n",
      "ESCOLARIDAD                                                          PREPARATORIA_TECNICA   \n",
      "Estatus PUESTO           AREA          TURNO MUNICIPIO                                      \n",
      "activo  AUXILIAR ALMACEN ALMACEN       A     TALA                                       0   \n",
      "                                       B     TALA                                       0   \n",
      "        INSP CALIDAD     CALIDAD       A     TALA                                       0   \n",
      "                                       B     TALA                                       0   \n",
      "                                       C     TALA                                       0   \n",
      "        INTENDENCIA      PRODUCCION    B     TALA                                       0   \n",
      "        MECANICO         MANTENIMIENTO ROLA  ZAP                                        0   \n",
      "        MONTACARGUISTA   ALMACEN       A     CD GUZMAN                                  0   \n",
      "                                             TALA                                       0   \n",
      "                                       B     TALA                                       0   \n",
      "                                       C     TALA                                       0   \n",
      "        OP PRENSA        PRENSA        B     TALA                                       0   \n",
      "                                       C     TALA                                       0   \n",
      "        OP PRODUCCION    PRODUCCION    A     EL ARENAL                                  0   \n",
      "                                             TALA                                       0   \n",
      "                                       B     EL ARENAL                                  0   \n",
      "                                             TALA                                       0   \n",
      "                                       C     EL ARENAL                                  0   \n",
      "                                             HUAXTLA                                    0   \n",
      "                                             SAN JUAN DE LOS ARCOS                      0   \n",
      "                                             TALA                                       0   \n",
      "                                             ZAP                                        0   \n",
      "baja    AUXILIAR ALMACEN ALMACEN       A     CD GUZMAN                                  0   \n",
      "                                             TALA                                       0   \n",
      "                                       B     TALA                                       0   \n",
      "        INSP CALIDAD     CALIDAD       A     TALA                                       0   \n",
      "                                       B     TALA                                       0   \n",
      "                                       C     TALA                                       0   \n",
      "                                             ZAP                                        0   \n",
      "        INTENDENCIA      PRODUCCION    C     TALA                                       0   \n",
      "        MECANICO         MANTENIMIENTO ROLA  TALA                                       1   \n",
      "                                             ZAP                                        2   \n",
      "        MONTACARGUISTA   ALMACEN       A     TALA                                       0   \n",
      "                                             ZAMORA                                     0   \n",
      "                                       B     TALA                                       0   \n",
      "                                             ZAP                                        0   \n",
      "                                       C     TALA                                       0   \n",
      "        OP PRENSA        ALMACEN       C     TALA                                       0   \n",
      "                         PRENSA        A     TALA                                       0   \n",
      "                                       B     TALA                                       0   \n",
      "                                       C     EL ARENAL                                  0   \n",
      "                                             TALA                                       0   \n",
      "                                             TLAJOMULCO                                 0   \n",
      "                                       ROLA  TALA                                       0   \n",
      "        OP PRODUCCION    PRODUCCION    A     EL ARENAL                                  0   \n",
      "                                             JALISCO                                    0   \n",
      "                                             TALA                                       0   \n",
      "                                       B     HUAXTLA                                    0   \n",
      "                                             LA VENTA DEL ASTILLERO                     0   \n",
      "                                             TALA                                       1   \n",
      "                                             ZAP                                        0   \n",
      "                                       C     AHUISCULCO                                 0   \n",
      "                                             BUENA VISTA                                0   \n",
      "                                             EL ARENAL                                  1   \n",
      "                                             TALA                                       0   \n",
      "                                             ZAP                                        0   \n",
      "\n",
      "GENERO                                                                                    \\\n",
      "ESCOLARIDAD                                                          PREPARATORIA_TRUNCA   \n",
      "Estatus PUESTO           AREA          TURNO MUNICIPIO                                     \n",
      "activo  AUXILIAR ALMACEN ALMACEN       A     TALA                                      0   \n",
      "                                       B     TALA                                      0   \n",
      "        INSP CALIDAD     CALIDAD       A     TALA                                      0   \n",
      "                                       B     TALA                                      0   \n",
      "                                       C     TALA                                      0   \n",
      "        INTENDENCIA      PRODUCCION    B     TALA                                      0   \n",
      "        MECANICO         MANTENIMIENTO ROLA  ZAP                                       1   \n",
      "        MONTACARGUISTA   ALMACEN       A     CD GUZMAN                                 0   \n",
      "                                             TALA                                      0   \n",
      "                                       B     TALA                                      0   \n",
      "                                       C     TALA                                      0   \n",
      "        OP PRENSA        PRENSA        B     TALA                                      0   \n",
      "                                       C     TALA                                      0   \n",
      "        OP PRODUCCION    PRODUCCION    A     EL ARENAL                                 0   \n",
      "                                             TALA                                      0   \n",
      "                                       B     EL ARENAL                                 0   \n",
      "                                             TALA                                      0   \n",
      "                                       C     EL ARENAL                                 0   \n",
      "                                             HUAXTLA                                   0   \n",
      "                                             SAN JUAN DE LOS ARCOS                     0   \n",
      "                                             TALA                                      0   \n",
      "                                             ZAP                                       0   \n",
      "baja    AUXILIAR ALMACEN ALMACEN       A     CD GUZMAN                                 0   \n",
      "                                             TALA                                      2   \n",
      "                                       B     TALA                                      0   \n",
      "        INSP CALIDAD     CALIDAD       A     TALA                                      0   \n",
      "                                       B     TALA                                      0   \n",
      "                                       C     TALA                                      0   \n",
      "                                             ZAP                                       0   \n",
      "        INTENDENCIA      PRODUCCION    C     TALA                                      1   \n",
      "        MECANICO         MANTENIMIENTO ROLA  TALA                                      0   \n",
      "                                             ZAP                                       0   \n",
      "        MONTACARGUISTA   ALMACEN       A     TALA                                      0   \n",
      "                                             ZAMORA                                    0   \n",
      "                                       B     TALA                                      0   \n",
      "                                             ZAP                                       2   \n",
      "                                       C     TALA                                      0   \n",
      "        OP PRENSA        ALMACEN       C     TALA                                      0   \n",
      "                         PRENSA        A     TALA                                      6   \n",
      "                                       B     TALA                                      2   \n",
      "                                       C     EL ARENAL                                 0   \n",
      "                                             TALA                                      8   \n",
      "                                             TLAJOMULCO                                0   \n",
      "                                       ROLA  TALA                                      0   \n",
      "        OP PRODUCCION    PRODUCCION    A     EL ARENAL                                 1   \n",
      "                                             JALISCO                                   0   \n",
      "                                             TALA                                      3   \n",
      "                                       B     HUAXTLA                                   0   \n",
      "                                             LA VENTA DEL ASTILLERO                    0   \n",
      "                                             TALA                                      5   \n",
      "                                             ZAP                                       0   \n",
      "                                       C     AHUISCULCO                                0   \n",
      "                                             BUENA VISTA                               0   \n",
      "                                             EL ARENAL                                 0   \n",
      "                                             TALA                                      5   \n",
      "                                             ZAP                                       0   \n",
      "\n",
      "GENERO                                                                         \\\n",
      "ESCOLARIDAD                                                          PRIMARIA   \n",
      "Estatus PUESTO           AREA          TURNO MUNICIPIO                          \n",
      "activo  AUXILIAR ALMACEN ALMACEN       A     TALA                           0   \n",
      "                                       B     TALA                           0   \n",
      "        INSP CALIDAD     CALIDAD       A     TALA                           0   \n",
      "                                       B     TALA                           0   \n",
      "                                       C     TALA                           0   \n",
      "        INTENDENCIA      PRODUCCION    B     TALA                           0   \n",
      "        MECANICO         MANTENIMIENTO ROLA  ZAP                            0   \n",
      "        MONTACARGUISTA   ALMACEN       A     CD GUZMAN                      0   \n",
      "                                             TALA                           0   \n",
      "                                       B     TALA                           0   \n",
      "                                       C     TALA                           0   \n",
      "        OP PRENSA        PRENSA        B     TALA                           1   \n",
      "                                       C     TALA                           0   \n",
      "        OP PRODUCCION    PRODUCCION    A     EL ARENAL                      0   \n",
      "                                             TALA                           2   \n",
      "                                       B     EL ARENAL                      0   \n",
      "                                             TALA                           1   \n",
      "                                       C     EL ARENAL                      0   \n",
      "                                             HUAXTLA                        0   \n",
      "                                             SAN JUAN DE LOS ARCOS          0   \n",
      "                                             TALA                           2   \n",
      "                                             ZAP                            0   \n",
      "baja    AUXILIAR ALMACEN ALMACEN       A     CD GUZMAN                      0   \n",
      "                                             TALA                           0   \n",
      "                                       B     TALA                           0   \n",
      "        INSP CALIDAD     CALIDAD       A     TALA                           0   \n",
      "                                       B     TALA                           0   \n",
      "                                       C     TALA                           0   \n",
      "                                             ZAP                            0   \n",
      "        INTENDENCIA      PRODUCCION    C     TALA                           0   \n",
      "        MECANICO         MANTENIMIENTO ROLA  TALA                           0   \n",
      "                                             ZAP                            0   \n",
      "        MONTACARGUISTA   ALMACEN       A     TALA                           1   \n",
      "                                             ZAMORA                         0   \n",
      "                                       B     TALA                           0   \n",
      "                                             ZAP                            0   \n",
      "                                       C     TALA                           1   \n",
      "        OP PRENSA        ALMACEN       C     TALA                           1   \n",
      "                         PRENSA        A     TALA                           1   \n",
      "                                       B     TALA                           0   \n",
      "                                       C     EL ARENAL                      0   \n",
      "                                             TALA                           1   \n",
      "                                             TLAJOMULCO                     2   \n",
      "                                       ROLA  TALA                           0   \n",
      "        OP PRODUCCION    PRODUCCION    A     EL ARENAL                      0   \n",
      "                                             JALISCO                        0   \n",
      "                                             TALA                           1   \n",
      "                                       B     HUAXTLA                        0   \n",
      "                                             LA VENTA DEL ASTILLERO         0   \n",
      "                                             TALA                           4   \n",
      "                                             ZAP                            0   \n",
      "                                       C     AHUISCULCO                     0   \n",
      "                                             BUENA VISTA                    0   \n",
      "                                             EL ARENAL                      0   \n",
      "                                             TALA                           1   \n",
      "                                             ZAP                            0   \n",
      "\n",
      "GENERO                                                                           \\\n",
      "ESCOLARIDAD                                                          SECUNDARIA   \n",
      "Estatus PUESTO           AREA          TURNO MUNICIPIO                            \n",
      "activo  AUXILIAR ALMACEN ALMACEN       A     TALA                             1   \n",
      "                                       B     TALA                             0   \n",
      "        INSP CALIDAD     CALIDAD       A     TALA                             0   \n",
      "                                       B     TALA                             0   \n",
      "                                       C     TALA                             0   \n",
      "        INTENDENCIA      PRODUCCION    B     TALA                             0   \n",
      "        MECANICO         MANTENIMIENTO ROLA  ZAP                              0   \n",
      "        MONTACARGUISTA   ALMACEN       A     CD GUZMAN                        0   \n",
      "                                             TALA                             1   \n",
      "                                       B     TALA                             2   \n",
      "                                       C     TALA                             0   \n",
      "        OP PRENSA        PRENSA        B     TALA                             1   \n",
      "                                       C     TALA                             0   \n",
      "        OP PRODUCCION    PRODUCCION    A     EL ARENAL                        0   \n",
      "                                             TALA                             2   \n",
      "                                       B     EL ARENAL                        0   \n",
      "                                             TALA                             2   \n",
      "                                       C     EL ARENAL                        0   \n",
      "                                             HUAXTLA                          0   \n",
      "                                             SAN JUAN DE LOS ARCOS            0   \n",
      "                                             TALA                             1   \n",
      "                                             ZAP                              0   \n",
      "baja    AUXILIAR ALMACEN ALMACEN       A     CD GUZMAN                        0   \n",
      "                                             TALA                             0   \n",
      "                                       B     TALA                             3   \n",
      "        INSP CALIDAD     CALIDAD       A     TALA                             0   \n",
      "                                       B     TALA                             0   \n",
      "                                       C     TALA                             2   \n",
      "                                             ZAP                              0   \n",
      "        INTENDENCIA      PRODUCCION    C     TALA                             0   \n",
      "        MECANICO         MANTENIMIENTO ROLA  TALA                             0   \n",
      "                                             ZAP                              0   \n",
      "        MONTACARGUISTA   ALMACEN       A     TALA                             2   \n",
      "                                             ZAMORA                           1   \n",
      "                                       B     TALA                             0   \n",
      "                                             ZAP                              0   \n",
      "                                       C     TALA                             2   \n",
      "        OP PRENSA        ALMACEN       C     TALA                             0   \n",
      "                         PRENSA        A     TALA                             5   \n",
      "                                       B     TALA                             6   \n",
      "                                       C     EL ARENAL                        0   \n",
      "                                             TALA                            12   \n",
      "                                             TLAJOMULCO                       0   \n",
      "                                       ROLA  TALA                             0   \n",
      "        OP PRODUCCION    PRODUCCION    A     EL ARENAL                        0   \n",
      "                                             JALISCO                          1   \n",
      "                                             TALA                             8   \n",
      "                                       B     HUAXTLA                          0   \n",
      "                                             LA VENTA DEL ASTILLERO           0   \n",
      "                                             TALA                            13   \n",
      "                                             ZAP                              0   \n",
      "                                       C     AHUISCULCO                       0   \n",
      "                                             BUENA VISTA                      0   \n",
      "                                             EL ARENAL                        0   \n",
      "                                             TALA                            19   \n",
      "                                             ZAP                              0   \n",
      "\n",
      "GENERO                                                                                  \\\n",
      "ESCOLARIDAD                                                          SECUNDARIA_TRUNCA   \n",
      "Estatus PUESTO           AREA          TURNO MUNICIPIO                                   \n",
      "activo  AUXILIAR ALMACEN ALMACEN       A     TALA                                    0   \n",
      "                                       B     TALA                                    0   \n",
      "        INSP CALIDAD     CALIDAD       A     TALA                                    0   \n",
      "                                       B     TALA                                    0   \n",
      "                                       C     TALA                                    0   \n",
      "        INTENDENCIA      PRODUCCION    B     TALA                                    0   \n",
      "        MECANICO         MANTENIMIENTO ROLA  ZAP                                     0   \n",
      "        MONTACARGUISTA   ALMACEN       A     CD GUZMAN                               0   \n",
      "                                             TALA                                    0   \n",
      "                                       B     TALA                                    0   \n",
      "                                       C     TALA                                    0   \n",
      "        OP PRENSA        PRENSA        B     TALA                                    0   \n",
      "                                       C     TALA                                    0   \n",
      "        OP PRODUCCION    PRODUCCION    A     EL ARENAL                               0   \n",
      "                                             TALA                                    0   \n",
      "                                       B     EL ARENAL                               0   \n",
      "                                             TALA                                    0   \n",
      "                                       C     EL ARENAL                               0   \n",
      "                                             HUAXTLA                                 0   \n",
      "                                             SAN JUAN DE LOS ARCOS                   0   \n",
      "                                             TALA                                    0   \n",
      "                                             ZAP                                     0   \n",
      "baja    AUXILIAR ALMACEN ALMACEN       A     CD GUZMAN                               0   \n",
      "                                             TALA                                    0   \n",
      "                                       B     TALA                                    0   \n",
      "        INSP CALIDAD     CALIDAD       A     TALA                                    0   \n",
      "                                       B     TALA                                    1   \n",
      "                                       C     TALA                                    0   \n",
      "                                             ZAP                                     0   \n",
      "        INTENDENCIA      PRODUCCION    C     TALA                                    2   \n",
      "        MECANICO         MANTENIMIENTO ROLA  TALA                                    0   \n",
      "                                             ZAP                                     0   \n",
      "        MONTACARGUISTA   ALMACEN       A     TALA                                    0   \n",
      "                                             ZAMORA                                  0   \n",
      "                                       B     TALA                                    0   \n",
      "                                             ZAP                                     0   \n",
      "                                       C     TALA                                    1   \n",
      "        OP PRENSA        ALMACEN       C     TALA                                    0   \n",
      "                         PRENSA        A     TALA                                    5   \n",
      "                                       B     TALA                                    5   \n",
      "                                       C     EL ARENAL                               0   \n",
      "                                             TALA                                   10   \n",
      "                                             TLAJOMULCO                              0   \n",
      "                                       ROLA  TALA                                    0   \n",
      "        OP PRODUCCION    PRODUCCION    A     EL ARENAL                               0   \n",
      "                                             JALISCO                                 0   \n",
      "                                             TALA                                    2   \n",
      "                                       B     HUAXTLA                                 0   \n",
      "                                             LA VENTA DEL ASTILLERO                  0   \n",
      "                                             TALA                                    2   \n",
      "                                             ZAP                                     0   \n",
      "                                       C     AHUISCULCO                              0   \n",
      "                                             BUENA VISTA                             0   \n",
      "                                             EL ARENAL                               0   \n",
      "                                             TALA                                    7   \n",
      "                                             ZAP                                     0   \n",
      "\n",
      "GENERO                                                                             \n",
      "ESCOLARIDAD                                                          SIN_ESTUDIOS  \n",
      "Estatus PUESTO           AREA          TURNO MUNICIPIO                             \n",
      "activo  AUXILIAR ALMACEN ALMACEN       A     TALA                               0  \n",
      "                                       B     TALA                               0  \n",
      "        INSP CALIDAD     CALIDAD       A     TALA                               0  \n",
      "                                       B     TALA                               0  \n",
      "                                       C     TALA                               0  \n",
      "        INTENDENCIA      PRODUCCION    B     TALA                               1  \n",
      "        MECANICO         MANTENIMIENTO ROLA  ZAP                                0  \n",
      "        MONTACARGUISTA   ALMACEN       A     CD GUZMAN                          0  \n",
      "                                             TALA                               0  \n",
      "                                       B     TALA                               0  \n",
      "                                       C     TALA                               0  \n",
      "        OP PRENSA        PRENSA        B     TALA                               0  \n",
      "                                       C     TALA                               0  \n",
      "        OP PRODUCCION    PRODUCCION    A     EL ARENAL                          0  \n",
      "                                             TALA                               0  \n",
      "                                       B     EL ARENAL                          0  \n",
      "                                             TALA                               0  \n",
      "                                       C     EL ARENAL                          0  \n",
      "                                             HUAXTLA                            0  \n",
      "                                             SAN JUAN DE LOS ARCOS              0  \n",
      "                                             TALA                               1  \n",
      "                                             ZAP                                0  \n",
      "baja    AUXILIAR ALMACEN ALMACEN       A     CD GUZMAN                          0  \n",
      "                                             TALA                               0  \n",
      "                                       B     TALA                               0  \n",
      "        INSP CALIDAD     CALIDAD       A     TALA                               0  \n",
      "                                       B     TALA                               0  \n",
      "                                       C     TALA                               1  \n",
      "                                             ZAP                                0  \n",
      "        INTENDENCIA      PRODUCCION    C     TALA                               0  \n",
      "        MECANICO         MANTENIMIENTO ROLA  TALA                               0  \n",
      "                                             ZAP                                0  \n",
      "        MONTACARGUISTA   ALMACEN       A     TALA                               0  \n",
      "                                             ZAMORA                             0  \n",
      "                                       B     TALA                               0  \n",
      "                                             ZAP                                0  \n",
      "                                       C     TALA                               0  \n",
      "        OP PRENSA        ALMACEN       C     TALA                               0  \n",
      "                         PRENSA        A     TALA                               8  \n",
      "                                       B     TALA                               6  \n",
      "                                       C     EL ARENAL                          0  \n",
      "                                             TALA                               1  \n",
      "                                             TLAJOMULCO                         0  \n",
      "                                       ROLA  TALA                               0  \n",
      "        OP PRODUCCION    PRODUCCION    A     EL ARENAL                          0  \n",
      "                                             JALISCO                            0  \n",
      "                                             TALA                               0  \n",
      "                                       B     HUAXTLA                            0  \n",
      "                                             LA VENTA DEL ASTILLERO             0  \n",
      "                                             TALA                               0  \n",
      "                                             ZAP                                0  \n",
      "                                       C     AHUISCULCO                         0  \n",
      "                                             BUENA VISTA                        0  \n",
      "                                             EL ARENAL                          0  \n",
      "                                             TALA                               1  \n",
      "                                             ZAP                                0  \n"
     ]
    }
   ],
   "source": [
    "contingecy = pd.crosstab(index=[df['Estatus'], df['PUESTO'], df['AREA'], df['TURNO'], df['MUNICIPIO']], \n",
    "                                  columns=[df['GENERO'], df['ESCOLARIDAD']])\n",
    "\n",
    "# contingecy tables\n",
    "print(contingecy)"
   ]
  },
  {
   "cell_type": "markdown",
   "metadata": {},
   "source": [
    "**2.3. Distribution of target variable**"
   ]
  },
  {
   "cell_type": "code",
   "execution_count": 65,
   "metadata": {},
   "outputs": [
    {
     "data": {
      "application/vnd.plotly.v1+json": {
       "config": {
        "plotlyServerURL": "https://plot.ly"
       },
       "data": [
        {
         "hoverinfo": "label+percent",
         "labels": [
          "baja",
          "activo"
         ],
         "marker": {
          "colors": [
           "gold",
           "mediumturquoise"
          ],
          "line": {
           "color": "#000000",
           "width": 2
          }
         },
         "textfont": {
          "size": 20
         },
         "textinfo": "value",
         "type": "pie",
         "values": [
          431,
          71
         ]
        }
       ],
       "layout": {
        "template": {
         "data": {
          "bar": [
           {
            "error_x": {
             "color": "#2a3f5f"
            },
            "error_y": {
             "color": "#2a3f5f"
            },
            "marker": {
             "line": {
              "color": "#E5ECF6",
              "width": 0.5
             },
             "pattern": {
              "fillmode": "overlay",
              "size": 10,
              "solidity": 0.2
             }
            },
            "type": "bar"
           }
          ],
          "barpolar": [
           {
            "marker": {
             "line": {
              "color": "#E5ECF6",
              "width": 0.5
             },
             "pattern": {
              "fillmode": "overlay",
              "size": 10,
              "solidity": 0.2
             }
            },
            "type": "barpolar"
           }
          ],
          "carpet": [
           {
            "aaxis": {
             "endlinecolor": "#2a3f5f",
             "gridcolor": "white",
             "linecolor": "white",
             "minorgridcolor": "white",
             "startlinecolor": "#2a3f5f"
            },
            "baxis": {
             "endlinecolor": "#2a3f5f",
             "gridcolor": "white",
             "linecolor": "white",
             "minorgridcolor": "white",
             "startlinecolor": "#2a3f5f"
            },
            "type": "carpet"
           }
          ],
          "choropleth": [
           {
            "colorbar": {
             "outlinewidth": 0,
             "ticks": ""
            },
            "type": "choropleth"
           }
          ],
          "contour": [
           {
            "colorbar": {
             "outlinewidth": 0,
             "ticks": ""
            },
            "colorscale": [
             [
              0,
              "#0d0887"
             ],
             [
              0.1111111111111111,
              "#46039f"
             ],
             [
              0.2222222222222222,
              "#7201a8"
             ],
             [
              0.3333333333333333,
              "#9c179e"
             ],
             [
              0.4444444444444444,
              "#bd3786"
             ],
             [
              0.5555555555555556,
              "#d8576b"
             ],
             [
              0.6666666666666666,
              "#ed7953"
             ],
             [
              0.7777777777777778,
              "#fb9f3a"
             ],
             [
              0.8888888888888888,
              "#fdca26"
             ],
             [
              1,
              "#f0f921"
             ]
            ],
            "type": "contour"
           }
          ],
          "contourcarpet": [
           {
            "colorbar": {
             "outlinewidth": 0,
             "ticks": ""
            },
            "type": "contourcarpet"
           }
          ],
          "heatmap": [
           {
            "colorbar": {
             "outlinewidth": 0,
             "ticks": ""
            },
            "colorscale": [
             [
              0,
              "#0d0887"
             ],
             [
              0.1111111111111111,
              "#46039f"
             ],
             [
              0.2222222222222222,
              "#7201a8"
             ],
             [
              0.3333333333333333,
              "#9c179e"
             ],
             [
              0.4444444444444444,
              "#bd3786"
             ],
             [
              0.5555555555555556,
              "#d8576b"
             ],
             [
              0.6666666666666666,
              "#ed7953"
             ],
             [
              0.7777777777777778,
              "#fb9f3a"
             ],
             [
              0.8888888888888888,
              "#fdca26"
             ],
             [
              1,
              "#f0f921"
             ]
            ],
            "type": "heatmap"
           }
          ],
          "heatmapgl": [
           {
            "colorbar": {
             "outlinewidth": 0,
             "ticks": ""
            },
            "colorscale": [
             [
              0,
              "#0d0887"
             ],
             [
              0.1111111111111111,
              "#46039f"
             ],
             [
              0.2222222222222222,
              "#7201a8"
             ],
             [
              0.3333333333333333,
              "#9c179e"
             ],
             [
              0.4444444444444444,
              "#bd3786"
             ],
             [
              0.5555555555555556,
              "#d8576b"
             ],
             [
              0.6666666666666666,
              "#ed7953"
             ],
             [
              0.7777777777777778,
              "#fb9f3a"
             ],
             [
              0.8888888888888888,
              "#fdca26"
             ],
             [
              1,
              "#f0f921"
             ]
            ],
            "type": "heatmapgl"
           }
          ],
          "histogram": [
           {
            "marker": {
             "pattern": {
              "fillmode": "overlay",
              "size": 10,
              "solidity": 0.2
             }
            },
            "type": "histogram"
           }
          ],
          "histogram2d": [
           {
            "colorbar": {
             "outlinewidth": 0,
             "ticks": ""
            },
            "colorscale": [
             [
              0,
              "#0d0887"
             ],
             [
              0.1111111111111111,
              "#46039f"
             ],
             [
              0.2222222222222222,
              "#7201a8"
             ],
             [
              0.3333333333333333,
              "#9c179e"
             ],
             [
              0.4444444444444444,
              "#bd3786"
             ],
             [
              0.5555555555555556,
              "#d8576b"
             ],
             [
              0.6666666666666666,
              "#ed7953"
             ],
             [
              0.7777777777777778,
              "#fb9f3a"
             ],
             [
              0.8888888888888888,
              "#fdca26"
             ],
             [
              1,
              "#f0f921"
             ]
            ],
            "type": "histogram2d"
           }
          ],
          "histogram2dcontour": [
           {
            "colorbar": {
             "outlinewidth": 0,
             "ticks": ""
            },
            "colorscale": [
             [
              0,
              "#0d0887"
             ],
             [
              0.1111111111111111,
              "#46039f"
             ],
             [
              0.2222222222222222,
              "#7201a8"
             ],
             [
              0.3333333333333333,
              "#9c179e"
             ],
             [
              0.4444444444444444,
              "#bd3786"
             ],
             [
              0.5555555555555556,
              "#d8576b"
             ],
             [
              0.6666666666666666,
              "#ed7953"
             ],
             [
              0.7777777777777778,
              "#fb9f3a"
             ],
             [
              0.8888888888888888,
              "#fdca26"
             ],
             [
              1,
              "#f0f921"
             ]
            ],
            "type": "histogram2dcontour"
           }
          ],
          "mesh3d": [
           {
            "colorbar": {
             "outlinewidth": 0,
             "ticks": ""
            },
            "type": "mesh3d"
           }
          ],
          "parcoords": [
           {
            "line": {
             "colorbar": {
              "outlinewidth": 0,
              "ticks": ""
             }
            },
            "type": "parcoords"
           }
          ],
          "pie": [
           {
            "automargin": true,
            "type": "pie"
           }
          ],
          "scatter": [
           {
            "fillpattern": {
             "fillmode": "overlay",
             "size": 10,
             "solidity": 0.2
            },
            "type": "scatter"
           }
          ],
          "scatter3d": [
           {
            "line": {
             "colorbar": {
              "outlinewidth": 0,
              "ticks": ""
             }
            },
            "marker": {
             "colorbar": {
              "outlinewidth": 0,
              "ticks": ""
             }
            },
            "type": "scatter3d"
           }
          ],
          "scattercarpet": [
           {
            "marker": {
             "colorbar": {
              "outlinewidth": 0,
              "ticks": ""
             }
            },
            "type": "scattercarpet"
           }
          ],
          "scattergeo": [
           {
            "marker": {
             "colorbar": {
              "outlinewidth": 0,
              "ticks": ""
             }
            },
            "type": "scattergeo"
           }
          ],
          "scattergl": [
           {
            "marker": {
             "colorbar": {
              "outlinewidth": 0,
              "ticks": ""
             }
            },
            "type": "scattergl"
           }
          ],
          "scattermapbox": [
           {
            "marker": {
             "colorbar": {
              "outlinewidth": 0,
              "ticks": ""
             }
            },
            "type": "scattermapbox"
           }
          ],
          "scatterpolar": [
           {
            "marker": {
             "colorbar": {
              "outlinewidth": 0,
              "ticks": ""
             }
            },
            "type": "scatterpolar"
           }
          ],
          "scatterpolargl": [
           {
            "marker": {
             "colorbar": {
              "outlinewidth": 0,
              "ticks": ""
             }
            },
            "type": "scatterpolargl"
           }
          ],
          "scatterternary": [
           {
            "marker": {
             "colorbar": {
              "outlinewidth": 0,
              "ticks": ""
             }
            },
            "type": "scatterternary"
           }
          ],
          "surface": [
           {
            "colorbar": {
             "outlinewidth": 0,
             "ticks": ""
            },
            "colorscale": [
             [
              0,
              "#0d0887"
             ],
             [
              0.1111111111111111,
              "#46039f"
             ],
             [
              0.2222222222222222,
              "#7201a8"
             ],
             [
              0.3333333333333333,
              "#9c179e"
             ],
             [
              0.4444444444444444,
              "#bd3786"
             ],
             [
              0.5555555555555556,
              "#d8576b"
             ],
             [
              0.6666666666666666,
              "#ed7953"
             ],
             [
              0.7777777777777778,
              "#fb9f3a"
             ],
             [
              0.8888888888888888,
              "#fdca26"
             ],
             [
              1,
              "#f0f921"
             ]
            ],
            "type": "surface"
           }
          ],
          "table": [
           {
            "cells": {
             "fill": {
              "color": "#EBF0F8"
             },
             "line": {
              "color": "white"
             }
            },
            "header": {
             "fill": {
              "color": "#C8D4E3"
             },
             "line": {
              "color": "white"
             }
            },
            "type": "table"
           }
          ]
         },
         "layout": {
          "annotationdefaults": {
           "arrowcolor": "#2a3f5f",
           "arrowhead": 0,
           "arrowwidth": 1
          },
          "autotypenumbers": "strict",
          "coloraxis": {
           "colorbar": {
            "outlinewidth": 0,
            "ticks": ""
           }
          },
          "colorscale": {
           "diverging": [
            [
             0,
             "#8e0152"
            ],
            [
             0.1,
             "#c51b7d"
            ],
            [
             0.2,
             "#de77ae"
            ],
            [
             0.3,
             "#f1b6da"
            ],
            [
             0.4,
             "#fde0ef"
            ],
            [
             0.5,
             "#f7f7f7"
            ],
            [
             0.6,
             "#e6f5d0"
            ],
            [
             0.7,
             "#b8e186"
            ],
            [
             0.8,
             "#7fbc41"
            ],
            [
             0.9,
             "#4d9221"
            ],
            [
             1,
             "#276419"
            ]
           ],
           "sequential": [
            [
             0,
             "#0d0887"
            ],
            [
             0.1111111111111111,
             "#46039f"
            ],
            [
             0.2222222222222222,
             "#7201a8"
            ],
            [
             0.3333333333333333,
             "#9c179e"
            ],
            [
             0.4444444444444444,
             "#bd3786"
            ],
            [
             0.5555555555555556,
             "#d8576b"
            ],
            [
             0.6666666666666666,
             "#ed7953"
            ],
            [
             0.7777777777777778,
             "#fb9f3a"
            ],
            [
             0.8888888888888888,
             "#fdca26"
            ],
            [
             1,
             "#f0f921"
            ]
           ],
           "sequentialminus": [
            [
             0,
             "#0d0887"
            ],
            [
             0.1111111111111111,
             "#46039f"
            ],
            [
             0.2222222222222222,
             "#7201a8"
            ],
            [
             0.3333333333333333,
             "#9c179e"
            ],
            [
             0.4444444444444444,
             "#bd3786"
            ],
            [
             0.5555555555555556,
             "#d8576b"
            ],
            [
             0.6666666666666666,
             "#ed7953"
            ],
            [
             0.7777777777777778,
             "#fb9f3a"
            ],
            [
             0.8888888888888888,
             "#fdca26"
            ],
            [
             1,
             "#f0f921"
            ]
           ]
          },
          "colorway": [
           "#636efa",
           "#EF553B",
           "#00cc96",
           "#ab63fa",
           "#FFA15A",
           "#19d3f3",
           "#FF6692",
           "#B6E880",
           "#FF97FF",
           "#FECB52"
          ],
          "font": {
           "color": "#2a3f5f"
          },
          "geo": {
           "bgcolor": "white",
           "lakecolor": "white",
           "landcolor": "#E5ECF6",
           "showlakes": true,
           "showland": true,
           "subunitcolor": "white"
          },
          "hoverlabel": {
           "align": "left"
          },
          "hovermode": "closest",
          "mapbox": {
           "style": "light"
          },
          "paper_bgcolor": "white",
          "plot_bgcolor": "#E5ECF6",
          "polar": {
           "angularaxis": {
            "gridcolor": "white",
            "linecolor": "white",
            "ticks": ""
           },
           "bgcolor": "#E5ECF6",
           "radialaxis": {
            "gridcolor": "white",
            "linecolor": "white",
            "ticks": ""
           }
          },
          "scene": {
           "xaxis": {
            "backgroundcolor": "#E5ECF6",
            "gridcolor": "white",
            "gridwidth": 2,
            "linecolor": "white",
            "showbackground": true,
            "ticks": "",
            "zerolinecolor": "white"
           },
           "yaxis": {
            "backgroundcolor": "#E5ECF6",
            "gridcolor": "white",
            "gridwidth": 2,
            "linecolor": "white",
            "showbackground": true,
            "ticks": "",
            "zerolinecolor": "white"
           },
           "zaxis": {
            "backgroundcolor": "#E5ECF6",
            "gridcolor": "white",
            "gridwidth": 2,
            "linecolor": "white",
            "showbackground": true,
            "ticks": "",
            "zerolinecolor": "white"
           }
          },
          "shapedefaults": {
           "line": {
            "color": "#2a3f5f"
           }
          },
          "ternary": {
           "aaxis": {
            "gridcolor": "white",
            "linecolor": "white",
            "ticks": ""
           },
           "baxis": {
            "gridcolor": "white",
            "linecolor": "white",
            "ticks": ""
           },
           "bgcolor": "#E5ECF6",
           "caxis": {
            "gridcolor": "white",
            "linecolor": "white",
            "ticks": ""
           }
          },
          "title": {
           "x": 0.05
          },
          "xaxis": {
           "automargin": true,
           "gridcolor": "white",
           "linecolor": "white",
           "ticks": "",
           "title": {
            "standoff": 15
           },
           "zerolinecolor": "white",
           "zerolinewidth": 2
          },
          "yaxis": {
           "automargin": true,
           "gridcolor": "white",
           "linecolor": "white",
           "ticks": "",
           "title": {
            "standoff": 15
           },
           "zerolinecolor": "white",
           "zerolinewidth": 2
          }
         }
        }
       }
      },
      "text/html": [
       "<div>                            <div id=\"9dfa05df-1bf0-41f8-99eb-7c0ebd02d360\" class=\"plotly-graph-div\" style=\"height:525px; width:100%;\"></div>            <script type=\"text/javascript\">                require([\"plotly\"], function(Plotly) {                    window.PLOTLYENV=window.PLOTLYENV || {};                                    if (document.getElementById(\"9dfa05df-1bf0-41f8-99eb-7c0ebd02d360\")) {                    Plotly.newPlot(                        \"9dfa05df-1bf0-41f8-99eb-7c0ebd02d360\",                        [{\"labels\":[\"baja\",\"activo\"],\"textinfo\":\"value\",\"values\":[431,71],\"type\":\"pie\",\"textfont\":{\"size\":20},\"marker\":{\"line\":{\"color\":\"#000000\",\"width\":2},\"colors\":[\"gold\",\"mediumturquoise\"]},\"hoverinfo\":\"label+percent\"}],                        {\"template\":{\"data\":{\"histogram2dcontour\":[{\"type\":\"histogram2dcontour\",\"colorbar\":{\"outlinewidth\":0,\"ticks\":\"\"},\"colorscale\":[[0.0,\"#0d0887\"],[0.1111111111111111,\"#46039f\"],[0.2222222222222222,\"#7201a8\"],[0.3333333333333333,\"#9c179e\"],[0.4444444444444444,\"#bd3786\"],[0.5555555555555556,\"#d8576b\"],[0.6666666666666666,\"#ed7953\"],[0.7777777777777778,\"#fb9f3a\"],[0.8888888888888888,\"#fdca26\"],[1.0,\"#f0f921\"]]}],\"choropleth\":[{\"type\":\"choropleth\",\"colorbar\":{\"outlinewidth\":0,\"ticks\":\"\"}}],\"histogram2d\":[{\"type\":\"histogram2d\",\"colorbar\":{\"outlinewidth\":0,\"ticks\":\"\"},\"colorscale\":[[0.0,\"#0d0887\"],[0.1111111111111111,\"#46039f\"],[0.2222222222222222,\"#7201a8\"],[0.3333333333333333,\"#9c179e\"],[0.4444444444444444,\"#bd3786\"],[0.5555555555555556,\"#d8576b\"],[0.6666666666666666,\"#ed7953\"],[0.7777777777777778,\"#fb9f3a\"],[0.8888888888888888,\"#fdca26\"],[1.0,\"#f0f921\"]]}],\"heatmap\":[{\"type\":\"heatmap\",\"colorbar\":{\"outlinewidth\":0,\"ticks\":\"\"},\"colorscale\":[[0.0,\"#0d0887\"],[0.1111111111111111,\"#46039f\"],[0.2222222222222222,\"#7201a8\"],[0.3333333333333333,\"#9c179e\"],[0.4444444444444444,\"#bd3786\"],[0.5555555555555556,\"#d8576b\"],[0.6666666666666666,\"#ed7953\"],[0.7777777777777778,\"#fb9f3a\"],[0.8888888888888888,\"#fdca26\"],[1.0,\"#f0f921\"]]}],\"heatmapgl\":[{\"type\":\"heatmapgl\",\"colorbar\":{\"outlinewidth\":0,\"ticks\":\"\"},\"colorscale\":[[0.0,\"#0d0887\"],[0.1111111111111111,\"#46039f\"],[0.2222222222222222,\"#7201a8\"],[0.3333333333333333,\"#9c179e\"],[0.4444444444444444,\"#bd3786\"],[0.5555555555555556,\"#d8576b\"],[0.6666666666666666,\"#ed7953\"],[0.7777777777777778,\"#fb9f3a\"],[0.8888888888888888,\"#fdca26\"],[1.0,\"#f0f921\"]]}],\"contourcarpet\":[{\"type\":\"contourcarpet\",\"colorbar\":{\"outlinewidth\":0,\"ticks\":\"\"}}],\"contour\":[{\"type\":\"contour\",\"colorbar\":{\"outlinewidth\":0,\"ticks\":\"\"},\"colorscale\":[[0.0,\"#0d0887\"],[0.1111111111111111,\"#46039f\"],[0.2222222222222222,\"#7201a8\"],[0.3333333333333333,\"#9c179e\"],[0.4444444444444444,\"#bd3786\"],[0.5555555555555556,\"#d8576b\"],[0.6666666666666666,\"#ed7953\"],[0.7777777777777778,\"#fb9f3a\"],[0.8888888888888888,\"#fdca26\"],[1.0,\"#f0f921\"]]}],\"surface\":[{\"type\":\"surface\",\"colorbar\":{\"outlinewidth\":0,\"ticks\":\"\"},\"colorscale\":[[0.0,\"#0d0887\"],[0.1111111111111111,\"#46039f\"],[0.2222222222222222,\"#7201a8\"],[0.3333333333333333,\"#9c179e\"],[0.4444444444444444,\"#bd3786\"],[0.5555555555555556,\"#d8576b\"],[0.6666666666666666,\"#ed7953\"],[0.7777777777777778,\"#fb9f3a\"],[0.8888888888888888,\"#fdca26\"],[1.0,\"#f0f921\"]]}],\"mesh3d\":[{\"type\":\"mesh3d\",\"colorbar\":{\"outlinewidth\":0,\"ticks\":\"\"}}],\"scatter\":[{\"fillpattern\":{\"fillmode\":\"overlay\",\"size\":10,\"solidity\":0.2},\"type\":\"scatter\"}],\"parcoords\":[{\"type\":\"parcoords\",\"line\":{\"colorbar\":{\"outlinewidth\":0,\"ticks\":\"\"}}}],\"scatterpolargl\":[{\"type\":\"scatterpolargl\",\"marker\":{\"colorbar\":{\"outlinewidth\":0,\"ticks\":\"\"}}}],\"bar\":[{\"error_x\":{\"color\":\"#2a3f5f\"},\"error_y\":{\"color\":\"#2a3f5f\"},\"marker\":{\"line\":{\"color\":\"#E5ECF6\",\"width\":0.5},\"pattern\":{\"fillmode\":\"overlay\",\"size\":10,\"solidity\":0.2}},\"type\":\"bar\"}],\"scattergeo\":[{\"type\":\"scattergeo\",\"marker\":{\"colorbar\":{\"outlinewidth\":0,\"ticks\":\"\"}}}],\"scatterpolar\":[{\"type\":\"scatterpolar\",\"marker\":{\"colorbar\":{\"outlinewidth\":0,\"ticks\":\"\"}}}],\"histogram\":[{\"marker\":{\"pattern\":{\"fillmode\":\"overlay\",\"size\":10,\"solidity\":0.2}},\"type\":\"histogram\"}],\"scattergl\":[{\"type\":\"scattergl\",\"marker\":{\"colorbar\":{\"outlinewidth\":0,\"ticks\":\"\"}}}],\"scatter3d\":[{\"type\":\"scatter3d\",\"line\":{\"colorbar\":{\"outlinewidth\":0,\"ticks\":\"\"}},\"marker\":{\"colorbar\":{\"outlinewidth\":0,\"ticks\":\"\"}}}],\"scattermapbox\":[{\"type\":\"scattermapbox\",\"marker\":{\"colorbar\":{\"outlinewidth\":0,\"ticks\":\"\"}}}],\"scatterternary\":[{\"type\":\"scatterternary\",\"marker\":{\"colorbar\":{\"outlinewidth\":0,\"ticks\":\"\"}}}],\"scattercarpet\":[{\"type\":\"scattercarpet\",\"marker\":{\"colorbar\":{\"outlinewidth\":0,\"ticks\":\"\"}}}],\"carpet\":[{\"aaxis\":{\"endlinecolor\":\"#2a3f5f\",\"gridcolor\":\"white\",\"linecolor\":\"white\",\"minorgridcolor\":\"white\",\"startlinecolor\":\"#2a3f5f\"},\"baxis\":{\"endlinecolor\":\"#2a3f5f\",\"gridcolor\":\"white\",\"linecolor\":\"white\",\"minorgridcolor\":\"white\",\"startlinecolor\":\"#2a3f5f\"},\"type\":\"carpet\"}],\"table\":[{\"cells\":{\"fill\":{\"color\":\"#EBF0F8\"},\"line\":{\"color\":\"white\"}},\"header\":{\"fill\":{\"color\":\"#C8D4E3\"},\"line\":{\"color\":\"white\"}},\"type\":\"table\"}],\"barpolar\":[{\"marker\":{\"line\":{\"color\":\"#E5ECF6\",\"width\":0.5},\"pattern\":{\"fillmode\":\"overlay\",\"size\":10,\"solidity\":0.2}},\"type\":\"barpolar\"}],\"pie\":[{\"automargin\":true,\"type\":\"pie\"}]},\"layout\":{\"autotypenumbers\":\"strict\",\"colorway\":[\"#636efa\",\"#EF553B\",\"#00cc96\",\"#ab63fa\",\"#FFA15A\",\"#19d3f3\",\"#FF6692\",\"#B6E880\",\"#FF97FF\",\"#FECB52\"],\"font\":{\"color\":\"#2a3f5f\"},\"hovermode\":\"closest\",\"hoverlabel\":{\"align\":\"left\"},\"paper_bgcolor\":\"white\",\"plot_bgcolor\":\"#E5ECF6\",\"polar\":{\"bgcolor\":\"#E5ECF6\",\"angularaxis\":{\"gridcolor\":\"white\",\"linecolor\":\"white\",\"ticks\":\"\"},\"radialaxis\":{\"gridcolor\":\"white\",\"linecolor\":\"white\",\"ticks\":\"\"}},\"ternary\":{\"bgcolor\":\"#E5ECF6\",\"aaxis\":{\"gridcolor\":\"white\",\"linecolor\":\"white\",\"ticks\":\"\"},\"baxis\":{\"gridcolor\":\"white\",\"linecolor\":\"white\",\"ticks\":\"\"},\"caxis\":{\"gridcolor\":\"white\",\"linecolor\":\"white\",\"ticks\":\"\"}},\"coloraxis\":{\"colorbar\":{\"outlinewidth\":0,\"ticks\":\"\"}},\"colorscale\":{\"sequential\":[[0.0,\"#0d0887\"],[0.1111111111111111,\"#46039f\"],[0.2222222222222222,\"#7201a8\"],[0.3333333333333333,\"#9c179e\"],[0.4444444444444444,\"#bd3786\"],[0.5555555555555556,\"#d8576b\"],[0.6666666666666666,\"#ed7953\"],[0.7777777777777778,\"#fb9f3a\"],[0.8888888888888888,\"#fdca26\"],[1.0,\"#f0f921\"]],\"sequentialminus\":[[0.0,\"#0d0887\"],[0.1111111111111111,\"#46039f\"],[0.2222222222222222,\"#7201a8\"],[0.3333333333333333,\"#9c179e\"],[0.4444444444444444,\"#bd3786\"],[0.5555555555555556,\"#d8576b\"],[0.6666666666666666,\"#ed7953\"],[0.7777777777777778,\"#fb9f3a\"],[0.8888888888888888,\"#fdca26\"],[1.0,\"#f0f921\"]],\"diverging\":[[0,\"#8e0152\"],[0.1,\"#c51b7d\"],[0.2,\"#de77ae\"],[0.3,\"#f1b6da\"],[0.4,\"#fde0ef\"],[0.5,\"#f7f7f7\"],[0.6,\"#e6f5d0\"],[0.7,\"#b8e186\"],[0.8,\"#7fbc41\"],[0.9,\"#4d9221\"],[1,\"#276419\"]]},\"xaxis\":{\"gridcolor\":\"white\",\"linecolor\":\"white\",\"ticks\":\"\",\"title\":{\"standoff\":15},\"zerolinecolor\":\"white\",\"automargin\":true,\"zerolinewidth\":2},\"yaxis\":{\"gridcolor\":\"white\",\"linecolor\":\"white\",\"ticks\":\"\",\"title\":{\"standoff\":15},\"zerolinecolor\":\"white\",\"automargin\":true,\"zerolinewidth\":2},\"scene\":{\"xaxis\":{\"backgroundcolor\":\"#E5ECF6\",\"gridcolor\":\"white\",\"linecolor\":\"white\",\"showbackground\":true,\"ticks\":\"\",\"zerolinecolor\":\"white\",\"gridwidth\":2},\"yaxis\":{\"backgroundcolor\":\"#E5ECF6\",\"gridcolor\":\"white\",\"linecolor\":\"white\",\"showbackground\":true,\"ticks\":\"\",\"zerolinecolor\":\"white\",\"gridwidth\":2},\"zaxis\":{\"backgroundcolor\":\"#E5ECF6\",\"gridcolor\":\"white\",\"linecolor\":\"white\",\"showbackground\":true,\"ticks\":\"\",\"zerolinecolor\":\"white\",\"gridwidth\":2}},\"shapedefaults\":{\"line\":{\"color\":\"#2a3f5f\"}},\"annotationdefaults\":{\"arrowcolor\":\"#2a3f5f\",\"arrowhead\":0,\"arrowwidth\":1},\"geo\":{\"bgcolor\":\"white\",\"landcolor\":\"#E5ECF6\",\"subunitcolor\":\"white\",\"showland\":true,\"showlakes\":true,\"lakecolor\":\"white\"},\"title\":{\"x\":0.05},\"mapbox\":{\"style\":\"light\"}}}},                        {\"responsive\": true}                    ).then(function(){\n",
       "                            \n",
       "var gd = document.getElementById('9dfa05df-1bf0-41f8-99eb-7c0ebd02d360');\n",
       "var x = new MutationObserver(function (mutations, observer) {{\n",
       "        var display = window.getComputedStyle(gd).display;\n",
       "        if (!display || display === 'none') {{\n",
       "            console.log([gd, 'removed!']);\n",
       "            Plotly.purge(gd);\n",
       "            observer.disconnect();\n",
       "        }}\n",
       "}});\n",
       "\n",
       "// Listen for the removal of the full notebook cells\n",
       "var notebookContainer = gd.closest('#notebook-container');\n",
       "if (notebookContainer) {{\n",
       "    x.observe(notebookContainer, {childList: true});\n",
       "}}\n",
       "\n",
       "// Listen for the clearing of the current output cell\n",
       "var outputEl = gd.closest('.output');\n",
       "if (outputEl) {{\n",
       "    x.observe(outputEl, {childList: true});\n",
       "}}\n",
       "\n",
       "                        })                };                });            </script>        </div>"
      ]
     },
     "metadata": {},
     "output_type": "display_data"
    }
   ],
   "source": [
    "fig = go.Figure(data=[go.Pie(labels=['baja','activo'], values=df['Estatus'].value_counts(), textinfo='label+percent')])\n",
    "fig.update_traces(hoverinfo='label+percent', textinfo='value', textfont_size=20,\n",
    "                  marker=dict(colors=['gold', 'mediumturquoise'], line=dict(color='#000000', width=2)))\n",
    "fig.show()"
   ]
  },
  {
   "cell_type": "markdown",
   "metadata": {},
   "source": [
    "**2.2. Outliers detection** "
   ]
  },
  {
   "cell_type": "code",
   "execution_count": 66,
   "metadata": {},
   "outputs": [
    {
     "data": {
      "application/vnd.plotly.v1+json": {
       "config": {
        "plotlyServerURL": "https://plot.ly"
       },
       "data": [
        {
         "boxpoints": "outliers",
         "fillcolor": "gold",
         "jitter": 0.5,
         "line": {
          "width": 2
         },
         "marker": {
          "size": 3
         },
         "name": "PUESTO",
         "type": "box",
         "whiskerwidth": 0.2,
         "y": [
          "OP PRODUCCION",
          "OP PRODUCCION",
          "OP PRODUCCION",
          "OP PRODUCCION",
          "OP PRODUCCION",
          "OP PRENSA",
          "AUXILIAR ALMACEN",
          "OP PRODUCCION",
          "AUXILIAR ALMACEN",
          "OP PRODUCCION",
          "OP PRODUCCION",
          "INSP CALIDAD",
          "AUXILIAR ALMACEN",
          "OP PRODUCCION",
          "OP PRODUCCION",
          "OP PRODUCCION",
          "OP PRODUCCION",
          "OP PRODUCCION",
          "OP PRODUCCION",
          "OP PRODUCCION",
          "INSP CALIDAD",
          "OP PRODUCCION",
          "OP PRODUCCION",
          "OP PRODUCCION",
          "OP PRODUCCION",
          "OP PRODUCCION",
          "OP PRODUCCION",
          "INSP CALIDAD",
          "OP PRODUCCION",
          "OP PRODUCCION",
          "INSP CALIDAD",
          "OP PRODUCCION",
          "INSP CALIDAD",
          "OP PRODUCCION",
          "OP PRODUCCION",
          "OP PRODUCCION",
          "OP PRODUCCION",
          "MONTACARGUISTA",
          "OP PRODUCCION",
          "OP PRODUCCION",
          "MONTACARGUISTA",
          "INTENDENCIA",
          "OP PRENSA",
          "OP PRODUCCION",
          "OP PRODUCCION",
          "AUXILIAR ALMACEN",
          "OP PRODUCCION",
          "OP PRODUCCION",
          "OP PRODUCCION",
          "OP PRODUCCION",
          "MONTACARGUISTA",
          "OP PRODUCCION",
          "OP PRODUCCION",
          "OP PRODUCCION",
          "OP PRODUCCION",
          "OP PRODUCCION",
          "OP PRODUCCION",
          "OP PRENSA",
          "MONTACARGUISTA",
          "OP PRODUCCION",
          "OP PRODUCCION",
          "OP PRODUCCION",
          "INSP CALIDAD",
          "MONTACARGUISTA",
          "OP PRENSA",
          "OP PRENSA",
          "OP PRENSA",
          "OP PRENSA",
          "OP PRENSA",
          "OP PRENSA",
          "OP PRENSA",
          "OP PRENSA",
          "OP PRENSA",
          "OP PRENSA",
          "OP PRENSA",
          "OP PRENSA",
          "OP PRENSA",
          "OP PRENSA",
          "OP PRENSA",
          "OP PRENSA",
          "OP PRENSA",
          "OP PRENSA",
          "OP PRENSA",
          "OP PRENSA",
          "OP PRENSA",
          "OP PRENSA",
          "OP PRENSA",
          "OP PRENSA",
          "OP PRENSA",
          "OP PRENSA",
          "OP PRENSA",
          "OP PRENSA",
          "OP PRENSA",
          "OP PRENSA",
          "OP PRENSA",
          "OP PRENSA",
          "OP PRODUCCION",
          "OP PRODUCCION",
          "OP PRODUCCION",
          "INSP CALIDAD",
          "OP PRENSA",
          "OP PRODUCCION",
          "OP PRODUCCION",
          "OP PRODUCCION",
          "OP PRODUCCION",
          "OP PRODUCCION",
          "OP PRODUCCION",
          "MECANICO",
          "OP PRENSA",
          "OP PRODUCCION",
          "OP PRODUCCION",
          "OP PRENSA",
          "INSP CALIDAD",
          "MONTACARGUISTA",
          "OP PRENSA",
          "OP PRENSA",
          "OP PRENSA",
          "OP PRENSA",
          "OP PRENSA",
          "OP PRENSA",
          "OP PRENSA",
          "OP PRENSA",
          "OP PRENSA",
          "OP PRENSA",
          "OP PRENSA",
          "OP PRENSA",
          "OP PRENSA",
          "OP PRENSA",
          "OP PRENSA",
          "OP PRENSA",
          "OP PRENSA",
          "OP PRENSA",
          "OP PRENSA",
          "OP PRENSA",
          "OP PRENSA",
          "OP PRENSA",
          "OP PRENSA",
          "OP PRENSA",
          "OP PRENSA",
          "OP PRENSA",
          "OP PRENSA",
          "OP PRENSA",
          "OP PRENSA",
          "OP PRENSA",
          "OP PRENSA",
          "OP PRENSA",
          "OP PRENSA",
          "OP PRENSA",
          "OP PRODUCCION",
          "OP PRODUCCION",
          "OP PRODUCCION",
          "OP PRODUCCION",
          "OP PRODUCCION",
          "OP PRODUCCION",
          "OP PRODUCCION",
          "OP PRODUCCION",
          "OP PRODUCCION",
          "OP PRODUCCION",
          "OP PRODUCCION",
          "OP PRENSA",
          "INSP CALIDAD",
          "INTENDENCIA",
          "MECANICO",
          "MONTACARGUISTA",
          "OP PRENSA",
          "OP PRODUCCION",
          "OP PRODUCCION",
          "OP PRODUCCION",
          "OP PRODUCCION",
          "OP PRODUCCION",
          "AUXILIAR ALMACEN",
          "OP PRODUCCION",
          "OP PRENSA",
          "OP PRENSA",
          "OP PRENSA",
          "OP PRENSA",
          "OP PRENSA",
          "OP PRENSA",
          "OP PRENSA",
          "OP PRENSA",
          "OP PRENSA",
          "OP PRENSA",
          "OP PRENSA",
          "OP PRENSA",
          "OP PRENSA",
          "OP PRENSA",
          "OP PRENSA",
          "OP PRENSA",
          "OP PRENSA",
          "OP PRENSA",
          "OP PRENSA",
          "OP PRENSA",
          "OP PRENSA",
          "OP PRENSA",
          "OP PRENSA",
          "OP PRENSA",
          "OP PRENSA",
          "OP PRENSA",
          "OP PRENSA",
          "OP PRENSA",
          "OP PRENSA",
          "OP PRENSA",
          "OP PRENSA",
          "OP PRENSA",
          "OP PRENSA",
          "OP PRENSA",
          "OP PRODUCCION",
          "OP PRODUCCION",
          "OP PRODUCCION",
          "OP PRODUCCION",
          "OP PRODUCCION",
          "OP PRODUCCION",
          "OP PRENSA",
          "MONTACARGUISTA",
          "OP PRENSA",
          "OP PRODUCCION",
          "OP PRODUCCION",
          "OP PRODUCCION",
          "OP PRODUCCION",
          "OP PRENSA",
          "OP PRENSA",
          "OP PRENSA",
          "OP PRODUCCION",
          "OP PRODUCCION",
          "OP PRODUCCION",
          "INSP CALIDAD",
          "INSP CALIDAD",
          "MECANICO",
          "OP PRENSA",
          "OP PRENSA",
          "OP PRODUCCION",
          "OP PRODUCCION",
          "OP PRODUCCION",
          "MONTACARGUISTA",
          "OP PRODUCCION",
          "OP PRODUCCION",
          "OP PRODUCCION",
          "OP PRENSA",
          "MONTACARGUISTA",
          "OP PRODUCCION",
          "OP PRODUCCION",
          "MONTACARGUISTA",
          "OP PRENSA",
          "OP PRODUCCION",
          "MONTACARGUISTA",
          "OP PRODUCCION",
          "AUXILIAR ALMACEN",
          "OP PRENSA",
          "OP PRENSA",
          "MONTACARGUISTA",
          "OP PRENSA",
          "OP PRENSA",
          "OP PRENSA",
          "OP PRENSA",
          "OP PRENSA",
          "OP PRODUCCION",
          "OP PRODUCCION",
          "OP PRODUCCION",
          "OP PRODUCCION",
          "OP PRODUCCION",
          "OP PRODUCCION",
          "OP PRODUCCION",
          "OP PRODUCCION",
          "OP PRODUCCION",
          "OP PRENSA",
          "OP PRODUCCION",
          "OP PRODUCCION",
          "OP PRODUCCION",
          "OP PRODUCCION",
          "OP PRODUCCION",
          "MONTACARGUISTA",
          "OP PRODUCCION",
          "OP PRENSA",
          "OP PRODUCCION",
          "INSP CALIDAD",
          "OP PRODUCCION",
          "OP PRODUCCION",
          "OP PRODUCCION",
          "OP PRODUCCION",
          "INTENDENCIA",
          "OP PRENSA",
          "OP PRENSA",
          "OP PRODUCCION",
          "OP PRODUCCION",
          "OP PRODUCCION",
          "OP PRODUCCION",
          "OP PRODUCCION",
          "OP PRODUCCION",
          "OP PRODUCCION",
          "OP PRODUCCION",
          "OP PRODUCCION",
          "OP PRODUCCION",
          "MECANICO",
          "OP PRODUCCION",
          "MONTACARGUISTA",
          "OP PRODUCCION",
          "OP PRODUCCION",
          "OP PRODUCCION",
          "INSP CALIDAD",
          "OP PRODUCCION",
          "OP PRENSA",
          "OP PRODUCCION",
          "MONTACARGUISTA",
          "OP PRODUCCION",
          "OP PRODUCCION",
          "OP PRODUCCION",
          "OP PRENSA",
          "OP PRODUCCION",
          "OP PRODUCCION",
          "OP PRODUCCION",
          "MECANICO",
          "OP PRENSA",
          "OP PRENSA",
          "OP PRODUCCION",
          "OP PRODUCCION",
          "OP PRENSA",
          "OP PRODUCCION",
          "OP PRENSA",
          "OP PRODUCCION",
          "OP PRODUCCION",
          "OP PRODUCCION",
          "OP PRODUCCION",
          "OP PRODUCCION",
          "OP PRENSA",
          "OP PRODUCCION",
          "OP PRODUCCION",
          "OP PRODUCCION",
          "OP PRENSA",
          "OP PRENSA",
          "OP PRODUCCION",
          "MONTACARGUISTA",
          "OP PRODUCCION",
          "OP PRODUCCION",
          "INSP CALIDAD",
          "OP PRODUCCION",
          "OP PRODUCCION",
          "OP PRODUCCION",
          "OP PRODUCCION",
          "OP PRENSA",
          "MONTACARGUISTA",
          "OP PRODUCCION",
          "MECANICO",
          "OP PRODUCCION",
          "OP PRENSA",
          "INSP CALIDAD",
          "OP PRODUCCION",
          "OP PRODUCCION",
          "MECANICO",
          "OP PRODUCCION",
          "OP PRODUCCION",
          "INSP CALIDAD",
          "OP PRODUCCION",
          "OP PRENSA",
          "OP PRODUCCION",
          "INSP CALIDAD",
          "OP PRODUCCION",
          "OP PRENSA",
          "OP PRODUCCION",
          "OP PRODUCCION",
          "OP PRODUCCION",
          "OP PRODUCCION",
          "OP PRODUCCION",
          "OP PRODUCCION",
          "OP PRODUCCION",
          "OP PRODUCCION",
          "OP PRODUCCION",
          "MONTACARGUISTA",
          "OP PRODUCCION",
          "OP PRENSA",
          "OP PRODUCCION",
          "OP PRENSA",
          "OP PRODUCCION",
          "OP PRODUCCION",
          "MONTACARGUISTA",
          "OP PRODUCCION",
          "OP PRODUCCION",
          "OP PRENSA",
          "OP PRODUCCION",
          "OP PRODUCCION",
          "MONTACARGUISTA",
          "OP PRODUCCION",
          "OP PRODUCCION",
          "OP PRODUCCION",
          "OP PRODUCCION",
          "MONTACARGUISTA",
          "OP PRODUCCION",
          "MONTACARGUISTA",
          "OP PRENSA",
          "OP PRODUCCION",
          "MECANICO",
          "OP PRODUCCION",
          "OP PRODUCCION",
          "MONTACARGUISTA",
          "OP PRODUCCION",
          "AUXILIAR ALMACEN",
          "OP PRODUCCION",
          "OP PRODUCCION",
          "OP PRODUCCION",
          "OP PRODUCCION",
          "OP PRODUCCION",
          "OP PRODUCCION",
          "OP PRODUCCION",
          "OP PRODUCCION",
          "OP PRODUCCION",
          "OP PRODUCCION",
          "OP PRODUCCION",
          "OP PRODUCCION",
          "OP PRODUCCION",
          "OP PRODUCCION",
          "OP PRODUCCION",
          "OP PRODUCCION",
          "OP PRENSA",
          "OP PRODUCCION",
          "MONTACARGUISTA",
          "OP PRODUCCION",
          "OP PRODUCCION",
          "OP PRODUCCION",
          "OP PRENSA",
          "OP PRODUCCION",
          "OP PRODUCCION",
          "OP PRENSA",
          "OP PRODUCCION",
          "OP PRODUCCION",
          "OP PRENSA",
          "OP PRODUCCION",
          "MECANICO",
          "OP PRODUCCION",
          "MONTACARGUISTA",
          "OP PRODUCCION",
          "OP PRODUCCION",
          "MONTACARGUISTA",
          "OP PRODUCCION",
          "OP PRODUCCION",
          "MONTACARGUISTA",
          "OP PRODUCCION",
          "OP PRODUCCION",
          "OP PRODUCCION",
          "OP PRODUCCION",
          "OP PRODUCCION",
          "MONTACARGUISTA",
          "OP PRODUCCION",
          "OP PRODUCCION",
          "OP PRODUCCION",
          "OP PRODUCCION",
          "OP PRODUCCION",
          "INSP CALIDAD",
          "OP PRENSA",
          "OP PRODUCCION",
          "OP PRODUCCION",
          "OP PRODUCCION",
          "OP PRODUCCION",
          "OP PRODUCCION",
          "OP PRODUCCION",
          "OP PRODUCCION",
          "AUXILIAR ALMACEN",
          "OP PRODUCCION",
          "OP PRODUCCION",
          "OP PRODUCCION",
          "OP PRODUCCION",
          "AUXILIAR ALMACEN",
          "OP PRODUCCION",
          "OP PRODUCCION",
          "AUXILIAR ALMACEN",
          "OP PRODUCCION",
          "OP PRODUCCION",
          "INSP CALIDAD",
          "OP PRODUCCION",
          "OP PRENSA",
          "OP PRODUCCION",
          "OP PRODUCCION",
          "MONTACARGUISTA",
          "OP PRODUCCION",
          "OP PRODUCCION",
          "MONTACARGUISTA",
          "OP PRODUCCION",
          "OP PRODUCCION",
          "OP PRODUCCION",
          "OP PRENSA",
          "AUXILIAR ALMACEN",
          "INSP CALIDAD",
          "OP PRODUCCION",
          "OP PRENSA",
          "OP PRODUCCION",
          "OP PRODUCCION",
          "OP PRODUCCION",
          "INSP CALIDAD",
          "INSP CALIDAD",
          "MONTACARGUISTA",
          "OP PRODUCCION",
          "OP PRODUCCION",
          "OP PRODUCCION",
          "OP PRODUCCION",
          "OP PRODUCCION",
          "OP PRODUCCION",
          "OP PRENSA",
          "OP PRENSA",
          "OP PRODUCCION",
          "MECANICO",
          "INTENDENCIA",
          "OP PRODUCCION",
          "OP PRODUCCION",
          "OP PRODUCCION"
         ]
        },
        {
         "boxpoints": "outliers",
         "fillcolor": "mediumturquoise",
         "jitter": 0.5,
         "line": {
          "width": 2
         },
         "marker": {
          "size": 3
         },
         "name": "AREA",
         "type": "box",
         "whiskerwidth": 0.2,
         "y": [
          "PRODUCCION",
          "PRODUCCION",
          "PRODUCCION",
          "PRODUCCION",
          "PRODUCCION",
          "PRENSA",
          "ALMACEN",
          "PRODUCCION",
          "ALMACEN",
          "PRODUCCION",
          "PRODUCCION",
          "CALIDAD",
          "ALMACEN",
          "PRODUCCION",
          "PRODUCCION",
          "PRODUCCION",
          "PRODUCCION",
          "PRODUCCION",
          "PRODUCCION",
          "PRODUCCION",
          "CALIDAD",
          "PRODUCCION",
          "PRODUCCION",
          "PRODUCCION",
          "PRODUCCION",
          "PRODUCCION",
          "PRODUCCION",
          "CALIDAD",
          "PRODUCCION",
          "PRODUCCION",
          "CALIDAD",
          "PRODUCCION",
          "CALIDAD",
          "PRODUCCION",
          "PRODUCCION",
          "PRODUCCION",
          "PRODUCCION",
          "ALMACEN",
          "PRODUCCION",
          "PRODUCCION",
          "ALMACEN",
          "PRODUCCION",
          "PRENSA",
          "PRODUCCION",
          "PRODUCCION",
          "ALMACEN",
          "PRODUCCION",
          "PRODUCCION",
          "PRODUCCION",
          "PRODUCCION",
          "ALMACEN",
          "PRODUCCION",
          "PRODUCCION",
          "PRODUCCION",
          "PRODUCCION",
          "PRODUCCION",
          "PRODUCCION",
          "PRENSA",
          "ALMACEN",
          "PRODUCCION",
          "PRODUCCION",
          "PRODUCCION",
          "CALIDAD",
          "ALMACEN",
          "PRENSA",
          "PRENSA",
          "PRENSA",
          "PRENSA",
          "PRENSA",
          "PRENSA",
          "PRENSA",
          "PRENSA",
          "PRENSA",
          "PRENSA",
          "PRENSA",
          "PRENSA",
          "PRENSA",
          "PRENSA",
          "PRENSA",
          "PRENSA",
          "PRENSA",
          "PRENSA",
          "PRENSA",
          "PRENSA",
          "PRENSA",
          "PRENSA",
          "PRENSA",
          "PRENSA",
          "PRENSA",
          "PRENSA",
          "PRENSA",
          "PRENSA",
          "PRENSA",
          "PRENSA",
          "PRENSA",
          "PRENSA",
          "PRODUCCION",
          "PRODUCCION",
          "PRODUCCION",
          "CALIDAD",
          "PRENSA",
          "PRODUCCION",
          "PRODUCCION",
          "PRODUCCION",
          "PRODUCCION",
          "PRODUCCION",
          "PRODUCCION",
          "MANTENIMIENTO",
          "PRENSA",
          "PRODUCCION",
          "PRODUCCION",
          "PRENSA",
          "CALIDAD",
          "ALMACEN",
          "PRENSA",
          "PRENSA",
          "PRENSA",
          "PRENSA",
          "PRENSA",
          "PRENSA",
          "PRENSA",
          "PRENSA",
          "PRENSA",
          "PRENSA",
          "PRENSA",
          "PRENSA",
          "PRENSA",
          "PRENSA",
          "PRENSA",
          "PRENSA",
          "PRENSA",
          "PRENSA",
          "PRENSA",
          "PRENSA",
          "PRENSA",
          "PRENSA",
          "PRENSA",
          "PRENSA",
          "PRENSA",
          "PRENSA",
          "PRENSA",
          "PRENSA",
          "PRENSA",
          "PRENSA",
          "PRENSA",
          "PRENSA",
          "PRENSA",
          "PRENSA",
          "PRODUCCION",
          "PRODUCCION",
          "PRODUCCION",
          "PRODUCCION",
          "PRODUCCION",
          "PRODUCCION",
          "PRODUCCION",
          "PRODUCCION",
          "PRODUCCION",
          "PRODUCCION",
          "PRODUCCION",
          "PRENSA",
          "CALIDAD",
          "PRODUCCION",
          "MANTENIMIENTO",
          "ALMACEN",
          "PRENSA",
          "PRODUCCION",
          "PRODUCCION",
          "PRODUCCION",
          "PRODUCCION",
          "PRODUCCION",
          "ALMACEN",
          "PRODUCCION",
          "PRENSA",
          "PRENSA",
          "PRENSA",
          "PRENSA",
          "PRENSA",
          "PRENSA",
          "PRENSA",
          "PRENSA",
          "PRENSA",
          "PRENSA",
          "PRENSA",
          "PRENSA",
          "PRENSA",
          "PRENSA",
          "PRENSA",
          "PRENSA",
          "PRENSA",
          "PRENSA",
          "PRENSA",
          "PRENSA",
          "PRENSA",
          "PRENSA",
          "PRENSA",
          "PRENSA",
          "PRENSA",
          "PRENSA",
          "PRENSA",
          "PRENSA",
          "PRENSA",
          "PRENSA",
          "PRENSA",
          "PRENSA",
          "PRENSA",
          "PRENSA",
          "PRODUCCION",
          "PRODUCCION",
          "PRODUCCION",
          "PRODUCCION",
          "PRODUCCION",
          "PRODUCCION",
          "PRENSA",
          "ALMACEN",
          "PRENSA",
          "PRODUCCION",
          "PRODUCCION",
          "PRODUCCION",
          "PRODUCCION",
          "PRENSA",
          "PRENSA",
          "PRENSA",
          "PRODUCCION",
          "PRODUCCION",
          "PRODUCCION",
          "CALIDAD",
          "CALIDAD",
          "MANTENIMIENTO",
          "PRENSA",
          "PRENSA",
          "PRODUCCION",
          "PRODUCCION",
          "PRODUCCION",
          "ALMACEN",
          "PRODUCCION",
          "PRODUCCION",
          "PRODUCCION",
          "ALMACEN",
          "ALMACEN",
          "PRODUCCION",
          "PRODUCCION",
          "ALMACEN",
          "PRENSA",
          "PRODUCCION",
          "ALMACEN",
          "PRODUCCION",
          "ALMACEN",
          "PRENSA",
          "PRENSA",
          "ALMACEN",
          "PRENSA",
          "PRENSA",
          "PRENSA",
          "PRENSA",
          "PRENSA",
          "PRODUCCION",
          "PRODUCCION",
          "PRODUCCION",
          "PRODUCCION",
          "PRODUCCION",
          "PRODUCCION",
          "PRODUCCION",
          "PRODUCCION",
          "PRODUCCION",
          "PRENSA",
          "PRODUCCION",
          "PRODUCCION",
          "PRODUCCION",
          "PRODUCCION",
          "PRODUCCION",
          "ALMACEN",
          "PRODUCCION",
          "PRENSA",
          "PRODUCCION",
          "CALIDAD",
          "PRODUCCION",
          "PRODUCCION",
          "PRODUCCION",
          "PRODUCCION",
          "PRODUCCION",
          "PRENSA",
          "PRENSA",
          "PRODUCCION",
          "PRODUCCION",
          "PRODUCCION",
          "PRODUCCION",
          "PRODUCCION",
          "PRODUCCION",
          "PRODUCCION",
          "PRODUCCION",
          "PRODUCCION",
          "PRODUCCION",
          "MANTENIMIENTO",
          "PRODUCCION",
          "ALMACEN",
          "PRODUCCION",
          "PRODUCCION",
          "PRODUCCION",
          "CALIDAD",
          "PRODUCCION",
          "PRENSA",
          "PRODUCCION",
          "ALMACEN",
          "PRODUCCION",
          "PRODUCCION",
          "PRODUCCION",
          "PRENSA",
          "PRODUCCION",
          "PRODUCCION",
          "PRODUCCION",
          "MANTENIMIENTO",
          "PRENSA",
          "PRENSA",
          "PRODUCCION",
          "PRODUCCION",
          "PRENSA",
          "PRODUCCION",
          "PRENSA",
          "PRODUCCION",
          "PRODUCCION",
          "PRODUCCION",
          "PRODUCCION",
          "PRODUCCION",
          "PRENSA",
          "PRODUCCION",
          "PRODUCCION",
          "PRODUCCION",
          "PRENSA",
          "PRENSA",
          "PRODUCCION",
          "ALMACEN",
          "PRODUCCION",
          "PRODUCCION",
          "CALIDAD",
          "PRODUCCION",
          "PRODUCCION",
          "PRODUCCION",
          "PRODUCCION",
          "PRENSA",
          "ALMACEN",
          "PRODUCCION",
          "MANTENIMIENTO",
          "PRODUCCION",
          "PRENSA",
          "CALIDAD",
          "PRODUCCION",
          "PRODUCCION",
          "MANTENIMIENTO",
          "PRODUCCION",
          "PRODUCCION",
          "CALIDAD",
          "PRODUCCION",
          "PRENSA",
          "PRODUCCION",
          "CALIDAD",
          "PRODUCCION",
          "PRENSA",
          "PRODUCCION",
          "PRODUCCION",
          "PRODUCCION",
          "PRODUCCION",
          "PRODUCCION",
          "PRODUCCION",
          "PRODUCCION",
          "PRODUCCION",
          "PRODUCCION",
          "ALMACEN",
          "PRODUCCION",
          "PRENSA",
          "PRODUCCION",
          "PRENSA",
          "PRODUCCION",
          "PRODUCCION",
          "ALMACEN",
          "PRODUCCION",
          "PRODUCCION",
          "PRENSA",
          "PRODUCCION",
          "PRODUCCION",
          "ALMACEN",
          "PRODUCCION",
          "PRODUCCION",
          "PRODUCCION",
          "PRODUCCION",
          "ALMACEN",
          "PRODUCCION",
          "ALMACEN",
          "PRENSA",
          "PRODUCCION",
          "MANTENIMIENTO",
          "PRODUCCION",
          "PRODUCCION",
          "ALMACEN",
          "PRODUCCION",
          "ALMACEN",
          "PRODUCCION",
          "PRODUCCION",
          "PRODUCCION",
          "PRODUCCION",
          "PRODUCCION",
          "PRODUCCION",
          "PRODUCCION",
          "PRODUCCION",
          "PRODUCCION",
          "PRODUCCION",
          "PRODUCCION",
          "PRODUCCION",
          "PRODUCCION",
          "PRODUCCION",
          "PRODUCCION",
          "PRODUCCION",
          "PRENSA",
          "PRODUCCION",
          "ALMACEN",
          "PRODUCCION",
          "PRODUCCION",
          "PRODUCCION",
          "PRENSA",
          "PRODUCCION",
          "PRODUCCION",
          "PRENSA",
          "PRODUCCION",
          "PRODUCCION",
          "PRENSA",
          "PRODUCCION",
          "MANTENIMIENTO",
          "PRODUCCION",
          "ALMACEN",
          "PRODUCCION",
          "PRODUCCION",
          "ALMACEN",
          "PRODUCCION",
          "PRODUCCION",
          "ALMACEN",
          "PRODUCCION",
          "PRODUCCION",
          "PRODUCCION",
          "PRODUCCION",
          "PRODUCCION",
          "ALMACEN",
          "PRODUCCION",
          "PRODUCCION",
          "PRODUCCION",
          "PRODUCCION",
          "PRODUCCION",
          "CALIDAD",
          "PRENSA",
          "PRODUCCION",
          "PRODUCCION",
          "PRODUCCION",
          "PRODUCCION",
          "PRODUCCION",
          "PRODUCCION",
          "PRODUCCION",
          "ALMACEN",
          "PRODUCCION",
          "PRODUCCION",
          "PRODUCCION",
          "PRODUCCION",
          "ALMACEN",
          "PRODUCCION",
          "PRODUCCION",
          "ALMACEN",
          "PRODUCCION",
          "PRODUCCION",
          "CALIDAD",
          "PRODUCCION",
          "PRENSA",
          "PRODUCCION",
          "PRODUCCION",
          "ALMACEN",
          "PRODUCCION",
          "PRODUCCION",
          "ALMACEN",
          "PRODUCCION",
          "PRODUCCION",
          "PRODUCCION",
          "PRENSA",
          "ALMACEN",
          "CALIDAD",
          "PRODUCCION",
          "PRENSA",
          "PRODUCCION",
          "PRODUCCION",
          "PRODUCCION",
          "CALIDAD",
          "CALIDAD",
          "ALMACEN",
          "PRODUCCION",
          "PRODUCCION",
          "PRODUCCION",
          "PRODUCCION",
          "PRODUCCION",
          "PRODUCCION",
          "PRENSA",
          "PRENSA",
          "PRODUCCION",
          "MANTENIMIENTO",
          "PRODUCCION",
          "PRODUCCION",
          "PRODUCCION",
          "PRODUCCION"
         ]
        },
        {
         "boxpoints": "outliers",
         "fillcolor": "darkorange",
         "jitter": 0.5,
         "line": {
          "width": 2
         },
         "marker": {
          "size": 3
         },
         "name": "TURNO",
         "type": "box",
         "whiskerwidth": 0.2,
         "y": [
          "C",
          "C",
          "C",
          "C",
          "C",
          "C",
          "B",
          "C",
          "A",
          "A",
          "C",
          "C",
          "A",
          "A",
          "C",
          "C",
          "B",
          "B",
          "B",
          "C",
          "C",
          "C",
          "C",
          "C",
          "C",
          "B",
          "C",
          "C",
          "B",
          "C",
          "B",
          "C",
          "C",
          "B",
          "A",
          "C",
          "B",
          "B",
          "B",
          "B",
          "C",
          "C",
          "C",
          "C",
          "C",
          "B",
          "C",
          "C",
          "B",
          "B",
          "C",
          "A",
          "B",
          "B",
          "B",
          "B",
          "B",
          "C",
          "B",
          "C",
          "B",
          "C",
          "B",
          "C",
          "C",
          "B",
          "C",
          "C",
          "A",
          "C",
          "C",
          "A",
          "C",
          "B",
          "C",
          "B",
          "ROLA",
          "A",
          "B",
          "C",
          "C",
          "C",
          "A",
          "A",
          "B",
          "C",
          "B",
          "A",
          "A",
          "C",
          "A",
          "A",
          "C",
          "A",
          "ROLA",
          "C",
          "C",
          "A",
          "B",
          "B",
          "C",
          "C",
          "C",
          "B",
          "C",
          "C",
          "B",
          "ROLA",
          "B",
          "B",
          "C",
          "A",
          "C",
          "A",
          "A",
          "B",
          "A",
          "A",
          "A",
          "A",
          "C",
          "B",
          "B",
          "C",
          "B",
          "C",
          "A",
          "A",
          "B",
          "A",
          "A",
          "A",
          "B",
          "C",
          "A",
          "B",
          "ROLA",
          "B",
          "C",
          "C",
          "B",
          "A",
          "A",
          "A",
          "C",
          "B",
          "A",
          "A",
          "A",
          "C",
          "C",
          "A",
          "C",
          "C",
          "B",
          "C",
          "A",
          "B",
          "B",
          "B",
          "C",
          "C",
          "ROLA",
          "C",
          "B",
          "B",
          "B",
          "C",
          "C",
          "A",
          "B",
          "B",
          "B",
          "A",
          "A",
          "C",
          "A",
          "A",
          "C",
          "C",
          "C",
          "A",
          "B",
          "B",
          "B",
          "B",
          "C",
          "A",
          "B",
          "A",
          "C",
          "A",
          "C",
          "A",
          "B",
          "A",
          "A",
          "A",
          "C",
          "A",
          "A",
          "A",
          "A",
          "A",
          "A",
          "B",
          "A",
          "C",
          "B",
          "A",
          "B",
          "B",
          "B",
          "A",
          "C",
          "C",
          "C",
          "A",
          "C",
          "B",
          "C",
          "B",
          "B",
          "A",
          "C",
          "C",
          "C",
          "ROLA",
          "C",
          "C",
          "A",
          "B",
          "B",
          "A",
          "C",
          "A",
          "C",
          "C",
          "B",
          "B",
          "C",
          "B",
          "C",
          "A",
          "A",
          "C",
          "B",
          "B",
          "A",
          "B",
          "ROLA",
          "A",
          "C",
          "A",
          "B",
          "B",
          "B",
          "C",
          "C",
          "B",
          "B",
          "C",
          "C",
          "C",
          "B",
          "A",
          "C",
          "C",
          "A",
          "B",
          "B",
          "B",
          "B",
          "B",
          "B",
          "B",
          "B",
          "C",
          "C",
          "C",
          "B",
          "C",
          "C",
          "C",
          "B",
          "C",
          "C",
          "C",
          "C",
          "B",
          "A",
          "B",
          "ROLA",
          "C",
          "C",
          "B",
          "A",
          "B",
          "C",
          "C",
          "C",
          "B",
          "B",
          "C",
          "B",
          "A",
          "C",
          "C",
          "B",
          "C",
          "ROLA",
          "C",
          "B",
          "C",
          "C",
          "C",
          "C",
          "A",
          "C",
          "C",
          "B",
          "C",
          "C",
          "C",
          "C",
          "A",
          "C",
          "C",
          "B",
          "A",
          "C",
          "C",
          "B",
          "B",
          "B",
          "B",
          "B",
          "C",
          "ROLA",
          "A",
          "B",
          "ROLA",
          "C",
          "C",
          "A",
          "A",
          "A",
          "ROLA",
          "A",
          "B",
          "C",
          "B",
          "C",
          "A",
          "C",
          "C",
          "B",
          "C",
          "A",
          "A",
          "C",
          "C",
          "B",
          "C",
          "C",
          "B",
          "A",
          "B",
          "B",
          "C",
          "C",
          "C",
          "C",
          "B",
          "A",
          "A",
          "A",
          "B",
          "B",
          "C",
          "A",
          "B",
          "C",
          "C",
          "A",
          "B",
          "B",
          "A",
          "B",
          "ROLA",
          "B",
          "B",
          "A",
          "A",
          "A",
          "A",
          "C",
          "A",
          "B",
          "B",
          "B",
          "C",
          "C",
          "B",
          "C",
          "A",
          "B",
          "A",
          "C",
          "C",
          "B",
          "C",
          "C",
          "C",
          "C",
          "B",
          "C",
          "B",
          "A",
          "C",
          "C",
          "C",
          "B",
          "C",
          "C",
          "ROLA",
          "A",
          "B",
          "C",
          "A",
          "C",
          "C",
          "B",
          "A",
          "A",
          "A",
          "C",
          "C",
          "A",
          "B",
          "A",
          "A",
          "C",
          "B",
          "B",
          "B",
          "B",
          "C",
          "A",
          "B",
          "B",
          "C",
          "B",
          "C",
          "B",
          "A",
          "C",
          "A",
          "B",
          "B",
          "A",
          "C",
          "A",
          "B",
          "A",
          "A",
          "C",
          "C",
          "A",
          "C",
          "C",
          "A",
          "A",
          "A",
          "B",
          "C",
          "B",
          "B",
          "B",
          "C",
          "B",
          "B",
          "B",
          "B",
          "B",
          "A",
          "B",
          "B",
          "A",
          "C",
          "C",
          "C",
          "A",
          "C",
          "B",
          "B",
          "C",
          "ROLA",
          "B",
          "C",
          "A",
          "C"
         ]
        },
        {
         "boxpoints": "outliers",
         "fillcolor": "lightgreen",
         "jitter": 0.5,
         "line": {
          "width": 2
         },
         "marker": {
          "size": 3
         },
         "name": "MUNICIPIO",
         "type": "box",
         "whiskerwidth": 0.2,
         "y": [
          "TALA",
          "TALA",
          "TALA",
          "TALA",
          "TALA",
          "TLAJOMULCO",
          "TALA",
          "TALA",
          "TALA",
          "TALA",
          "AHUISCULCO ",
          "TALA",
          "TALA",
          "TALA",
          "ZAP",
          "TALA",
          "HUAXTLA",
          "HUAXTLA",
          "LA VENTA DEL ASTILLERO ",
          "TALA",
          "TALA",
          "TALA",
          "TALA",
          "TALA",
          "TALA",
          "TALA",
          "TALA",
          "TALA",
          "TALA",
          "TALA",
          "TALA",
          "TALA",
          "TALA",
          "ZAP",
          "TALA",
          "TALA",
          "TALA",
          "TALA",
          "LA VENTA DEL ASTILLERO ",
          "TALA",
          "TALA",
          "TALA",
          "TALA",
          "TALA",
          "TALA",
          "TALA",
          "TALA",
          "TALA",
          "TALA",
          "TALA",
          "TALA",
          "TALA",
          "TALA",
          "TALA",
          "TALA",
          "TALA",
          "TALA",
          "TLAJOMULCO",
          "TALA",
          "TALA",
          "TALA",
          "TALA",
          "TALA",
          "TALA",
          "TALA",
          "TALA",
          "TALA",
          "TALA",
          "TALA",
          "TALA",
          "TALA",
          "TALA",
          "TALA",
          "TALA",
          "TALA",
          "TALA",
          "TALA",
          "TALA",
          "TALA",
          "TALA",
          "TALA",
          "TALA",
          "TALA",
          "TALA",
          "TALA",
          "TALA",
          "TALA",
          "TALA",
          "TALA",
          "TALA",
          "TALA",
          "TALA",
          "TALA",
          "TALA",
          "TALA",
          "TALA",
          "TALA",
          "TALA",
          "TALA",
          "TALA",
          "TALA",
          "TALA",
          "TALA",
          "TALA",
          "TALA",
          "TALA",
          "TALA",
          "TALA",
          "TALA",
          "TALA",
          "ZAP",
          "TALA",
          "TALA",
          "TALA",
          "TALA",
          "TALA",
          "TALA",
          "TALA",
          "TALA",
          "TALA",
          "TALA",
          "TALA",
          "TALA",
          "TALA",
          "TALA",
          "TALA",
          "TALA",
          "TALA",
          "TALA",
          "TALA",
          "TALA",
          "TALA",
          "TALA",
          "TALA",
          "TALA",
          "TALA",
          "TALA",
          "TALA",
          "TALA",
          "TALA",
          "TALA",
          "TALA",
          "TALA",
          "TALA",
          "TALA",
          "TALA",
          "TALA",
          "TALA",
          "TALA",
          "TALA",
          "TALA",
          "TALA",
          "TALA",
          "TALA",
          "TALA",
          "TALA",
          "TALA",
          "TALA",
          "TALA",
          "TALA",
          "ZAP",
          "TALA",
          "TALA",
          "TALA",
          "TALA",
          "TALA",
          "TALA",
          "TALA",
          "TALA",
          "TALA",
          "TALA",
          "TALA",
          "TALA",
          "TALA",
          "TALA",
          "TALA",
          "TALA",
          "TALA",
          "TALA",
          "TALA",
          "TALA",
          "TALA",
          "TALA",
          "TALA",
          "TALA",
          "TALA",
          "TALA",
          "TALA",
          "TALA",
          "TALA",
          "TALA",
          "TALA",
          "TALA",
          "TALA",
          "TALA",
          "TALA",
          "TALA",
          "TALA",
          "TALA",
          "TALA",
          "TALA",
          "TALA",
          "TALA",
          "TALA",
          "TALA",
          "TALA",
          "TALA",
          "TALA",
          "TALA",
          "TALA",
          "TALA",
          "TALA",
          "TALA",
          "ZAMORA",
          "TALA",
          "TALA",
          "TALA",
          "TALA",
          "TALA",
          "TALA",
          "TALA",
          "TALA",
          "TALA",
          "TALA",
          "TALA",
          "TALA",
          "TALA",
          "TALA",
          "TALA",
          "TALA",
          "TALA",
          "TALA",
          "TALA",
          "TALA",
          "TALA",
          "TALA",
          "TALA",
          "TALA",
          "TALA",
          "TALA",
          "TALA",
          "ZAP",
          "TALA",
          "TALA",
          "TALA",
          "TALA",
          "TALA",
          "TALA",
          "TALA",
          "TALA",
          "TALA",
          "TALA",
          "TALA",
          "TALA",
          "TALA",
          "TALA",
          "TALA",
          "TALA",
          "TALA",
          "TALA",
          "TALA",
          "TALA",
          "TALA",
          "TALA",
          "TALA",
          "TALA",
          "TALA",
          "TALA",
          "TALA",
          "TALA",
          "TALA",
          "TALA",
          "TALA",
          "TALA",
          "TALA",
          "TALA",
          "TALA",
          "TALA",
          "TALA",
          "TALA",
          "TALA",
          "TALA",
          "TALA",
          "TALA",
          "TALA",
          "TALA",
          "ZAP",
          "TALA",
          "TALA",
          "TALA",
          "TALA",
          "TALA",
          "ZAP",
          "TALA",
          "TALA",
          "TALA",
          "EL ARENAL",
          "TALA",
          "TALA",
          "TALA",
          "TALA",
          "TALA",
          "ZAP",
          "TALA",
          "TALA",
          "TALA",
          "TALA",
          "TALA",
          "TALA",
          "TALA",
          "ZAP",
          "TALA",
          "TALA",
          "TALA",
          "TALA",
          "TALA",
          "TALA",
          "TALA",
          "TALA",
          "TALA",
          "TALA",
          "TALA",
          "TALA",
          "TALA",
          "TALA",
          "TALA",
          "TALA",
          "TALA",
          "TALA",
          "TALA",
          "TALA",
          "TALA",
          "TALA",
          "TALA",
          "TALA",
          "TALA",
          "TALA",
          "TALA",
          "TALA",
          "TALA",
          "TALA",
          "TALA",
          "TALA",
          "TALA",
          "TALA",
          "TALA",
          "TALA",
          "TALA",
          "TALA",
          "TALA",
          "TALA",
          "TALA",
          "TALA",
          "TALA",
          "TALA",
          "BUENA VISTA ",
          "TALA",
          "TALA",
          "TALA",
          "TALA",
          "TALA",
          "TALA",
          "TALA",
          "EL ARENAL",
          "TALA",
          "TALA",
          "TALA",
          "TALA",
          "TALA",
          "TALA",
          "TALA",
          "TALA",
          "TALA",
          "TALA",
          "TALA",
          "TALA",
          "TALA",
          "TALA",
          "TALA",
          "TALA",
          "JALISCO",
          "TALA",
          "TALA",
          "TALA",
          "TALA",
          "TALA",
          "TALA",
          "TALA",
          "TALA",
          "TALA",
          "TALA",
          "TALA",
          "ZAMORA",
          "TALA",
          "CD GUZMAN",
          "TALA",
          "TALA",
          "TALA",
          "TALA",
          "TALA",
          "TALA",
          "TALA",
          "TALA",
          "TALA",
          "TALA",
          "TALA",
          "TALA",
          "TALA",
          "EL ARENAL",
          "TALA",
          "TALA",
          "EL ARENAL",
          "TALA",
          "TALA",
          "TALA",
          "TALA",
          "EL ARENAL",
          "TALA",
          "EL ARENAL",
          "TALA",
          "TLAJOMULCO",
          "TALA",
          "TALA",
          "TALA",
          "TALA",
          "TALA",
          "TALA",
          "TALA",
          "TALA",
          "TALA",
          "TALA",
          "EL ARENAL",
          "EL ARENAL",
          "CD GUZMAN",
          "EL ARENAL",
          "EL ARENAL",
          "HUAXTLA ",
          "SAN JUAN DE LOS ARCOS ",
          "TALA",
          "TALA",
          "TALA",
          "TALA",
          "TALA",
          "TALA",
          "TALA",
          "TALA",
          "TALA",
          "TALA",
          "TALA",
          "TALA",
          "TALA",
          "TALA",
          "TALA",
          "TALA",
          "TALA",
          "TALA",
          "TALA",
          "TALA",
          "TALA",
          "TALA",
          "TALA",
          "TALA",
          "TALA",
          "TALA",
          "TALA",
          "TALA",
          "TALA",
          "TALA",
          "TALA",
          "TALA",
          "TALA",
          "TALA",
          "TALA",
          "TALA",
          "TALA",
          "TALA",
          "TALA",
          "TALA",
          "TALA",
          "TALA",
          "TALA",
          "TALA",
          "TALA",
          "TALA",
          "TALA",
          "TALA",
          "TALA",
          "TALA",
          "TALA",
          "TALA",
          "TALA",
          "TALA",
          "TALA",
          "TALA",
          "TALA",
          "TALA",
          "ZAP",
          "ZAP",
          "TALA",
          "TALA",
          "TALA",
          "TALA"
         ]
        },
        {
         "boxpoints": "outliers",
         "fillcolor": "cyan",
         "jitter": 0.5,
         "line": {
          "width": 2
         },
         "marker": {
          "size": 3
         },
         "name": "ESCOLARIDAD",
         "type": "box",
         "whiskerwidth": 0.2,
         "y": [
          "SECUNDARIA",
          "SECUNDARIA_TRUNCA",
          "SECUNDARIA",
          "SECUNDARIA",
          "PREPARATORIA",
          "PREPARATORIA",
          "SECUNDARIA_TRUNCA",
          "PREPARATORIA",
          "PREPARATORIA_TRUNCA",
          "SECUNDARIA_TRUNCA",
          "PRIMARIA",
          "CURSANDO_LICENCIATURA",
          "PREPARATORIA_TRUNCA",
          "PREPARATORIA",
          "PREPARATORIA_TRUNCA",
          "SECUNDARIA_TRUNCA",
          "SECUNDARIA",
          "SECUNDARIA",
          "SECUNDARIA",
          "PREPARATORIA",
          "PREPARATORIA",
          "SECUNDARIA",
          "PRIMARIA",
          "PREPARATORIA_TRUNCA",
          "SECUNDARIA",
          "PREPARATORIA",
          "PREPARATORIA",
          "SECUNDARIA",
          "PREPARATORIA",
          "PREPARATORIA",
          "PREPARATORIA",
          "SECUNDARIA",
          "PREPARATORIA",
          "CURSANDO_LICENCIATURA",
          "SECUNDARIA",
          "PREPARATORIA",
          "PRIMARIA",
          "SECUNDARIA_TRUNCA",
          "PREPARATORIA",
          "SECUNDARIA",
          "PREPARATORIA",
          "SECUNDARIA_TRUNCA",
          "SECUNDARIA_TRUNCA",
          "PRIMARIA",
          "PRIMARIA",
          "SECUNDARIA",
          "SECUNDARIA_TRUNCA",
          "SECUNDARIA_TRUNCA",
          "SECUNDARIA",
          "SECUNDARIA",
          "PREPARATORIA",
          "SECUNDARIA",
          "PRIMARIA",
          "SECUNDARIA",
          "SECUNDARIA",
          "SECUNDARIA",
          "SECUNDARIA",
          "PRIMARIA",
          "SECUNDARIA_TRUNCA",
          "SECUNDARIA",
          "SECUNDARIA",
          "SECUNDARIA",
          "SECUNDARIA_TRUNCA",
          "SECUNDARIA_TRUNCA",
          "SECUNDARIA_TRUNCA",
          "SECUNDARIA_TRUNCA",
          "SECUNDARIA_TRUNCA",
          "SECUNDARIA_TRUNCA",
          "SECUNDARIA_TRUNCA",
          "SECUNDARIA_TRUNCA",
          "SECUNDARIA_TRUNCA",
          "SECUNDARIA_TRUNCA",
          "SECUNDARIA_TRUNCA",
          "SECUNDARIA_TRUNCA",
          "SECUNDARIA_TRUNCA",
          "SECUNDARIA",
          "SECUNDARIA",
          "SECUNDARIA",
          "SECUNDARIA",
          "SECUNDARIA",
          "SECUNDARIA",
          "SECUNDARIA",
          "SECUNDARIA",
          "SECUNDARIA",
          "SECUNDARIA",
          "SECUNDARIA",
          "SECUNDARIA",
          "SECUNDARIA",
          "SECUNDARIA",
          "SECUNDARIA",
          "SECUNDARIA",
          "SECUNDARIA",
          "SECUNDARIA",
          "SECUNDARIA",
          "SECUNDARIA",
          "SECUNDARIA",
          "SECUNDARIA",
          "SECUNDARIA",
          "SECUNDARIA",
          "SECUNDARIA",
          "SECUNDARIA",
          "SECUNDARIA",
          "SECUNDARIA",
          "PREPARATORIA",
          "SECUNDARIA",
          "SECUNDARIA",
          "SECUNDARIA",
          "INGENIERO",
          "SECUNDARIA",
          "PRIMARIA",
          "PREPARATORIA",
          "SECUNDARIA",
          "SIN_ESTUDIOS",
          "SIN_ESTUDIOS",
          "SIN_ESTUDIOS",
          "SIN_ESTUDIOS",
          "SIN_ESTUDIOS",
          "SIN_ESTUDIOS",
          "SIN_ESTUDIOS",
          "SIN_ESTUDIOS",
          "SIN_ESTUDIOS",
          "SIN_ESTUDIOS",
          "SIN_ESTUDIOS",
          "SIN_ESTUDIOS",
          "SIN_ESTUDIOS",
          "SIN_ESTUDIOS",
          "SIN_ESTUDIOS",
          "SIN_ESTUDIOS",
          "SIN_ESTUDIOS",
          "SIN_ESTUDIOS",
          "SIN_ESTUDIOS",
          "SIN_ESTUDIOS",
          "SIN_ESTUDIOS",
          "SIN_ESTUDIOS",
          "SIN_ESTUDIOS",
          "SIN_ESTUDIOS",
          "SIN_ESTUDIOS",
          "SIN_ESTUDIOS",
          "SECUNDARIA_TRUNCA",
          "SECUNDARIA_TRUNCA",
          "SECUNDARIA_TRUNCA",
          "SECUNDARIA_TRUNCA",
          "SECUNDARIA_TRUNCA",
          "SECUNDARIA_TRUNCA",
          "SECUNDARIA_TRUNCA",
          "SECUNDARIA_TRUNCA",
          "SECUNDARIA_TRUNCA",
          "SECUNDARIA_TRUNCA",
          "SECUNDARIA_TRUNCA",
          "SECUNDARIA_TRUNCA",
          "SECUNDARIA_TRUNCA",
          "SECUNDARIA_TRUNCA",
          "CURSANDO_LICENCIATURA",
          "SECUNDARIA",
          "SECUNDARIA",
          "SECUNDARIA",
          "SECUNDARIA",
          "PREPARATORIA_TRUNCA",
          "PREPARATORIA_TRUNCA",
          "SECUNDARIA",
          "SECUNDARIA",
          "SECUNDARIA_TRUNCA",
          "SECUNDARIA_TRUNCA",
          "SECUNDARIA_TRUNCA",
          "SECUNDARIA_TRUNCA",
          "SECUNDARIA_TRUNCA",
          "PREPARATORIA_TRUNCA",
          "PREPARATORIA_TRUNCA",
          "PREPARATORIA_TRUNCA",
          "PREPARATORIA_TRUNCA",
          "SECUNDARIA",
          "SECUNDARIA_TRUNCA",
          "PREPARATORIA_TRUNCA",
          "PREPARATORIA_TRUNCA",
          "PREPARATORIA_TRUNCA",
          "PREPARATORIA_TRUNCA",
          "PREPARATORIA_TRUNCA",
          "PREPARATORIA_TRUNCA",
          "PREPARATORIA_TRUNCA",
          "PREPARATORIA_TRUNCA",
          "PREPARATORIA_TRUNCA",
          "PREPARATORIA_TRUNCA",
          "PREPARATORIA_TRUNCA",
          "PREPARATORIA_TRUNCA",
          "PREPARATORIA_TRUNCA",
          "PREPARATORIA_TRUNCA",
          "PREPARATORIA_TRUNCA",
          "PREPARATORIA_TRUNCA",
          "PREPARATORIA_TRUNCA",
          "PREPARATORIA_TRUNCA",
          "PREPARATORIA_TRUNCA",
          "PREPARATORIA_TRUNCA",
          "PREPARATORIA_TRUNCA",
          "PREPARATORIA_TRUNCA",
          "SECUNDARIA",
          "SECUNDARIA",
          "SECUNDARIA",
          "SECUNDARIA",
          "SECUNDARIA",
          "SECUNDARIA",
          "SECUNDARIA",
          "SECUNDARIA",
          "SECUNDARIA",
          "SECUNDARIA",
          "SECUNDARIA",
          "SECUNDARIA",
          "SECUNDARIA",
          "SECUNDARIA",
          "SECUNDARIA",
          "SECUNDARIA",
          "SECUNDARIA",
          "PRIMARIA",
          "SECUNDARIA",
          "SECUNDARIA",
          "SECUNDARIA",
          "SECUNDARIA",
          "SECUNDARIA",
          "PREPARATORIA_TRUNCA",
          "SECUNDARIA",
          "SECUNDARIA",
          "SECUNDARIA",
          "SECUNDARIA",
          "SECUNDARIA",
          "SECUNDARIA",
          "SECUNDARIA",
          "SECUNDARIA",
          "SECUNDARIA",
          "SECUNDARIA",
          "SECUNDARIA",
          "SECUNDARIA",
          "SECUNDARIA",
          "SECUNDARIA",
          "PRIMARIA",
          "SECUNDARIA",
          "SECUNDARIA",
          "SECUNDARIA",
          "PRIMARIA",
          "PRIMARIA",
          "PREPARATORIA",
          "SECUNDARIA",
          "SECUNDARIA",
          "PREPARATORIA_TRUNCA",
          "SECUNDARIA",
          "SECUNDARIA",
          "SECUNDARIA",
          "SECUNDARIA",
          "SECUNDARIA",
          "SECUNDARIA",
          "SECUNDARIA",
          "SECUNDARIA",
          "SECUNDARIA",
          "PREPARATORIA_TRUNCA",
          "PREPARATORIA_TRUNCA",
          "PREPARATORIA_TRUNCA",
          "PREPARATORIA_TRUNCA",
          "PREPARATORIA_TRUNCA",
          "PREPARATORIA_TRUNCA",
          "PREPARATORIA_TRUNCA",
          "PREPARATORIA_TRUNCA",
          "PREPARATORIA_TRUNCA",
          "PREPARATORIA_TRUNCA",
          "PREPARATORIA_TRUNCA",
          "PREPARATORIA_TRUNCA",
          "PRIMARIA",
          "PREPARATORIA_TRUNCA",
          "PREPARATORIA_TRUNCA",
          "PREPARATORIA_TRUNCA",
          "SECUNDARIA",
          "PREPARATORIA",
          "PREPARATORIA",
          "PREPARATORIA_TRUNCA",
          "PREPARATORIA_TRUNCA",
          "SECUNDARIA",
          "SECUNDARIA",
          "SECUNDARIA",
          "SECUNDARIA",
          "SECUNDARIA",
          "SECUNDARIA",
          "SECUNDARIA",
          "PREPARATORIA_TRUNCA",
          "PREPARATORIA_TRUNCA",
          "PREPARATORIA_TRUNCA",
          "PREPARATORIA_TRUNCA",
          "SECUNDARIA",
          "SECUNDARIA",
          "SECUNDARIA",
          "PREPARATORIA_TRUNCA",
          "PREPARATORIA_TRUNCA",
          "PREPARATORIA_TRUNCA",
          "PRIMARIA",
          "PREPARATORIA",
          "PREPARATORIA",
          "PREPARATORIA_TECNICA",
          "PREPARATORIA_TRUNCA",
          "PREPARATORIA_TRUNCA",
          "PREPARATORIA_TRUNCA",
          "SECUNDARIA",
          "SECUNDARIA",
          "SECUNDARIA",
          "SECUNDARIA",
          "SECUNDARIA_TRUNCA",
          "SECUNDARIA",
          "PREPARATORIA_TRUNCA",
          "SECUNDARIA_TRUNCA",
          "PRIMARIA",
          "PRIMARIA",
          "SECUNDARIA_TRUNCA",
          "SECUNDARIA_TRUNCA",
          "SECUNDARIA_TRUNCA",
          "SECUNDARIA",
          "PREPARATORIA_TECNICA",
          "SECUNDARIA",
          "SECUNDARIA_TRUNCA",
          "SECUNDARIA_TRUNCA",
          "SECUNDARIA_TRUNCA",
          "SECUNDARIA",
          "SECUNDARIA",
          "SECUNDARIA_TRUNCA",
          "SECUNDARIA_TRUNCA",
          "SECUNDARIA",
          "PREPARATORIA",
          "SECUNDARIA",
          "SECUNDARIA",
          "SECUNDARIA_TRUNCA",
          "SECUNDARIA_TRUNCA",
          "PRIMARIA",
          "SECUNDARIA",
          "PRIMARIA",
          "PRIMARIA",
          "PRIMARIA",
          "PRIMARIA",
          "SECUNDARIA",
          "SECUNDARIA",
          "CURSANDO_PREPARATORIA",
          "PRIMARIA",
          "SECUNDARIA",
          "SECUNDARIA",
          "PRIMARIA",
          "PRIMARIA",
          "PREPARATORIA",
          "PRIMARIA",
          "PREPARATORIA_TECNICA",
          "SECUNDARIA",
          "SECUNDARIA",
          "PREPARATORIA",
          "SECUNDARIA",
          "SECUNDARIA",
          "INGENIERO",
          "SECUNDARIA",
          "PRIMARIA",
          "PREPARATORIA",
          "SIN_ESTUDIOS",
          "PRIMARIA",
          "PRIMARIA",
          "PREPARATORIA",
          "PREPARATORIA",
          "SECUNDARIA",
          "PRIMARIA",
          "SECUNDARIA",
          "SECUNDARIA",
          "SECUNDARIA",
          "PRIMARIA",
          "SECUNDARIA",
          "CURSANDO_LICENCIATURA",
          "SECUNDARIA",
          "PREPARATORIA",
          "PRIMARIA",
          "SECUNDARIA",
          "PREPARATORIA",
          "PREPARATORIA",
          "PREPARATORIA_TRUNCA",
          "SECUNDARIA",
          "PRIMARIA",
          "PREPARATORIA",
          "SECUNDARIA",
          "SECUNDARIA",
          "PRIMARIA",
          "SECUNDARIA",
          "PRIMARIA",
          "SECUNDARIA",
          "SECUNDARIA",
          "PREPARATORIA_TECNICA",
          "SECUNDARIA",
          "SECUNDARIA",
          "PREPARATORIA_TRUNCA",
          "PRIMARIA",
          "PREPARATORIA",
          "PREPARATORIA_TRUNCA",
          "SECUNDARIA",
          "INGENIERO",
          "SECUNDARIA",
          "SECUNDARIA",
          "PREPARATORIA",
          "SIN_ESTUDIOS",
          "PREPARATORIA",
          "SECUNDARIA",
          "SECUNDARIA",
          "SECUNDARIA",
          "PRIMARIA",
          "PRIMARIA",
          "SECUNDARIA",
          "SECUNDARIA",
          "SIN_ESTUDIOS",
          "PRIMARIA",
          "PREPARATORIA",
          "PREPARATORIA",
          "PREPARATORIA",
          "SECUNDARIA",
          "SECUNDARIA",
          "SECUNDARIA",
          "SECUNDARIA",
          "PREPARATORIA",
          "SECUNDARIA",
          "PRIMARIA",
          "SECUNDARIA",
          "SECUNDARIA",
          "PREPARATORIA_TECNICA",
          "SIN_ESTUDIOS",
          "PREPARATORIA_TRUNCA",
          "SECUNDARIA",
          "PRIMARIA",
          "SECUNDARIA",
          "PREPARATORIA",
          "PREPARATORIA",
          "SECUNDARIA",
          "PREPARATORIA",
          "PRIMARIA",
          "PREPARATORIA",
          "PRIMARIA",
          "CURSANDO_SECUNDARIA",
          "SECUNDARIA",
          "LICENCIATURA",
          "PREPARATORIA",
          "INGENIERO",
          "PREPARATORIA",
          "PREPARATORIA",
          "PRIMARIA",
          "SECUNDARIA",
          "PRIMARIA",
          "SECUNDARIA",
          "PRIMARIA",
          "SECUNDARIA",
          "SECUNDARIA",
          "SECUNDARIA",
          "SIN_ESTUDIOS",
          "SECUNDARIA",
          "PREPARATORIA",
          "SECUNDARIA",
          "SECUNDARIA",
          "PREPARATORIA",
          "SECUNDARIA",
          "SECUNDARIA",
          "SECUNDARIA",
          "PRIMARIA",
          "PREPARATORIA",
          "PRIMARIA",
          "PREPARATORIA",
          "PREPARATORIA",
          "PRIMARIA",
          "PREPARATORIA",
          "PREPARATORIA",
          "SECUNDARIA",
          "SECUNDARIA",
          "PREPARATORIA",
          "SECUNDARIA",
          "PREPARATORIA",
          "PRIMARIA",
          "SECUNDARIA",
          "SECUNDARIA",
          "SECUNDARIA",
          "PREPARATORIA",
          "SECUNDARIA",
          "SECUNDARIA",
          "SECUNDARIA",
          "SECUNDARIA",
          "SECUNDARIA",
          "PRIMARIA",
          "SECUNDARIA",
          "INGENIERO",
          "PREPARATORIA",
          "SECUNDARIA",
          "PREPARATORIA",
          "PRIMARIA",
          "PRIMARIA",
          "SECUNDARIA",
          "PREPARATORIA",
          "SECUNDARIA",
          "SECUNDARIA",
          "SECUNDARIA",
          "PRIMARIA",
          "PREPARATORIA",
          "CURSANDO_LICENCIATURA",
          "PREPARATORIA",
          "SECUNDARIA",
          "PRIMARIA",
          "SECUNDARIA",
          "PREPARATORIA",
          "PREPARATORIA_TRUNCA",
          "SIN_ESTUDIOS",
          "SIN_ESTUDIOS",
          "SIN_ESTUDIOS",
          "SIN_ESTUDIOS"
         ]
        },
        {
         "boxpoints": "outliers",
         "fillcolor": "royalblue",
         "jitter": 0.5,
         "line": {
          "width": 2
         },
         "marker": {
          "size": 3
         },
         "name": "GENERO",
         "type": "box",
         "whiskerwidth": 0.2,
         "y": [
          "FEMENINO",
          "FEMENINO",
          "FEMENINO",
          "FEMENINO",
          "FEMENINO",
          "MASCULINO",
          "FEMENINO",
          "FEMENINO",
          "MASCULINO",
          "FEMENINO",
          "FEMENINO",
          "FEMENINO",
          "MASCULINO",
          "MASCULINO",
          "FEMENINO",
          "MASCULINO",
          "FEMENINO",
          "FEMENINO",
          "FEMENINO",
          "FEMENINO",
          "FEMENINO",
          "FEMENINO",
          "FEMENINO",
          "FEMENINO",
          "FEMENINO",
          "FEMENINO",
          "FEMENINO",
          "FEMENINO",
          "FEMENINO",
          "MASCULINO",
          "FEMENINO",
          "FEMENINO",
          "FEMENINO",
          "MASCULINO",
          "FEMENINO",
          "MASCULINO",
          "MASCULINO",
          "FEMENINO",
          "FEMENINO",
          "FEMENINO",
          "MASCULINO",
          "MASCULINO",
          "FEMENINO",
          "FEMENINO",
          "FEMENINO",
          "MASCULINO",
          "MASCULINO",
          "MASCULINO",
          "FEMENINO",
          "FEMENINO",
          "MASCULINO",
          "FEMENINO",
          "FEMENINO",
          "MASCULINO",
          "MASCULINO",
          "FEMENINO",
          "FEMENINO",
          "MASCULINO",
          "FEMENINO",
          "FEMENINO",
          "FEMENINO",
          "FEMENINO",
          "MASCULINO",
          "FEMENINO",
          "FEMENINO",
          "FEMENINO",
          "MASCULINO",
          "MASCULINO",
          "MASCULINO",
          "MASCULINO",
          "MASCULINO",
          "MASCULINO",
          "MASCULINO",
          "MASCULINO",
          "FEMENINO",
          "MASCULINO",
          "FEMENINO",
          "FEMENINO",
          "FEMENINO",
          "MASCULINO",
          "MASCULINO",
          "MASCULINO",
          "FEMENINO",
          "MASCULINO",
          "MASCULINO",
          "MASCULINO",
          "FEMENINO",
          "FEMENINO",
          "FEMENINO",
          "MASCULINO",
          "FEMENINO",
          "FEMENINO",
          "FEMENINO",
          "MASCULINO",
          "FEMENINO",
          "MASCULINO",
          "MASCULINO",
          "FEMENINO",
          "FEMENINO",
          "FEMENINO",
          "MASCULINO",
          "MASCULINO",
          "MASCULINO",
          "MASCULINO",
          "MASCULINO",
          "FEMENINO",
          "FEMENINO",
          "MASCULINO",
          "MASCULINO",
          "FEMENINO",
          "MASCULINO",
          "FEMENINO",
          "MASCULINO",
          "FEMENINO",
          "FEMENINO",
          "FEMENINO",
          "MASCULINO",
          "MASCULINO",
          "MASCULINO",
          "MASCULINO",
          "MASCULINO",
          "MASCULINO",
          "MASCULINO",
          "FEMENINO",
          "FEMENINO",
          "FEMENINO",
          "MASCULINO",
          "MASCULINO",
          "MASCULINO",
          "FEMENINO",
          "MASCULINO",
          "FEMENINO",
          "FEMENINO",
          "FEMENINO",
          "MASCULINO",
          "MASCULINO",
          "FEMENINO",
          "MASCULINO",
          "MASCULINO",
          "MASCULINO",
          "MASCULINO",
          "FEMENINO",
          "MASCULINO",
          "FEMENINO",
          "FEMENINO",
          "MASCULINO",
          "MASCULINO",
          "MASCULINO",
          "MASCULINO",
          "MASCULINO",
          "FEMENINO",
          "MASCULINO",
          "MASCULINO",
          "FEMENINO",
          "MASCULINO",
          "MASCULINO",
          "MASCULINO",
          "FEMENINO",
          "MASCULINO",
          "FEMENINO",
          "FEMENINO",
          "MASCULINO",
          "FEMENINO",
          "MASCULINO",
          "MASCULINO",
          "FEMENINO",
          "FEMENINO",
          "FEMENINO",
          "MASCULINO",
          "MASCULINO",
          "MASCULINO",
          "MASCULINO",
          "FEMENINO",
          "MASCULINO",
          "MASCULINO",
          "FEMENINO",
          "FEMENINO",
          "MASCULINO",
          "MASCULINO",
          "MASCULINO",
          "MASCULINO",
          "FEMENINO",
          "FEMENINO",
          "MASCULINO",
          "FEMENINO",
          "MASCULINO",
          "MASCULINO",
          "MASCULINO",
          "FEMENINO",
          "MASCULINO",
          "MASCULINO",
          "FEMENINO",
          "FEMENINO",
          "MASCULINO",
          "MASCULINO",
          "FEMENINO",
          "FEMENINO",
          "FEMENINO",
          "FEMENINO",
          "FEMENINO",
          "FEMENINO",
          "FEMENINO",
          "MASCULINO",
          "FEMENINO",
          "MASCULINO",
          "MASCULINO",
          "MASCULINO",
          "MASCULINO",
          "MASCULINO",
          "FEMENINO",
          "FEMENINO",
          "FEMENINO",
          "FEMENINO",
          "MASCULINO",
          "MASCULINO",
          "MASCULINO",
          "MASCULINO",
          "MASCULINO",
          "MASCULINO",
          "FEMENINO",
          "MASCULINO",
          "MASCULINO",
          "FEMENINO",
          "FEMENINO",
          "FEMENINO",
          "MASCULINO",
          "MASCULINO",
          "FEMENINO",
          "MASCULINO",
          "FEMENINO",
          "MASCULINO",
          "MASCULINO",
          "FEMENINO",
          "MASCULINO",
          "FEMENINO",
          "FEMENINO",
          "FEMENINO",
          "MASCULINO",
          "MASCULINO",
          "MASCULINO",
          "FEMENINO",
          "MASCULINO",
          "MASCULINO",
          "FEMENINO",
          "MASCULINO",
          "MASCULINO",
          "MASCULINO",
          "FEMENINO",
          "MASCULINO",
          "FEMENINO",
          "FEMENINO",
          "FEMENINO",
          "MASCULINO",
          "FEMENINO",
          "FEMENINO",
          "MASCULINO",
          "FEMENINO",
          "FEMENINO",
          "MASCULINO",
          "FEMENINO",
          "MASCULINO",
          "MASCULINO",
          "MASCULINO",
          "FEMENINO",
          "FEMENINO",
          "MASCULINO",
          "FEMENINO",
          "FEMENINO",
          "MASCULINO",
          "MASCULINO",
          "FEMENINO",
          "MASCULINO",
          "FEMENINO",
          "FEMENINO",
          "FEMENINO",
          "MASCULINO",
          "FEMENINO",
          "MASCULINO",
          "FEMENINO",
          "MASCULINO",
          "FEMENINO",
          "MASCULINO",
          "FEMENINO",
          "FEMENINO",
          "MASCULINO",
          "FEMENINO",
          "FEMENINO",
          "MASCULINO",
          "FEMENINO",
          "FEMENINO",
          "FEMENINO",
          "FEMENINO",
          "MASCULINO",
          "FEMENINO",
          "FEMENINO",
          "MASCULINO",
          "FEMENINO",
          "FEMENINO",
          "FEMENINO",
          "FEMENINO",
          "MASCULINO",
          "MASCULINO",
          "MASCULINO",
          "MASCULINO",
          "MASCULINO",
          "MASCULINO",
          "MASCULINO",
          "MASCULINO",
          "MASCULINO",
          "FEMENINO",
          "MASCULINO",
          "FEMENINO",
          "MASCULINO",
          "MASCULINO",
          "FEMENINO",
          "MASCULINO",
          "FEMENINO",
          "FEMENINO",
          "FEMENINO",
          "FEMENINO",
          "MASCULINO",
          "MASCULINO",
          "MASCULINO",
          "MASCULINO",
          "FEMENINO",
          "FEMENINO",
          "FEMENINO",
          "FEMENINO",
          "FEMENINO",
          "FEMENINO",
          "FEMENINO",
          "FEMENINO",
          "FEMENINO",
          "FEMENINO",
          "MASCULINO",
          "FEMENINO",
          "MASCULINO",
          "FEMENINO",
          "FEMENINO",
          "MASCULINO",
          "FEMENINO",
          "MASCULINO",
          "MASCULINO",
          "FEMENINO",
          "FEMENINO",
          "FEMENINO",
          "MASCULINO",
          "MASCULINO",
          "MASCULINO",
          "FEMENINO",
          "FEMENINO",
          "FEMENINO",
          "MASCULINO",
          "FEMENINO",
          "FEMENINO",
          "FEMENINO",
          "FEMENINO",
          "FEMENINO",
          "FEMENINO",
          "FEMENINO",
          "FEMENINO",
          "MASCULINO",
          "FEMENINO",
          "MASCULINO",
          "MASCULINO",
          "MASCULINO",
          "MASCULINO",
          "FEMENINO",
          "MASCULINO",
          "FEMENINO",
          "MASCULINO",
          "FEMENINO",
          "FEMENINO",
          "MASCULINO",
          "FEMENINO",
          "MASCULINO",
          "MASCULINO",
          "FEMENINO",
          "FEMENINO",
          "MASCULINO",
          "MASCULINO",
          "MASCULINO",
          "FEMENINO",
          "FEMENINO",
          "FEMENINO",
          "MASCULINO",
          "MASCULINO",
          "FEMENINO",
          "FEMENINO",
          "MASCULINO",
          "MASCULINO",
          "FEMENINO",
          "MASCULINO",
          "FEMENINO",
          "MASCULINO",
          "MASCULINO",
          "MASCULINO",
          "MASCULINO",
          "FEMENINO",
          "FEMENINO",
          "MASCULINO",
          "FEMENINO",
          "MASCULINO",
          "FEMENINO",
          "FEMENINO",
          "FEMENINO",
          "FEMENINO",
          "FEMENINO",
          "FEMENINO",
          "MASCULINO",
          "MASCULINO",
          "FEMENINO",
          "MASCULINO",
          "MASCULINO",
          "FEMENINO",
          "FEMENINO",
          "MASCULINO",
          "MASCULINO",
          "MASCULINO",
          "MASCULINO",
          "MASCULINO",
          "FEMENINO",
          "FEMENINO",
          "MASCULINO",
          "FEMENINO",
          "MASCULINO",
          "FEMENINO",
          "MASCULINO",
          "FEMENINO",
          "FEMENINO",
          "MASCULINO",
          "FEMENINO",
          "FEMENINO",
          "MASCULINO",
          "MASCULINO",
          "MASCULINO",
          "FEMENINO",
          "FEMENINO",
          "FEMENINO",
          "MASCULINO",
          "MASCULINO",
          "FEMENINO",
          "FEMENINO",
          "FEMENINO",
          "FEMENINO",
          "FEMENINO",
          "FEMENINO",
          "FEMENINO",
          "FEMENINO",
          "FEMENINO",
          "FEMENINO",
          "FEMENINO",
          "FEMENINO",
          "MASCULINO",
          "MASCULINO",
          "MASCULINO",
          "MASCULINO",
          "FEMENINO",
          "FEMENINO",
          "MASCULINO",
          "FEMENINO",
          "FEMENINO",
          "MASCULINO",
          "FEMENINO",
          "FEMENINO",
          "FEMENINO",
          "MASCULINO",
          "FEMENINO",
          "MASCULINO",
          "FEMENINO",
          "MASCULINO",
          "FEMENINO",
          "FEMENINO",
          "MASCULINO",
          "MASCULINO",
          "MASCULINO",
          "MASCULINO",
          "FEMENINO",
          "MASCULINO",
          "FEMENINO",
          "FEMENINO",
          "MASCULINO",
          "FEMENINO",
          "FEMENINO",
          "MASCULINO",
          "FEMENINO",
          "FEMENINO",
          "MASCULINO",
          "MASCULINO",
          "FEMENINO",
          "FEMENINO",
          "FEMENINO",
          "FEMENINO",
          "FEMENINO",
          "MASCULINO",
          "MASCULINO",
          "MASCULINO",
          "MASCULINO",
          "MASCULINO",
          "FEMENINO",
          "FEMENINO",
          "MASCULINO"
         ]
        }
       ],
       "layout": {
        "template": {
         "data": {
          "bar": [
           {
            "error_x": {
             "color": "#2a3f5f"
            },
            "error_y": {
             "color": "#2a3f5f"
            },
            "marker": {
             "line": {
              "color": "#E5ECF6",
              "width": 0.5
             },
             "pattern": {
              "fillmode": "overlay",
              "size": 10,
              "solidity": 0.2
             }
            },
            "type": "bar"
           }
          ],
          "barpolar": [
           {
            "marker": {
             "line": {
              "color": "#E5ECF6",
              "width": 0.5
             },
             "pattern": {
              "fillmode": "overlay",
              "size": 10,
              "solidity": 0.2
             }
            },
            "type": "barpolar"
           }
          ],
          "carpet": [
           {
            "aaxis": {
             "endlinecolor": "#2a3f5f",
             "gridcolor": "white",
             "linecolor": "white",
             "minorgridcolor": "white",
             "startlinecolor": "#2a3f5f"
            },
            "baxis": {
             "endlinecolor": "#2a3f5f",
             "gridcolor": "white",
             "linecolor": "white",
             "minorgridcolor": "white",
             "startlinecolor": "#2a3f5f"
            },
            "type": "carpet"
           }
          ],
          "choropleth": [
           {
            "colorbar": {
             "outlinewidth": 0,
             "ticks": ""
            },
            "type": "choropleth"
           }
          ],
          "contour": [
           {
            "colorbar": {
             "outlinewidth": 0,
             "ticks": ""
            },
            "colorscale": [
             [
              0,
              "#0d0887"
             ],
             [
              0.1111111111111111,
              "#46039f"
             ],
             [
              0.2222222222222222,
              "#7201a8"
             ],
             [
              0.3333333333333333,
              "#9c179e"
             ],
             [
              0.4444444444444444,
              "#bd3786"
             ],
             [
              0.5555555555555556,
              "#d8576b"
             ],
             [
              0.6666666666666666,
              "#ed7953"
             ],
             [
              0.7777777777777778,
              "#fb9f3a"
             ],
             [
              0.8888888888888888,
              "#fdca26"
             ],
             [
              1,
              "#f0f921"
             ]
            ],
            "type": "contour"
           }
          ],
          "contourcarpet": [
           {
            "colorbar": {
             "outlinewidth": 0,
             "ticks": ""
            },
            "type": "contourcarpet"
           }
          ],
          "heatmap": [
           {
            "colorbar": {
             "outlinewidth": 0,
             "ticks": ""
            },
            "colorscale": [
             [
              0,
              "#0d0887"
             ],
             [
              0.1111111111111111,
              "#46039f"
             ],
             [
              0.2222222222222222,
              "#7201a8"
             ],
             [
              0.3333333333333333,
              "#9c179e"
             ],
             [
              0.4444444444444444,
              "#bd3786"
             ],
             [
              0.5555555555555556,
              "#d8576b"
             ],
             [
              0.6666666666666666,
              "#ed7953"
             ],
             [
              0.7777777777777778,
              "#fb9f3a"
             ],
             [
              0.8888888888888888,
              "#fdca26"
             ],
             [
              1,
              "#f0f921"
             ]
            ],
            "type": "heatmap"
           }
          ],
          "heatmapgl": [
           {
            "colorbar": {
             "outlinewidth": 0,
             "ticks": ""
            },
            "colorscale": [
             [
              0,
              "#0d0887"
             ],
             [
              0.1111111111111111,
              "#46039f"
             ],
             [
              0.2222222222222222,
              "#7201a8"
             ],
             [
              0.3333333333333333,
              "#9c179e"
             ],
             [
              0.4444444444444444,
              "#bd3786"
             ],
             [
              0.5555555555555556,
              "#d8576b"
             ],
             [
              0.6666666666666666,
              "#ed7953"
             ],
             [
              0.7777777777777778,
              "#fb9f3a"
             ],
             [
              0.8888888888888888,
              "#fdca26"
             ],
             [
              1,
              "#f0f921"
             ]
            ],
            "type": "heatmapgl"
           }
          ],
          "histogram": [
           {
            "marker": {
             "pattern": {
              "fillmode": "overlay",
              "size": 10,
              "solidity": 0.2
             }
            },
            "type": "histogram"
           }
          ],
          "histogram2d": [
           {
            "colorbar": {
             "outlinewidth": 0,
             "ticks": ""
            },
            "colorscale": [
             [
              0,
              "#0d0887"
             ],
             [
              0.1111111111111111,
              "#46039f"
             ],
             [
              0.2222222222222222,
              "#7201a8"
             ],
             [
              0.3333333333333333,
              "#9c179e"
             ],
             [
              0.4444444444444444,
              "#bd3786"
             ],
             [
              0.5555555555555556,
              "#d8576b"
             ],
             [
              0.6666666666666666,
              "#ed7953"
             ],
             [
              0.7777777777777778,
              "#fb9f3a"
             ],
             [
              0.8888888888888888,
              "#fdca26"
             ],
             [
              1,
              "#f0f921"
             ]
            ],
            "type": "histogram2d"
           }
          ],
          "histogram2dcontour": [
           {
            "colorbar": {
             "outlinewidth": 0,
             "ticks": ""
            },
            "colorscale": [
             [
              0,
              "#0d0887"
             ],
             [
              0.1111111111111111,
              "#46039f"
             ],
             [
              0.2222222222222222,
              "#7201a8"
             ],
             [
              0.3333333333333333,
              "#9c179e"
             ],
             [
              0.4444444444444444,
              "#bd3786"
             ],
             [
              0.5555555555555556,
              "#d8576b"
             ],
             [
              0.6666666666666666,
              "#ed7953"
             ],
             [
              0.7777777777777778,
              "#fb9f3a"
             ],
             [
              0.8888888888888888,
              "#fdca26"
             ],
             [
              1,
              "#f0f921"
             ]
            ],
            "type": "histogram2dcontour"
           }
          ],
          "mesh3d": [
           {
            "colorbar": {
             "outlinewidth": 0,
             "ticks": ""
            },
            "type": "mesh3d"
           }
          ],
          "parcoords": [
           {
            "line": {
             "colorbar": {
              "outlinewidth": 0,
              "ticks": ""
             }
            },
            "type": "parcoords"
           }
          ],
          "pie": [
           {
            "automargin": true,
            "type": "pie"
           }
          ],
          "scatter": [
           {
            "fillpattern": {
             "fillmode": "overlay",
             "size": 10,
             "solidity": 0.2
            },
            "type": "scatter"
           }
          ],
          "scatter3d": [
           {
            "line": {
             "colorbar": {
              "outlinewidth": 0,
              "ticks": ""
             }
            },
            "marker": {
             "colorbar": {
              "outlinewidth": 0,
              "ticks": ""
             }
            },
            "type": "scatter3d"
           }
          ],
          "scattercarpet": [
           {
            "marker": {
             "colorbar": {
              "outlinewidth": 0,
              "ticks": ""
             }
            },
            "type": "scattercarpet"
           }
          ],
          "scattergeo": [
           {
            "marker": {
             "colorbar": {
              "outlinewidth": 0,
              "ticks": ""
             }
            },
            "type": "scattergeo"
           }
          ],
          "scattergl": [
           {
            "marker": {
             "colorbar": {
              "outlinewidth": 0,
              "ticks": ""
             }
            },
            "type": "scattergl"
           }
          ],
          "scattermapbox": [
           {
            "marker": {
             "colorbar": {
              "outlinewidth": 0,
              "ticks": ""
             }
            },
            "type": "scattermapbox"
           }
          ],
          "scatterpolar": [
           {
            "marker": {
             "colorbar": {
              "outlinewidth": 0,
              "ticks": ""
             }
            },
            "type": "scatterpolar"
           }
          ],
          "scatterpolargl": [
           {
            "marker": {
             "colorbar": {
              "outlinewidth": 0,
              "ticks": ""
             }
            },
            "type": "scatterpolargl"
           }
          ],
          "scatterternary": [
           {
            "marker": {
             "colorbar": {
              "outlinewidth": 0,
              "ticks": ""
             }
            },
            "type": "scatterternary"
           }
          ],
          "surface": [
           {
            "colorbar": {
             "outlinewidth": 0,
             "ticks": ""
            },
            "colorscale": [
             [
              0,
              "#0d0887"
             ],
             [
              0.1111111111111111,
              "#46039f"
             ],
             [
              0.2222222222222222,
              "#7201a8"
             ],
             [
              0.3333333333333333,
              "#9c179e"
             ],
             [
              0.4444444444444444,
              "#bd3786"
             ],
             [
              0.5555555555555556,
              "#d8576b"
             ],
             [
              0.6666666666666666,
              "#ed7953"
             ],
             [
              0.7777777777777778,
              "#fb9f3a"
             ],
             [
              0.8888888888888888,
              "#fdca26"
             ],
             [
              1,
              "#f0f921"
             ]
            ],
            "type": "surface"
           }
          ],
          "table": [
           {
            "cells": {
             "fill": {
              "color": "#EBF0F8"
             },
             "line": {
              "color": "white"
             }
            },
            "header": {
             "fill": {
              "color": "#C8D4E3"
             },
             "line": {
              "color": "white"
             }
            },
            "type": "table"
           }
          ]
         },
         "layout": {
          "annotationdefaults": {
           "arrowcolor": "#2a3f5f",
           "arrowhead": 0,
           "arrowwidth": 1
          },
          "autotypenumbers": "strict",
          "coloraxis": {
           "colorbar": {
            "outlinewidth": 0,
            "ticks": ""
           }
          },
          "colorscale": {
           "diverging": [
            [
             0,
             "#8e0152"
            ],
            [
             0.1,
             "#c51b7d"
            ],
            [
             0.2,
             "#de77ae"
            ],
            [
             0.3,
             "#f1b6da"
            ],
            [
             0.4,
             "#fde0ef"
            ],
            [
             0.5,
             "#f7f7f7"
            ],
            [
             0.6,
             "#e6f5d0"
            ],
            [
             0.7,
             "#b8e186"
            ],
            [
             0.8,
             "#7fbc41"
            ],
            [
             0.9,
             "#4d9221"
            ],
            [
             1,
             "#276419"
            ]
           ],
           "sequential": [
            [
             0,
             "#0d0887"
            ],
            [
             0.1111111111111111,
             "#46039f"
            ],
            [
             0.2222222222222222,
             "#7201a8"
            ],
            [
             0.3333333333333333,
             "#9c179e"
            ],
            [
             0.4444444444444444,
             "#bd3786"
            ],
            [
             0.5555555555555556,
             "#d8576b"
            ],
            [
             0.6666666666666666,
             "#ed7953"
            ],
            [
             0.7777777777777778,
             "#fb9f3a"
            ],
            [
             0.8888888888888888,
             "#fdca26"
            ],
            [
             1,
             "#f0f921"
            ]
           ],
           "sequentialminus": [
            [
             0,
             "#0d0887"
            ],
            [
             0.1111111111111111,
             "#46039f"
            ],
            [
             0.2222222222222222,
             "#7201a8"
            ],
            [
             0.3333333333333333,
             "#9c179e"
            ],
            [
             0.4444444444444444,
             "#bd3786"
            ],
            [
             0.5555555555555556,
             "#d8576b"
            ],
            [
             0.6666666666666666,
             "#ed7953"
            ],
            [
             0.7777777777777778,
             "#fb9f3a"
            ],
            [
             0.8888888888888888,
             "#fdca26"
            ],
            [
             1,
             "#f0f921"
            ]
           ]
          },
          "colorway": [
           "#636efa",
           "#EF553B",
           "#00cc96",
           "#ab63fa",
           "#FFA15A",
           "#19d3f3",
           "#FF6692",
           "#B6E880",
           "#FF97FF",
           "#FECB52"
          ],
          "font": {
           "color": "#2a3f5f"
          },
          "geo": {
           "bgcolor": "white",
           "lakecolor": "white",
           "landcolor": "#E5ECF6",
           "showlakes": true,
           "showland": true,
           "subunitcolor": "white"
          },
          "hoverlabel": {
           "align": "left"
          },
          "hovermode": "closest",
          "mapbox": {
           "style": "light"
          },
          "paper_bgcolor": "white",
          "plot_bgcolor": "#E5ECF6",
          "polar": {
           "angularaxis": {
            "gridcolor": "white",
            "linecolor": "white",
            "ticks": ""
           },
           "bgcolor": "#E5ECF6",
           "radialaxis": {
            "gridcolor": "white",
            "linecolor": "white",
            "ticks": ""
           }
          },
          "scene": {
           "xaxis": {
            "backgroundcolor": "#E5ECF6",
            "gridcolor": "white",
            "gridwidth": 2,
            "linecolor": "white",
            "showbackground": true,
            "ticks": "",
            "zerolinecolor": "white"
           },
           "yaxis": {
            "backgroundcolor": "#E5ECF6",
            "gridcolor": "white",
            "gridwidth": 2,
            "linecolor": "white",
            "showbackground": true,
            "ticks": "",
            "zerolinecolor": "white"
           },
           "zaxis": {
            "backgroundcolor": "#E5ECF6",
            "gridcolor": "white",
            "gridwidth": 2,
            "linecolor": "white",
            "showbackground": true,
            "ticks": "",
            "zerolinecolor": "white"
           }
          },
          "shapedefaults": {
           "line": {
            "color": "#2a3f5f"
           }
          },
          "ternary": {
           "aaxis": {
            "gridcolor": "white",
            "linecolor": "white",
            "ticks": ""
           },
           "baxis": {
            "gridcolor": "white",
            "linecolor": "white",
            "ticks": ""
           },
           "bgcolor": "#E5ECF6",
           "caxis": {
            "gridcolor": "white",
            "linecolor": "white",
            "ticks": ""
           }
          },
          "title": {
           "x": 0.05
          },
          "xaxis": {
           "automargin": true,
           "gridcolor": "white",
           "linecolor": "white",
           "ticks": "",
           "title": {
            "standoff": 15
           },
           "zerolinecolor": "white",
           "zerolinewidth": 2
          },
          "yaxis": {
           "automargin": true,
           "gridcolor": "white",
           "linecolor": "white",
           "ticks": "",
           "title": {
            "standoff": 15
           },
           "zerolinecolor": "white",
           "zerolinewidth": 2
          }
         }
        }
       }
      },
      "text/html": [
       "<div>                            <div id=\"96a8a9c5-ae54-4713-84fc-e1a4182a94d9\" class=\"plotly-graph-div\" style=\"height:525px; width:100%;\"></div>            <script type=\"text/javascript\">                require([\"plotly\"], function(Plotly) {                    window.PLOTLYENV=window.PLOTLYENV || {};                                    if (document.getElementById(\"96a8a9c5-ae54-4713-84fc-e1a4182a94d9\")) {                    Plotly.newPlot(                        \"96a8a9c5-ae54-4713-84fc-e1a4182a94d9\",                        [{\"boxpoints\":\"outliers\",\"fillcolor\":\"gold\",\"jitter\":0.5,\"line\":{\"width\":2},\"marker\":{\"size\":3},\"name\":\"PUESTO\",\"whiskerwidth\":0.2,\"y\":[\"OP PRODUCCION\",\"OP PRODUCCION\",\"OP PRODUCCION\",\"OP PRODUCCION\",\"OP PRODUCCION\",\"OP PRENSA\",\"AUXILIAR ALMACEN\",\"OP PRODUCCION\",\"AUXILIAR ALMACEN\",\"OP PRODUCCION\",\"OP PRODUCCION\",\"INSP CALIDAD\",\"AUXILIAR ALMACEN\",\"OP PRODUCCION\",\"OP PRODUCCION\",\"OP PRODUCCION\",\"OP PRODUCCION\",\"OP PRODUCCION\",\"OP PRODUCCION\",\"OP PRODUCCION\",\"INSP CALIDAD\",\"OP PRODUCCION\",\"OP PRODUCCION\",\"OP PRODUCCION\",\"OP PRODUCCION\",\"OP PRODUCCION\",\"OP PRODUCCION\",\"INSP CALIDAD\",\"OP PRODUCCION\",\"OP PRODUCCION\",\"INSP CALIDAD\",\"OP PRODUCCION\",\"INSP CALIDAD\",\"OP PRODUCCION\",\"OP PRODUCCION\",\"OP PRODUCCION\",\"OP PRODUCCION\",\"MONTACARGUISTA\",\"OP PRODUCCION\",\"OP PRODUCCION\",\"MONTACARGUISTA\",\"INTENDENCIA\",\"OP PRENSA\",\"OP PRODUCCION\",\"OP PRODUCCION\",\"AUXILIAR ALMACEN\",\"OP PRODUCCION\",\"OP PRODUCCION\",\"OP PRODUCCION\",\"OP PRODUCCION\",\"MONTACARGUISTA\",\"OP PRODUCCION\",\"OP PRODUCCION\",\"OP PRODUCCION\",\"OP PRODUCCION\",\"OP PRODUCCION\",\"OP PRODUCCION\",\"OP PRENSA\",\"MONTACARGUISTA\",\"OP PRODUCCION\",\"OP PRODUCCION\",\"OP PRODUCCION\",\"INSP CALIDAD\",\"MONTACARGUISTA\",\"OP PRENSA\",\"OP PRENSA\",\"OP PRENSA\",\"OP PRENSA\",\"OP PRENSA\",\"OP PRENSA\",\"OP PRENSA\",\"OP PRENSA\",\"OP PRENSA\",\"OP PRENSA\",\"OP PRENSA\",\"OP PRENSA\",\"OP PRENSA\",\"OP PRENSA\",\"OP PRENSA\",\"OP PRENSA\",\"OP PRENSA\",\"OP PRENSA\",\"OP PRENSA\",\"OP PRENSA\",\"OP PRENSA\",\"OP PRENSA\",\"OP PRENSA\",\"OP PRENSA\",\"OP PRENSA\",\"OP PRENSA\",\"OP PRENSA\",\"OP PRENSA\",\"OP PRENSA\",\"OP PRENSA\",\"OP PRENSA\",\"OP PRENSA\",\"OP PRODUCCION\",\"OP PRODUCCION\",\"OP PRODUCCION\",\"INSP CALIDAD\",\"OP PRENSA\",\"OP PRODUCCION\",\"OP PRODUCCION\",\"OP PRODUCCION\",\"OP PRODUCCION\",\"OP PRODUCCION\",\"OP PRODUCCION\",\"MECANICO\",\"OP PRENSA\",\"OP PRODUCCION\",\"OP PRODUCCION\",\"OP PRENSA\",\"INSP CALIDAD\",\"MONTACARGUISTA\",\"OP PRENSA\",\"OP PRENSA\",\"OP PRENSA\",\"OP PRENSA\",\"OP PRENSA\",\"OP PRENSA\",\"OP PRENSA\",\"OP PRENSA\",\"OP PRENSA\",\"OP PRENSA\",\"OP PRENSA\",\"OP PRENSA\",\"OP PRENSA\",\"OP PRENSA\",\"OP PRENSA\",\"OP PRENSA\",\"OP PRENSA\",\"OP PRENSA\",\"OP PRENSA\",\"OP PRENSA\",\"OP PRENSA\",\"OP PRENSA\",\"OP PRENSA\",\"OP PRENSA\",\"OP PRENSA\",\"OP PRENSA\",\"OP PRENSA\",\"OP PRENSA\",\"OP PRENSA\",\"OP PRENSA\",\"OP PRENSA\",\"OP PRENSA\",\"OP PRENSA\",\"OP PRENSA\",\"OP PRODUCCION\",\"OP PRODUCCION\",\"OP PRODUCCION\",\"OP PRODUCCION\",\"OP PRODUCCION\",\"OP PRODUCCION\",\"OP PRODUCCION\",\"OP PRODUCCION\",\"OP PRODUCCION\",\"OP PRODUCCION\",\"OP PRODUCCION\",\"OP PRENSA\",\"INSP CALIDAD\",\"INTENDENCIA\",\"MECANICO\",\"MONTACARGUISTA\",\"OP PRENSA\",\"OP PRODUCCION\",\"OP PRODUCCION\",\"OP PRODUCCION\",\"OP PRODUCCION\",\"OP PRODUCCION\",\"AUXILIAR ALMACEN\",\"OP PRODUCCION\",\"OP PRENSA\",\"OP PRENSA\",\"OP PRENSA\",\"OP PRENSA\",\"OP PRENSA\",\"OP PRENSA\",\"OP PRENSA\",\"OP PRENSA\",\"OP PRENSA\",\"OP PRENSA\",\"OP PRENSA\",\"OP PRENSA\",\"OP PRENSA\",\"OP PRENSA\",\"OP PRENSA\",\"OP PRENSA\",\"OP PRENSA\",\"OP PRENSA\",\"OP PRENSA\",\"OP PRENSA\",\"OP PRENSA\",\"OP PRENSA\",\"OP PRENSA\",\"OP PRENSA\",\"OP PRENSA\",\"OP PRENSA\",\"OP PRENSA\",\"OP PRENSA\",\"OP PRENSA\",\"OP PRENSA\",\"OP PRENSA\",\"OP PRENSA\",\"OP PRENSA\",\"OP PRENSA\",\"OP PRODUCCION\",\"OP PRODUCCION\",\"OP PRODUCCION\",\"OP PRODUCCION\",\"OP PRODUCCION\",\"OP PRODUCCION\",\"OP PRENSA\",\"MONTACARGUISTA\",\"OP PRENSA\",\"OP PRODUCCION\",\"OP PRODUCCION\",\"OP PRODUCCION\",\"OP PRODUCCION\",\"OP PRENSA\",\"OP PRENSA\",\"OP PRENSA\",\"OP PRODUCCION\",\"OP PRODUCCION\",\"OP PRODUCCION\",\"INSP CALIDAD\",\"INSP CALIDAD\",\"MECANICO\",\"OP PRENSA\",\"OP PRENSA\",\"OP PRODUCCION\",\"OP PRODUCCION\",\"OP PRODUCCION\",\"MONTACARGUISTA\",\"OP PRODUCCION\",\"OP PRODUCCION\",\"OP PRODUCCION\",\"OP PRENSA\",\"MONTACARGUISTA\",\"OP PRODUCCION\",\"OP PRODUCCION\",\"MONTACARGUISTA\",\"OP PRENSA\",\"OP PRODUCCION\",\"MONTACARGUISTA\",\"OP PRODUCCION\",\"AUXILIAR ALMACEN\",\"OP PRENSA\",\"OP PRENSA\",\"MONTACARGUISTA\",\"OP PRENSA\",\"OP PRENSA\",\"OP PRENSA\",\"OP PRENSA\",\"OP PRENSA\",\"OP PRODUCCION\",\"OP PRODUCCION\",\"OP PRODUCCION\",\"OP PRODUCCION\",\"OP PRODUCCION\",\"OP PRODUCCION\",\"OP PRODUCCION\",\"OP PRODUCCION\",\"OP PRODUCCION\",\"OP PRENSA\",\"OP PRODUCCION\",\"OP PRODUCCION\",\"OP PRODUCCION\",\"OP PRODUCCION\",\"OP PRODUCCION\",\"MONTACARGUISTA\",\"OP PRODUCCION\",\"OP PRENSA\",\"OP PRODUCCION\",\"INSP CALIDAD\",\"OP PRODUCCION\",\"OP PRODUCCION\",\"OP PRODUCCION\",\"OP PRODUCCION\",\"INTENDENCIA\",\"OP PRENSA\",\"OP PRENSA\",\"OP PRODUCCION\",\"OP PRODUCCION\",\"OP PRODUCCION\",\"OP PRODUCCION\",\"OP PRODUCCION\",\"OP PRODUCCION\",\"OP PRODUCCION\",\"OP PRODUCCION\",\"OP PRODUCCION\",\"OP PRODUCCION\",\"MECANICO\",\"OP PRODUCCION\",\"MONTACARGUISTA\",\"OP PRODUCCION\",\"OP PRODUCCION\",\"OP PRODUCCION\",\"INSP CALIDAD\",\"OP PRODUCCION\",\"OP PRENSA\",\"OP PRODUCCION\",\"MONTACARGUISTA\",\"OP PRODUCCION\",\"OP PRODUCCION\",\"OP PRODUCCION\",\"OP PRENSA\",\"OP PRODUCCION\",\"OP PRODUCCION\",\"OP PRODUCCION\",\"MECANICO\",\"OP PRENSA\",\"OP PRENSA\",\"OP PRODUCCION\",\"OP PRODUCCION\",\"OP PRENSA\",\"OP PRODUCCION\",\"OP PRENSA\",\"OP PRODUCCION\",\"OP PRODUCCION\",\"OP PRODUCCION\",\"OP PRODUCCION\",\"OP PRODUCCION\",\"OP PRENSA\",\"OP PRODUCCION\",\"OP PRODUCCION\",\"OP PRODUCCION\",\"OP PRENSA\",\"OP PRENSA\",\"OP PRODUCCION\",\"MONTACARGUISTA\",\"OP PRODUCCION\",\"OP PRODUCCION\",\"INSP CALIDAD\",\"OP PRODUCCION\",\"OP PRODUCCION\",\"OP PRODUCCION\",\"OP PRODUCCION\",\"OP PRENSA\",\"MONTACARGUISTA\",\"OP PRODUCCION\",\"MECANICO\",\"OP PRODUCCION\",\"OP PRENSA\",\"INSP CALIDAD\",\"OP PRODUCCION\",\"OP PRODUCCION\",\"MECANICO\",\"OP PRODUCCION\",\"OP PRODUCCION\",\"INSP CALIDAD\",\"OP PRODUCCION\",\"OP PRENSA\",\"OP PRODUCCION\",\"INSP CALIDAD\",\"OP PRODUCCION\",\"OP PRENSA\",\"OP PRODUCCION\",\"OP PRODUCCION\",\"OP PRODUCCION\",\"OP PRODUCCION\",\"OP PRODUCCION\",\"OP PRODUCCION\",\"OP PRODUCCION\",\"OP PRODUCCION\",\"OP PRODUCCION\",\"MONTACARGUISTA\",\"OP PRODUCCION\",\"OP PRENSA\",\"OP PRODUCCION\",\"OP PRENSA\",\"OP PRODUCCION\",\"OP PRODUCCION\",\"MONTACARGUISTA\",\"OP PRODUCCION\",\"OP PRODUCCION\",\"OP PRENSA\",\"OP PRODUCCION\",\"OP PRODUCCION\",\"MONTACARGUISTA\",\"OP PRODUCCION\",\"OP PRODUCCION\",\"OP PRODUCCION\",\"OP PRODUCCION\",\"MONTACARGUISTA\",\"OP PRODUCCION\",\"MONTACARGUISTA\",\"OP PRENSA\",\"OP PRODUCCION\",\"MECANICO\",\"OP PRODUCCION\",\"OP PRODUCCION\",\"MONTACARGUISTA\",\"OP PRODUCCION\",\"AUXILIAR ALMACEN\",\"OP PRODUCCION\",\"OP PRODUCCION\",\"OP PRODUCCION\",\"OP PRODUCCION\",\"OP PRODUCCION\",\"OP PRODUCCION\",\"OP PRODUCCION\",\"OP PRODUCCION\",\"OP PRODUCCION\",\"OP PRODUCCION\",\"OP PRODUCCION\",\"OP PRODUCCION\",\"OP PRODUCCION\",\"OP PRODUCCION\",\"OP PRODUCCION\",\"OP PRODUCCION\",\"OP PRENSA\",\"OP PRODUCCION\",\"MONTACARGUISTA\",\"OP PRODUCCION\",\"OP PRODUCCION\",\"OP PRODUCCION\",\"OP PRENSA\",\"OP PRODUCCION\",\"OP PRODUCCION\",\"OP PRENSA\",\"OP PRODUCCION\",\"OP PRODUCCION\",\"OP PRENSA\",\"OP PRODUCCION\",\"MECANICO\",\"OP PRODUCCION\",\"MONTACARGUISTA\",\"OP PRODUCCION\",\"OP PRODUCCION\",\"MONTACARGUISTA\",\"OP PRODUCCION\",\"OP PRODUCCION\",\"MONTACARGUISTA\",\"OP PRODUCCION\",\"OP PRODUCCION\",\"OP PRODUCCION\",\"OP PRODUCCION\",\"OP PRODUCCION\",\"MONTACARGUISTA\",\"OP PRODUCCION\",\"OP PRODUCCION\",\"OP PRODUCCION\",\"OP PRODUCCION\",\"OP PRODUCCION\",\"INSP CALIDAD\",\"OP PRENSA\",\"OP PRODUCCION\",\"OP PRODUCCION\",\"OP PRODUCCION\",\"OP PRODUCCION\",\"OP PRODUCCION\",\"OP PRODUCCION\",\"OP PRODUCCION\",\"AUXILIAR ALMACEN\",\"OP PRODUCCION\",\"OP PRODUCCION\",\"OP PRODUCCION\",\"OP PRODUCCION\",\"AUXILIAR ALMACEN\",\"OP PRODUCCION\",\"OP PRODUCCION\",\"AUXILIAR ALMACEN\",\"OP PRODUCCION\",\"OP PRODUCCION\",\"INSP CALIDAD\",\"OP PRODUCCION\",\"OP PRENSA\",\"OP PRODUCCION\",\"OP PRODUCCION\",\"MONTACARGUISTA\",\"OP PRODUCCION\",\"OP PRODUCCION\",\"MONTACARGUISTA\",\"OP PRODUCCION\",\"OP PRODUCCION\",\"OP PRODUCCION\",\"OP PRENSA\",\"AUXILIAR ALMACEN\",\"INSP CALIDAD\",\"OP PRODUCCION\",\"OP PRENSA\",\"OP PRODUCCION\",\"OP PRODUCCION\",\"OP PRODUCCION\",\"INSP CALIDAD\",\"INSP CALIDAD\",\"MONTACARGUISTA\",\"OP PRODUCCION\",\"OP PRODUCCION\",\"OP PRODUCCION\",\"OP PRODUCCION\",\"OP PRODUCCION\",\"OP PRODUCCION\",\"OP PRENSA\",\"OP PRENSA\",\"OP PRODUCCION\",\"MECANICO\",\"INTENDENCIA\",\"OP PRODUCCION\",\"OP PRODUCCION\",\"OP PRODUCCION\"],\"type\":\"box\"},{\"boxpoints\":\"outliers\",\"fillcolor\":\"mediumturquoise\",\"jitter\":0.5,\"line\":{\"width\":2},\"marker\":{\"size\":3},\"name\":\"AREA\",\"whiskerwidth\":0.2,\"y\":[\"PRODUCCION\",\"PRODUCCION\",\"PRODUCCION\",\"PRODUCCION\",\"PRODUCCION\",\"PRENSA\",\"ALMACEN\",\"PRODUCCION\",\"ALMACEN\",\"PRODUCCION\",\"PRODUCCION\",\"CALIDAD\",\"ALMACEN\",\"PRODUCCION\",\"PRODUCCION\",\"PRODUCCION\",\"PRODUCCION\",\"PRODUCCION\",\"PRODUCCION\",\"PRODUCCION\",\"CALIDAD\",\"PRODUCCION\",\"PRODUCCION\",\"PRODUCCION\",\"PRODUCCION\",\"PRODUCCION\",\"PRODUCCION\",\"CALIDAD\",\"PRODUCCION\",\"PRODUCCION\",\"CALIDAD\",\"PRODUCCION\",\"CALIDAD\",\"PRODUCCION\",\"PRODUCCION\",\"PRODUCCION\",\"PRODUCCION\",\"ALMACEN\",\"PRODUCCION\",\"PRODUCCION\",\"ALMACEN\",\"PRODUCCION\",\"PRENSA\",\"PRODUCCION\",\"PRODUCCION\",\"ALMACEN\",\"PRODUCCION\",\"PRODUCCION\",\"PRODUCCION\",\"PRODUCCION\",\"ALMACEN\",\"PRODUCCION\",\"PRODUCCION\",\"PRODUCCION\",\"PRODUCCION\",\"PRODUCCION\",\"PRODUCCION\",\"PRENSA\",\"ALMACEN\",\"PRODUCCION\",\"PRODUCCION\",\"PRODUCCION\",\"CALIDAD\",\"ALMACEN\",\"PRENSA\",\"PRENSA\",\"PRENSA\",\"PRENSA\",\"PRENSA\",\"PRENSA\",\"PRENSA\",\"PRENSA\",\"PRENSA\",\"PRENSA\",\"PRENSA\",\"PRENSA\",\"PRENSA\",\"PRENSA\",\"PRENSA\",\"PRENSA\",\"PRENSA\",\"PRENSA\",\"PRENSA\",\"PRENSA\",\"PRENSA\",\"PRENSA\",\"PRENSA\",\"PRENSA\",\"PRENSA\",\"PRENSA\",\"PRENSA\",\"PRENSA\",\"PRENSA\",\"PRENSA\",\"PRENSA\",\"PRENSA\",\"PRODUCCION\",\"PRODUCCION\",\"PRODUCCION\",\"CALIDAD\",\"PRENSA\",\"PRODUCCION\",\"PRODUCCION\",\"PRODUCCION\",\"PRODUCCION\",\"PRODUCCION\",\"PRODUCCION\",\"MANTENIMIENTO\",\"PRENSA\",\"PRODUCCION\",\"PRODUCCION\",\"PRENSA\",\"CALIDAD\",\"ALMACEN\",\"PRENSA\",\"PRENSA\",\"PRENSA\",\"PRENSA\",\"PRENSA\",\"PRENSA\",\"PRENSA\",\"PRENSA\",\"PRENSA\",\"PRENSA\",\"PRENSA\",\"PRENSA\",\"PRENSA\",\"PRENSA\",\"PRENSA\",\"PRENSA\",\"PRENSA\",\"PRENSA\",\"PRENSA\",\"PRENSA\",\"PRENSA\",\"PRENSA\",\"PRENSA\",\"PRENSA\",\"PRENSA\",\"PRENSA\",\"PRENSA\",\"PRENSA\",\"PRENSA\",\"PRENSA\",\"PRENSA\",\"PRENSA\",\"PRENSA\",\"PRENSA\",\"PRODUCCION\",\"PRODUCCION\",\"PRODUCCION\",\"PRODUCCION\",\"PRODUCCION\",\"PRODUCCION\",\"PRODUCCION\",\"PRODUCCION\",\"PRODUCCION\",\"PRODUCCION\",\"PRODUCCION\",\"PRENSA\",\"CALIDAD\",\"PRODUCCION\",\"MANTENIMIENTO\",\"ALMACEN\",\"PRENSA\",\"PRODUCCION\",\"PRODUCCION\",\"PRODUCCION\",\"PRODUCCION\",\"PRODUCCION\",\"ALMACEN\",\"PRODUCCION\",\"PRENSA\",\"PRENSA\",\"PRENSA\",\"PRENSA\",\"PRENSA\",\"PRENSA\",\"PRENSA\",\"PRENSA\",\"PRENSA\",\"PRENSA\",\"PRENSA\",\"PRENSA\",\"PRENSA\",\"PRENSA\",\"PRENSA\",\"PRENSA\",\"PRENSA\",\"PRENSA\",\"PRENSA\",\"PRENSA\",\"PRENSA\",\"PRENSA\",\"PRENSA\",\"PRENSA\",\"PRENSA\",\"PRENSA\",\"PRENSA\",\"PRENSA\",\"PRENSA\",\"PRENSA\",\"PRENSA\",\"PRENSA\",\"PRENSA\",\"PRENSA\",\"PRODUCCION\",\"PRODUCCION\",\"PRODUCCION\",\"PRODUCCION\",\"PRODUCCION\",\"PRODUCCION\",\"PRENSA\",\"ALMACEN\",\"PRENSA\",\"PRODUCCION\",\"PRODUCCION\",\"PRODUCCION\",\"PRODUCCION\",\"PRENSA\",\"PRENSA\",\"PRENSA\",\"PRODUCCION\",\"PRODUCCION\",\"PRODUCCION\",\"CALIDAD\",\"CALIDAD\",\"MANTENIMIENTO\",\"PRENSA\",\"PRENSA\",\"PRODUCCION\",\"PRODUCCION\",\"PRODUCCION\",\"ALMACEN\",\"PRODUCCION\",\"PRODUCCION\",\"PRODUCCION\",\"ALMACEN\",\"ALMACEN\",\"PRODUCCION\",\"PRODUCCION\",\"ALMACEN\",\"PRENSA\",\"PRODUCCION\",\"ALMACEN\",\"PRODUCCION\",\"ALMACEN\",\"PRENSA\",\"PRENSA\",\"ALMACEN\",\"PRENSA\",\"PRENSA\",\"PRENSA\",\"PRENSA\",\"PRENSA\",\"PRODUCCION\",\"PRODUCCION\",\"PRODUCCION\",\"PRODUCCION\",\"PRODUCCION\",\"PRODUCCION\",\"PRODUCCION\",\"PRODUCCION\",\"PRODUCCION\",\"PRENSA\",\"PRODUCCION\",\"PRODUCCION\",\"PRODUCCION\",\"PRODUCCION\",\"PRODUCCION\",\"ALMACEN\",\"PRODUCCION\",\"PRENSA\",\"PRODUCCION\",\"CALIDAD\",\"PRODUCCION\",\"PRODUCCION\",\"PRODUCCION\",\"PRODUCCION\",\"PRODUCCION\",\"PRENSA\",\"PRENSA\",\"PRODUCCION\",\"PRODUCCION\",\"PRODUCCION\",\"PRODUCCION\",\"PRODUCCION\",\"PRODUCCION\",\"PRODUCCION\",\"PRODUCCION\",\"PRODUCCION\",\"PRODUCCION\",\"MANTENIMIENTO\",\"PRODUCCION\",\"ALMACEN\",\"PRODUCCION\",\"PRODUCCION\",\"PRODUCCION\",\"CALIDAD\",\"PRODUCCION\",\"PRENSA\",\"PRODUCCION\",\"ALMACEN\",\"PRODUCCION\",\"PRODUCCION\",\"PRODUCCION\",\"PRENSA\",\"PRODUCCION\",\"PRODUCCION\",\"PRODUCCION\",\"MANTENIMIENTO\",\"PRENSA\",\"PRENSA\",\"PRODUCCION\",\"PRODUCCION\",\"PRENSA\",\"PRODUCCION\",\"PRENSA\",\"PRODUCCION\",\"PRODUCCION\",\"PRODUCCION\",\"PRODUCCION\",\"PRODUCCION\",\"PRENSA\",\"PRODUCCION\",\"PRODUCCION\",\"PRODUCCION\",\"PRENSA\",\"PRENSA\",\"PRODUCCION\",\"ALMACEN\",\"PRODUCCION\",\"PRODUCCION\",\"CALIDAD\",\"PRODUCCION\",\"PRODUCCION\",\"PRODUCCION\",\"PRODUCCION\",\"PRENSA\",\"ALMACEN\",\"PRODUCCION\",\"MANTENIMIENTO\",\"PRODUCCION\",\"PRENSA\",\"CALIDAD\",\"PRODUCCION\",\"PRODUCCION\",\"MANTENIMIENTO\",\"PRODUCCION\",\"PRODUCCION\",\"CALIDAD\",\"PRODUCCION\",\"PRENSA\",\"PRODUCCION\",\"CALIDAD\",\"PRODUCCION\",\"PRENSA\",\"PRODUCCION\",\"PRODUCCION\",\"PRODUCCION\",\"PRODUCCION\",\"PRODUCCION\",\"PRODUCCION\",\"PRODUCCION\",\"PRODUCCION\",\"PRODUCCION\",\"ALMACEN\",\"PRODUCCION\",\"PRENSA\",\"PRODUCCION\",\"PRENSA\",\"PRODUCCION\",\"PRODUCCION\",\"ALMACEN\",\"PRODUCCION\",\"PRODUCCION\",\"PRENSA\",\"PRODUCCION\",\"PRODUCCION\",\"ALMACEN\",\"PRODUCCION\",\"PRODUCCION\",\"PRODUCCION\",\"PRODUCCION\",\"ALMACEN\",\"PRODUCCION\",\"ALMACEN\",\"PRENSA\",\"PRODUCCION\",\"MANTENIMIENTO\",\"PRODUCCION\",\"PRODUCCION\",\"ALMACEN\",\"PRODUCCION\",\"ALMACEN\",\"PRODUCCION\",\"PRODUCCION\",\"PRODUCCION\",\"PRODUCCION\",\"PRODUCCION\",\"PRODUCCION\",\"PRODUCCION\",\"PRODUCCION\",\"PRODUCCION\",\"PRODUCCION\",\"PRODUCCION\",\"PRODUCCION\",\"PRODUCCION\",\"PRODUCCION\",\"PRODUCCION\",\"PRODUCCION\",\"PRENSA\",\"PRODUCCION\",\"ALMACEN\",\"PRODUCCION\",\"PRODUCCION\",\"PRODUCCION\",\"PRENSA\",\"PRODUCCION\",\"PRODUCCION\",\"PRENSA\",\"PRODUCCION\",\"PRODUCCION\",\"PRENSA\",\"PRODUCCION\",\"MANTENIMIENTO\",\"PRODUCCION\",\"ALMACEN\",\"PRODUCCION\",\"PRODUCCION\",\"ALMACEN\",\"PRODUCCION\",\"PRODUCCION\",\"ALMACEN\",\"PRODUCCION\",\"PRODUCCION\",\"PRODUCCION\",\"PRODUCCION\",\"PRODUCCION\",\"ALMACEN\",\"PRODUCCION\",\"PRODUCCION\",\"PRODUCCION\",\"PRODUCCION\",\"PRODUCCION\",\"CALIDAD\",\"PRENSA\",\"PRODUCCION\",\"PRODUCCION\",\"PRODUCCION\",\"PRODUCCION\",\"PRODUCCION\",\"PRODUCCION\",\"PRODUCCION\",\"ALMACEN\",\"PRODUCCION\",\"PRODUCCION\",\"PRODUCCION\",\"PRODUCCION\",\"ALMACEN\",\"PRODUCCION\",\"PRODUCCION\",\"ALMACEN\",\"PRODUCCION\",\"PRODUCCION\",\"CALIDAD\",\"PRODUCCION\",\"PRENSA\",\"PRODUCCION\",\"PRODUCCION\",\"ALMACEN\",\"PRODUCCION\",\"PRODUCCION\",\"ALMACEN\",\"PRODUCCION\",\"PRODUCCION\",\"PRODUCCION\",\"PRENSA\",\"ALMACEN\",\"CALIDAD\",\"PRODUCCION\",\"PRENSA\",\"PRODUCCION\",\"PRODUCCION\",\"PRODUCCION\",\"CALIDAD\",\"CALIDAD\",\"ALMACEN\",\"PRODUCCION\",\"PRODUCCION\",\"PRODUCCION\",\"PRODUCCION\",\"PRODUCCION\",\"PRODUCCION\",\"PRENSA\",\"PRENSA\",\"PRODUCCION\",\"MANTENIMIENTO\",\"PRODUCCION\",\"PRODUCCION\",\"PRODUCCION\",\"PRODUCCION\"],\"type\":\"box\"},{\"boxpoints\":\"outliers\",\"fillcolor\":\"darkorange\",\"jitter\":0.5,\"line\":{\"width\":2},\"marker\":{\"size\":3},\"name\":\"TURNO\",\"whiskerwidth\":0.2,\"y\":[\"C\",\"C\",\"C\",\"C\",\"C\",\"C\",\"B\",\"C\",\"A\",\"A\",\"C\",\"C\",\"A\",\"A\",\"C\",\"C\",\"B\",\"B\",\"B\",\"C\",\"C\",\"C\",\"C\",\"C\",\"C\",\"B\",\"C\",\"C\",\"B\",\"C\",\"B\",\"C\",\"C\",\"B\",\"A\",\"C\",\"B\",\"B\",\"B\",\"B\",\"C\",\"C\",\"C\",\"C\",\"C\",\"B\",\"C\",\"C\",\"B\",\"B\",\"C\",\"A\",\"B\",\"B\",\"B\",\"B\",\"B\",\"C\",\"B\",\"C\",\"B\",\"C\",\"B\",\"C\",\"C\",\"B\",\"C\",\"C\",\"A\",\"C\",\"C\",\"A\",\"C\",\"B\",\"C\",\"B\",\"ROLA\",\"A\",\"B\",\"C\",\"C\",\"C\",\"A\",\"A\",\"B\",\"C\",\"B\",\"A\",\"A\",\"C\",\"A\",\"A\",\"C\",\"A\",\"ROLA\",\"C\",\"C\",\"A\",\"B\",\"B\",\"C\",\"C\",\"C\",\"B\",\"C\",\"C\",\"B\",\"ROLA\",\"B\",\"B\",\"C\",\"A\",\"C\",\"A\",\"A\",\"B\",\"A\",\"A\",\"A\",\"A\",\"C\",\"B\",\"B\",\"C\",\"B\",\"C\",\"A\",\"A\",\"B\",\"A\",\"A\",\"A\",\"B\",\"C\",\"A\",\"B\",\"ROLA\",\"B\",\"C\",\"C\",\"B\",\"A\",\"A\",\"A\",\"C\",\"B\",\"A\",\"A\",\"A\",\"C\",\"C\",\"A\",\"C\",\"C\",\"B\",\"C\",\"A\",\"B\",\"B\",\"B\",\"C\",\"C\",\"ROLA\",\"C\",\"B\",\"B\",\"B\",\"C\",\"C\",\"A\",\"B\",\"B\",\"B\",\"A\",\"A\",\"C\",\"A\",\"A\",\"C\",\"C\",\"C\",\"A\",\"B\",\"B\",\"B\",\"B\",\"C\",\"A\",\"B\",\"A\",\"C\",\"A\",\"C\",\"A\",\"B\",\"A\",\"A\",\"A\",\"C\",\"A\",\"A\",\"A\",\"A\",\"A\",\"A\",\"B\",\"A\",\"C\",\"B\",\"A\",\"B\",\"B\",\"B\",\"A\",\"C\",\"C\",\"C\",\"A\",\"C\",\"B\",\"C\",\"B\",\"B\",\"A\",\"C\",\"C\",\"C\",\"ROLA\",\"C\",\"C\",\"A\",\"B\",\"B\",\"A\",\"C\",\"A\",\"C\",\"C\",\"B\",\"B\",\"C\",\"B\",\"C\",\"A\",\"A\",\"C\",\"B\",\"B\",\"A\",\"B\",\"ROLA\",\"A\",\"C\",\"A\",\"B\",\"B\",\"B\",\"C\",\"C\",\"B\",\"B\",\"C\",\"C\",\"C\",\"B\",\"A\",\"C\",\"C\",\"A\",\"B\",\"B\",\"B\",\"B\",\"B\",\"B\",\"B\",\"B\",\"C\",\"C\",\"C\",\"B\",\"C\",\"C\",\"C\",\"B\",\"C\",\"C\",\"C\",\"C\",\"B\",\"A\",\"B\",\"ROLA\",\"C\",\"C\",\"B\",\"A\",\"B\",\"C\",\"C\",\"C\",\"B\",\"B\",\"C\",\"B\",\"A\",\"C\",\"C\",\"B\",\"C\",\"ROLA\",\"C\",\"B\",\"C\",\"C\",\"C\",\"C\",\"A\",\"C\",\"C\",\"B\",\"C\",\"C\",\"C\",\"C\",\"A\",\"C\",\"C\",\"B\",\"A\",\"C\",\"C\",\"B\",\"B\",\"B\",\"B\",\"B\",\"C\",\"ROLA\",\"A\",\"B\",\"ROLA\",\"C\",\"C\",\"A\",\"A\",\"A\",\"ROLA\",\"A\",\"B\",\"C\",\"B\",\"C\",\"A\",\"C\",\"C\",\"B\",\"C\",\"A\",\"A\",\"C\",\"C\",\"B\",\"C\",\"C\",\"B\",\"A\",\"B\",\"B\",\"C\",\"C\",\"C\",\"C\",\"B\",\"A\",\"A\",\"A\",\"B\",\"B\",\"C\",\"A\",\"B\",\"C\",\"C\",\"A\",\"B\",\"B\",\"A\",\"B\",\"ROLA\",\"B\",\"B\",\"A\",\"A\",\"A\",\"A\",\"C\",\"A\",\"B\",\"B\",\"B\",\"C\",\"C\",\"B\",\"C\",\"A\",\"B\",\"A\",\"C\",\"C\",\"B\",\"C\",\"C\",\"C\",\"C\",\"B\",\"C\",\"B\",\"A\",\"C\",\"C\",\"C\",\"B\",\"C\",\"C\",\"ROLA\",\"A\",\"B\",\"C\",\"A\",\"C\",\"C\",\"B\",\"A\",\"A\",\"A\",\"C\",\"C\",\"A\",\"B\",\"A\",\"A\",\"C\",\"B\",\"B\",\"B\",\"B\",\"C\",\"A\",\"B\",\"B\",\"C\",\"B\",\"C\",\"B\",\"A\",\"C\",\"A\",\"B\",\"B\",\"A\",\"C\",\"A\",\"B\",\"A\",\"A\",\"C\",\"C\",\"A\",\"C\",\"C\",\"A\",\"A\",\"A\",\"B\",\"C\",\"B\",\"B\",\"B\",\"C\",\"B\",\"B\",\"B\",\"B\",\"B\",\"A\",\"B\",\"B\",\"A\",\"C\",\"C\",\"C\",\"A\",\"C\",\"B\",\"B\",\"C\",\"ROLA\",\"B\",\"C\",\"A\",\"C\"],\"type\":\"box\"},{\"boxpoints\":\"outliers\",\"fillcolor\":\"lightgreen\",\"jitter\":0.5,\"line\":{\"width\":2},\"marker\":{\"size\":3},\"name\":\"MUNICIPIO\",\"whiskerwidth\":0.2,\"y\":[\"TALA\",\"TALA\",\"TALA\",\"TALA\",\"TALA\",\"TLAJOMULCO\",\"TALA\",\"TALA\",\"TALA\",\"TALA\",\"AHUISCULCO \",\"TALA\",\"TALA\",\"TALA\",\"ZAP\",\"TALA\",\"HUAXTLA\",\"HUAXTLA\",\"LA VENTA DEL ASTILLERO \",\"TALA\",\"TALA\",\"TALA\",\"TALA\",\"TALA\",\"TALA\",\"TALA\",\"TALA\",\"TALA\",\"TALA\",\"TALA\",\"TALA\",\"TALA\",\"TALA\",\"ZAP\",\"TALA\",\"TALA\",\"TALA\",\"TALA\",\"LA VENTA DEL ASTILLERO \",\"TALA\",\"TALA\",\"TALA\",\"TALA\",\"TALA\",\"TALA\",\"TALA\",\"TALA\",\"TALA\",\"TALA\",\"TALA\",\"TALA\",\"TALA\",\"TALA\",\"TALA\",\"TALA\",\"TALA\",\"TALA\",\"TLAJOMULCO\",\"TALA\",\"TALA\",\"TALA\",\"TALA\",\"TALA\",\"TALA\",\"TALA\",\"TALA\",\"TALA\",\"TALA\",\"TALA\",\"TALA\",\"TALA\",\"TALA\",\"TALA\",\"TALA\",\"TALA\",\"TALA\",\"TALA\",\"TALA\",\"TALA\",\"TALA\",\"TALA\",\"TALA\",\"TALA\",\"TALA\",\"TALA\",\"TALA\",\"TALA\",\"TALA\",\"TALA\",\"TALA\",\"TALA\",\"TALA\",\"TALA\",\"TALA\",\"TALA\",\"TALA\",\"TALA\",\"TALA\",\"TALA\",\"TALA\",\"TALA\",\"TALA\",\"TALA\",\"TALA\",\"TALA\",\"TALA\",\"TALA\",\"TALA\",\"TALA\",\"TALA\",\"ZAP\",\"TALA\",\"TALA\",\"TALA\",\"TALA\",\"TALA\",\"TALA\",\"TALA\",\"TALA\",\"TALA\",\"TALA\",\"TALA\",\"TALA\",\"TALA\",\"TALA\",\"TALA\",\"TALA\",\"TALA\",\"TALA\",\"TALA\",\"TALA\",\"TALA\",\"TALA\",\"TALA\",\"TALA\",\"TALA\",\"TALA\",\"TALA\",\"TALA\",\"TALA\",\"TALA\",\"TALA\",\"TALA\",\"TALA\",\"TALA\",\"TALA\",\"TALA\",\"TALA\",\"TALA\",\"TALA\",\"TALA\",\"TALA\",\"TALA\",\"TALA\",\"TALA\",\"TALA\",\"TALA\",\"TALA\",\"TALA\",\"TALA\",\"ZAP\",\"TALA\",\"TALA\",\"TALA\",\"TALA\",\"TALA\",\"TALA\",\"TALA\",\"TALA\",\"TALA\",\"TALA\",\"TALA\",\"TALA\",\"TALA\",\"TALA\",\"TALA\",\"TALA\",\"TALA\",\"TALA\",\"TALA\",\"TALA\",\"TALA\",\"TALA\",\"TALA\",\"TALA\",\"TALA\",\"TALA\",\"TALA\",\"TALA\",\"TALA\",\"TALA\",\"TALA\",\"TALA\",\"TALA\",\"TALA\",\"TALA\",\"TALA\",\"TALA\",\"TALA\",\"TALA\",\"TALA\",\"TALA\",\"TALA\",\"TALA\",\"TALA\",\"TALA\",\"TALA\",\"TALA\",\"TALA\",\"TALA\",\"TALA\",\"TALA\",\"TALA\",\"ZAMORA\",\"TALA\",\"TALA\",\"TALA\",\"TALA\",\"TALA\",\"TALA\",\"TALA\",\"TALA\",\"TALA\",\"TALA\",\"TALA\",\"TALA\",\"TALA\",\"TALA\",\"TALA\",\"TALA\",\"TALA\",\"TALA\",\"TALA\",\"TALA\",\"TALA\",\"TALA\",\"TALA\",\"TALA\",\"TALA\",\"TALA\",\"TALA\",\"ZAP\",\"TALA\",\"TALA\",\"TALA\",\"TALA\",\"TALA\",\"TALA\",\"TALA\",\"TALA\",\"TALA\",\"TALA\",\"TALA\",\"TALA\",\"TALA\",\"TALA\",\"TALA\",\"TALA\",\"TALA\",\"TALA\",\"TALA\",\"TALA\",\"TALA\",\"TALA\",\"TALA\",\"TALA\",\"TALA\",\"TALA\",\"TALA\",\"TALA\",\"TALA\",\"TALA\",\"TALA\",\"TALA\",\"TALA\",\"TALA\",\"TALA\",\"TALA\",\"TALA\",\"TALA\",\"TALA\",\"TALA\",\"TALA\",\"TALA\",\"TALA\",\"TALA\",\"ZAP\",\"TALA\",\"TALA\",\"TALA\",\"TALA\",\"TALA\",\"ZAP\",\"TALA\",\"TALA\",\"TALA\",\"EL ARENAL\",\"TALA\",\"TALA\",\"TALA\",\"TALA\",\"TALA\",\"ZAP\",\"TALA\",\"TALA\",\"TALA\",\"TALA\",\"TALA\",\"TALA\",\"TALA\",\"ZAP\",\"TALA\",\"TALA\",\"TALA\",\"TALA\",\"TALA\",\"TALA\",\"TALA\",\"TALA\",\"TALA\",\"TALA\",\"TALA\",\"TALA\",\"TALA\",\"TALA\",\"TALA\",\"TALA\",\"TALA\",\"TALA\",\"TALA\",\"TALA\",\"TALA\",\"TALA\",\"TALA\",\"TALA\",\"TALA\",\"TALA\",\"TALA\",\"TALA\",\"TALA\",\"TALA\",\"TALA\",\"TALA\",\"TALA\",\"TALA\",\"TALA\",\"TALA\",\"TALA\",\"TALA\",\"TALA\",\"TALA\",\"TALA\",\"TALA\",\"TALA\",\"TALA\",\"BUENA VISTA \",\"TALA\",\"TALA\",\"TALA\",\"TALA\",\"TALA\",\"TALA\",\"TALA\",\"EL ARENAL\",\"TALA\",\"TALA\",\"TALA\",\"TALA\",\"TALA\",\"TALA\",\"TALA\",\"TALA\",\"TALA\",\"TALA\",\"TALA\",\"TALA\",\"TALA\",\"TALA\",\"TALA\",\"TALA\",\"JALISCO\",\"TALA\",\"TALA\",\"TALA\",\"TALA\",\"TALA\",\"TALA\",\"TALA\",\"TALA\",\"TALA\",\"TALA\",\"TALA\",\"ZAMORA\",\"TALA\",\"CD GUZMAN\",\"TALA\",\"TALA\",\"TALA\",\"TALA\",\"TALA\",\"TALA\",\"TALA\",\"TALA\",\"TALA\",\"TALA\",\"TALA\",\"TALA\",\"TALA\",\"EL ARENAL\",\"TALA\",\"TALA\",\"EL ARENAL\",\"TALA\",\"TALA\",\"TALA\",\"TALA\",\"EL ARENAL\",\"TALA\",\"EL ARENAL\",\"TALA\",\"TLAJOMULCO\",\"TALA\",\"TALA\",\"TALA\",\"TALA\",\"TALA\",\"TALA\",\"TALA\",\"TALA\",\"TALA\",\"TALA\",\"EL ARENAL\",\"EL ARENAL\",\"CD GUZMAN\",\"EL ARENAL\",\"EL ARENAL\",\"HUAXTLA \",\"SAN JUAN DE LOS ARCOS \",\"TALA\",\"TALA\",\"TALA\",\"TALA\",\"TALA\",\"TALA\",\"TALA\",\"TALA\",\"TALA\",\"TALA\",\"TALA\",\"TALA\",\"TALA\",\"TALA\",\"TALA\",\"TALA\",\"TALA\",\"TALA\",\"TALA\",\"TALA\",\"TALA\",\"TALA\",\"TALA\",\"TALA\",\"TALA\",\"TALA\",\"TALA\",\"TALA\",\"TALA\",\"TALA\",\"TALA\",\"TALA\",\"TALA\",\"TALA\",\"TALA\",\"TALA\",\"TALA\",\"TALA\",\"TALA\",\"TALA\",\"TALA\",\"TALA\",\"TALA\",\"TALA\",\"TALA\",\"TALA\",\"TALA\",\"TALA\",\"TALA\",\"TALA\",\"TALA\",\"TALA\",\"TALA\",\"TALA\",\"TALA\",\"TALA\",\"TALA\",\"TALA\",\"ZAP\",\"ZAP\",\"TALA\",\"TALA\",\"TALA\",\"TALA\"],\"type\":\"box\"},{\"boxpoints\":\"outliers\",\"fillcolor\":\"cyan\",\"jitter\":0.5,\"line\":{\"width\":2},\"marker\":{\"size\":3},\"name\":\"ESCOLARIDAD\",\"whiskerwidth\":0.2,\"y\":[\"SECUNDARIA\",\"SECUNDARIA_TRUNCA\",\"SECUNDARIA\",\"SECUNDARIA\",\"PREPARATORIA\",\"PREPARATORIA\",\"SECUNDARIA_TRUNCA\",\"PREPARATORIA\",\"PREPARATORIA_TRUNCA\",\"SECUNDARIA_TRUNCA\",\"PRIMARIA\",\"CURSANDO_LICENCIATURA\",\"PREPARATORIA_TRUNCA\",\"PREPARATORIA\",\"PREPARATORIA_TRUNCA\",\"SECUNDARIA_TRUNCA\",\"SECUNDARIA\",\"SECUNDARIA\",\"SECUNDARIA\",\"PREPARATORIA\",\"PREPARATORIA\",\"SECUNDARIA\",\"PRIMARIA\",\"PREPARATORIA_TRUNCA\",\"SECUNDARIA\",\"PREPARATORIA\",\"PREPARATORIA\",\"SECUNDARIA\",\"PREPARATORIA\",\"PREPARATORIA\",\"PREPARATORIA\",\"SECUNDARIA\",\"PREPARATORIA\",\"CURSANDO_LICENCIATURA\",\"SECUNDARIA\",\"PREPARATORIA\",\"PRIMARIA\",\"SECUNDARIA_TRUNCA\",\"PREPARATORIA\",\"SECUNDARIA\",\"PREPARATORIA\",\"SECUNDARIA_TRUNCA\",\"SECUNDARIA_TRUNCA\",\"PRIMARIA\",\"PRIMARIA\",\"SECUNDARIA\",\"SECUNDARIA_TRUNCA\",\"SECUNDARIA_TRUNCA\",\"SECUNDARIA\",\"SECUNDARIA\",\"PREPARATORIA\",\"SECUNDARIA\",\"PRIMARIA\",\"SECUNDARIA\",\"SECUNDARIA\",\"SECUNDARIA\",\"SECUNDARIA\",\"PRIMARIA\",\"SECUNDARIA_TRUNCA\",\"SECUNDARIA\",\"SECUNDARIA\",\"SECUNDARIA\",\"SECUNDARIA_TRUNCA\",\"SECUNDARIA_TRUNCA\",\"SECUNDARIA_TRUNCA\",\"SECUNDARIA_TRUNCA\",\"SECUNDARIA_TRUNCA\",\"SECUNDARIA_TRUNCA\",\"SECUNDARIA_TRUNCA\",\"SECUNDARIA_TRUNCA\",\"SECUNDARIA_TRUNCA\",\"SECUNDARIA_TRUNCA\",\"SECUNDARIA_TRUNCA\",\"SECUNDARIA_TRUNCA\",\"SECUNDARIA_TRUNCA\",\"SECUNDARIA\",\"SECUNDARIA\",\"SECUNDARIA\",\"SECUNDARIA\",\"SECUNDARIA\",\"SECUNDARIA\",\"SECUNDARIA\",\"SECUNDARIA\",\"SECUNDARIA\",\"SECUNDARIA\",\"SECUNDARIA\",\"SECUNDARIA\",\"SECUNDARIA\",\"SECUNDARIA\",\"SECUNDARIA\",\"SECUNDARIA\",\"SECUNDARIA\",\"SECUNDARIA\",\"SECUNDARIA\",\"SECUNDARIA\",\"SECUNDARIA\",\"SECUNDARIA\",\"SECUNDARIA\",\"SECUNDARIA\",\"SECUNDARIA\",\"SECUNDARIA\",\"SECUNDARIA\",\"SECUNDARIA\",\"PREPARATORIA\",\"SECUNDARIA\",\"SECUNDARIA\",\"SECUNDARIA\",\"INGENIERO\",\"SECUNDARIA\",\"PRIMARIA\",\"PREPARATORIA\",\"SECUNDARIA\",\"SIN_ESTUDIOS\",\"SIN_ESTUDIOS\",\"SIN_ESTUDIOS\",\"SIN_ESTUDIOS\",\"SIN_ESTUDIOS\",\"SIN_ESTUDIOS\",\"SIN_ESTUDIOS\",\"SIN_ESTUDIOS\",\"SIN_ESTUDIOS\",\"SIN_ESTUDIOS\",\"SIN_ESTUDIOS\",\"SIN_ESTUDIOS\",\"SIN_ESTUDIOS\",\"SIN_ESTUDIOS\",\"SIN_ESTUDIOS\",\"SIN_ESTUDIOS\",\"SIN_ESTUDIOS\",\"SIN_ESTUDIOS\",\"SIN_ESTUDIOS\",\"SIN_ESTUDIOS\",\"SIN_ESTUDIOS\",\"SIN_ESTUDIOS\",\"SIN_ESTUDIOS\",\"SIN_ESTUDIOS\",\"SIN_ESTUDIOS\",\"SIN_ESTUDIOS\",\"SECUNDARIA_TRUNCA\",\"SECUNDARIA_TRUNCA\",\"SECUNDARIA_TRUNCA\",\"SECUNDARIA_TRUNCA\",\"SECUNDARIA_TRUNCA\",\"SECUNDARIA_TRUNCA\",\"SECUNDARIA_TRUNCA\",\"SECUNDARIA_TRUNCA\",\"SECUNDARIA_TRUNCA\",\"SECUNDARIA_TRUNCA\",\"SECUNDARIA_TRUNCA\",\"SECUNDARIA_TRUNCA\",\"SECUNDARIA_TRUNCA\",\"SECUNDARIA_TRUNCA\",\"CURSANDO_LICENCIATURA\",\"SECUNDARIA\",\"SECUNDARIA\",\"SECUNDARIA\",\"SECUNDARIA\",\"PREPARATORIA_TRUNCA\",\"PREPARATORIA_TRUNCA\",\"SECUNDARIA\",\"SECUNDARIA\",\"SECUNDARIA_TRUNCA\",\"SECUNDARIA_TRUNCA\",\"SECUNDARIA_TRUNCA\",\"SECUNDARIA_TRUNCA\",\"SECUNDARIA_TRUNCA\",\"PREPARATORIA_TRUNCA\",\"PREPARATORIA_TRUNCA\",\"PREPARATORIA_TRUNCA\",\"PREPARATORIA_TRUNCA\",\"SECUNDARIA\",\"SECUNDARIA_TRUNCA\",\"PREPARATORIA_TRUNCA\",\"PREPARATORIA_TRUNCA\",\"PREPARATORIA_TRUNCA\",\"PREPARATORIA_TRUNCA\",\"PREPARATORIA_TRUNCA\",\"PREPARATORIA_TRUNCA\",\"PREPARATORIA_TRUNCA\",\"PREPARATORIA_TRUNCA\",\"PREPARATORIA_TRUNCA\",\"PREPARATORIA_TRUNCA\",\"PREPARATORIA_TRUNCA\",\"PREPARATORIA_TRUNCA\",\"PREPARATORIA_TRUNCA\",\"PREPARATORIA_TRUNCA\",\"PREPARATORIA_TRUNCA\",\"PREPARATORIA_TRUNCA\",\"PREPARATORIA_TRUNCA\",\"PREPARATORIA_TRUNCA\",\"PREPARATORIA_TRUNCA\",\"PREPARATORIA_TRUNCA\",\"PREPARATORIA_TRUNCA\",\"PREPARATORIA_TRUNCA\",\"SECUNDARIA\",\"SECUNDARIA\",\"SECUNDARIA\",\"SECUNDARIA\",\"SECUNDARIA\",\"SECUNDARIA\",\"SECUNDARIA\",\"SECUNDARIA\",\"SECUNDARIA\",\"SECUNDARIA\",\"SECUNDARIA\",\"SECUNDARIA\",\"SECUNDARIA\",\"SECUNDARIA\",\"SECUNDARIA\",\"SECUNDARIA\",\"SECUNDARIA\",\"PRIMARIA\",\"SECUNDARIA\",\"SECUNDARIA\",\"SECUNDARIA\",\"SECUNDARIA\",\"SECUNDARIA\",\"PREPARATORIA_TRUNCA\",\"SECUNDARIA\",\"SECUNDARIA\",\"SECUNDARIA\",\"SECUNDARIA\",\"SECUNDARIA\",\"SECUNDARIA\",\"SECUNDARIA\",\"SECUNDARIA\",\"SECUNDARIA\",\"SECUNDARIA\",\"SECUNDARIA\",\"SECUNDARIA\",\"SECUNDARIA\",\"SECUNDARIA\",\"PRIMARIA\",\"SECUNDARIA\",\"SECUNDARIA\",\"SECUNDARIA\",\"PRIMARIA\",\"PRIMARIA\",\"PREPARATORIA\",\"SECUNDARIA\",\"SECUNDARIA\",\"PREPARATORIA_TRUNCA\",\"SECUNDARIA\",\"SECUNDARIA\",\"SECUNDARIA\",\"SECUNDARIA\",\"SECUNDARIA\",\"SECUNDARIA\",\"SECUNDARIA\",\"SECUNDARIA\",\"SECUNDARIA\",\"PREPARATORIA_TRUNCA\",\"PREPARATORIA_TRUNCA\",\"PREPARATORIA_TRUNCA\",\"PREPARATORIA_TRUNCA\",\"PREPARATORIA_TRUNCA\",\"PREPARATORIA_TRUNCA\",\"PREPARATORIA_TRUNCA\",\"PREPARATORIA_TRUNCA\",\"PREPARATORIA_TRUNCA\",\"PREPARATORIA_TRUNCA\",\"PREPARATORIA_TRUNCA\",\"PREPARATORIA_TRUNCA\",\"PRIMARIA\",\"PREPARATORIA_TRUNCA\",\"PREPARATORIA_TRUNCA\",\"PREPARATORIA_TRUNCA\",\"SECUNDARIA\",\"PREPARATORIA\",\"PREPARATORIA\",\"PREPARATORIA_TRUNCA\",\"PREPARATORIA_TRUNCA\",\"SECUNDARIA\",\"SECUNDARIA\",\"SECUNDARIA\",\"SECUNDARIA\",\"SECUNDARIA\",\"SECUNDARIA\",\"SECUNDARIA\",\"PREPARATORIA_TRUNCA\",\"PREPARATORIA_TRUNCA\",\"PREPARATORIA_TRUNCA\",\"PREPARATORIA_TRUNCA\",\"SECUNDARIA\",\"SECUNDARIA\",\"SECUNDARIA\",\"PREPARATORIA_TRUNCA\",\"PREPARATORIA_TRUNCA\",\"PREPARATORIA_TRUNCA\",\"PRIMARIA\",\"PREPARATORIA\",\"PREPARATORIA\",\"PREPARATORIA_TECNICA\",\"PREPARATORIA_TRUNCA\",\"PREPARATORIA_TRUNCA\",\"PREPARATORIA_TRUNCA\",\"SECUNDARIA\",\"SECUNDARIA\",\"SECUNDARIA\",\"SECUNDARIA\",\"SECUNDARIA_TRUNCA\",\"SECUNDARIA\",\"PREPARATORIA_TRUNCA\",\"SECUNDARIA_TRUNCA\",\"PRIMARIA\",\"PRIMARIA\",\"SECUNDARIA_TRUNCA\",\"SECUNDARIA_TRUNCA\",\"SECUNDARIA_TRUNCA\",\"SECUNDARIA\",\"PREPARATORIA_TECNICA\",\"SECUNDARIA\",\"SECUNDARIA_TRUNCA\",\"SECUNDARIA_TRUNCA\",\"SECUNDARIA_TRUNCA\",\"SECUNDARIA\",\"SECUNDARIA\",\"SECUNDARIA_TRUNCA\",\"SECUNDARIA_TRUNCA\",\"SECUNDARIA\",\"PREPARATORIA\",\"SECUNDARIA\",\"SECUNDARIA\",\"SECUNDARIA_TRUNCA\",\"SECUNDARIA_TRUNCA\",\"PRIMARIA\",\"SECUNDARIA\",\"PRIMARIA\",\"PRIMARIA\",\"PRIMARIA\",\"PRIMARIA\",\"SECUNDARIA\",\"SECUNDARIA\",\"CURSANDO_PREPARATORIA\",\"PRIMARIA\",\"SECUNDARIA\",\"SECUNDARIA\",\"PRIMARIA\",\"PRIMARIA\",\"PREPARATORIA\",\"PRIMARIA\",\"PREPARATORIA_TECNICA\",\"SECUNDARIA\",\"SECUNDARIA\",\"PREPARATORIA\",\"SECUNDARIA\",\"SECUNDARIA\",\"INGENIERO\",\"SECUNDARIA\",\"PRIMARIA\",\"PREPARATORIA\",\"SIN_ESTUDIOS\",\"PRIMARIA\",\"PRIMARIA\",\"PREPARATORIA\",\"PREPARATORIA\",\"SECUNDARIA\",\"PRIMARIA\",\"SECUNDARIA\",\"SECUNDARIA\",\"SECUNDARIA\",\"PRIMARIA\",\"SECUNDARIA\",\"CURSANDO_LICENCIATURA\",\"SECUNDARIA\",\"PREPARATORIA\",\"PRIMARIA\",\"SECUNDARIA\",\"PREPARATORIA\",\"PREPARATORIA\",\"PREPARATORIA_TRUNCA\",\"SECUNDARIA\",\"PRIMARIA\",\"PREPARATORIA\",\"SECUNDARIA\",\"SECUNDARIA\",\"PRIMARIA\",\"SECUNDARIA\",\"PRIMARIA\",\"SECUNDARIA\",\"SECUNDARIA\",\"PREPARATORIA_TECNICA\",\"SECUNDARIA\",\"SECUNDARIA\",\"PREPARATORIA_TRUNCA\",\"PRIMARIA\",\"PREPARATORIA\",\"PREPARATORIA_TRUNCA\",\"SECUNDARIA\",\"INGENIERO\",\"SECUNDARIA\",\"SECUNDARIA\",\"PREPARATORIA\",\"SIN_ESTUDIOS\",\"PREPARATORIA\",\"SECUNDARIA\",\"SECUNDARIA\",\"SECUNDARIA\",\"PRIMARIA\",\"PRIMARIA\",\"SECUNDARIA\",\"SECUNDARIA\",\"SIN_ESTUDIOS\",\"PRIMARIA\",\"PREPARATORIA\",\"PREPARATORIA\",\"PREPARATORIA\",\"SECUNDARIA\",\"SECUNDARIA\",\"SECUNDARIA\",\"SECUNDARIA\",\"PREPARATORIA\",\"SECUNDARIA\",\"PRIMARIA\",\"SECUNDARIA\",\"SECUNDARIA\",\"PREPARATORIA_TECNICA\",\"SIN_ESTUDIOS\",\"PREPARATORIA_TRUNCA\",\"SECUNDARIA\",\"PRIMARIA\",\"SECUNDARIA\",\"PREPARATORIA\",\"PREPARATORIA\",\"SECUNDARIA\",\"PREPARATORIA\",\"PRIMARIA\",\"PREPARATORIA\",\"PRIMARIA\",\"CURSANDO_SECUNDARIA\",\"SECUNDARIA\",\"LICENCIATURA\",\"PREPARATORIA\",\"INGENIERO\",\"PREPARATORIA\",\"PREPARATORIA\",\"PRIMARIA\",\"SECUNDARIA\",\"PRIMARIA\",\"SECUNDARIA\",\"PRIMARIA\",\"SECUNDARIA\",\"SECUNDARIA\",\"SECUNDARIA\",\"SIN_ESTUDIOS\",\"SECUNDARIA\",\"PREPARATORIA\",\"SECUNDARIA\",\"SECUNDARIA\",\"PREPARATORIA\",\"SECUNDARIA\",\"SECUNDARIA\",\"SECUNDARIA\",\"PRIMARIA\",\"PREPARATORIA\",\"PRIMARIA\",\"PREPARATORIA\",\"PREPARATORIA\",\"PRIMARIA\",\"PREPARATORIA\",\"PREPARATORIA\",\"SECUNDARIA\",\"SECUNDARIA\",\"PREPARATORIA\",\"SECUNDARIA\",\"PREPARATORIA\",\"PRIMARIA\",\"SECUNDARIA\",\"SECUNDARIA\",\"SECUNDARIA\",\"PREPARATORIA\",\"SECUNDARIA\",\"SECUNDARIA\",\"SECUNDARIA\",\"SECUNDARIA\",\"SECUNDARIA\",\"PRIMARIA\",\"SECUNDARIA\",\"INGENIERO\",\"PREPARATORIA\",\"SECUNDARIA\",\"PREPARATORIA\",\"PRIMARIA\",\"PRIMARIA\",\"SECUNDARIA\",\"PREPARATORIA\",\"SECUNDARIA\",\"SECUNDARIA\",\"SECUNDARIA\",\"PRIMARIA\",\"PREPARATORIA\",\"CURSANDO_LICENCIATURA\",\"PREPARATORIA\",\"SECUNDARIA\",\"PRIMARIA\",\"SECUNDARIA\",\"PREPARATORIA\",\"PREPARATORIA_TRUNCA\",\"SIN_ESTUDIOS\",\"SIN_ESTUDIOS\",\"SIN_ESTUDIOS\",\"SIN_ESTUDIOS\"],\"type\":\"box\"},{\"boxpoints\":\"outliers\",\"fillcolor\":\"royalblue\",\"jitter\":0.5,\"line\":{\"width\":2},\"marker\":{\"size\":3},\"name\":\"GENERO\",\"whiskerwidth\":0.2,\"y\":[\"FEMENINO\",\"FEMENINO\",\"FEMENINO\",\"FEMENINO\",\"FEMENINO\",\"MASCULINO\",\"FEMENINO\",\"FEMENINO\",\"MASCULINO\",\"FEMENINO\",\"FEMENINO\",\"FEMENINO\",\"MASCULINO\",\"MASCULINO\",\"FEMENINO\",\"MASCULINO\",\"FEMENINO\",\"FEMENINO\",\"FEMENINO\",\"FEMENINO\",\"FEMENINO\",\"FEMENINO\",\"FEMENINO\",\"FEMENINO\",\"FEMENINO\",\"FEMENINO\",\"FEMENINO\",\"FEMENINO\",\"FEMENINO\",\"MASCULINO\",\"FEMENINO\",\"FEMENINO\",\"FEMENINO\",\"MASCULINO\",\"FEMENINO\",\"MASCULINO\",\"MASCULINO\",\"FEMENINO\",\"FEMENINO\",\"FEMENINO\",\"MASCULINO\",\"MASCULINO\",\"FEMENINO\",\"FEMENINO\",\"FEMENINO\",\"MASCULINO\",\"MASCULINO\",\"MASCULINO\",\"FEMENINO\",\"FEMENINO\",\"MASCULINO\",\"FEMENINO\",\"FEMENINO\",\"MASCULINO\",\"MASCULINO\",\"FEMENINO\",\"FEMENINO\",\"MASCULINO\",\"FEMENINO\",\"FEMENINO\",\"FEMENINO\",\"FEMENINO\",\"MASCULINO\",\"FEMENINO\",\"FEMENINO\",\"FEMENINO\",\"MASCULINO\",\"MASCULINO\",\"MASCULINO\",\"MASCULINO\",\"MASCULINO\",\"MASCULINO\",\"MASCULINO\",\"MASCULINO\",\"FEMENINO\",\"MASCULINO\",\"FEMENINO\",\"FEMENINO\",\"FEMENINO\",\"MASCULINO\",\"MASCULINO\",\"MASCULINO\",\"FEMENINO\",\"MASCULINO\",\"MASCULINO\",\"MASCULINO\",\"FEMENINO\",\"FEMENINO\",\"FEMENINO\",\"MASCULINO\",\"FEMENINO\",\"FEMENINO\",\"FEMENINO\",\"MASCULINO\",\"FEMENINO\",\"MASCULINO\",\"MASCULINO\",\"FEMENINO\",\"FEMENINO\",\"FEMENINO\",\"MASCULINO\",\"MASCULINO\",\"MASCULINO\",\"MASCULINO\",\"MASCULINO\",\"FEMENINO\",\"FEMENINO\",\"MASCULINO\",\"MASCULINO\",\"FEMENINO\",\"MASCULINO\",\"FEMENINO\",\"MASCULINO\",\"FEMENINO\",\"FEMENINO\",\"FEMENINO\",\"MASCULINO\",\"MASCULINO\",\"MASCULINO\",\"MASCULINO\",\"MASCULINO\",\"MASCULINO\",\"MASCULINO\",\"FEMENINO\",\"FEMENINO\",\"FEMENINO\",\"MASCULINO\",\"MASCULINO\",\"MASCULINO\",\"FEMENINO\",\"MASCULINO\",\"FEMENINO\",\"FEMENINO\",\"FEMENINO\",\"MASCULINO\",\"MASCULINO\",\"FEMENINO\",\"MASCULINO\",\"MASCULINO\",\"MASCULINO\",\"MASCULINO\",\"FEMENINO\",\"MASCULINO\",\"FEMENINO\",\"FEMENINO\",\"MASCULINO\",\"MASCULINO\",\"MASCULINO\",\"MASCULINO\",\"MASCULINO\",\"FEMENINO\",\"MASCULINO\",\"MASCULINO\",\"FEMENINO\",\"MASCULINO\",\"MASCULINO\",\"MASCULINO\",\"FEMENINO\",\"MASCULINO\",\"FEMENINO\",\"FEMENINO\",\"MASCULINO\",\"FEMENINO\",\"MASCULINO\",\"MASCULINO\",\"FEMENINO\",\"FEMENINO\",\"FEMENINO\",\"MASCULINO\",\"MASCULINO\",\"MASCULINO\",\"MASCULINO\",\"FEMENINO\",\"MASCULINO\",\"MASCULINO\",\"FEMENINO\",\"FEMENINO\",\"MASCULINO\",\"MASCULINO\",\"MASCULINO\",\"MASCULINO\",\"FEMENINO\",\"FEMENINO\",\"MASCULINO\",\"FEMENINO\",\"MASCULINO\",\"MASCULINO\",\"MASCULINO\",\"FEMENINO\",\"MASCULINO\",\"MASCULINO\",\"FEMENINO\",\"FEMENINO\",\"MASCULINO\",\"MASCULINO\",\"FEMENINO\",\"FEMENINO\",\"FEMENINO\",\"FEMENINO\",\"FEMENINO\",\"FEMENINO\",\"FEMENINO\",\"MASCULINO\",\"FEMENINO\",\"MASCULINO\",\"MASCULINO\",\"MASCULINO\",\"MASCULINO\",\"MASCULINO\",\"FEMENINO\",\"FEMENINO\",\"FEMENINO\",\"FEMENINO\",\"MASCULINO\",\"MASCULINO\",\"MASCULINO\",\"MASCULINO\",\"MASCULINO\",\"MASCULINO\",\"FEMENINO\",\"MASCULINO\",\"MASCULINO\",\"FEMENINO\",\"FEMENINO\",\"FEMENINO\",\"MASCULINO\",\"MASCULINO\",\"FEMENINO\",\"MASCULINO\",\"FEMENINO\",\"MASCULINO\",\"MASCULINO\",\"FEMENINO\",\"MASCULINO\",\"FEMENINO\",\"FEMENINO\",\"FEMENINO\",\"MASCULINO\",\"MASCULINO\",\"MASCULINO\",\"FEMENINO\",\"MASCULINO\",\"MASCULINO\",\"FEMENINO\",\"MASCULINO\",\"MASCULINO\",\"MASCULINO\",\"FEMENINO\",\"MASCULINO\",\"FEMENINO\",\"FEMENINO\",\"FEMENINO\",\"MASCULINO\",\"FEMENINO\",\"FEMENINO\",\"MASCULINO\",\"FEMENINO\",\"FEMENINO\",\"MASCULINO\",\"FEMENINO\",\"MASCULINO\",\"MASCULINO\",\"MASCULINO\",\"FEMENINO\",\"FEMENINO\",\"MASCULINO\",\"FEMENINO\",\"FEMENINO\",\"MASCULINO\",\"MASCULINO\",\"FEMENINO\",\"MASCULINO\",\"FEMENINO\",\"FEMENINO\",\"FEMENINO\",\"MASCULINO\",\"FEMENINO\",\"MASCULINO\",\"FEMENINO\",\"MASCULINO\",\"FEMENINO\",\"MASCULINO\",\"FEMENINO\",\"FEMENINO\",\"MASCULINO\",\"FEMENINO\",\"FEMENINO\",\"MASCULINO\",\"FEMENINO\",\"FEMENINO\",\"FEMENINO\",\"FEMENINO\",\"MASCULINO\",\"FEMENINO\",\"FEMENINO\",\"MASCULINO\",\"FEMENINO\",\"FEMENINO\",\"FEMENINO\",\"FEMENINO\",\"MASCULINO\",\"MASCULINO\",\"MASCULINO\",\"MASCULINO\",\"MASCULINO\",\"MASCULINO\",\"MASCULINO\",\"MASCULINO\",\"MASCULINO\",\"FEMENINO\",\"MASCULINO\",\"FEMENINO\",\"MASCULINO\",\"MASCULINO\",\"FEMENINO\",\"MASCULINO\",\"FEMENINO\",\"FEMENINO\",\"FEMENINO\",\"FEMENINO\",\"MASCULINO\",\"MASCULINO\",\"MASCULINO\",\"MASCULINO\",\"FEMENINO\",\"FEMENINO\",\"FEMENINO\",\"FEMENINO\",\"FEMENINO\",\"FEMENINO\",\"FEMENINO\",\"FEMENINO\",\"FEMENINO\",\"FEMENINO\",\"MASCULINO\",\"FEMENINO\",\"MASCULINO\",\"FEMENINO\",\"FEMENINO\",\"MASCULINO\",\"FEMENINO\",\"MASCULINO\",\"MASCULINO\",\"FEMENINO\",\"FEMENINO\",\"FEMENINO\",\"MASCULINO\",\"MASCULINO\",\"MASCULINO\",\"FEMENINO\",\"FEMENINO\",\"FEMENINO\",\"MASCULINO\",\"FEMENINO\",\"FEMENINO\",\"FEMENINO\",\"FEMENINO\",\"FEMENINO\",\"FEMENINO\",\"FEMENINO\",\"FEMENINO\",\"MASCULINO\",\"FEMENINO\",\"MASCULINO\",\"MASCULINO\",\"MASCULINO\",\"MASCULINO\",\"FEMENINO\",\"MASCULINO\",\"FEMENINO\",\"MASCULINO\",\"FEMENINO\",\"FEMENINO\",\"MASCULINO\",\"FEMENINO\",\"MASCULINO\",\"MASCULINO\",\"FEMENINO\",\"FEMENINO\",\"MASCULINO\",\"MASCULINO\",\"MASCULINO\",\"FEMENINO\",\"FEMENINO\",\"FEMENINO\",\"MASCULINO\",\"MASCULINO\",\"FEMENINO\",\"FEMENINO\",\"MASCULINO\",\"MASCULINO\",\"FEMENINO\",\"MASCULINO\",\"FEMENINO\",\"MASCULINO\",\"MASCULINO\",\"MASCULINO\",\"MASCULINO\",\"FEMENINO\",\"FEMENINO\",\"MASCULINO\",\"FEMENINO\",\"MASCULINO\",\"FEMENINO\",\"FEMENINO\",\"FEMENINO\",\"FEMENINO\",\"FEMENINO\",\"FEMENINO\",\"MASCULINO\",\"MASCULINO\",\"FEMENINO\",\"MASCULINO\",\"MASCULINO\",\"FEMENINO\",\"FEMENINO\",\"MASCULINO\",\"MASCULINO\",\"MASCULINO\",\"MASCULINO\",\"MASCULINO\",\"FEMENINO\",\"FEMENINO\",\"MASCULINO\",\"FEMENINO\",\"MASCULINO\",\"FEMENINO\",\"MASCULINO\",\"FEMENINO\",\"FEMENINO\",\"MASCULINO\",\"FEMENINO\",\"FEMENINO\",\"MASCULINO\",\"MASCULINO\",\"MASCULINO\",\"FEMENINO\",\"FEMENINO\",\"FEMENINO\",\"MASCULINO\",\"MASCULINO\",\"FEMENINO\",\"FEMENINO\",\"FEMENINO\",\"FEMENINO\",\"FEMENINO\",\"FEMENINO\",\"FEMENINO\",\"FEMENINO\",\"FEMENINO\",\"FEMENINO\",\"FEMENINO\",\"FEMENINO\",\"MASCULINO\",\"MASCULINO\",\"MASCULINO\",\"MASCULINO\",\"FEMENINO\",\"FEMENINO\",\"MASCULINO\",\"FEMENINO\",\"FEMENINO\",\"MASCULINO\",\"FEMENINO\",\"FEMENINO\",\"FEMENINO\",\"MASCULINO\",\"FEMENINO\",\"MASCULINO\",\"FEMENINO\",\"MASCULINO\",\"FEMENINO\",\"FEMENINO\",\"MASCULINO\",\"MASCULINO\",\"MASCULINO\",\"MASCULINO\",\"FEMENINO\",\"MASCULINO\",\"FEMENINO\",\"FEMENINO\",\"MASCULINO\",\"FEMENINO\",\"FEMENINO\",\"MASCULINO\",\"FEMENINO\",\"FEMENINO\",\"MASCULINO\",\"MASCULINO\",\"FEMENINO\",\"FEMENINO\",\"FEMENINO\",\"FEMENINO\",\"FEMENINO\",\"MASCULINO\",\"MASCULINO\",\"MASCULINO\",\"MASCULINO\",\"MASCULINO\",\"FEMENINO\",\"FEMENINO\",\"MASCULINO\"],\"type\":\"box\"}],                        {\"template\":{\"data\":{\"histogram2dcontour\":[{\"type\":\"histogram2dcontour\",\"colorbar\":{\"outlinewidth\":0,\"ticks\":\"\"},\"colorscale\":[[0.0,\"#0d0887\"],[0.1111111111111111,\"#46039f\"],[0.2222222222222222,\"#7201a8\"],[0.3333333333333333,\"#9c179e\"],[0.4444444444444444,\"#bd3786\"],[0.5555555555555556,\"#d8576b\"],[0.6666666666666666,\"#ed7953\"],[0.7777777777777778,\"#fb9f3a\"],[0.8888888888888888,\"#fdca26\"],[1.0,\"#f0f921\"]]}],\"choropleth\":[{\"type\":\"choropleth\",\"colorbar\":{\"outlinewidth\":0,\"ticks\":\"\"}}],\"histogram2d\":[{\"type\":\"histogram2d\",\"colorbar\":{\"outlinewidth\":0,\"ticks\":\"\"},\"colorscale\":[[0.0,\"#0d0887\"],[0.1111111111111111,\"#46039f\"],[0.2222222222222222,\"#7201a8\"],[0.3333333333333333,\"#9c179e\"],[0.4444444444444444,\"#bd3786\"],[0.5555555555555556,\"#d8576b\"],[0.6666666666666666,\"#ed7953\"],[0.7777777777777778,\"#fb9f3a\"],[0.8888888888888888,\"#fdca26\"],[1.0,\"#f0f921\"]]}],\"heatmap\":[{\"type\":\"heatmap\",\"colorbar\":{\"outlinewidth\":0,\"ticks\":\"\"},\"colorscale\":[[0.0,\"#0d0887\"],[0.1111111111111111,\"#46039f\"],[0.2222222222222222,\"#7201a8\"],[0.3333333333333333,\"#9c179e\"],[0.4444444444444444,\"#bd3786\"],[0.5555555555555556,\"#d8576b\"],[0.6666666666666666,\"#ed7953\"],[0.7777777777777778,\"#fb9f3a\"],[0.8888888888888888,\"#fdca26\"],[1.0,\"#f0f921\"]]}],\"heatmapgl\":[{\"type\":\"heatmapgl\",\"colorbar\":{\"outlinewidth\":0,\"ticks\":\"\"},\"colorscale\":[[0.0,\"#0d0887\"],[0.1111111111111111,\"#46039f\"],[0.2222222222222222,\"#7201a8\"],[0.3333333333333333,\"#9c179e\"],[0.4444444444444444,\"#bd3786\"],[0.5555555555555556,\"#d8576b\"],[0.6666666666666666,\"#ed7953\"],[0.7777777777777778,\"#fb9f3a\"],[0.8888888888888888,\"#fdca26\"],[1.0,\"#f0f921\"]]}],\"contourcarpet\":[{\"type\":\"contourcarpet\",\"colorbar\":{\"outlinewidth\":0,\"ticks\":\"\"}}],\"contour\":[{\"type\":\"contour\",\"colorbar\":{\"outlinewidth\":0,\"ticks\":\"\"},\"colorscale\":[[0.0,\"#0d0887\"],[0.1111111111111111,\"#46039f\"],[0.2222222222222222,\"#7201a8\"],[0.3333333333333333,\"#9c179e\"],[0.4444444444444444,\"#bd3786\"],[0.5555555555555556,\"#d8576b\"],[0.6666666666666666,\"#ed7953\"],[0.7777777777777778,\"#fb9f3a\"],[0.8888888888888888,\"#fdca26\"],[1.0,\"#f0f921\"]]}],\"surface\":[{\"type\":\"surface\",\"colorbar\":{\"outlinewidth\":0,\"ticks\":\"\"},\"colorscale\":[[0.0,\"#0d0887\"],[0.1111111111111111,\"#46039f\"],[0.2222222222222222,\"#7201a8\"],[0.3333333333333333,\"#9c179e\"],[0.4444444444444444,\"#bd3786\"],[0.5555555555555556,\"#d8576b\"],[0.6666666666666666,\"#ed7953\"],[0.7777777777777778,\"#fb9f3a\"],[0.8888888888888888,\"#fdca26\"],[1.0,\"#f0f921\"]]}],\"mesh3d\":[{\"type\":\"mesh3d\",\"colorbar\":{\"outlinewidth\":0,\"ticks\":\"\"}}],\"scatter\":[{\"fillpattern\":{\"fillmode\":\"overlay\",\"size\":10,\"solidity\":0.2},\"type\":\"scatter\"}],\"parcoords\":[{\"type\":\"parcoords\",\"line\":{\"colorbar\":{\"outlinewidth\":0,\"ticks\":\"\"}}}],\"scatterpolargl\":[{\"type\":\"scatterpolargl\",\"marker\":{\"colorbar\":{\"outlinewidth\":0,\"ticks\":\"\"}}}],\"bar\":[{\"error_x\":{\"color\":\"#2a3f5f\"},\"error_y\":{\"color\":\"#2a3f5f\"},\"marker\":{\"line\":{\"color\":\"#E5ECF6\",\"width\":0.5},\"pattern\":{\"fillmode\":\"overlay\",\"size\":10,\"solidity\":0.2}},\"type\":\"bar\"}],\"scattergeo\":[{\"type\":\"scattergeo\",\"marker\":{\"colorbar\":{\"outlinewidth\":0,\"ticks\":\"\"}}}],\"scatterpolar\":[{\"type\":\"scatterpolar\",\"marker\":{\"colorbar\":{\"outlinewidth\":0,\"ticks\":\"\"}}}],\"histogram\":[{\"marker\":{\"pattern\":{\"fillmode\":\"overlay\",\"size\":10,\"solidity\":0.2}},\"type\":\"histogram\"}],\"scattergl\":[{\"type\":\"scattergl\",\"marker\":{\"colorbar\":{\"outlinewidth\":0,\"ticks\":\"\"}}}],\"scatter3d\":[{\"type\":\"scatter3d\",\"line\":{\"colorbar\":{\"outlinewidth\":0,\"ticks\":\"\"}},\"marker\":{\"colorbar\":{\"outlinewidth\":0,\"ticks\":\"\"}}}],\"scattermapbox\":[{\"type\":\"scattermapbox\",\"marker\":{\"colorbar\":{\"outlinewidth\":0,\"ticks\":\"\"}}}],\"scatterternary\":[{\"type\":\"scatterternary\",\"marker\":{\"colorbar\":{\"outlinewidth\":0,\"ticks\":\"\"}}}],\"scattercarpet\":[{\"type\":\"scattercarpet\",\"marker\":{\"colorbar\":{\"outlinewidth\":0,\"ticks\":\"\"}}}],\"carpet\":[{\"aaxis\":{\"endlinecolor\":\"#2a3f5f\",\"gridcolor\":\"white\",\"linecolor\":\"white\",\"minorgridcolor\":\"white\",\"startlinecolor\":\"#2a3f5f\"},\"baxis\":{\"endlinecolor\":\"#2a3f5f\",\"gridcolor\":\"white\",\"linecolor\":\"white\",\"minorgridcolor\":\"white\",\"startlinecolor\":\"#2a3f5f\"},\"type\":\"carpet\"}],\"table\":[{\"cells\":{\"fill\":{\"color\":\"#EBF0F8\"},\"line\":{\"color\":\"white\"}},\"header\":{\"fill\":{\"color\":\"#C8D4E3\"},\"line\":{\"color\":\"white\"}},\"type\":\"table\"}],\"barpolar\":[{\"marker\":{\"line\":{\"color\":\"#E5ECF6\",\"width\":0.5},\"pattern\":{\"fillmode\":\"overlay\",\"size\":10,\"solidity\":0.2}},\"type\":\"barpolar\"}],\"pie\":[{\"automargin\":true,\"type\":\"pie\"}]},\"layout\":{\"autotypenumbers\":\"strict\",\"colorway\":[\"#636efa\",\"#EF553B\",\"#00cc96\",\"#ab63fa\",\"#FFA15A\",\"#19d3f3\",\"#FF6692\",\"#B6E880\",\"#FF97FF\",\"#FECB52\"],\"font\":{\"color\":\"#2a3f5f\"},\"hovermode\":\"closest\",\"hoverlabel\":{\"align\":\"left\"},\"paper_bgcolor\":\"white\",\"plot_bgcolor\":\"#E5ECF6\",\"polar\":{\"bgcolor\":\"#E5ECF6\",\"angularaxis\":{\"gridcolor\":\"white\",\"linecolor\":\"white\",\"ticks\":\"\"},\"radialaxis\":{\"gridcolor\":\"white\",\"linecolor\":\"white\",\"ticks\":\"\"}},\"ternary\":{\"bgcolor\":\"#E5ECF6\",\"aaxis\":{\"gridcolor\":\"white\",\"linecolor\":\"white\",\"ticks\":\"\"},\"baxis\":{\"gridcolor\":\"white\",\"linecolor\":\"white\",\"ticks\":\"\"},\"caxis\":{\"gridcolor\":\"white\",\"linecolor\":\"white\",\"ticks\":\"\"}},\"coloraxis\":{\"colorbar\":{\"outlinewidth\":0,\"ticks\":\"\"}},\"colorscale\":{\"sequential\":[[0.0,\"#0d0887\"],[0.1111111111111111,\"#46039f\"],[0.2222222222222222,\"#7201a8\"],[0.3333333333333333,\"#9c179e\"],[0.4444444444444444,\"#bd3786\"],[0.5555555555555556,\"#d8576b\"],[0.6666666666666666,\"#ed7953\"],[0.7777777777777778,\"#fb9f3a\"],[0.8888888888888888,\"#fdca26\"],[1.0,\"#f0f921\"]],\"sequentialminus\":[[0.0,\"#0d0887\"],[0.1111111111111111,\"#46039f\"],[0.2222222222222222,\"#7201a8\"],[0.3333333333333333,\"#9c179e\"],[0.4444444444444444,\"#bd3786\"],[0.5555555555555556,\"#d8576b\"],[0.6666666666666666,\"#ed7953\"],[0.7777777777777778,\"#fb9f3a\"],[0.8888888888888888,\"#fdca26\"],[1.0,\"#f0f921\"]],\"diverging\":[[0,\"#8e0152\"],[0.1,\"#c51b7d\"],[0.2,\"#de77ae\"],[0.3,\"#f1b6da\"],[0.4,\"#fde0ef\"],[0.5,\"#f7f7f7\"],[0.6,\"#e6f5d0\"],[0.7,\"#b8e186\"],[0.8,\"#7fbc41\"],[0.9,\"#4d9221\"],[1,\"#276419\"]]},\"xaxis\":{\"gridcolor\":\"white\",\"linecolor\":\"white\",\"ticks\":\"\",\"title\":{\"standoff\":15},\"zerolinecolor\":\"white\",\"automargin\":true,\"zerolinewidth\":2},\"yaxis\":{\"gridcolor\":\"white\",\"linecolor\":\"white\",\"ticks\":\"\",\"title\":{\"standoff\":15},\"zerolinecolor\":\"white\",\"automargin\":true,\"zerolinewidth\":2},\"scene\":{\"xaxis\":{\"backgroundcolor\":\"#E5ECF6\",\"gridcolor\":\"white\",\"linecolor\":\"white\",\"showbackground\":true,\"ticks\":\"\",\"zerolinecolor\":\"white\",\"gridwidth\":2},\"yaxis\":{\"backgroundcolor\":\"#E5ECF6\",\"gridcolor\":\"white\",\"linecolor\":\"white\",\"showbackground\":true,\"ticks\":\"\",\"zerolinecolor\":\"white\",\"gridwidth\":2},\"zaxis\":{\"backgroundcolor\":\"#E5ECF6\",\"gridcolor\":\"white\",\"linecolor\":\"white\",\"showbackground\":true,\"ticks\":\"\",\"zerolinecolor\":\"white\",\"gridwidth\":2}},\"shapedefaults\":{\"line\":{\"color\":\"#2a3f5f\"}},\"annotationdefaults\":{\"arrowcolor\":\"#2a3f5f\",\"arrowhead\":0,\"arrowwidth\":1},\"geo\":{\"bgcolor\":\"white\",\"landcolor\":\"#E5ECF6\",\"subunitcolor\":\"white\",\"showland\":true,\"showlakes\":true,\"lakecolor\":\"white\"},\"title\":{\"x\":0.05},\"mapbox\":{\"style\":\"light\"}}}},                        {\"responsive\": true}                    ).then(function(){\n",
       "                            \n",
       "var gd = document.getElementById('96a8a9c5-ae54-4713-84fc-e1a4182a94d9');\n",
       "var x = new MutationObserver(function (mutations, observer) {{\n",
       "        var display = window.getComputedStyle(gd).display;\n",
       "        if (!display || display === 'none') {{\n",
       "            console.log([gd, 'removed!']);\n",
       "            Plotly.purge(gd);\n",
       "            observer.disconnect();\n",
       "        }}\n",
       "}});\n",
       "\n",
       "// Listen for the removal of the full notebook cells\n",
       "var notebookContainer = gd.closest('#notebook-container');\n",
       "if (notebookContainer) {{\n",
       "    x.observe(notebookContainer, {childList: true});\n",
       "}}\n",
       "\n",
       "// Listen for the clearing of the current output cell\n",
       "var outputEl = gd.closest('.output');\n",
       "if (outputEl) {{\n",
       "    x.observe(outputEl, {childList: true});\n",
       "}}\n",
       "\n",
       "                        })                };                });            </script>        </div>"
      ]
     },
     "metadata": {},
     "output_type": "display_data"
    }
   ],
   "source": [
    "names = df.columns[1:7]\n",
    "# make df a list\n",
    "values=[] \n",
    "for column in df.iloc[:,1:7].columns:\n",
    "    li = df[column].tolist()\n",
    "    values.append(li)\n",
    "colors = ['gold', 'mediumturquoise', 'darkorange', 'lightgreen','cyan', 'royalblue']\n",
    "\n",
    "fig = go.Figure()\n",
    "for xd, yd, cls in zip(names, values, colors):\n",
    "        fig.add_trace(go.Box(\n",
    "            y=yd,\n",
    "            name=xd,\n",
    "            boxpoints='outliers',\n",
    "            jitter=0.5,\n",
    "            whiskerwidth=0.2,\n",
    "            fillcolor=cls,\n",
    "            marker_size=3,\n",
    "            line_width=2)\n",
    "        )\n",
    "fig.show()"
   ]
  },
  {
   "cell_type": "markdown",
   "metadata": {},
   "source": [
    "**2.4. Visualization and analysis of joint distribution**"
   ]
  },
  {
   "cell_type": "code",
   "execution_count": 72,
   "metadata": {},
   "outputs": [
    {
     "name": "stderr",
     "output_type": "stream",
     "text": [
      "c:\\Users\\luism\\anaconda3\\Lib\\site-packages\\seaborn\\axisgrid.py:118: UserWarning:\n",
      "\n",
      "The figure layout has changed to tight\n",
      "\n"
     ]
    },
    {
     "data": {
      "text/plain": [
       "<seaborn.axisgrid.PairGrid at 0x25ad6070b90>"
      ]
     },
     "execution_count": 72,
     "metadata": {},
     "output_type": "execute_result"
    },
    {
     "data": {
      "image/png": "[encoded data removed]",
      "text/plain": [
       "<Figure size 862.486x800 with 30 Axes>"
      ]
     },
     "metadata": {},
     "output_type": "display_data"
    }
   ],
   "source": [
    "sns.pairplot(df.iloc[:,:6],hue='Estatus', diag_kind='hist',height=1.6)"
   ]
  },
  {
   "cell_type": "markdown",
   "metadata": {},
   "source": [
    "**2.5. Correlation matrix**"
   ]
  },
  {
   "cell_type": "code",
   "execution_count": 11,
   "metadata": {},
   "outputs": [
    {
     "data": {
      "application/vnd.plotly.v1+json": {
       "config": {
        "plotlyServerURL": "https://plot.ly"
       },
       "data": [
        {
         "type": "heatmap",
         "x": [
          "radius_mean",
          "texture_mean",
          "perimeter_mean",
          "area_mean",
          "smoothness_mean",
          "compactness_mean",
          "concavity_mean",
          "concave points_mean",
          "symmetry_mean",
          "fractal_dimension_mean",
          "radius_se",
          "texture_se",
          "perimeter_se",
          "area_se",
          "smoothness_se",
          "compactness_se",
          "concavity_se",
          "concave points_se",
          "symmetry_se",
          "fractal_dimension_se",
          "radius_worst",
          "texture_worst",
          "perimeter_worst",
          "area_worst",
          "smoothness_worst",
          "compactness_worst",
          "concavity_worst",
          "concave points_worst",
          "symmetry_worst",
          "fractal_dimension_worst"
         ],
         "xgap": 1,
         "y": [
          "radius_mean",
          "texture_mean",
          "perimeter_mean",
          "area_mean",
          "smoothness_mean",
          "compactness_mean",
          "concavity_mean",
          "concave points_mean",
          "symmetry_mean",
          "fractal_dimension_mean",
          "radius_se",
          "texture_se",
          "perimeter_se",
          "area_se",
          "smoothness_se",
          "compactness_se",
          "concavity_se",
          "concave points_se",
          "symmetry_se",
          "fractal_dimension_se",
          "radius_worst",
          "texture_worst",
          "perimeter_worst",
          "area_worst",
          "smoothness_worst",
          "compactness_worst",
          "concavity_worst",
          "concave points_worst",
          "symmetry_worst",
          "fractal_dimension_worst"
         ],
         "ygap": 1,
         "z": [
          [
           1,
           0.32378189092773324,
           0.9978552814938109,
           0.9873571700566127,
           0.17058118749299467,
           0.5061235775263634,
           0.6767635503908104,
           0.8225285223871786,
           0.14774124199260202,
           -0.3116308263092899,
           0.6790903880020743,
           -0.09731744314481319,
           0.6741716157641048,
           0.7358636632128178,
           -0.2226001245821115,
           0.2059999804076988,
           0.19420362276150882,
           0.3761689559399253,
           -0.10432088141786551,
           -0.042641269114456294,
           0.9695389726112055,
           0.29700764398637336,
           0.9651365139559871,
           0.9410824595860461,
           0.11961613992160802,
           0.4134628230608015,
           0.5269114618385448,
           0.7442141978674661,
           0.1639533349363072,
           0.007065885692182479
          ],
          [
           0.32378189092773324,
           1,
           0.3295330586865707,
           0.32108569608020704,
           -0.023388515998423325,
           0.236702222074372,
           0.30241782794389144,
           0.29346405131394276,
           0.07140098048331764,
           -0.07643718344813423,
           0.27586867617376243,
           0.3863576227244906,
           0.28167311478720275,
           0.2598449866100985,
           0.006613777353585514,
           0.19197461132396684,
           0.14329307656049867,
           0.16385102528521822,
           0.009127167755035895,
           0.054457519568933854,
           0.35257294715029586,
           0.912044588840421,
           0.35803957505322415,
           0.3435459471864696,
           0.077503358822129,
           0.2778295924789794,
           0.30102522381649116,
           0.2953158433377364,
           0.10500791031597205,
           0.11920535139708567
          ],
          [
           0.9978552814938109,
           0.3295330586865707,
           1,
           0.9865068039913907,
           0.2072781636910072,
           0.556936210879562,
           0.7161356501174047,
           0.8509770412528191,
           0.18302721211685316,
           -0.26147690806633256,
           0.6917650135334819,
           -0.08676107831179455,
           0.6931348895408653,
           0.7449826941190683,
           -0.20269402629832212,
           0.25074368074058806,
           0.22808234539365832,
           0.407216915998619,
           -0.08162932702839931,
           -0.005523391057003881,
           0.9694763634663146,
           0.30303837155715024,
           0.9703868870426394,
           0.9415498080023068,
           0.1505494043170374,
           0.45577422803832723,
           0.5638792634736619,
           0.7712407893605497,
           0.18911504046245775,
           0.05101852972340705
          ],
          [
           0.9873571700566127,
           0.32108569608020704,
           0.9865068039913907,
           1,
           0.1770283772540016,
           0.49850168215241186,
           0.6859828285519112,
           0.8232688686524342,
           0.15129307903511224,
           -0.2831098116914261,
           0.7325622269972968,
           -0.06628021360457731,
           0.7266283277906844,
           0.8000859212343201,
           -0.1667766666011128,
           0.21258255077923266,
           0.20766006048256927,
           0.3723202823307104,
           -0.07249658821176244,
           -0.019886963235068042,
           0.9627460860470841,
           0.287488627121397,
           0.9591195743552645,
           0.9592133256498998,
           0.12352293875557084,
           0.39041030924249864,
           0.5126059204433239,
           0.7220166262603579,
           0.1435699138890717,
           0.003737597351571729
          ],
          [
           0.17058118749299467,
           -0.023388515998423325,
           0.2072781636910072,
           0.1770283772540016,
           1,
           0.6591232152159234,
           0.52198376771426,
           0.5536951727437609,
           0.5577747880728878,
           0.5847920019499775,
           0.30146709825316975,
           0.06840644817118251,
           0.29609193289351476,
           0.24655243166573562,
           0.3323754426475922,
           0.31894329670537874,
           0.24839567988255598,
           0.38067569098328613,
           0.20077437592048314,
           0.2836066985468851,
           0.21312014189594916,
           0.03607179878564654,
           0.23885262620915101,
           0.20671836342857688,
           0.8053241954943627,
           0.4724684437304436,
           0.4349257147250878,
           0.503053353298951,
           0.39430948181175646,
           0.4993163685937669
          ],
          [
           0.5061235775263634,
           0.236702222074372,
           0.556936210879562,
           0.49850168215241186,
           0.6591232152159234,
           1,
           0.8831206701772507,
           0.831135043133698,
           0.6026410484055158,
           0.565368663414522,
           0.49747344608506183,
           0.04620483071640705,
           0.5489052645888235,
           0.45565285198788846,
           0.13529926770047143,
           0.7387217896603929,
           0.5705168714898889,
           0.642261850971647,
           0.22997659080143223,
           0.5073181269004216,
           0.5353153982176662,
           0.2481328332774173,
           0.590210427731298,
           0.50960380555792,
           0.5655411663750888,
           0.8658090398022629,
           0.8162752498000281,
           0.8155732235690644,
           0.5102234299218061,
           0.6873823227538974
          ],
          [
           0.6767635503908104,
           0.30241782794389144,
           0.7161356501174047,
           0.6859828285519112,
           0.52198376771426,
           0.8831206701772507,
           1,
           0.9213910263788588,
           0.5006666171419609,
           0.33678335942118504,
           0.6319248221414899,
           0.07621834813534026,
           0.6603907872419604,
           0.6174268058452413,
           0.09856374579911734,
           0.6702788246430194,
           0.6912702075448502,
           0.6832599165123261,
           0.17800920792087752,
           0.4493007490503378,
           0.6882364076436722,
           0.2998788887096908,
           0.7295649165132018,
           0.6759872313060872,
           0.44882203840476004,
           0.7549680159063962,
           0.8841026390943817,
           0.861323033637951,
           0.4094641265399853,
           0.5149298906363856
          ],
          [
           0.8225285223871786,
           0.29346405131394276,
           0.8509770412528191,
           0.8232688686524342,
           0.5536951727437609,
           0.831135043133698,
           0.9213910263788588,
           1,
           0.4624973883673585,
           0.1669173832269923,
           0.6980498335607404,
           0.021479581923401776,
           0.710649871613898,
           0.6902985397595536,
           0.027653308387136005,
           0.49042424959357145,
           0.43916706847426173,
           0.6156341308969191,
           0.09535078688667675,
           0.2575837462430327,
           0.8303176311186159,
           0.2927517130015173,
           0.8559231281343119,
           0.809629619909618,
           0.4527530541790488,
           0.6674536768257124,
           0.7523994975749643,
           0.9101553142985918,
           0.3757441454236111,
           0.36866113371677106
          ],
          [
           0.14774124199260202,
           0.07140098048331764,
           0.18302721211685316,
           0.15129307903511224,
           0.5577747880728878,
           0.6026410484055158,
           0.5006666171419609,
           0.4624973883673585,
           1,
           0.47992133005096926,
           0.30337926320726244,
           0.1280529263402561,
           0.3138927607965131,
           0.22397021941762965,
           0.18732116526139078,
           0.4216591470050108,
           0.3426270230777206,
           0.39329787208901684,
           0.44913654239342854,
           0.3317861462731239,
           0.18572775349568738,
           0.0906506881166432,
           0.21916855911105818,
           0.1771933773740968,
           0.4266750263849464,
           0.4732000132446185,
           0.433721007590172,
           0.4302966114579543,
           0.6998257976437302,
           0.4384134984446025
          ],
          [
           -0.3116308263092899,
           -0.07643718344813423,
           -0.26147690806633256,
           -0.2831098116914261,
           0.5847920019499775,
           0.565368663414522,
           0.33678335942118504,
           0.1669173832269923,
           0.47992133005096926,
           1,
           0.0001109950726296278,
           0.16417396587172883,
           0.03982993157204734,
           -0.09017024752042703,
           0.4019644254484126,
           0.5598366906211326,
           0.44663032169957156,
           0.34119804439711815,
           0.34500739714372797,
           0.6881315774585519,
           -0.25369149487660986,
           -0.05126920203676535,
           -0.20515121126277344,
           -0.2318544511675603,
           0.5049420753517612,
           0.4587981566678596,
           0.3462338763480676,
           0.17532544924324475,
           0.3340186838510839,
           0.7672967792384361
          ],
          [
           0.6790903880020743,
           0.27586867617376243,
           0.6917650135334819,
           0.7325622269972968,
           0.30146709825316975,
           0.49747344608506183,
           0.6319248221414899,
           0.6980498335607404,
           0.30337926320726244,
           0.0001109950726296278,
           1,
           0.21324733725115802,
           0.9727936770160764,
           0.951830112110991,
           0.16451421981281164,
           0.35606457553220283,
           0.3323575376076105,
           0.5133464414367649,
           0.24056736245007102,
           0.22775353267198026,
           0.715065195135185,
           0.19479855683425132,
           0.7196838036650044,
           0.7515484761266196,
           0.14191855291860658,
           0.28710316560074034,
           0.38058463462872194,
           0.5310623278216046,
           0.09454283035438187,
           0.049559432464573124
          ],
          [
           -0.09731744314481319,
           0.3863576227244906,
           -0.08676107831179455,
           -0.06628021360457731,
           0.06840644817118251,
           0.04620483071640705,
           0.07621834813534026,
           0.021479581923401776,
           0.1280529263402561,
           0.16417396587172883,
           0.21324733725115802,
           1,
           0.223170728630714,
           0.11156724721803947,
           0.3972428526412099,
           0.2316996989762371,
           0.19499846445881905,
           0.2302833995570338,
           0.41162068019753933,
           0.2797227477191938,
           -0.11169031312493002,
           0.4090027663153059,
           -0.10224192188743278,
           -0.08319498858504636,
           -0.07365765910118513,
           -0.09243935361819372,
           -0.06895622054645592,
           -0.11963752313984607,
           -0.12821475779252947,
           -0.045654568593207025
          ],
          [
           0.6741716157641048,
           0.28167311478720275,
           0.6931348895408653,
           0.7266283277906844,
           0.29609193289351476,
           0.5489052645888235,
           0.6603907872419604,
           0.710649871613898,
           0.3138927607965131,
           0.03982993157204734,
           0.9727936770160764,
           0.223170728630714,
           1,
           0.9376554069544157,
           0.15107533120841296,
           0.41632236799246164,
           0.3624815822704489,
           0.5562640836543961,
           0.2664870918640224,
           0.24414277341628535,
           0.6972005927206456,
           0.2003708539594511,
           0.7210313099890175,
           0.7307129731302829,
           0.1300543919910096,
           0.3419194453712055,
           0.4188988157305714,
           0.5548972306282103,
           0.1099304342313503,
           0.0854325720566574
          ],
          [
           0.7358636632128178,
           0.2598449866100985,
           0.7449826941190683,
           0.8000859212343201,
           0.24655243166573562,
           0.45565285198788846,
           0.6174268058452413,
           0.6902985397595536,
           0.22397021941762965,
           -0.09017024752042703,
           0.951830112110991,
           0.11156724721803947,
           0.9376554069544157,
           1,
           0.07515033812199375,
           0.28484005654116107,
           0.270894726190632,
           0.4157295683714005,
           0.1341089796924749,
           0.12707090297801246,
           0.7573731889240164,
           0.19649664907281025,
           0.7612126360687592,
           0.8114079609317274,
           0.12538943051609117,
           0.28325653753745555,
           0.38510013559852924,
           0.5381663138957359,
           0.07412629159952816,
           0.017539295132385505
          ],
          [
           -0.2226001245821115,
           0.006613777353585514,
           -0.20269402629832212,
           -0.1667766666011128,
           0.3323754426475922,
           0.13529926770047143,
           0.09856374579911734,
           0.027653308387136005,
           0.18732116526139078,
           0.4019644254484126,
           0.16451421981281164,
           0.3972428526412099,
           0.15107533120841296,
           0.07515033812199375,
           1,
           0.33669608050544514,
           0.2686847598722627,
           0.3284294991096789,
           0.4135061252078973,
           0.4273742067231582,
           -0.2306907098451477,
           -0.07474296487675623,
           -0.21730375458186166,
           -0.182195478059099,
           0.31445745598082797,
           -0.05555813871505085,
           -0.05829838674344549,
           -0.10200679633746537,
           -0.10734209778914477,
           0.10148031504252508
          ],
          [
           0.2059999804076988,
           0.19197461132396684,
           0.25074368074058806,
           0.21258255077923266,
           0.31894329670537874,
           0.7387217896603929,
           0.6702788246430194,
           0.49042424959357145,
           0.4216591470050108,
           0.5598366906211326,
           0.35606457553220283,
           0.2316996989762371,
           0.41632236799246164,
           0.28484005654116107,
           0.33669608050544514,
           1,
           0.8012683427383291,
           0.7440826676953253,
           0.3947128347620316,
           0.8032688176617679,
           0.20460716594748168,
           0.1430025832957166,
           0.26051583964720865,
           0.19937132909101393,
           0.22739423230542308,
           0.6787803543724954,
           0.6391466977559193,
           0.48320832682561315,
           0.277878430714635,
           0.5909727625047895
          ],
          [
           0.19420362276150882,
           0.14329307656049867,
           0.22808234539365832,
           0.20766006048256927,
           0.24839567988255598,
           0.5705168714898889,
           0.6912702075448502,
           0.43916706847426173,
           0.3426270230777206,
           0.44663032169957156,
           0.3323575376076105,
           0.19499846445881905,
           0.3624815822704489,
           0.270894726190632,
           0.2686847598722627,
           0.8012683427383291,
           1,
           0.7718039949238469,
           0.30942857798445156,
           0.727372183881192,
           0.1869035156858978,
           0.10024098374834615,
           0.22668042559090154,
           0.18835265208953067,
           0.16848132079136754,
           0.4848578006864688,
           0.6625641337427411,
           0.44047226304622294,
           0.19778782186141097,
           0.43932926857579074
          ],
          [
           0.3761689559399253,
           0.16385102528521822,
           0.407216915998619,
           0.3723202823307104,
           0.38067569098328613,
           0.642261850971647,
           0.6832599165123261,
           0.6156341308969191,
           0.39329787208901684,
           0.34119804439711815,
           0.5133464414367649,
           0.2302833995570338,
           0.5562640836543961,
           0.4157295683714005,
           0.3284294991096789,
           0.7440826676953253,
           0.7718039949238469,
           1,
           0.3127802232097334,
           0.611044139380723,
           0.3581266692410426,
           0.08674120994286846,
           0.3949992517741845,
           0.3422711620926815,
           0.21535059681593355,
           0.4528883773698806,
           0.5495923752351922,
           0.6024496059209876,
           0.14311566863305003,
           0.31065455149383064
          ],
          [
           -0.10432088141786551,
           0.009127167755035895,
           -0.08162932702839931,
           -0.07249658821176244,
           0.20077437592048314,
           0.22997659080143223,
           0.17800920792087752,
           0.09535078688667675,
           0.44913654239342854,
           0.34500739714372797,
           0.24056736245007102,
           0.41162068019753933,
           0.2664870918640224,
           0.1341089796924749,
           0.4135061252078973,
           0.3947128347620316,
           0.30942857798445156,
           0.3127802232097334,
           1,
           0.3690780833657291,
           -0.1281207690727424,
           -0.0774734201840788,
           -0.10375304384332498,
           -0.11034274289549834,
           -0.012661799565908998,
           0.06025487946536686,
           0.03711904859992839,
           -0.03041339642360094,
           0.38940248488464646,
           0.07807947627266758
          ],
          [
           -0.042641269114456294,
           0.054457519568933854,
           -0.005523391057003881,
           -0.019886963235068042,
           0.2836066985468851,
           0.5073181269004216,
           0.4493007490503378,
           0.2575837462430327,
           0.3317861462731239,
           0.6881315774585519,
           0.22775353267198026,
           0.2797227477191938,
           0.24414277341628535,
           0.12707090297801246,
           0.4273742067231582,
           0.8032688176617679,
           0.727372183881192,
           0.611044139380723,
           0.3690780833657291,
           1,
           -0.037487617862673565,
           -0.0031950288680895906,
           -0.0010003976259669379,
           -0.022736147308900636,
           0.17056831595314176,
           0.39015884208667484,
           0.3799746614570792,
           0.21520401331002892,
           0.11109395575572399,
           0.5913280656608751
          ],
          [
           0.9695389726112055,
           0.35257294715029586,
           0.9694763634663146,
           0.9627460860470841,
           0.21312014189594916,
           0.5353153982176662,
           0.6882364076436722,
           0.8303176311186159,
           0.18572775349568738,
           -0.25369149487660986,
           0.715065195135185,
           -0.11169031312493002,
           0.6972005927206456,
           0.7573731889240164,
           -0.2306907098451477,
           0.20460716594748168,
           0.1869035156858978,
           0.3581266692410426,
           -0.1281207690727424,
           -0.037487617862673565,
           1,
           0.3599207542210483,
           0.993707916102949,
           0.9840145644590742,
           0.21657443125969564,
           0.47582003746014645,
           0.5739747080993033,
           0.7874238517122407,
           0.2435292042913138,
           0.09349197867930178
          ],
          [
           0.29700764398637336,
           0.912044588840421,
           0.30303837155715024,
           0.287488627121397,
           0.03607179878564654,
           0.2481328332774173,
           0.2998788887096908,
           0.2927517130015173,
           0.0906506881166432,
           -0.05126920203676535,
           0.19479855683425132,
           0.4090027663153059,
           0.2003708539594511,
           0.19649664907281025,
           -0.07474296487675623,
           0.1430025832957166,
           0.10024098374834615,
           0.08674120994286846,
           -0.0774734201840788,
           -0.0031950288680895906,
           0.3599207542210483,
           1,
           0.3650982454086192,
           0.3458422825267967,
           0.22542941490948662,
           0.36083233859797315,
           0.3683656074599454,
           0.3597546095250358,
           0.23302746144531727,
           0.21912242546315883
          ],
          [
           0.9651365139559871,
           0.35803957505322415,
           0.9703868870426394,
           0.9591195743552645,
           0.23885262620915101,
           0.590210427731298,
           0.7295649165132018,
           0.8559231281343119,
           0.21916855911105818,
           -0.20515121126277344,
           0.7196838036650044,
           -0.10224192188743278,
           0.7210313099890175,
           0.7612126360687592,
           -0.21730375458186166,
           0.26051583964720865,
           0.22668042559090154,
           0.3949992517741845,
           -0.10375304384332498,
           -0.0010003976259669379,
           0.993707916102949,
           0.3650982454086192,
           1,
           0.9775780914063871,
           0.23677460388606966,
           0.5294076901641023,
           0.6183440795335158,
           0.8163221016875439,
           0.26949276908381714,
           0.13895686184575767
          ],
          [
           0.9410824595860461,
           0.3435459471864696,
           0.9415498080023068,
           0.9592133256498998,
           0.20671836342857688,
           0.50960380555792,
           0.6759872313060872,
           0.809629619909618,
           0.1771933773740968,
           -0.2318544511675603,
           0.7515484761266196,
           -0.08319498858504636,
           0.7307129731302829,
           0.8114079609317274,
           -0.182195478059099,
           0.19937132909101393,
           0.18835265208953067,
           0.3422711620926815,
           -0.11034274289549834,
           -0.022736147308900636,
           0.9840145644590742,
           0.3458422825267967,
           0.9775780914063871,
           1,
           0.20914533376028963,
           0.4382962837796741,
           0.5433305254110798,
           0.7474188023228167,
           0.2091455083870789,
           0.07964703402467602
          ],
          [
           0.11961613992160802,
           0.077503358822129,
           0.1505494043170374,
           0.12352293875557084,
           0.8053241954943627,
           0.5655411663750888,
           0.44882203840476004,
           0.4527530541790488,
           0.4266750263849464,
           0.5049420753517612,
           0.14191855291860658,
           -0.07365765910118513,
           0.1300543919910096,
           0.12538943051609117,
           0.31445745598082797,
           0.22739423230542308,
           0.16848132079136754,
           0.21535059681593355,
           -0.012661799565908998,
           0.17056831595314176,
           0.21657443125969564,
           0.22542941490948662,
           0.23677460388606966,
           0.20914533376028963,
           1,
           0.5681865166856064,
           0.5185232928640015,
           0.5476909029497875,
           0.4938383302357591,
           0.6176241916554379
          ],
          [
           0.4134628230608015,
           0.2778295924789794,
           0.45577422803832723,
           0.39041030924249864,
           0.4724684437304436,
           0.8658090398022629,
           0.7549680159063962,
           0.6674536768257124,
           0.4732000132446185,
           0.4587981566678596,
           0.28710316560074034,
           -0.09243935361819372,
           0.3419194453712055,
           0.28325653753745555,
           -0.05555813871505085,
           0.6787803543724954,
           0.4848578006864688,
           0.4528883773698806,
           0.06025487946536686,
           0.39015884208667484,
           0.47582003746014645,
           0.36083233859797315,
           0.5294076901641023,
           0.4382962837796741,
           0.5681865166856064,
           1,
           0.8922608987764685,
           0.8010803646352528,
           0.6144405011493067,
           0.8104548563116117
          ],
          [
           0.5269114618385448,
           0.30102522381649116,
           0.5638792634736619,
           0.5126059204433239,
           0.4349257147250878,
           0.8162752498000281,
           0.8841026390943817,
           0.7523994975749643,
           0.433721007590172,
           0.3462338763480676,
           0.38058463462872194,
           -0.06895622054645592,
           0.4188988157305714,
           0.38510013559852924,
           -0.05829838674344549,
           0.6391466977559193,
           0.6625641337427411,
           0.5495923752351922,
           0.03711904859992839,
           0.3799746614570792,
           0.5739747080993033,
           0.3683656074599454,
           0.6183440795335158,
           0.5433305254110798,
           0.5185232928640015,
           0.8922608987764685,
           1,
           0.8554338603439982,
           0.5325197291183627,
           0.6865109212448633
          ],
          [
           0.7442141978674661,
           0.2953158433377364,
           0.7712407893605497,
           0.7220166262603579,
           0.503053353298951,
           0.8155732235690644,
           0.861323033637951,
           0.9101553142985918,
           0.4302966114579543,
           0.17532544924324475,
           0.5310623278216046,
           -0.11963752313984607,
           0.5548972306282103,
           0.5381663138957359,
           -0.10200679633746537,
           0.48320832682561315,
           0.44047226304622294,
           0.6024496059209876,
           -0.03041339642360094,
           0.21520401331002892,
           0.7874238517122407,
           0.3597546095250358,
           0.8163221016875439,
           0.7474188023228167,
           0.5476909029497875,
           0.8010803646352528,
           0.8554338603439982,
           1,
           0.5025284938306981,
           0.5111141458863395
          ],
          [
           0.1639533349363072,
           0.10500791031597205,
           0.18911504046245775,
           0.1435699138890717,
           0.39430948181175646,
           0.5102234299218061,
           0.4094641265399853,
           0.3757441454236111,
           0.6998257976437302,
           0.3340186838510839,
           0.09454283035438187,
           -0.12821475779252947,
           0.1099304342313503,
           0.07412629159952816,
           -0.10734209778914477,
           0.277878430714635,
           0.19778782186141097,
           0.14311566863305003,
           0.38940248488464646,
           0.11109395575572399,
           0.2435292042913138,
           0.23302746144531727,
           0.26949276908381714,
           0.2091455083870789,
           0.4938383302357591,
           0.6144405011493067,
           0.5325197291183627,
           0.5025284938306981,
           1,
           0.537848206253609
          ],
          [
           0.007065885692182479,
           0.11920535139708567,
           0.05101852972340705,
           0.003737597351571729,
           0.4993163685937669,
           0.6873823227538974,
           0.5149298906363856,
           0.36866113371677106,
           0.4384134984446025,
           0.7672967792384361,
           0.049559432464573124,
           -0.045654568593207025,
           0.0854325720566574,
           0.017539295132385505,
           0.10148031504252508,
           0.5909727625047895,
           0.43932926857579074,
           0.31065455149383064,
           0.07807947627266758,
           0.5913280656608751,
           0.09349197867930178,
           0.21912242546315883,
           0.13895686184575767,
           0.07964703402467602,
           0.6176241916554379,
           0.8104548563116117,
           0.6865109212448633,
           0.5111141458863395,
           0.537848206253609,
           1
          ]
         ]
        }
       ],
       "layout": {
        "height": 700,
        "margin": {
         "b": 200,
         "l": 200,
         "r": 0,
         "t": 25
        },
        "template": {
         "data": {
          "bar": [
           {
            "error_x": {
             "color": "#2a3f5f"
            },
            "error_y": {
             "color": "#2a3f5f"
            },
            "marker": {
             "line": {
              "color": "#E5ECF6",
              "width": 0.5
             },
             "pattern": {
              "fillmode": "overlay",
              "size": 10,
              "solidity": 0.2
             }
            },
            "type": "bar"
           }
          ],
          "barpolar": [
           {
            "marker": {
             "line": {
              "color": "#E5ECF6",
              "width": 0.5
             },
             "pattern": {
              "fillmode": "overlay",
              "size": 10,
              "solidity": 0.2
             }
            },
            "type": "barpolar"
           }
          ],
          "carpet": [
           {
            "aaxis": {
             "endlinecolor": "#2a3f5f",
             "gridcolor": "white",
             "linecolor": "white",
             "minorgridcolor": "white",
             "startlinecolor": "#2a3f5f"
            },
            "baxis": {
             "endlinecolor": "#2a3f5f",
             "gridcolor": "white",
             "linecolor": "white",
             "minorgridcolor": "white",
             "startlinecolor": "#2a3f5f"
            },
            "type": "carpet"
           }
          ],
          "choropleth": [
           {
            "colorbar": {
             "outlinewidth": 0,
             "ticks": ""
            },
            "type": "choropleth"
           }
          ],
          "contour": [
           {
            "colorbar": {
             "outlinewidth": 0,
             "ticks": ""
            },
            "colorscale": [
             [
              0,
              "#0d0887"
             ],
             [
              0.1111111111111111,
              "#46039f"
             ],
             [
              0.2222222222222222,
              "#7201a8"
             ],
             [
              0.3333333333333333,
              "#9c179e"
             ],
             [
              0.4444444444444444,
              "#bd3786"
             ],
             [
              0.5555555555555556,
              "#d8576b"
             ],
             [
              0.6666666666666666,
              "#ed7953"
             ],
             [
              0.7777777777777778,
              "#fb9f3a"
             ],
             [
              0.8888888888888888,
              "#fdca26"
             ],
             [
              1,
              "#f0f921"
             ]
            ],
            "type": "contour"
           }
          ],
          "contourcarpet": [
           {
            "colorbar": {
             "outlinewidth": 0,
             "ticks": ""
            },
            "type": "contourcarpet"
           }
          ],
          "heatmap": [
           {
            "colorbar": {
             "outlinewidth": 0,
             "ticks": ""
            },
            "colorscale": [
             [
              0,
              "#0d0887"
             ],
             [
              0.1111111111111111,
              "#46039f"
             ],
             [
              0.2222222222222222,
              "#7201a8"
             ],
             [
              0.3333333333333333,
              "#9c179e"
             ],
             [
              0.4444444444444444,
              "#bd3786"
             ],
             [
              0.5555555555555556,
              "#d8576b"
             ],
             [
              0.6666666666666666,
              "#ed7953"
             ],
             [
              0.7777777777777778,
              "#fb9f3a"
             ],
             [
              0.8888888888888888,
              "#fdca26"
             ],
             [
              1,
              "#f0f921"
             ]
            ],
            "type": "heatmap"
           }
          ],
          "heatmapgl": [
           {
            "colorbar": {
             "outlinewidth": 0,
             "ticks": ""
            },
            "colorscale": [
             [
              0,
              "#0d0887"
             ],
             [
              0.1111111111111111,
              "#46039f"
             ],
             [
              0.2222222222222222,
              "#7201a8"
             ],
             [
              0.3333333333333333,
              "#9c179e"
             ],
             [
              0.4444444444444444,
              "#bd3786"
             ],
             [
              0.5555555555555556,
              "#d8576b"
             ],
             [
              0.6666666666666666,
              "#ed7953"
             ],
             [
              0.7777777777777778,
              "#fb9f3a"
             ],
             [
              0.8888888888888888,
              "#fdca26"
             ],
             [
              1,
              "#f0f921"
             ]
            ],
            "type": "heatmapgl"
           }
          ],
          "histogram": [
           {
            "marker": {
             "pattern": {
              "fillmode": "overlay",
              "size": 10,
              "solidity": 0.2
             }
            },
            "type": "histogram"
           }
          ],
          "histogram2d": [
           {
            "colorbar": {
             "outlinewidth": 0,
             "ticks": ""
            },
            "colorscale": [
             [
              0,
              "#0d0887"
             ],
             [
              0.1111111111111111,
              "#46039f"
             ],
             [
              0.2222222222222222,
              "#7201a8"
             ],
             [
              0.3333333333333333,
              "#9c179e"
             ],
             [
              0.4444444444444444,
              "#bd3786"
             ],
             [
              0.5555555555555556,
              "#d8576b"
             ],
             [
              0.6666666666666666,
              "#ed7953"
             ],
             [
              0.7777777777777778,
              "#fb9f3a"
             ],
             [
              0.8888888888888888,
              "#fdca26"
             ],
             [
              1,
              "#f0f921"
             ]
            ],
            "type": "histogram2d"
           }
          ],
          "histogram2dcontour": [
           {
            "colorbar": {
             "outlinewidth": 0,
             "ticks": ""
            },
            "colorscale": [
             [
              0,
              "#0d0887"
             ],
             [
              0.1111111111111111,
              "#46039f"
             ],
             [
              0.2222222222222222,
              "#7201a8"
             ],
             [
              0.3333333333333333,
              "#9c179e"
             ],
             [
              0.4444444444444444,
              "#bd3786"
             ],
             [
              0.5555555555555556,
              "#d8576b"
             ],
             [
              0.6666666666666666,
              "#ed7953"
             ],
             [
              0.7777777777777778,
              "#fb9f3a"
             ],
             [
              0.8888888888888888,
              "#fdca26"
             ],
             [
              1,
              "#f0f921"
             ]
            ],
            "type": "histogram2dcontour"
           }
          ],
          "mesh3d": [
           {
            "colorbar": {
             "outlinewidth": 0,
             "ticks": ""
            },
            "type": "mesh3d"
           }
          ],
          "parcoords": [
           {
            "line": {
             "colorbar": {
              "outlinewidth": 0,
              "ticks": ""
             }
            },
            "type": "parcoords"
           }
          ],
          "pie": [
           {
            "automargin": true,
            "type": "pie"
           }
          ],
          "scatter": [
           {
            "fillpattern": {
             "fillmode": "overlay",
             "size": 10,
             "solidity": 0.2
            },
            "type": "scatter"
           }
          ],
          "scatter3d": [
           {
            "line": {
             "colorbar": {
              "outlinewidth": 0,
              "ticks": ""
             }
            },
            "marker": {
             "colorbar": {
              "outlinewidth": 0,
              "ticks": ""
             }
            },
            "type": "scatter3d"
           }
          ],
          "scattercarpet": [
           {
            "marker": {
             "colorbar": {
              "outlinewidth": 0,
              "ticks": ""
             }
            },
            "type": "scattercarpet"
           }
          ],
          "scattergeo": [
           {
            "marker": {
             "colorbar": {
              "outlinewidth": 0,
              "ticks": ""
             }
            },
            "type": "scattergeo"
           }
          ],
          "scattergl": [
           {
            "marker": {
             "colorbar": {
              "outlinewidth": 0,
              "ticks": ""
             }
            },
            "type": "scattergl"
           }
          ],
          "scattermapbox": [
           {
            "marker": {
             "colorbar": {
              "outlinewidth": 0,
              "ticks": ""
             }
            },
            "type": "scattermapbox"
           }
          ],
          "scatterpolar": [
           {
            "marker": {
             "colorbar": {
              "outlinewidth": 0,
              "ticks": ""
             }
            },
            "type": "scatterpolar"
           }
          ],
          "scatterpolargl": [
           {
            "marker": {
             "colorbar": {
              "outlinewidth": 0,
              "ticks": ""
             }
            },
            "type": "scatterpolargl"
           }
          ],
          "scatterternary": [
           {
            "marker": {
             "colorbar": {
              "outlinewidth": 0,
              "ticks": ""
             }
            },
            "type": "scatterternary"
           }
          ],
          "surface": [
           {
            "colorbar": {
             "outlinewidth": 0,
             "ticks": ""
            },
            "colorscale": [
             [
              0,
              "#0d0887"
             ],
             [
              0.1111111111111111,
              "#46039f"
             ],
             [
              0.2222222222222222,
              "#7201a8"
             ],
             [
              0.3333333333333333,
              "#9c179e"
             ],
             [
              0.4444444444444444,
              "#bd3786"
             ],
             [
              0.5555555555555556,
              "#d8576b"
             ],
             [
              0.6666666666666666,
              "#ed7953"
             ],
             [
              0.7777777777777778,
              "#fb9f3a"
             ],
             [
              0.8888888888888888,
              "#fdca26"
             ],
             [
              1,
              "#f0f921"
             ]
            ],
            "type": "surface"
           }
          ],
          "table": [
           {
            "cells": {
             "fill": {
              "color": "#EBF0F8"
             },
             "line": {
              "color": "white"
             }
            },
            "header": {
             "fill": {
              "color": "#C8D4E3"
             },
             "line": {
              "color": "white"
             }
            },
            "type": "table"
           }
          ]
         },
         "layout": {
          "annotationdefaults": {
           "arrowcolor": "#2a3f5f",
           "arrowhead": 0,
           "arrowwidth": 1
          },
          "autotypenumbers": "strict",
          "coloraxis": {
           "colorbar": {
            "outlinewidth": 0,
            "ticks": ""
           }
          },
          "colorscale": {
           "diverging": [
            [
             0,
             "#8e0152"
            ],
            [
             0.1,
             "#c51b7d"
            ],
            [
             0.2,
             "#de77ae"
            ],
            [
             0.3,
             "#f1b6da"
            ],
            [
             0.4,
             "#fde0ef"
            ],
            [
             0.5,
             "#f7f7f7"
            ],
            [
             0.6,
             "#e6f5d0"
            ],
            [
             0.7,
             "#b8e186"
            ],
            [
             0.8,
             "#7fbc41"
            ],
            [
             0.9,
             "#4d9221"
            ],
            [
             1,
             "#276419"
            ]
           ],
           "sequential": [
            [
             0,
             "#0d0887"
            ],
            [
             0.1111111111111111,
             "#46039f"
            ],
            [
             0.2222222222222222,
             "#7201a8"
            ],
            [
             0.3333333333333333,
             "#9c179e"
            ],
            [
             0.4444444444444444,
             "#bd3786"
            ],
            [
             0.5555555555555556,
             "#d8576b"
            ],
            [
             0.6666666666666666,
             "#ed7953"
            ],
            [
             0.7777777777777778,
             "#fb9f3a"
            ],
            [
             0.8888888888888888,
             "#fdca26"
            ],
            [
             1,
             "#f0f921"
            ]
           ],
           "sequentialminus": [
            [
             0,
             "#0d0887"
            ],
            [
             0.1111111111111111,
             "#46039f"
            ],
            [
             0.2222222222222222,
             "#7201a8"
            ],
            [
             0.3333333333333333,
             "#9c179e"
            ],
            [
             0.4444444444444444,
             "#bd3786"
            ],
            [
             0.5555555555555556,
             "#d8576b"
            ],
            [
             0.6666666666666666,
             "#ed7953"
            ],
            [
             0.7777777777777778,
             "#fb9f3a"
            ],
            [
             0.8888888888888888,
             "#fdca26"
            ],
            [
             1,
             "#f0f921"
            ]
           ]
          },
          "colorway": [
           "#636efa",
           "#EF553B",
           "#00cc96",
           "#ab63fa",
           "#FFA15A",
           "#19d3f3",
           "#FF6692",
           "#B6E880",
           "#FF97FF",
           "#FECB52"
          ],
          "font": {
           "color": "#2a3f5f"
          },
          "geo": {
           "bgcolor": "white",
           "lakecolor": "white",
           "landcolor": "#E5ECF6",
           "showlakes": true,
           "showland": true,
           "subunitcolor": "white"
          },
          "hoverlabel": {
           "align": "left"
          },
          "hovermode": "closest",
          "mapbox": {
           "style": "light"
          },
          "paper_bgcolor": "white",
          "plot_bgcolor": "#E5ECF6",
          "polar": {
           "angularaxis": {
            "gridcolor": "white",
            "linecolor": "white",
            "ticks": ""
           },
           "bgcolor": "#E5ECF6",
           "radialaxis": {
            "gridcolor": "white",
            "linecolor": "white",
            "ticks": ""
           }
          },
          "scene": {
           "xaxis": {
            "backgroundcolor": "#E5ECF6",
            "gridcolor": "white",
            "gridwidth": 2,
            "linecolor": "white",
            "showbackground": true,
            "ticks": "",
            "zerolinecolor": "white"
           },
           "yaxis": {
            "backgroundcolor": "#E5ECF6",
            "gridcolor": "white",
            "gridwidth": 2,
            "linecolor": "white",
            "showbackground": true,
            "ticks": "",
            "zerolinecolor": "white"
           },
           "zaxis": {
            "backgroundcolor": "#E5ECF6",
            "gridcolor": "white",
            "gridwidth": 2,
            "linecolor": "white",
            "showbackground": true,
            "ticks": "",
            "zerolinecolor": "white"
           }
          },
          "shapedefaults": {
           "line": {
            "color": "#2a3f5f"
           }
          },
          "ternary": {
           "aaxis": {
            "gridcolor": "white",
            "linecolor": "white",
            "ticks": ""
           },
           "baxis": {
            "gridcolor": "white",
            "linecolor": "white",
            "ticks": ""
           },
           "bgcolor": "#E5ECF6",
           "caxis": {
            "gridcolor": "white",
            "linecolor": "white",
            "ticks": ""
           }
          },
          "title": {
           "x": 0.05
          },
          "xaxis": {
           "automargin": true,
           "gridcolor": "white",
           "linecolor": "white",
           "ticks": "",
           "title": {
            "standoff": 15
           },
           "zerolinecolor": "white",
           "zerolinewidth": 2
          },
          "yaxis": {
           "automargin": true,
           "gridcolor": "white",
           "linecolor": "white",
           "ticks": "",
           "title": {
            "standoff": 15
           },
           "zerolinecolor": "white",
           "zerolinewidth": 2
          }
         }
        },
        "width": 1000
       }
      },
      "text/html": [
       "<div>                            <div id=\"b076c80e-787b-4723-834b-53f1ed356b4d\" class=\"plotly-graph-div\" style=\"height:700px; width:1000px;\"></div>            <script type=\"text/javascript\">                require([\"plotly\"], function(Plotly) {                    window.PLOTLYENV=window.PLOTLYENV || {};                                    if (document.getElementById(\"b076c80e-787b-4723-834b-53f1ed356b4d\")) {                    Plotly.newPlot(                        \"b076c80e-787b-4723-834b-53f1ed356b4d\",                        [{\"x\":[\"radius_mean\",\"texture_mean\",\"perimeter_mean\",\"area_mean\",\"smoothness_mean\",\"compactness_mean\",\"concavity_mean\",\"concave points_mean\",\"symmetry_mean\",\"fractal_dimension_mean\",\"radius_se\",\"texture_se\",\"perimeter_se\",\"area_se\",\"smoothness_se\",\"compactness_se\",\"concavity_se\",\"concave points_se\",\"symmetry_se\",\"fractal_dimension_se\",\"radius_worst\",\"texture_worst\",\"perimeter_worst\",\"area_worst\",\"smoothness_worst\",\"compactness_worst\",\"concavity_worst\",\"concave points_worst\",\"symmetry_worst\",\"fractal_dimension_worst\"],\"xgap\":1,\"y\":[\"radius_mean\",\"texture_mean\",\"perimeter_mean\",\"area_mean\",\"smoothness_mean\",\"compactness_mean\",\"concavity_mean\",\"concave points_mean\",\"symmetry_mean\",\"fractal_dimension_mean\",\"radius_se\",\"texture_se\",\"perimeter_se\",\"area_se\",\"smoothness_se\",\"compactness_se\",\"concavity_se\",\"concave points_se\",\"symmetry_se\",\"fractal_dimension_se\",\"radius_worst\",\"texture_worst\",\"perimeter_worst\",\"area_worst\",\"smoothness_worst\",\"compactness_worst\",\"concavity_worst\",\"concave points_worst\",\"symmetry_worst\",\"fractal_dimension_worst\"],\"ygap\":1,\"z\":[[1.0,0.32378189092773324,0.9978552814938109,0.9873571700566127,0.17058118749299467,0.5061235775263634,0.6767635503908104,0.8225285223871786,0.14774124199260202,-0.3116308263092899,0.6790903880020743,-0.09731744314481319,0.6741716157641048,0.7358636632128178,-0.2226001245821115,0.2059999804076988,0.19420362276150882,0.3761689559399253,-0.10432088141786551,-0.042641269114456294,0.9695389726112055,0.29700764398637336,0.9651365139559871,0.9410824595860461,0.11961613992160802,0.4134628230608015,0.5269114618385448,0.7442141978674661,0.1639533349363072,0.007065885692182479],[0.32378189092773324,1.0,0.3295330586865707,0.32108569608020704,-0.023388515998423325,0.236702222074372,0.30241782794389144,0.29346405131394276,0.07140098048331764,-0.07643718344813423,0.27586867617376243,0.3863576227244906,0.28167311478720275,0.2598449866100985,0.006613777353585514,0.19197461132396684,0.14329307656049867,0.16385102528521822,0.009127167755035895,0.054457519568933854,0.35257294715029586,0.912044588840421,0.35803957505322415,0.3435459471864696,0.077503358822129,0.2778295924789794,0.30102522381649116,0.2953158433377364,0.10500791031597205,0.11920535139708567],[0.9978552814938109,0.3295330586865707,1.0,0.9865068039913907,0.2072781636910072,0.556936210879562,0.7161356501174047,0.8509770412528191,0.18302721211685316,-0.26147690806633256,0.6917650135334819,-0.08676107831179455,0.6931348895408653,0.7449826941190683,-0.20269402629832212,0.25074368074058806,0.22808234539365832,0.407216915998619,-0.08162932702839931,-0.005523391057003881,0.9694763634663146,0.30303837155715024,0.9703868870426394,0.9415498080023068,0.1505494043170374,0.45577422803832723,0.5638792634736619,0.7712407893605497,0.18911504046245775,0.05101852972340705],[0.9873571700566127,0.32108569608020704,0.9865068039913907,1.0,0.1770283772540016,0.49850168215241186,0.6859828285519112,0.8232688686524342,0.15129307903511224,-0.2831098116914261,0.7325622269972968,-0.06628021360457731,0.7266283277906844,0.8000859212343201,-0.1667766666011128,0.21258255077923266,0.20766006048256927,0.3723202823307104,-0.07249658821176244,-0.019886963235068042,0.9627460860470841,0.287488627121397,0.9591195743552645,0.9592133256498998,0.12352293875557084,0.39041030924249864,0.5126059204433239,0.7220166262603579,0.1435699138890717,0.003737597351571729],[0.17058118749299467,-0.023388515998423325,0.2072781636910072,0.1770283772540016,1.0,0.6591232152159234,0.52198376771426,0.5536951727437609,0.5577747880728878,0.5847920019499775,0.30146709825316975,0.06840644817118251,0.29609193289351476,0.24655243166573562,0.3323754426475922,0.31894329670537874,0.24839567988255598,0.38067569098328613,0.20077437592048314,0.2836066985468851,0.21312014189594916,0.03607179878564654,0.23885262620915101,0.20671836342857688,0.8053241954943627,0.4724684437304436,0.4349257147250878,0.503053353298951,0.39430948181175646,0.4993163685937669],[0.5061235775263634,0.236702222074372,0.556936210879562,0.49850168215241186,0.6591232152159234,1.0,0.8831206701772507,0.831135043133698,0.6026410484055158,0.565368663414522,0.49747344608506183,0.04620483071640705,0.5489052645888235,0.45565285198788846,0.13529926770047143,0.7387217896603929,0.5705168714898889,0.642261850971647,0.22997659080143223,0.5073181269004216,0.5353153982176662,0.2481328332774173,0.590210427731298,0.50960380555792,0.5655411663750888,0.8658090398022629,0.8162752498000281,0.8155732235690644,0.5102234299218061,0.6873823227538974],[0.6767635503908104,0.30241782794389144,0.7161356501174047,0.6859828285519112,0.52198376771426,0.8831206701772507,1.0,0.9213910263788588,0.5006666171419609,0.33678335942118504,0.6319248221414899,0.07621834813534026,0.6603907872419604,0.6174268058452413,0.09856374579911734,0.6702788246430194,0.6912702075448502,0.6832599165123261,0.17800920792087752,0.4493007490503378,0.6882364076436722,0.2998788887096908,0.7295649165132018,0.6759872313060872,0.44882203840476004,0.7549680159063962,0.8841026390943817,0.861323033637951,0.4094641265399853,0.5149298906363856],[0.8225285223871786,0.29346405131394276,0.8509770412528191,0.8232688686524342,0.5536951727437609,0.831135043133698,0.9213910263788588,1.0,0.4624973883673585,0.1669173832269923,0.6980498335607404,0.021479581923401776,0.710649871613898,0.6902985397595536,0.027653308387136005,0.49042424959357145,0.43916706847426173,0.6156341308969191,0.09535078688667675,0.2575837462430327,0.8303176311186159,0.2927517130015173,0.8559231281343119,0.809629619909618,0.4527530541790488,0.6674536768257124,0.7523994975749643,0.9101553142985918,0.3757441454236111,0.36866113371677106],[0.14774124199260202,0.07140098048331764,0.18302721211685316,0.15129307903511224,0.5577747880728878,0.6026410484055158,0.5006666171419609,0.4624973883673585,1.0,0.47992133005096926,0.30337926320726244,0.1280529263402561,0.3138927607965131,0.22397021941762965,0.18732116526139078,0.4216591470050108,0.3426270230777206,0.39329787208901684,0.44913654239342854,0.3317861462731239,0.18572775349568738,0.0906506881166432,0.21916855911105818,0.1771933773740968,0.4266750263849464,0.4732000132446185,0.433721007590172,0.4302966114579543,0.6998257976437302,0.4384134984446025],[-0.3116308263092899,-0.07643718344813423,-0.26147690806633256,-0.2831098116914261,0.5847920019499775,0.565368663414522,0.33678335942118504,0.1669173832269923,0.47992133005096926,1.0,0.0001109950726296278,0.16417396587172883,0.03982993157204734,-0.09017024752042703,0.4019644254484126,0.5598366906211326,0.44663032169957156,0.34119804439711815,0.34500739714372797,0.6881315774585519,-0.25369149487660986,-0.05126920203676535,-0.20515121126277344,-0.2318544511675603,0.5049420753517612,0.4587981566678596,0.3462338763480676,0.17532544924324475,0.3340186838510839,0.7672967792384361],[0.6790903880020743,0.27586867617376243,0.6917650135334819,0.7325622269972968,0.30146709825316975,0.49747344608506183,0.6319248221414899,0.6980498335607404,0.30337926320726244,0.0001109950726296278,1.0,0.21324733725115802,0.9727936770160764,0.951830112110991,0.16451421981281164,0.35606457553220283,0.3323575376076105,0.5133464414367649,0.24056736245007102,0.22775353267198026,0.715065195135185,0.19479855683425132,0.7196838036650044,0.7515484761266196,0.14191855291860658,0.28710316560074034,0.38058463462872194,0.5310623278216046,0.09454283035438187,0.049559432464573124],[-0.09731744314481319,0.3863576227244906,-0.08676107831179455,-0.06628021360457731,0.06840644817118251,0.04620483071640705,0.07621834813534026,0.021479581923401776,0.1280529263402561,0.16417396587172883,0.21324733725115802,1.0,0.223170728630714,0.11156724721803947,0.3972428526412099,0.2316996989762371,0.19499846445881905,0.2302833995570338,0.41162068019753933,0.2797227477191938,-0.11169031312493002,0.4090027663153059,-0.10224192188743278,-0.08319498858504636,-0.07365765910118513,-0.09243935361819372,-0.06895622054645592,-0.11963752313984607,-0.12821475779252947,-0.045654568593207025],[0.6741716157641048,0.28167311478720275,0.6931348895408653,0.7266283277906844,0.29609193289351476,0.5489052645888235,0.6603907872419604,0.710649871613898,0.3138927607965131,0.03982993157204734,0.9727936770160764,0.223170728630714,1.0,0.9376554069544157,0.15107533120841296,0.41632236799246164,0.3624815822704489,0.5562640836543961,0.2664870918640224,0.24414277341628535,0.6972005927206456,0.2003708539594511,0.7210313099890175,0.7307129731302829,0.1300543919910096,0.3419194453712055,0.4188988157305714,0.5548972306282103,0.1099304342313503,0.0854325720566574],[0.7358636632128178,0.2598449866100985,0.7449826941190683,0.8000859212343201,0.24655243166573562,0.45565285198788846,0.6174268058452413,0.6902985397595536,0.22397021941762965,-0.09017024752042703,0.951830112110991,0.11156724721803947,0.9376554069544157,1.0,0.07515033812199375,0.28484005654116107,0.270894726190632,0.4157295683714005,0.1341089796924749,0.12707090297801246,0.7573731889240164,0.19649664907281025,0.7612126360687592,0.8114079609317274,0.12538943051609117,0.28325653753745555,0.38510013559852924,0.5381663138957359,0.07412629159952816,0.017539295132385505],[-0.2226001245821115,0.006613777353585514,-0.20269402629832212,-0.1667766666011128,0.3323754426475922,0.13529926770047143,0.09856374579911734,0.027653308387136005,0.18732116526139078,0.4019644254484126,0.16451421981281164,0.3972428526412099,0.15107533120841296,0.07515033812199375,1.0,0.33669608050544514,0.2686847598722627,0.3284294991096789,0.4135061252078973,0.4273742067231582,-0.2306907098451477,-0.07474296487675623,-0.21730375458186166,-0.182195478059099,0.31445745598082797,-0.05555813871505085,-0.05829838674344549,-0.10200679633746537,-0.10734209778914477,0.10148031504252508],[0.2059999804076988,0.19197461132396684,0.25074368074058806,0.21258255077923266,0.31894329670537874,0.7387217896603929,0.6702788246430194,0.49042424959357145,0.4216591470050108,0.5598366906211326,0.35606457553220283,0.2316996989762371,0.41632236799246164,0.28484005654116107,0.33669608050544514,1.0,0.8012683427383291,0.7440826676953253,0.3947128347620316,0.8032688176617679,0.20460716594748168,0.1430025832957166,0.26051583964720865,0.19937132909101393,0.22739423230542308,0.6787803543724954,0.6391466977559193,0.48320832682561315,0.277878430714635,0.5909727625047895],[0.19420362276150882,0.14329307656049867,0.22808234539365832,0.20766006048256927,0.24839567988255598,0.5705168714898889,0.6912702075448502,0.43916706847426173,0.3426270230777206,0.44663032169957156,0.3323575376076105,0.19499846445881905,0.3624815822704489,0.270894726190632,0.2686847598722627,0.8012683427383291,1.0,0.7718039949238469,0.30942857798445156,0.727372183881192,0.1869035156858978,0.10024098374834615,0.22668042559090154,0.18835265208953067,0.16848132079136754,0.4848578006864688,0.6625641337427411,0.44047226304622294,0.19778782186141097,0.43932926857579074],[0.3761689559399253,0.16385102528521822,0.407216915998619,0.3723202823307104,0.38067569098328613,0.642261850971647,0.6832599165123261,0.6156341308969191,0.39329787208901684,0.34119804439711815,0.5133464414367649,0.2302833995570338,0.5562640836543961,0.4157295683714005,0.3284294991096789,0.7440826676953253,0.7718039949238469,1.0,0.3127802232097334,0.611044139380723,0.3581266692410426,0.08674120994286846,0.3949992517741845,0.3422711620926815,0.21535059681593355,0.4528883773698806,0.5495923752351922,0.6024496059209876,0.14311566863305003,0.31065455149383064],[-0.10432088141786551,0.009127167755035895,-0.08162932702839931,-0.07249658821176244,0.20077437592048314,0.22997659080143223,0.17800920792087752,0.09535078688667675,0.44913654239342854,0.34500739714372797,0.24056736245007102,0.41162068019753933,0.2664870918640224,0.1341089796924749,0.4135061252078973,0.3947128347620316,0.30942857798445156,0.3127802232097334,1.0,0.3690780833657291,-0.1281207690727424,-0.0774734201840788,-0.10375304384332498,-0.11034274289549834,-0.012661799565908998,0.06025487946536686,0.03711904859992839,-0.03041339642360094,0.38940248488464646,0.07807947627266758],[-0.042641269114456294,0.054457519568933854,-0.005523391057003881,-0.019886963235068042,0.2836066985468851,0.5073181269004216,0.4493007490503378,0.2575837462430327,0.3317861462731239,0.6881315774585519,0.22775353267198026,0.2797227477191938,0.24414277341628535,0.12707090297801246,0.4273742067231582,0.8032688176617679,0.727372183881192,0.611044139380723,0.3690780833657291,1.0,-0.037487617862673565,-0.0031950288680895906,-0.0010003976259669379,-0.022736147308900636,0.17056831595314176,0.39015884208667484,0.3799746614570792,0.21520401331002892,0.11109395575572399,0.5913280656608751],[0.9695389726112055,0.35257294715029586,0.9694763634663146,0.9627460860470841,0.21312014189594916,0.5353153982176662,0.6882364076436722,0.8303176311186159,0.18572775349568738,-0.25369149487660986,0.715065195135185,-0.11169031312493002,0.6972005927206456,0.7573731889240164,-0.2306907098451477,0.20460716594748168,0.1869035156858978,0.3581266692410426,-0.1281207690727424,-0.037487617862673565,1.0,0.3599207542210483,0.993707916102949,0.9840145644590742,0.21657443125969564,0.47582003746014645,0.5739747080993033,0.7874238517122407,0.2435292042913138,0.09349197867930178],[0.29700764398637336,0.912044588840421,0.30303837155715024,0.287488627121397,0.03607179878564654,0.2481328332774173,0.2998788887096908,0.2927517130015173,0.0906506881166432,-0.05126920203676535,0.19479855683425132,0.4090027663153059,0.2003708539594511,0.19649664907281025,-0.07474296487675623,0.1430025832957166,0.10024098374834615,0.08674120994286846,-0.0774734201840788,-0.0031950288680895906,0.3599207542210483,1.0,0.3650982454086192,0.3458422825267967,0.22542941490948662,0.36083233859797315,0.3683656074599454,0.3597546095250358,0.23302746144531727,0.21912242546315883],[0.9651365139559871,0.35803957505322415,0.9703868870426394,0.9591195743552645,0.23885262620915101,0.590210427731298,0.7295649165132018,0.8559231281343119,0.21916855911105818,-0.20515121126277344,0.7196838036650044,-0.10224192188743278,0.7210313099890175,0.7612126360687592,-0.21730375458186166,0.26051583964720865,0.22668042559090154,0.3949992517741845,-0.10375304384332498,-0.0010003976259669379,0.993707916102949,0.3650982454086192,1.0,0.9775780914063871,0.23677460388606966,0.5294076901641023,0.6183440795335158,0.8163221016875439,0.26949276908381714,0.13895686184575767],[0.9410824595860461,0.3435459471864696,0.9415498080023068,0.9592133256498998,0.20671836342857688,0.50960380555792,0.6759872313060872,0.809629619909618,0.1771933773740968,-0.2318544511675603,0.7515484761266196,-0.08319498858504636,0.7307129731302829,0.8114079609317274,-0.182195478059099,0.19937132909101393,0.18835265208953067,0.3422711620926815,-0.11034274289549834,-0.022736147308900636,0.9840145644590742,0.3458422825267967,0.9775780914063871,1.0,0.20914533376028963,0.4382962837796741,0.5433305254110798,0.7474188023228167,0.2091455083870789,0.07964703402467602],[0.11961613992160802,0.077503358822129,0.1505494043170374,0.12352293875557084,0.8053241954943627,0.5655411663750888,0.44882203840476004,0.4527530541790488,0.4266750263849464,0.5049420753517612,0.14191855291860658,-0.07365765910118513,0.1300543919910096,0.12538943051609117,0.31445745598082797,0.22739423230542308,0.16848132079136754,0.21535059681593355,-0.012661799565908998,0.17056831595314176,0.21657443125969564,0.22542941490948662,0.23677460388606966,0.20914533376028963,1.0,0.5681865166856064,0.5185232928640015,0.5476909029497875,0.4938383302357591,0.6176241916554379],[0.4134628230608015,0.2778295924789794,0.45577422803832723,0.39041030924249864,0.4724684437304436,0.8658090398022629,0.7549680159063962,0.6674536768257124,0.4732000132446185,0.4587981566678596,0.28710316560074034,-0.09243935361819372,0.3419194453712055,0.28325653753745555,-0.05555813871505085,0.6787803543724954,0.4848578006864688,0.4528883773698806,0.06025487946536686,0.39015884208667484,0.47582003746014645,0.36083233859797315,0.5294076901641023,0.4382962837796741,0.5681865166856064,1.0,0.8922608987764685,0.8010803646352528,0.6144405011493067,0.8104548563116117],[0.5269114618385448,0.30102522381649116,0.5638792634736619,0.5126059204433239,0.4349257147250878,0.8162752498000281,0.8841026390943817,0.7523994975749643,0.433721007590172,0.3462338763480676,0.38058463462872194,-0.06895622054645592,0.4188988157305714,0.38510013559852924,-0.05829838674344549,0.6391466977559193,0.6625641337427411,0.5495923752351922,0.03711904859992839,0.3799746614570792,0.5739747080993033,0.3683656074599454,0.6183440795335158,0.5433305254110798,0.5185232928640015,0.8922608987764685,1.0,0.8554338603439982,0.5325197291183627,0.6865109212448633],[0.7442141978674661,0.2953158433377364,0.7712407893605497,0.7220166262603579,0.503053353298951,0.8155732235690644,0.861323033637951,0.9101553142985918,0.4302966114579543,0.17532544924324475,0.5310623278216046,-0.11963752313984607,0.5548972306282103,0.5381663138957359,-0.10200679633746537,0.48320832682561315,0.44047226304622294,0.6024496059209876,-0.03041339642360094,0.21520401331002892,0.7874238517122407,0.3597546095250358,0.8163221016875439,0.7474188023228167,0.5476909029497875,0.8010803646352528,0.8554338603439982,1.0,0.5025284938306981,0.5111141458863395],[0.1639533349363072,0.10500791031597205,0.18911504046245775,0.1435699138890717,0.39430948181175646,0.5102234299218061,0.4094641265399853,0.3757441454236111,0.6998257976437302,0.3340186838510839,0.09454283035438187,-0.12821475779252947,0.1099304342313503,0.07412629159952816,-0.10734209778914477,0.277878430714635,0.19778782186141097,0.14311566863305003,0.38940248488464646,0.11109395575572399,0.2435292042913138,0.23302746144531727,0.26949276908381714,0.2091455083870789,0.4938383302357591,0.6144405011493067,0.5325197291183627,0.5025284938306981,1.0,0.537848206253609],[0.007065885692182479,0.11920535139708567,0.05101852972340705,0.003737597351571729,0.4993163685937669,0.6873823227538974,0.5149298906363856,0.36866113371677106,0.4384134984446025,0.7672967792384361,0.049559432464573124,-0.045654568593207025,0.0854325720566574,0.017539295132385505,0.10148031504252508,0.5909727625047895,0.43932926857579074,0.31065455149383064,0.07807947627266758,0.5913280656608751,0.09349197867930178,0.21912242546315883,0.13895686184575767,0.07964703402467602,0.6176241916554379,0.8104548563116117,0.6865109212448633,0.5111141458863395,0.537848206253609,1.0]],\"type\":\"heatmap\"}],                        {\"template\":{\"data\":{\"histogram2dcontour\":[{\"type\":\"histogram2dcontour\",\"colorbar\":{\"outlinewidth\":0,\"ticks\":\"\"},\"colorscale\":[[0.0,\"#0d0887\"],[0.1111111111111111,\"#46039f\"],[0.2222222222222222,\"#7201a8\"],[0.3333333333333333,\"#9c179e\"],[0.4444444444444444,\"#bd3786\"],[0.5555555555555556,\"#d8576b\"],[0.6666666666666666,\"#ed7953\"],[0.7777777777777778,\"#fb9f3a\"],[0.8888888888888888,\"#fdca26\"],[1.0,\"#f0f921\"]]}],\"choropleth\":[{\"type\":\"choropleth\",\"colorbar\":{\"outlinewidth\":0,\"ticks\":\"\"}}],\"histogram2d\":[{\"type\":\"histogram2d\",\"colorbar\":{\"outlinewidth\":0,\"ticks\":\"\"},\"colorscale\":[[0.0,\"#0d0887\"],[0.1111111111111111,\"#46039f\"],[0.2222222222222222,\"#7201a8\"],[0.3333333333333333,\"#9c179e\"],[0.4444444444444444,\"#bd3786\"],[0.5555555555555556,\"#d8576b\"],[0.6666666666666666,\"#ed7953\"],[0.7777777777777778,\"#fb9f3a\"],[0.8888888888888888,\"#fdca26\"],[1.0,\"#f0f921\"]]}],\"heatmap\":[{\"type\":\"heatmap\",\"colorbar\":{\"outlinewidth\":0,\"ticks\":\"\"},\"colorscale\":[[0.0,\"#0d0887\"],[0.1111111111111111,\"#46039f\"],[0.2222222222222222,\"#7201a8\"],[0.3333333333333333,\"#9c179e\"],[0.4444444444444444,\"#bd3786\"],[0.5555555555555556,\"#d8576b\"],[0.6666666666666666,\"#ed7953\"],[0.7777777777777778,\"#fb9f3a\"],[0.8888888888888888,\"#fdca26\"],[1.0,\"#f0f921\"]]}],\"heatmapgl\":[{\"type\":\"heatmapgl\",\"colorbar\":{\"outlinewidth\":0,\"ticks\":\"\"},\"colorscale\":[[0.0,\"#0d0887\"],[0.1111111111111111,\"#46039f\"],[0.2222222222222222,\"#7201a8\"],[0.3333333333333333,\"#9c179e\"],[0.4444444444444444,\"#bd3786\"],[0.5555555555555556,\"#d8576b\"],[0.6666666666666666,\"#ed7953\"],[0.7777777777777778,\"#fb9f3a\"],[0.8888888888888888,\"#fdca26\"],[1.0,\"#f0f921\"]]}],\"contourcarpet\":[{\"type\":\"contourcarpet\",\"colorbar\":{\"outlinewidth\":0,\"ticks\":\"\"}}],\"contour\":[{\"type\":\"contour\",\"colorbar\":{\"outlinewidth\":0,\"ticks\":\"\"},\"colorscale\":[[0.0,\"#0d0887\"],[0.1111111111111111,\"#46039f\"],[0.2222222222222222,\"#7201a8\"],[0.3333333333333333,\"#9c179e\"],[0.4444444444444444,\"#bd3786\"],[0.5555555555555556,\"#d8576b\"],[0.6666666666666666,\"#ed7953\"],[0.7777777777777778,\"#fb9f3a\"],[0.8888888888888888,\"#fdca26\"],[1.0,\"#f0f921\"]]}],\"surface\":[{\"type\":\"surface\",\"colorbar\":{\"outlinewidth\":0,\"ticks\":\"\"},\"colorscale\":[[0.0,\"#0d0887\"],[0.1111111111111111,\"#46039f\"],[0.2222222222222222,\"#7201a8\"],[0.3333333333333333,\"#9c179e\"],[0.4444444444444444,\"#bd3786\"],[0.5555555555555556,\"#d8576b\"],[0.6666666666666666,\"#ed7953\"],[0.7777777777777778,\"#fb9f3a\"],[0.8888888888888888,\"#fdca26\"],[1.0,\"#f0f921\"]]}],\"mesh3d\":[{\"type\":\"mesh3d\",\"colorbar\":{\"outlinewidth\":0,\"ticks\":\"\"}}],\"scatter\":[{\"fillpattern\":{\"fillmode\":\"overlay\",\"size\":10,\"solidity\":0.2},\"type\":\"scatter\"}],\"parcoords\":[{\"type\":\"parcoords\",\"line\":{\"colorbar\":{\"outlinewidth\":0,\"ticks\":\"\"}}}],\"scatterpolargl\":[{\"type\":\"scatterpolargl\",\"marker\":{\"colorbar\":{\"outlinewidth\":0,\"ticks\":\"\"}}}],\"bar\":[{\"error_x\":{\"color\":\"#2a3f5f\"},\"error_y\":{\"color\":\"#2a3f5f\"},\"marker\":{\"line\":{\"color\":\"#E5ECF6\",\"width\":0.5},\"pattern\":{\"fillmode\":\"overlay\",\"size\":10,\"solidity\":0.2}},\"type\":\"bar\"}],\"scattergeo\":[{\"type\":\"scattergeo\",\"marker\":{\"colorbar\":{\"outlinewidth\":0,\"ticks\":\"\"}}}],\"scatterpolar\":[{\"type\":\"scatterpolar\",\"marker\":{\"colorbar\":{\"outlinewidth\":0,\"ticks\":\"\"}}}],\"histogram\":[{\"marker\":{\"pattern\":{\"fillmode\":\"overlay\",\"size\":10,\"solidity\":0.2}},\"type\":\"histogram\"}],\"scattergl\":[{\"type\":\"scattergl\",\"marker\":{\"colorbar\":{\"outlinewidth\":0,\"ticks\":\"\"}}}],\"scatter3d\":[{\"type\":\"scatter3d\",\"line\":{\"colorbar\":{\"outlinewidth\":0,\"ticks\":\"\"}},\"marker\":{\"colorbar\":{\"outlinewidth\":0,\"ticks\":\"\"}}}],\"scattermapbox\":[{\"type\":\"scattermapbox\",\"marker\":{\"colorbar\":{\"outlinewidth\":0,\"ticks\":\"\"}}}],\"scatterternary\":[{\"type\":\"scatterternary\",\"marker\":{\"colorbar\":{\"outlinewidth\":0,\"ticks\":\"\"}}}],\"scattercarpet\":[{\"type\":\"scattercarpet\",\"marker\":{\"colorbar\":{\"outlinewidth\":0,\"ticks\":\"\"}}}],\"carpet\":[{\"aaxis\":{\"endlinecolor\":\"#2a3f5f\",\"gridcolor\":\"white\",\"linecolor\":\"white\",\"minorgridcolor\":\"white\",\"startlinecolor\":\"#2a3f5f\"},\"baxis\":{\"endlinecolor\":\"#2a3f5f\",\"gridcolor\":\"white\",\"linecolor\":\"white\",\"minorgridcolor\":\"white\",\"startlinecolor\":\"#2a3f5f\"},\"type\":\"carpet\"}],\"table\":[{\"cells\":{\"fill\":{\"color\":\"#EBF0F8\"},\"line\":{\"color\":\"white\"}},\"header\":{\"fill\":{\"color\":\"#C8D4E3\"},\"line\":{\"color\":\"white\"}},\"type\":\"table\"}],\"barpolar\":[{\"marker\":{\"line\":{\"color\":\"#E5ECF6\",\"width\":0.5},\"pattern\":{\"fillmode\":\"overlay\",\"size\":10,\"solidity\":0.2}},\"type\":\"barpolar\"}],\"pie\":[{\"automargin\":true,\"type\":\"pie\"}]},\"layout\":{\"autotypenumbers\":\"strict\",\"colorway\":[\"#636efa\",\"#EF553B\",\"#00cc96\",\"#ab63fa\",\"#FFA15A\",\"#19d3f3\",\"#FF6692\",\"#B6E880\",\"#FF97FF\",\"#FECB52\"],\"font\":{\"color\":\"#2a3f5f\"},\"hovermode\":\"closest\",\"hoverlabel\":{\"align\":\"left\"},\"paper_bgcolor\":\"white\",\"plot_bgcolor\":\"#E5ECF6\",\"polar\":{\"bgcolor\":\"#E5ECF6\",\"angularaxis\":{\"gridcolor\":\"white\",\"linecolor\":\"white\",\"ticks\":\"\"},\"radialaxis\":{\"gridcolor\":\"white\",\"linecolor\":\"white\",\"ticks\":\"\"}},\"ternary\":{\"bgcolor\":\"#E5ECF6\",\"aaxis\":{\"gridcolor\":\"white\",\"linecolor\":\"white\",\"ticks\":\"\"},\"baxis\":{\"gridcolor\":\"white\",\"linecolor\":\"white\",\"ticks\":\"\"},\"caxis\":{\"gridcolor\":\"white\",\"linecolor\":\"white\",\"ticks\":\"\"}},\"coloraxis\":{\"colorbar\":{\"outlinewidth\":0,\"ticks\":\"\"}},\"colorscale\":{\"sequential\":[[0.0,\"#0d0887\"],[0.1111111111111111,\"#46039f\"],[0.2222222222222222,\"#7201a8\"],[0.3333333333333333,\"#9c179e\"],[0.4444444444444444,\"#bd3786\"],[0.5555555555555556,\"#d8576b\"],[0.6666666666666666,\"#ed7953\"],[0.7777777777777778,\"#fb9f3a\"],[0.8888888888888888,\"#fdca26\"],[1.0,\"#f0f921\"]],\"sequentialminus\":[[0.0,\"#0d0887\"],[0.1111111111111111,\"#46039f\"],[0.2222222222222222,\"#7201a8\"],[0.3333333333333333,\"#9c179e\"],[0.4444444444444444,\"#bd3786\"],[0.5555555555555556,\"#d8576b\"],[0.6666666666666666,\"#ed7953\"],[0.7777777777777778,\"#fb9f3a\"],[0.8888888888888888,\"#fdca26\"],[1.0,\"#f0f921\"]],\"diverging\":[[0,\"#8e0152\"],[0.1,\"#c51b7d\"],[0.2,\"#de77ae\"],[0.3,\"#f1b6da\"],[0.4,\"#fde0ef\"],[0.5,\"#f7f7f7\"],[0.6,\"#e6f5d0\"],[0.7,\"#b8e186\"],[0.8,\"#7fbc41\"],[0.9,\"#4d9221\"],[1,\"#276419\"]]},\"xaxis\":{\"gridcolor\":\"white\",\"linecolor\":\"white\",\"ticks\":\"\",\"title\":{\"standoff\":15},\"zerolinecolor\":\"white\",\"automargin\":true,\"zerolinewidth\":2},\"yaxis\":{\"gridcolor\":\"white\",\"linecolor\":\"white\",\"ticks\":\"\",\"title\":{\"standoff\":15},\"zerolinecolor\":\"white\",\"automargin\":true,\"zerolinewidth\":2},\"scene\":{\"xaxis\":{\"backgroundcolor\":\"#E5ECF6\",\"gridcolor\":\"white\",\"linecolor\":\"white\",\"showbackground\":true,\"ticks\":\"\",\"zerolinecolor\":\"white\",\"gridwidth\":2},\"yaxis\":{\"backgroundcolor\":\"#E5ECF6\",\"gridcolor\":\"white\",\"linecolor\":\"white\",\"showbackground\":true,\"ticks\":\"\",\"zerolinecolor\":\"white\",\"gridwidth\":2},\"zaxis\":{\"backgroundcolor\":\"#E5ECF6\",\"gridcolor\":\"white\",\"linecolor\":\"white\",\"showbackground\":true,\"ticks\":\"\",\"zerolinecolor\":\"white\",\"gridwidth\":2}},\"shapedefaults\":{\"line\":{\"color\":\"#2a3f5f\"}},\"annotationdefaults\":{\"arrowcolor\":\"#2a3f5f\",\"arrowhead\":0,\"arrowwidth\":1},\"geo\":{\"bgcolor\":\"white\",\"landcolor\":\"#E5ECF6\",\"subunitcolor\":\"white\",\"showland\":true,\"showlakes\":true,\"lakecolor\":\"white\"},\"title\":{\"x\":0.05},\"mapbox\":{\"style\":\"light\"}}},\"margin\":{\"t\":25,\"r\":0,\"b\":200,\"l\":200},\"width\":1000,\"height\":700},                        {\"responsive\": true}                    ).then(function(){\n",
       "                            \n",
       "var gd = document.getElementById('b076c80e-787b-4723-834b-53f1ed356b4d');\n",
       "var x = new MutationObserver(function (mutations, observer) {{\n",
       "        var display = window.getComputedStyle(gd).display;\n",
       "        if (!display || display === 'none') {{\n",
       "            console.log([gd, 'removed!']);\n",
       "            Plotly.purge(gd);\n",
       "            observer.disconnect();\n",
       "        }}\n",
       "}});\n",
       "\n",
       "// Listen for the removal of the full notebook cells\n",
       "var notebookContainer = gd.closest('#notebook-container');\n",
       "if (notebookContainer) {{\n",
       "    x.observe(notebookContainer, {childList: true});\n",
       "}}\n",
       "\n",
       "// Listen for the clearing of the current output cell\n",
       "var outputEl = gd.closest('.output');\n",
       "if (outputEl) {{\n",
       "    x.observe(outputEl, {childList: true});\n",
       "}}\n",
       "\n",
       "                        })                };                });            </script>        </div>"
      ]
     },
     "metadata": {},
     "output_type": "display_data"
    }
   ],
   "source": [
    "corr = df.iloc[:,1:].corr()\n",
    "fig = go.Figure(data=go.Heatmap(z=np.array(corr),x=corr.columns.tolist(),y=corr.columns.tolist(),xgap = 1,ygap = 1))\n",
    "fig.update_layout(margin = dict(t=25,r=0,b=200,l=200),width = 1000, height = 700)\n",
    "fig.show()"
   ]
  },
  {
   "cell_type": "markdown",
   "metadata": {},
   "source": [
    "**3. Data preprocessing**<br>\n",
    "<br>\n",
    "**3.1. Label Encoding**"
   ]
  },
  {
   "cell_type": "code",
   "execution_count": 67,
   "metadata": {},
   "outputs": [
    {
     "name": "stdout",
     "output_type": "stream",
     "text": [
      "GENERO\n",
      "0    266\n",
      "1    236\n",
      "Name: count, dtype: int64\n"
     ]
    }
   ],
   "source": [
    "categorical = ['Estatus', 'PUESTO', 'AREA', 'TURNO', 'MUNICIPIO', 'GENERO', 'ESCOLARIDAD']\n",
    "for feature in categorical:\n",
    "        le = LabelEncoder()\n",
    "        df[feature] = le.fit_transform(df[feature])\n",
    "\n",
    "print(df['GENERO'].value_counts())"
   ]
  },
  {
   "cell_type": "markdown",
   "metadata": {},
   "source": [
    "**3.2. Data split**"
   ]
  },
  {
   "cell_type": "code",
   "execution_count": 68,
   "metadata": {},
   "outputs": [],
   "source": [
    "random_state = 42\n",
    "X_train, X_test, y_train, y_test = train_test_split(df.iloc[:,1:], df['Estatus'], test_size = 0.2, random_state = random_state)"
   ]
  },
  {
   "cell_type": "markdown",
   "metadata": {},
   "source": [
    "**3.3. Feature engineering**<br>\n",
    "<br>\n",
    "**3.3.1. Scaler**"
   ]
  },
  {
   "cell_type": "markdown",
   "metadata": {},
   "source": [
    "In machine learning, many algorithms are sensitive to features with different scales, so it is important to scale numeric input variables to a standard range. In this case, we observed in box plots that some features contain a few extreme outliers that are not easy to remove or replace. Extreme outliers often negatively influence the mean/variance of the sample. Therefore, we use RobustScaler since this scaler is robust to outliers by removing the median and scaling the data according to the interquartile range."
   ]
  },
  {
   "cell_type": "code",
   "execution_count": 71,
   "metadata": {},
   "outputs": [],
   "source": [
    "scale = StandardScaler()\n",
    "X_train = scale.fit_transform(X_train)\n",
    "X_test = scale.transform(X_test)"
   ]
  },
  {
   "cell_type": "markdown",
   "metadata": {},
   "source": [
    "**3.3.2. Dimensionality reduction**"
   ]
  },
  {
   "cell_type": "markdown",
   "metadata": {},
   "source": [
    "\n",
    "Based on the correlation matrix and joint/marginal distribution plots, we observe that some features are highly correlated, such as radius_mean, perimeter_mean, and area_mean. These features have almost the same effect on the dependent variable. Classification algorithms that include too many features in the dataset commonly suffer from the \"Curse of Dimensionality,\" which means more data, voluminous computations, and also the risk of overfitting. Both feature selection (choosing specific features to include) and feature extraction (creating a new set of features from the input features) can help avoid these problems."
   ]
  },
  {
   "cell_type": "markdown",
   "metadata": {},
   "source": [
    "- **Principal Component Analysis PCA**"
   ]
  },
  {
   "cell_type": "code",
   "execution_count": 73,
   "metadata": {},
   "outputs": [
    {
     "data": {
      "application/vnd.plotly.v1+json": {
       "config": {
        "plotlyServerURL": "https://plot.ly"
       },
       "data": [
        {
         "hovertemplate": "# of components=%{x}<br>Cumulative Explained Variance=%{y}<extra></extra>",
         "legendgroup": "",
         "line": {
          "color": "#636efa",
          "dash": "solid"
         },
         "marker": {
          "symbol": "circle"
         },
         "mode": "markers+lines",
         "name": "",
         "orientation": "v",
         "showlegend": false,
         "type": "scatter",
         "x": [
          1,
          2,
          3,
          4,
          5,
          6
         ],
         "xaxis": "x",
         "y": [
          0.3170027265458596,
          0.5132644536671962,
          0.6876324315936919,
          0.8443354593482236,
          0.9699284397457146,
          0.9999999999999998
         ],
         "yaxis": "y"
        }
       ],
       "layout": {
        "legend": {
         "tracegroupgap": 0
        },
        "margin": {
         "t": 60
        },
        "template": {
         "data": {
          "bar": [
           {
            "error_x": {
             "color": "#2a3f5f"
            },
            "error_y": {
             "color": "#2a3f5f"
            },
            "marker": {
             "line": {
              "color": "#E5ECF6",
              "width": 0.5
             },
             "pattern": {
              "fillmode": "overlay",
              "size": 10,
              "solidity": 0.2
             }
            },
            "type": "bar"
           }
          ],
          "barpolar": [
           {
            "marker": {
             "line": {
              "color": "#E5ECF6",
              "width": 0.5
             },
             "pattern": {
              "fillmode": "overlay",
              "size": 10,
              "solidity": 0.2
             }
            },
            "type": "barpolar"
           }
          ],
          "carpet": [
           {
            "aaxis": {
             "endlinecolor": "#2a3f5f",
             "gridcolor": "white",
             "linecolor": "white",
             "minorgridcolor": "white",
             "startlinecolor": "#2a3f5f"
            },
            "baxis": {
             "endlinecolor": "#2a3f5f",
             "gridcolor": "white",
             "linecolor": "white",
             "minorgridcolor": "white",
             "startlinecolor": "#2a3f5f"
            },
            "type": "carpet"
           }
          ],
          "choropleth": [
           {
            "colorbar": {
             "outlinewidth": 0,
             "ticks": ""
            },
            "type": "choropleth"
           }
          ],
          "contour": [
           {
            "colorbar": {
             "outlinewidth": 0,
             "ticks": ""
            },
            "colorscale": [
             [
              0,
              "#0d0887"
             ],
             [
              0.1111111111111111,
              "#46039f"
             ],
             [
              0.2222222222222222,
              "#7201a8"
             ],
             [
              0.3333333333333333,
              "#9c179e"
             ],
             [
              0.4444444444444444,
              "#bd3786"
             ],
             [
              0.5555555555555556,
              "#d8576b"
             ],
             [
              0.6666666666666666,
              "#ed7953"
             ],
             [
              0.7777777777777778,
              "#fb9f3a"
             ],
             [
              0.8888888888888888,
              "#fdca26"
             ],
             [
              1,
              "#f0f921"
             ]
            ],
            "type": "contour"
           }
          ],
          "contourcarpet": [
           {
            "colorbar": {
             "outlinewidth": 0,
             "ticks": ""
            },
            "type": "contourcarpet"
           }
          ],
          "heatmap": [
           {
            "colorbar": {
             "outlinewidth": 0,
             "ticks": ""
            },
            "colorscale": [
             [
              0,
              "#0d0887"
             ],
             [
              0.1111111111111111,
              "#46039f"
             ],
             [
              0.2222222222222222,
              "#7201a8"
             ],
             [
              0.3333333333333333,
              "#9c179e"
             ],
             [
              0.4444444444444444,
              "#bd3786"
             ],
             [
              0.5555555555555556,
              "#d8576b"
             ],
             [
              0.6666666666666666,
              "#ed7953"
             ],
             [
              0.7777777777777778,
              "#fb9f3a"
             ],
             [
              0.8888888888888888,
              "#fdca26"
             ],
             [
              1,
              "#f0f921"
             ]
            ],
            "type": "heatmap"
           }
          ],
          "heatmapgl": [
           {
            "colorbar": {
             "outlinewidth": 0,
             "ticks": ""
            },
            "colorscale": [
             [
              0,
              "#0d0887"
             ],
             [
              0.1111111111111111,
              "#46039f"
             ],
             [
              0.2222222222222222,
              "#7201a8"
             ],
             [
              0.3333333333333333,
              "#9c179e"
             ],
             [
              0.4444444444444444,
              "#bd3786"
             ],
             [
              0.5555555555555556,
              "#d8576b"
             ],
             [
              0.6666666666666666,
              "#ed7953"
             ],
             [
              0.7777777777777778,
              "#fb9f3a"
             ],
             [
              0.8888888888888888,
              "#fdca26"
             ],
             [
              1,
              "#f0f921"
             ]
            ],
            "type": "heatmapgl"
           }
          ],
          "histogram": [
           {
            "marker": {
             "pattern": {
              "fillmode": "overlay",
              "size": 10,
              "solidity": 0.2
             }
            },
            "type": "histogram"
           }
          ],
          "histogram2d": [
           {
            "colorbar": {
             "outlinewidth": 0,
             "ticks": ""
            },
            "colorscale": [
             [
              0,
              "#0d0887"
             ],
             [
              0.1111111111111111,
              "#46039f"
             ],
             [
              0.2222222222222222,
              "#7201a8"
             ],
             [
              0.3333333333333333,
              "#9c179e"
             ],
             [
              0.4444444444444444,
              "#bd3786"
             ],
             [
              0.5555555555555556,
              "#d8576b"
             ],
             [
              0.6666666666666666,
              "#ed7953"
             ],
             [
              0.7777777777777778,
              "#fb9f3a"
             ],
             [
              0.8888888888888888,
              "#fdca26"
             ],
             [
              1,
              "#f0f921"
             ]
            ],
            "type": "histogram2d"
           }
          ],
          "histogram2dcontour": [
           {
            "colorbar": {
             "outlinewidth": 0,
             "ticks": ""
            },
            "colorscale": [
             [
              0,
              "#0d0887"
             ],
             [
              0.1111111111111111,
              "#46039f"
             ],
             [
              0.2222222222222222,
              "#7201a8"
             ],
             [
              0.3333333333333333,
              "#9c179e"
             ],
             [
              0.4444444444444444,
              "#bd3786"
             ],
             [
              0.5555555555555556,
              "#d8576b"
             ],
             [
              0.6666666666666666,
              "#ed7953"
             ],
             [
              0.7777777777777778,
              "#fb9f3a"
             ],
             [
              0.8888888888888888,
              "#fdca26"
             ],
             [
              1,
              "#f0f921"
             ]
            ],
            "type": "histogram2dcontour"
           }
          ],
          "mesh3d": [
           {
            "colorbar": {
             "outlinewidth": 0,
             "ticks": ""
            },
            "type": "mesh3d"
           }
          ],
          "parcoords": [
           {
            "line": {
             "colorbar": {
              "outlinewidth": 0,
              "ticks": ""
             }
            },
            "type": "parcoords"
           }
          ],
          "pie": [
           {
            "automargin": true,
            "type": "pie"
           }
          ],
          "scatter": [
           {
            "fillpattern": {
             "fillmode": "overlay",
             "size": 10,
             "solidity": 0.2
            },
            "type": "scatter"
           }
          ],
          "scatter3d": [
           {
            "line": {
             "colorbar": {
              "outlinewidth": 0,
              "ticks": ""
             }
            },
            "marker": {
             "colorbar": {
              "outlinewidth": 0,
              "ticks": ""
             }
            },
            "type": "scatter3d"
           }
          ],
          "scattercarpet": [
           {
            "marker": {
             "colorbar": {
              "outlinewidth": 0,
              "ticks": ""
             }
            },
            "type": "scattercarpet"
           }
          ],
          "scattergeo": [
           {
            "marker": {
             "colorbar": {
              "outlinewidth": 0,
              "ticks": ""
             }
            },
            "type": "scattergeo"
           }
          ],
          "scattergl": [
           {
            "marker": {
             "colorbar": {
              "outlinewidth": 0,
              "ticks": ""
             }
            },
            "type": "scattergl"
           }
          ],
          "scattermapbox": [
           {
            "marker": {
             "colorbar": {
              "outlinewidth": 0,
              "ticks": ""
             }
            },
            "type": "scattermapbox"
           }
          ],
          "scatterpolar": [
           {
            "marker": {
             "colorbar": {
              "outlinewidth": 0,
              "ticks": ""
             }
            },
            "type": "scatterpolar"
           }
          ],
          "scatterpolargl": [
           {
            "marker": {
             "colorbar": {
              "outlinewidth": 0,
              "ticks": ""
             }
            },
            "type": "scatterpolargl"
           }
          ],
          "scatterternary": [
           {
            "marker": {
             "colorbar": {
              "outlinewidth": 0,
              "ticks": ""
             }
            },
            "type": "scatterternary"
           }
          ],
          "surface": [
           {
            "colorbar": {
             "outlinewidth": 0,
             "ticks": ""
            },
            "colorscale": [
             [
              0,
              "#0d0887"
             ],
             [
              0.1111111111111111,
              "#46039f"
             ],
             [
              0.2222222222222222,
              "#7201a8"
             ],
             [
              0.3333333333333333,
              "#9c179e"
             ],
             [
              0.4444444444444444,
              "#bd3786"
             ],
             [
              0.5555555555555556,
              "#d8576b"
             ],
             [
              0.6666666666666666,
              "#ed7953"
             ],
             [
              0.7777777777777778,
              "#fb9f3a"
             ],
             [
              0.8888888888888888,
              "#fdca26"
             ],
             [
              1,
              "#f0f921"
             ]
            ],
            "type": "surface"
           }
          ],
          "table": [
           {
            "cells": {
             "fill": {
              "color": "#EBF0F8"
             },
             "line": {
              "color": "white"
             }
            },
            "header": {
             "fill": {
              "color": "#C8D4E3"
             },
             "line": {
              "color": "white"
             }
            },
            "type": "table"
           }
          ]
         },
         "layout": {
          "annotationdefaults": {
           "arrowcolor": "#2a3f5f",
           "arrowhead": 0,
           "arrowwidth": 1
          },
          "autotypenumbers": "strict",
          "coloraxis": {
           "colorbar": {
            "outlinewidth": 0,
            "ticks": ""
           }
          },
          "colorscale": {
           "diverging": [
            [
             0,
             "#8e0152"
            ],
            [
             0.1,
             "#c51b7d"
            ],
            [
             0.2,
             "#de77ae"
            ],
            [
             0.3,
             "#f1b6da"
            ],
            [
             0.4,
             "#fde0ef"
            ],
            [
             0.5,
             "#f7f7f7"
            ],
            [
             0.6,
             "#e6f5d0"
            ],
            [
             0.7,
             "#b8e186"
            ],
            [
             0.8,
             "#7fbc41"
            ],
            [
             0.9,
             "#4d9221"
            ],
            [
             1,
             "#276419"
            ]
           ],
           "sequential": [
            [
             0,
             "#0d0887"
            ],
            [
             0.1111111111111111,
             "#46039f"
            ],
            [
             0.2222222222222222,
             "#7201a8"
            ],
            [
             0.3333333333333333,
             "#9c179e"
            ],
            [
             0.4444444444444444,
             "#bd3786"
            ],
            [
             0.5555555555555556,
             "#d8576b"
            ],
            [
             0.6666666666666666,
             "#ed7953"
            ],
            [
             0.7777777777777778,
             "#fb9f3a"
            ],
            [
             0.8888888888888888,
             "#fdca26"
            ],
            [
             1,
             "#f0f921"
            ]
           ],
           "sequentialminus": [
            [
             0,
             "#0d0887"
            ],
            [
             0.1111111111111111,
             "#46039f"
            ],
            [
             0.2222222222222222,
             "#7201a8"
            ],
            [
             0.3333333333333333,
             "#9c179e"
            ],
            [
             0.4444444444444444,
             "#bd3786"
            ],
            [
             0.5555555555555556,
             "#d8576b"
            ],
            [
             0.6666666666666666,
             "#ed7953"
            ],
            [
             0.7777777777777778,
             "#fb9f3a"
            ],
            [
             0.8888888888888888,
             "#fdca26"
            ],
            [
             1,
             "#f0f921"
            ]
           ]
          },
          "colorway": [
           "#636efa",
           "#EF553B",
           "#00cc96",
           "#ab63fa",
           "#FFA15A",
           "#19d3f3",
           "#FF6692",
           "#B6E880",
           "#FF97FF",
           "#FECB52"
          ],
          "font": {
           "color": "#2a3f5f"
          },
          "geo": {
           "bgcolor": "white",
           "lakecolor": "white",
           "landcolor": "#E5ECF6",
           "showlakes": true,
           "showland": true,
           "subunitcolor": "white"
          },
          "hoverlabel": {
           "align": "left"
          },
          "hovermode": "closest",
          "mapbox": {
           "style": "light"
          },
          "paper_bgcolor": "white",
          "plot_bgcolor": "#E5ECF6",
          "polar": {
           "angularaxis": {
            "gridcolor": "white",
            "linecolor": "white",
            "ticks": ""
           },
           "bgcolor": "#E5ECF6",
           "radialaxis": {
            "gridcolor": "white",
            "linecolor": "white",
            "ticks": ""
           }
          },
          "scene": {
           "xaxis": {
            "backgroundcolor": "#E5ECF6",
            "gridcolor": "white",
            "gridwidth": 2,
            "linecolor": "white",
            "showbackground": true,
            "ticks": "",
            "zerolinecolor": "white"
           },
           "yaxis": {
            "backgroundcolor": "#E5ECF6",
            "gridcolor": "white",
            "gridwidth": 2,
            "linecolor": "white",
            "showbackground": true,
            "ticks": "",
            "zerolinecolor": "white"
           },
           "zaxis": {
            "backgroundcolor": "#E5ECF6",
            "gridcolor": "white",
            "gridwidth": 2,
            "linecolor": "white",
            "showbackground": true,
            "ticks": "",
            "zerolinecolor": "white"
           }
          },
          "shapedefaults": {
           "line": {
            "color": "#2a3f5f"
           }
          },
          "ternary": {
           "aaxis": {
            "gridcolor": "white",
            "linecolor": "white",
            "ticks": ""
           },
           "baxis": {
            "gridcolor": "white",
            "linecolor": "white",
            "ticks": ""
           },
           "bgcolor": "#E5ECF6",
           "caxis": {
            "gridcolor": "white",
            "linecolor": "white",
            "ticks": ""
           }
          },
          "title": {
           "x": 0.05
          },
          "xaxis": {
           "automargin": true,
           "gridcolor": "white",
           "linecolor": "white",
           "ticks": "",
           "title": {
            "standoff": 15
           },
           "zerolinecolor": "white",
           "zerolinewidth": 2
          },
          "yaxis": {
           "automargin": true,
           "gridcolor": "white",
           "linecolor": "white",
           "ticks": "",
           "title": {
            "standoff": 15
           },
           "zerolinecolor": "white",
           "zerolinewidth": 2
          }
         }
        },
        "xaxis": {
         "anchor": "y",
         "domain": [
          0,
          1
         ],
         "title": {
          "text": "# of components"
         }
        },
        "yaxis": {
         "anchor": "x",
         "domain": [
          0,
          1
         ],
         "title": {
          "text": "Cumulative Explained Variance"
         }
        }
       }
      },
      "text/html": [
       "<div>                            <div id=\"a5595b61-f693-41cf-aaa6-5eb21d57e1ab\" class=\"plotly-graph-div\" style=\"height:525px; width:100%;\"></div>            <script type=\"text/javascript\">                require([\"plotly\"], function(Plotly) {                    window.PLOTLYENV=window.PLOTLYENV || {};                                    if (document.getElementById(\"a5595b61-f693-41cf-aaa6-5eb21d57e1ab\")) {                    Plotly.newPlot(                        \"a5595b61-f693-41cf-aaa6-5eb21d57e1ab\",                        [{\"hovertemplate\":\"# of components=%{x}<br>Cumulative Explained Variance=%{y}<extra></extra>\",\"legendgroup\":\"\",\"line\":{\"color\":\"#636efa\",\"dash\":\"solid\"},\"marker\":{\"symbol\":\"circle\"},\"mode\":\"markers+lines\",\"name\":\"\",\"orientation\":\"v\",\"showlegend\":false,\"x\":[1,2,3,4,5,6],\"xaxis\":\"x\",\"y\":[0.3170027265458596,0.5132644536671962,0.6876324315936919,0.8443354593482236,0.9699284397457146,0.9999999999999998],\"yaxis\":\"y\",\"type\":\"scatter\"}],                        {\"template\":{\"data\":{\"histogram2dcontour\":[{\"type\":\"histogram2dcontour\",\"colorbar\":{\"outlinewidth\":0,\"ticks\":\"\"},\"colorscale\":[[0.0,\"#0d0887\"],[0.1111111111111111,\"#46039f\"],[0.2222222222222222,\"#7201a8\"],[0.3333333333333333,\"#9c179e\"],[0.4444444444444444,\"#bd3786\"],[0.5555555555555556,\"#d8576b\"],[0.6666666666666666,\"#ed7953\"],[0.7777777777777778,\"#fb9f3a\"],[0.8888888888888888,\"#fdca26\"],[1.0,\"#f0f921\"]]}],\"choropleth\":[{\"type\":\"choropleth\",\"colorbar\":{\"outlinewidth\":0,\"ticks\":\"\"}}],\"histogram2d\":[{\"type\":\"histogram2d\",\"colorbar\":{\"outlinewidth\":0,\"ticks\":\"\"},\"colorscale\":[[0.0,\"#0d0887\"],[0.1111111111111111,\"#46039f\"],[0.2222222222222222,\"#7201a8\"],[0.3333333333333333,\"#9c179e\"],[0.4444444444444444,\"#bd3786\"],[0.5555555555555556,\"#d8576b\"],[0.6666666666666666,\"#ed7953\"],[0.7777777777777778,\"#fb9f3a\"],[0.8888888888888888,\"#fdca26\"],[1.0,\"#f0f921\"]]}],\"heatmap\":[{\"type\":\"heatmap\",\"colorbar\":{\"outlinewidth\":0,\"ticks\":\"\"},\"colorscale\":[[0.0,\"#0d0887\"],[0.1111111111111111,\"#46039f\"],[0.2222222222222222,\"#7201a8\"],[0.3333333333333333,\"#9c179e\"],[0.4444444444444444,\"#bd3786\"],[0.5555555555555556,\"#d8576b\"],[0.6666666666666666,\"#ed7953\"],[0.7777777777777778,\"#fb9f3a\"],[0.8888888888888888,\"#fdca26\"],[1.0,\"#f0f921\"]]}],\"heatmapgl\":[{\"type\":\"heatmapgl\",\"colorbar\":{\"outlinewidth\":0,\"ticks\":\"\"},\"colorscale\":[[0.0,\"#0d0887\"],[0.1111111111111111,\"#46039f\"],[0.2222222222222222,\"#7201a8\"],[0.3333333333333333,\"#9c179e\"],[0.4444444444444444,\"#bd3786\"],[0.5555555555555556,\"#d8576b\"],[0.6666666666666666,\"#ed7953\"],[0.7777777777777778,\"#fb9f3a\"],[0.8888888888888888,\"#fdca26\"],[1.0,\"#f0f921\"]]}],\"contourcarpet\":[{\"type\":\"contourcarpet\",\"colorbar\":{\"outlinewidth\":0,\"ticks\":\"\"}}],\"contour\":[{\"type\":\"contour\",\"colorbar\":{\"outlinewidth\":0,\"ticks\":\"\"},\"colorscale\":[[0.0,\"#0d0887\"],[0.1111111111111111,\"#46039f\"],[0.2222222222222222,\"#7201a8\"],[0.3333333333333333,\"#9c179e\"],[0.4444444444444444,\"#bd3786\"],[0.5555555555555556,\"#d8576b\"],[0.6666666666666666,\"#ed7953\"],[0.7777777777777778,\"#fb9f3a\"],[0.8888888888888888,\"#fdca26\"],[1.0,\"#f0f921\"]]}],\"surface\":[{\"type\":\"surface\",\"colorbar\":{\"outlinewidth\":0,\"ticks\":\"\"},\"colorscale\":[[0.0,\"#0d0887\"],[0.1111111111111111,\"#46039f\"],[0.2222222222222222,\"#7201a8\"],[0.3333333333333333,\"#9c179e\"],[0.4444444444444444,\"#bd3786\"],[0.5555555555555556,\"#d8576b\"],[0.6666666666666666,\"#ed7953\"],[0.7777777777777778,\"#fb9f3a\"],[0.8888888888888888,\"#fdca26\"],[1.0,\"#f0f921\"]]}],\"mesh3d\":[{\"type\":\"mesh3d\",\"colorbar\":{\"outlinewidth\":0,\"ticks\":\"\"}}],\"scatter\":[{\"fillpattern\":{\"fillmode\":\"overlay\",\"size\":10,\"solidity\":0.2},\"type\":\"scatter\"}],\"parcoords\":[{\"type\":\"parcoords\",\"line\":{\"colorbar\":{\"outlinewidth\":0,\"ticks\":\"\"}}}],\"scatterpolargl\":[{\"type\":\"scatterpolargl\",\"marker\":{\"colorbar\":{\"outlinewidth\":0,\"ticks\":\"\"}}}],\"bar\":[{\"error_x\":{\"color\":\"#2a3f5f\"},\"error_y\":{\"color\":\"#2a3f5f\"},\"marker\":{\"line\":{\"color\":\"#E5ECF6\",\"width\":0.5},\"pattern\":{\"fillmode\":\"overlay\",\"size\":10,\"solidity\":0.2}},\"type\":\"bar\"}],\"scattergeo\":[{\"type\":\"scattergeo\",\"marker\":{\"colorbar\":{\"outlinewidth\":0,\"ticks\":\"\"}}}],\"scatterpolar\":[{\"type\":\"scatterpolar\",\"marker\":{\"colorbar\":{\"outlinewidth\":0,\"ticks\":\"\"}}}],\"histogram\":[{\"marker\":{\"pattern\":{\"fillmode\":\"overlay\",\"size\":10,\"solidity\":0.2}},\"type\":\"histogram\"}],\"scattergl\":[{\"type\":\"scattergl\",\"marker\":{\"colorbar\":{\"outlinewidth\":0,\"ticks\":\"\"}}}],\"scatter3d\":[{\"type\":\"scatter3d\",\"line\":{\"colorbar\":{\"outlinewidth\":0,\"ticks\":\"\"}},\"marker\":{\"colorbar\":{\"outlinewidth\":0,\"ticks\":\"\"}}}],\"scattermapbox\":[{\"type\":\"scattermapbox\",\"marker\":{\"colorbar\":{\"outlinewidth\":0,\"ticks\":\"\"}}}],\"scatterternary\":[{\"type\":\"scatterternary\",\"marker\":{\"colorbar\":{\"outlinewidth\":0,\"ticks\":\"\"}}}],\"scattercarpet\":[{\"type\":\"scattercarpet\",\"marker\":{\"colorbar\":{\"outlinewidth\":0,\"ticks\":\"\"}}}],\"carpet\":[{\"aaxis\":{\"endlinecolor\":\"#2a3f5f\",\"gridcolor\":\"white\",\"linecolor\":\"white\",\"minorgridcolor\":\"white\",\"startlinecolor\":\"#2a3f5f\"},\"baxis\":{\"endlinecolor\":\"#2a3f5f\",\"gridcolor\":\"white\",\"linecolor\":\"white\",\"minorgridcolor\":\"white\",\"startlinecolor\":\"#2a3f5f\"},\"type\":\"carpet\"}],\"table\":[{\"cells\":{\"fill\":{\"color\":\"#EBF0F8\"},\"line\":{\"color\":\"white\"}},\"header\":{\"fill\":{\"color\":\"#C8D4E3\"},\"line\":{\"color\":\"white\"}},\"type\":\"table\"}],\"barpolar\":[{\"marker\":{\"line\":{\"color\":\"#E5ECF6\",\"width\":0.5},\"pattern\":{\"fillmode\":\"overlay\",\"size\":10,\"solidity\":0.2}},\"type\":\"barpolar\"}],\"pie\":[{\"automargin\":true,\"type\":\"pie\"}]},\"layout\":{\"autotypenumbers\":\"strict\",\"colorway\":[\"#636efa\",\"#EF553B\",\"#00cc96\",\"#ab63fa\",\"#FFA15A\",\"#19d3f3\",\"#FF6692\",\"#B6E880\",\"#FF97FF\",\"#FECB52\"],\"font\":{\"color\":\"#2a3f5f\"},\"hovermode\":\"closest\",\"hoverlabel\":{\"align\":\"left\"},\"paper_bgcolor\":\"white\",\"plot_bgcolor\":\"#E5ECF6\",\"polar\":{\"bgcolor\":\"#E5ECF6\",\"angularaxis\":{\"gridcolor\":\"white\",\"linecolor\":\"white\",\"ticks\":\"\"},\"radialaxis\":{\"gridcolor\":\"white\",\"linecolor\":\"white\",\"ticks\":\"\"}},\"ternary\":{\"bgcolor\":\"#E5ECF6\",\"aaxis\":{\"gridcolor\":\"white\",\"linecolor\":\"white\",\"ticks\":\"\"},\"baxis\":{\"gridcolor\":\"white\",\"linecolor\":\"white\",\"ticks\":\"\"},\"caxis\":{\"gridcolor\":\"white\",\"linecolor\":\"white\",\"ticks\":\"\"}},\"coloraxis\":{\"colorbar\":{\"outlinewidth\":0,\"ticks\":\"\"}},\"colorscale\":{\"sequential\":[[0.0,\"#0d0887\"],[0.1111111111111111,\"#46039f\"],[0.2222222222222222,\"#7201a8\"],[0.3333333333333333,\"#9c179e\"],[0.4444444444444444,\"#bd3786\"],[0.5555555555555556,\"#d8576b\"],[0.6666666666666666,\"#ed7953\"],[0.7777777777777778,\"#fb9f3a\"],[0.8888888888888888,\"#fdca26\"],[1.0,\"#f0f921\"]],\"sequentialminus\":[[0.0,\"#0d0887\"],[0.1111111111111111,\"#46039f\"],[0.2222222222222222,\"#7201a8\"],[0.3333333333333333,\"#9c179e\"],[0.4444444444444444,\"#bd3786\"],[0.5555555555555556,\"#d8576b\"],[0.6666666666666666,\"#ed7953\"],[0.7777777777777778,\"#fb9f3a\"],[0.8888888888888888,\"#fdca26\"],[1.0,\"#f0f921\"]],\"diverging\":[[0,\"#8e0152\"],[0.1,\"#c51b7d\"],[0.2,\"#de77ae\"],[0.3,\"#f1b6da\"],[0.4,\"#fde0ef\"],[0.5,\"#f7f7f7\"],[0.6,\"#e6f5d0\"],[0.7,\"#b8e186\"],[0.8,\"#7fbc41\"],[0.9,\"#4d9221\"],[1,\"#276419\"]]},\"xaxis\":{\"gridcolor\":\"white\",\"linecolor\":\"white\",\"ticks\":\"\",\"title\":{\"standoff\":15},\"zerolinecolor\":\"white\",\"automargin\":true,\"zerolinewidth\":2},\"yaxis\":{\"gridcolor\":\"white\",\"linecolor\":\"white\",\"ticks\":\"\",\"title\":{\"standoff\":15},\"zerolinecolor\":\"white\",\"automargin\":true,\"zerolinewidth\":2},\"scene\":{\"xaxis\":{\"backgroundcolor\":\"#E5ECF6\",\"gridcolor\":\"white\",\"linecolor\":\"white\",\"showbackground\":true,\"ticks\":\"\",\"zerolinecolor\":\"white\",\"gridwidth\":2},\"yaxis\":{\"backgroundcolor\":\"#E5ECF6\",\"gridcolor\":\"white\",\"linecolor\":\"white\",\"showbackground\":true,\"ticks\":\"\",\"zerolinecolor\":\"white\",\"gridwidth\":2},\"zaxis\":{\"backgroundcolor\":\"#E5ECF6\",\"gridcolor\":\"white\",\"linecolor\":\"white\",\"showbackground\":true,\"ticks\":\"\",\"zerolinecolor\":\"white\",\"gridwidth\":2}},\"shapedefaults\":{\"line\":{\"color\":\"#2a3f5f\"}},\"annotationdefaults\":{\"arrowcolor\":\"#2a3f5f\",\"arrowhead\":0,\"arrowwidth\":1},\"geo\":{\"bgcolor\":\"white\",\"landcolor\":\"#E5ECF6\",\"subunitcolor\":\"white\",\"showland\":true,\"showlakes\":true,\"lakecolor\":\"white\"},\"title\":{\"x\":0.05},\"mapbox\":{\"style\":\"light\"}}},\"xaxis\":{\"anchor\":\"y\",\"domain\":[0.0,1.0],\"title\":{\"text\":\"# of components\"}},\"yaxis\":{\"anchor\":\"x\",\"domain\":[0.0,1.0],\"title\":{\"text\":\"Cumulative Explained Variance\"}},\"legend\":{\"tracegroupgap\":0},\"margin\":{\"t\":60}},                        {\"responsive\": true}                    ).then(function(){\n",
       "                            \n",
       "var gd = document.getElementById('a5595b61-f693-41cf-aaa6-5eb21d57e1ab');\n",
       "var x = new MutationObserver(function (mutations, observer) {{\n",
       "        var display = window.getComputedStyle(gd).display;\n",
       "        if (!display || display === 'none') {{\n",
       "            console.log([gd, 'removed!']);\n",
       "            Plotly.purge(gd);\n",
       "            observer.disconnect();\n",
       "        }}\n",
       "}});\n",
       "\n",
       "// Listen for the removal of the full notebook cells\n",
       "var notebookContainer = gd.closest('#notebook-container');\n",
       "if (notebookContainer) {{\n",
       "    x.observe(notebookContainer, {childList: true});\n",
       "}}\n",
       "\n",
       "// Listen for the clearing of the current output cell\n",
       "var outputEl = gd.closest('.output');\n",
       "if (outputEl) {{\n",
       "    x.observe(outputEl, {childList: true});\n",
       "}}\n",
       "\n",
       "                        })                };                });            </script>        </div>"
      ]
     },
     "metadata": {},
     "output_type": "display_data"
    }
   ],
   "source": [
    "pca = PCA()\n",
    "pca.fit(X_train)\n",
    "exp_var_cumul = np.cumsum(pca.explained_variance_ratio_)\n",
    "\n",
    "fig = px.line(x=np.arange(1,exp_var_cumul.shape[0]+1), y=exp_var_cumul, markers=True, labels={'x':'# of components', 'y':'Cumulative Explained Variance'})\n",
    "\n",
    "#fig.add_shape(type='line', line=dict(dash='dash'),x0=0, x1=30, y0=0.95, y1=0.95)\n",
    "\n",
    "fig.show()"
   ]
  },
  {
   "cell_type": "markdown",
   "metadata": {},
   "source": [
    "\n",
    "There is an elbow after the seventh component, and 91% of the total variance is explained by the first seven components. If we keep the first 10 or 17 principal components, we can preserve approximately 95% or even more than 99% of the total variance."
   ]
  },
  {
   "cell_type": "markdown",
   "metadata": {},
   "source": [
    "- **Recursive Feature Elimination (RFE)**"
   ]
  },
  {
   "cell_type": "markdown",
   "metadata": {},
   "source": [
    "Recursive Feature Elimination (RFE) is a feature selection method. The process involves training a separate model and, each time, removing the weakest features until reaching the optimal set of features to achieve the best possible results."
   ]
  },
  {
   "cell_type": "code",
   "execution_count": 74,
   "metadata": {},
   "outputs": [
    {
     "name": "stdout",
     "output_type": "stream",
     "text": [
      "Optimal number of features : 2\n"
     ]
    },
    {
     "data": {
      "image/png": "[encoded data removed]",
      "text/plain": [
       "<Figure size 1500x500 with 1 Axes>"
      ]
     },
     "metadata": {},
     "output_type": "display_data"
    }
   ],
   "source": [
    "# Fit the RFE model to identify the optimal number of components.\n",
    "rfecv = RFECV(cv=StratifiedKFold(n_splits=10, random_state=random_state, shuffle=True),\n",
    "      estimator=DecisionTreeClassifier(), scoring='accuracy')\n",
    "    \n",
    "rfecv.fit(X_train, y_train)\n",
    "\n",
    "print(\"Optimal number of features : %d\" % rfecv.n_features_)\n",
    "\n",
    "# Plot component number VS. cross-validation scores\n",
    "plt.figure(figsize=(15,5))\n",
    "plt.xlabel(\"# of features selected\")\n",
    "plt.ylabel(\"Cross validation score (accuracy)\")\n",
    "plt.plot(\n",
    "    range(1, len(rfecv.cv_results_['mean_test_score']) + 1),\n",
    "    rfecv.cv_results_['mean_test_score'],\n",
    ")\n",
    "plt.show()"
   ]
  },
  {
   "cell_type": "markdown",
   "metadata": {},
   "source": [
    "\n",
    "We can visualize how the model's performance changes as the number of features increases by plotting the number of features used in the model versus the model's accuracy. As you can see, more features are not always better. The accuracy value reaches its maximum when the first # important features are used in the model."
   ]
  },
  {
   "cell_type": "code",
   "execution_count": 75,
   "metadata": {},
   "outputs": [
    {
     "data": {
      "text/html": [
       "<div>\n",
       "<style scoped>\n",
       "    .dataframe tbody tr th:only-of-type {\n",
       "        vertical-align: middle;\n",
       "    }\n",
       "\n",
       "    .dataframe tbody tr th {\n",
       "        vertical-align: top;\n",
       "    }\n",
       "\n",
       "    .dataframe thead th {\n",
       "        text-align: right;\n",
       "    }\n",
       "</style>\n",
       "<table border=\"1\" class=\"dataframe\">\n",
       "  <thead>\n",
       "    <tr style=\"text-align: right;\">\n",
       "      <th></th>\n",
       "      <th>feature</th>\n",
       "      <th>support</th>\n",
       "      <th>ranking</th>\n",
       "    </tr>\n",
       "  </thead>\n",
       "  <tbody>\n",
       "    <tr>\n",
       "      <th>3</th>\n",
       "      <td>3</td>\n",
       "      <td>True</td>\n",
       "      <td>1</td>\n",
       "    </tr>\n",
       "    <tr>\n",
       "      <th>4</th>\n",
       "      <td>4</td>\n",
       "      <td>True</td>\n",
       "      <td>1</td>\n",
       "    </tr>\n",
       "    <tr>\n",
       "      <th>2</th>\n",
       "      <td>2</td>\n",
       "      <td>False</td>\n",
       "      <td>2</td>\n",
       "    </tr>\n",
       "    <tr>\n",
       "      <th>1</th>\n",
       "      <td>1</td>\n",
       "      <td>False</td>\n",
       "      <td>3</td>\n",
       "    </tr>\n",
       "    <tr>\n",
       "      <th>0</th>\n",
       "      <td>0</td>\n",
       "      <td>False</td>\n",
       "      <td>4</td>\n",
       "    </tr>\n",
       "    <tr>\n",
       "      <th>5</th>\n",
       "      <td>5</td>\n",
       "      <td>False</td>\n",
       "      <td>5</td>\n",
       "    </tr>\n",
       "  </tbody>\n",
       "</table>\n",
       "</div>"
      ],
      "text/plain": [
       "   feature  support  ranking\n",
       "3        3     True        1\n",
       "4        4     True        1\n",
       "2        2    False        2\n",
       "1        1    False        3\n",
       "0        0    False        4\n",
       "5        5    False        5"
      ]
     },
     "execution_count": 75,
     "metadata": {},
     "output_type": "execute_result"
    }
   ],
   "source": [
    "# Identifying the features selected by RFE\n",
    "features_list = []\n",
    "\n",
    "for i in range(X_train.shape[1]):\n",
    "    row = {'feature': i, 'support': rfecv.support_[i], 'ranking': rfecv.ranking_[i]}\n",
    "    features_list.append(row)\n",
    "\n",
    "# Make the list in a DataFrame\n",
    "df_features = pd.DataFrame(features_list)\n",
    "\n",
    "# Show the 10 features with the lowest rankings\n",
    "df_features.sort_values(by='ranking').head(10)"
   ]
  },
  {
   "cell_type": "code",
   "execution_count": 76,
   "metadata": {},
   "outputs": [
    {
     "data": {
      "text/plain": [
       "Index(['MUNICIPIO', 'ESCOLARIDAD'], dtype='object')"
      ]
     },
     "execution_count": 76,
     "metadata": {},
     "output_type": "execute_result"
    }
   ],
   "source": [
    "# Identify the names of the RFE selected features.\n",
    "df.columns[1:][rfecv.get_support()]"
   ]
  },
  {
   "cell_type": "markdown",
   "metadata": {},
   "source": [
    "**4. Grid Search Cross validation**<br>\n",
    "<br>\n",
    "**4. 1. find best hiperparameters**"
   ]
  },
  {
   "cell_type": "code",
   "execution_count": 77,
   "metadata": {},
   "outputs": [],
   "source": [
    "def modelselection(classifier, parameters, scoring, X_train):\n",
    "    clf = GridSearchCV(estimator=classifier,\n",
    "                   param_grid=parameters,\n",
    "                   scoring= scoring,\n",
    "                   cv=5,\n",
    "                   n_jobs=-1)# n_jobs  is the number of CPUs you want to use for execution. Setting it to -1 will utilize all available computing power\n",
    "    clf.fit(X_train, y_train)\n",
    "    cv_results = clf.cv_results_\n",
    "    best_parameters = clf.best_params_\n",
    "    best_result = clf.best_score_\n",
    "    print('The best parameters for classifier is', best_parameters)\n",
    "    print('The best training score is %.3f:'% best_result)\n",
    "#    print(sorted(cv_results.keys()))\n",
    "    return cv_results, best_parameters, best_result"
   ]
  },
  {
   "cell_type": "markdown",
   "metadata": {},
   "source": [
    "**4.2. # Number of PCA versus Model Accuracy/Training Time**"
   ]
  },
  {
   "cell_type": "code",
   "execution_count": 78,
   "metadata": {},
   "outputs": [],
   "source": [
    "def PCA_curves(PCA_cv_score, PCA_test_score, training_time):\n",
    "    fig = make_subplots(\n",
    "    rows=1, cols=2,\n",
    "    specs=[[{\"type\": \"scatter\"}, {\"type\": \"scatter\"}]],\n",
    "    subplot_titles=('# of Components in PCA versus Model Accuracy','# of Components in PCA versus Training Time')\n",
    "    )\n",
    "    \n",
    "    fig.add_trace(go.Scatter(x=n,y=PCA_cv_score,\n",
    "                             line=dict(color='rgb(231,107,243)', width=2), name='CV score'),\n",
    "                  row=1, col=1)\n",
    "    fig.add_trace(go.Scatter(x=n,y=PCA_test_score,\n",
    "                             line=dict(color='rgb(0,176,246)', width=2), name='Test score'),              \n",
    "                  row=1, col=1)    \n",
    "    fig.add_trace(go.Scatter(x=n,y=training_time,\n",
    "                             line=dict(color='rgb(0,100,80)', width=2), name='Training time'),\n",
    "                  row=1, col=2)\n",
    "    fig.update_xaxes(title_text='# of components')\n",
    "    fig.update_yaxes(title_text='Accuracy', row=1, col=1)\n",
    "    # fig.update_xaxes(title_text=\"Recall\", row=1, col=2)\n",
    "    fig.update_yaxes(title_text='Training time', row=1, col=2)\n",
    "    fig.show()"
   ]
  },
  {
   "cell_type": "markdown",
   "metadata": {},
   "source": [
    "**5. Model metrics**"
   ]
  },
  {
   "cell_type": "markdown",
   "metadata": {},
   "source": [
    "**5.1. Confusion matrix and metrics**"
   ]
  },
  {
   "cell_type": "markdown",
   "metadata": {},
   "source": [
    "\n",
    "A confusion matrix is a table that categorizes predictions based on whether they match the actual values.\n",
    "\n",
    "- True Positive (TP): Malignant tumor correctly classified as malignant.\n",
    "- True Negative (TN): Benign tumor correctly classified as benign.\n",
    "- False Positive (FP): Benign tumor incorrectly classified as malignant.\n",
    "- False Negative (FN): Malignant tumor incorrectly classified as benign.\n",
    "\n",
    "Metrics:\n",
    "\n",
    "- Accuracy (also known as success rate): (TP+TN)/(TP+TN+FP+FN)\n",
    "- Sensitivity (also known as true positive rate): TP/(TP+FN)\n",
    "- Specificity (also known as true negative rate): TN/(TN+FP)\n",
    "- Precision (also known as positive predictive value): TP/(TP+FP)\n",
    "- Recall: same as sensitivity\n",
    "- F-measure: 2PrecisionRecall/(Recall+Precision) = 2TP/(2TP+FP+FN)\n"
   ]
  },
  {
   "cell_type": "code",
   "execution_count": 79,
   "metadata": {},
   "outputs": [],
   "source": [
    "def metrics(X,CV_clf):\n",
    "    y_pred = CV_clf.predict(X)\n",
    "    cm = confusion_matrix(y_test, y_pred)\n",
    "    tn = cm[0,0]\n",
    "    fp = cm[0,1]\n",
    "    fn = cm[1,0]\n",
    "    tp = cm[1,1]\n",
    "    Accuracy=(tp+tn)/(tp+tn+fp+fn)\n",
    "    Sensitivity=tp/(tp+fn)\n",
    "    Specificity=tn/(tn+fp)\n",
    "    Precision=tp/(tp+fp)\n",
    "    F_measure=2*tp/(2*tp+fp+fn)\n",
    "    print('Accuracy=%.3f'%Accuracy)\n",
    "    print('Sensitivity=%.3f'%Sensitivity) # como recall\n",
    "    print('Specificity=%.3f'%Specificity)\n",
    "    print('Precision=%.3f'%Precision)\n",
    "    print('F-measure=%.3f'%F_measure)\n",
    "    return Accuracy, Sensitivity, Specificity, Precision, F_measure\n",
    " #   plot_confusion_matrix(CV_clf, X_test, y_test)"
   ]
  },
  {
   "cell_type": "markdown",
   "metadata": {},
   "source": [
    "**5. 2. ROC curves (AUC)**"
   ]
  },
  {
   "cell_type": "markdown",
   "metadata": {},
   "source": [
    "\n",
    "ROC (Receiver Operating Characteristic) curves summarize the balance between true positive rate (sensitivity/recall) and false positive rate (1 - specificity) for a predictive model using different probability thresholds.\n",
    "\n",
    "They are used when the datasets for each class are approximately balanced.\n",
    "\n",
    "A classifier with no predictive value: a curve falls close to the diagonal line.\n",
    "\n",
    "A perfect classifier: a curve passes through the point with a true positive rate of 100% and a false positive rate of 0%.\n",
    "\n",
    "The AUC (Area Under the ROC Curve) measures the area under the ROC curve and ranges from 0.5 (for a classifier with no predictive value) to 1.0 (for a perfect classifier)."
   ]
  },
  {
   "cell_type": "markdown",
   "metadata": {},
   "source": [
    "**5.3. Precision-recall curves**"
   ]
  },
  {
   "cell_type": "markdown",
   "metadata": {},
   "source": [
    "The summary of the balance between true positive rate (sensitivity/recall) and positive predictive value (precision) for a predictive model using different probability thresholds is known as the precision-recall curve.\n",
    "\n",
    "It is used when the datasets for each class have moderate to large imbalance.\n",
    "\n",
    "A perfect classifier: a curve slopes towards (1,1) and above the horizontal line (y=0.5) which represents no predictive value.\n",
    "In summary, the precision-recall curve provides us with a measure of how the model's precision varies as we adjust the probability threshold, which can be useful in scenarios where the imbalance between classes is considerable."
   ]
  },
  {
   "cell_type": "code",
   "execution_count": 80,
   "metadata": {},
   "outputs": [],
   "source": [
    "def plot_roc_prc():\n",
    "    fpr, tpr, thresholds = roc_curve(y_test, y_score)\n",
    "    precision, recall, thresholds = precision_recall_curve(y_test, y_score)\n",
    "    fig = make_subplots(\n",
    "        rows=1, cols=2,\n",
    "        specs=[[{\"type\": \"scatter\"}, {\"type\": \"scatter\"}]],\n",
    "        subplot_titles=(f'ROC Curve (AUC={auc(fpr, tpr):.4f})',f'Precision-Recall Curve (AUC={auc(fpr, tpr):.4f})')\n",
    "    )\n",
    "    fig.add_trace(go.Scatter(x=fpr, y=tpr),row=1, col=1)\n",
    "    fig.add_shape(type='line', line=dict(dash='dash'),x0=0, x1=1, y0=0, y1=1,row=1, col=1)\n",
    "    fig.add_trace(go.Scatter(x=recall, y=precision),row=1, col=2)\n",
    "    fig.add_shape(type='line', line=dict(dash='dash'),x0=0, x1=1, y0=0.5, y1=0.5,row=1, col=2)\n",
    "    # Update axis properties\n",
    "    fig.update_xaxes(title_text=\"False Positive Rate / 1-Specificity\", row=1, col=1)\n",
    "    fig.update_yaxes(title_text=\"True Positive Rate / Recall\", row=1, col=1)\n",
    "    fig.update_xaxes(title_text=\"Recall\", row=1, col=2)\n",
    "    fig.update_yaxes(title_text=\"Precision\", row=1, col=2)\n",
    "    # fig.show()\n",
    "    return fig"
   ]
  },
  {
   "cell_type": "markdown",
   "metadata": {},
   "source": [
    "**6. Model comparison**<br>\n",
    "<br>\n",
    "**6.1. Logistic Regression**"
   ]
  },
  {
   "cell_type": "code",
   "execution_count": 81,
   "metadata": {},
   "outputs": [
    {
     "name": "stdout",
     "output_type": "stream",
     "text": [
      "The best parameters for classifier is {'C': 0.01, 'penalty': 'l2'}\n",
      "The best training score is 0.865:\n"
     ]
    }
   ],
   "source": [
    "classifier_log = LogisticRegression(random_state=random_state,solver='lbfgs', max_iter=1000)\n",
    "parameters_log = {\n",
    "            'penalty' : ['l2'],  \n",
    "            'C' : [0.01, 0.1, 1, 10, 100]\n",
    "}\n",
    "scoring='accuracy'   # scoring parameters: https://scikit-learn.org/stable/modules/model_evaluation.html#scoring-parameter\n",
    "# Encontrar los mejores hiperparámetros\n",
    "cv_results, best_param, best_result = modelselection(classifier_log,parameters_log, scoring, X_train)"
   ]
  },
  {
   "cell_type": "code",
   "execution_count": 82,
   "metadata": {},
   "outputs": [
    {
     "name": "stdout",
     "output_type": "stream",
     "text": [
      "Accuracy=0.832\n",
      "Sensitivity=1.000\n",
      "Specificity=0.000\n",
      "Precision=0.832\n",
      "F-measure=0.908\n"
     ]
    }
   ],
   "source": [
    "# Clasificador con los mejores hyperparameters\n",
    "logReg_clf = LogisticRegression(penalty = best_param['penalty'],\n",
    "                            C = best_param['C'],\n",
    "                            random_state=random_state)\n",
    "logReg_clf.fit(X_train, y_train)\n",
    "\n",
    "# Metrics\n",
    "logReg_metrics = metrics(X_test,logReg_clf)"
   ]
  },
  {
   "cell_type": "markdown",
   "metadata": {},
   "source": [
    "**6. 2. Logistic regression with PCA**"
   ]
  },
  {
   "cell_type": "code",
   "execution_count": 83,
   "metadata": {},
   "outputs": [],
   "source": [
    "def compare_pca(n_components):\n",
    "    cv_score, test_score, cv_training_time = [], [], []\n",
    "    for n in n_components:\n",
    "        print(\"The number of components in PCA is:%d \"% n)\n",
    "        pca = PCA(n_components=n, svd_solver=\"full\",random_state=random_state)\n",
    "        X_PCA_train = pca.fit_transform(X_train)\n",
    "        X_PCA_test = pca.transform(X_test)\n",
    "        # Model Selection\n",
    "        cv_results, best_param, best_result = modelselection(classifier_log,parameters_log, scoring, X_PCA_train)\n",
    "        training_time = np.mean(np.array(cv_results['mean_fit_time'])+np.array(cv_results['mean_score_time']))\n",
    "        cv_score.append(best_result)\n",
    "        cv_training_time.append(training_time)\n",
    "        CV_clf = LogisticRegression(penalty = best_param['penalty'],\n",
    "                                    C = best_param['C'],\n",
    "                                    random_state=random_state)\n",
    "        CV_clf.fit(X_PCA_train, y_train)\n",
    "        score = CV_clf.score(X_PCA_test, y_test)\n",
    "        test_score.append(score)\n",
    "    print(cv_score, test_score, cv_training_time)\n",
    "    return cv_score, test_score, cv_training_time"
   ]
  },
  {
   "cell_type": "code",
   "execution_count": 84,
   "metadata": {},
   "outputs": [
    {
     "name": "stdout",
     "output_type": "stream",
     "text": [
      "The number of components in PCA is:2 \n",
      "The best parameters for classifier is {'C': 0.01, 'penalty': 'l2'}\n",
      "The best training score is 0.865:\n",
      "The number of components in PCA is:4 \n",
      "The best parameters for classifier is {'C': 0.01, 'penalty': 'l2'}\n",
      "The best training score is 0.865:\n",
      "The number of components in PCA is:6 \n",
      "The best parameters for classifier is {'C': 0.01, 'penalty': 'l2'}\n",
      "The best training score is 0.865:\n",
      "[0.8653395061728395, 0.8653395061728395, 0.8653395061728395] [0.8316831683168316, 0.8316831683168316, 0.8316831683168316] [0.006701164245605469, 0.0073550987243652345, 0.00805495262145996]\n"
     ]
    }
   ],
   "source": [
    "n_features = X_train.shape[1]\n",
    "n = np.arange(2, n_features+2, 2) \n",
    "\n",
    "PCA_cv_score, PCA_test_score, PCA_cv_training_time= compare_pca(n_components = n)"
   ]
  },
  {
   "cell_type": "markdown",
   "metadata": {},
   "source": [
    "**6. 2. 1. # of Components in PCA versus Model Accuracy/Training Time**"
   ]
  },
  {
   "cell_type": "code",
   "execution_count": 85,
   "metadata": {},
   "outputs": [
    {
     "data": {
      "application/vnd.plotly.v1+json": {
       "config": {
        "plotlyServerURL": "https://plot.ly"
       },
       "data": [
        {
         "line": {
          "color": "rgb(231,107,243)",
          "width": 2
         },
         "name": "CV score",
         "type": "scatter",
         "x": [
          2,
          4,
          6
         ],
         "xaxis": "x",
         "y": [
          0.8653395061728395,
          0.8653395061728395,
          0.8653395061728395
         ],
         "yaxis": "y"
        },
        {
         "line": {
          "color": "rgb(0,176,246)",
          "width": 2
         },
         "name": "Test score",
         "type": "scatter",
         "x": [
          2,
          4,
          6
         ],
         "xaxis": "x",
         "y": [
          0.8316831683168316,
          0.8316831683168316,
          0.8316831683168316
         ],
         "yaxis": "y"
        },
        {
         "line": {
          "color": "rgb(0,100,80)",
          "width": 2
         },
         "name": "Training time",
         "type": "scatter",
         "x": [
          2,
          4,
          6
         ],
         "xaxis": "x2",
         "y": [
          0.006701164245605469,
          0.0073550987243652345,
          0.00805495262145996
         ],
         "yaxis": "y2"
        }
       ],
       "layout": {
        "annotations": [
         {
          "font": {
           "size": 16
          },
          "showarrow": false,
          "text": "# of Components in PCA versus Model Accuracy",
          "x": 0.225,
          "xanchor": "center",
          "xref": "paper",
          "y": 1,
          "yanchor": "bottom",
          "yref": "paper"
         },
         {
          "font": {
           "size": 16
          },
          "showarrow": false,
          "text": "# of Components in PCA versus Training Time",
          "x": 0.775,
          "xanchor": "center",
          "xref": "paper",
          "y": 1,
          "yanchor": "bottom",
          "yref": "paper"
         }
        ],
        "template": {
         "data": {
          "bar": [
           {
            "error_x": {
             "color": "#2a3f5f"
            },
            "error_y": {
             "color": "#2a3f5f"
            },
            "marker": {
             "line": {
              "color": "#E5ECF6",
              "width": 0.5
             },
             "pattern": {
              "fillmode": "overlay",
              "size": 10,
              "solidity": 0.2
             }
            },
            "type": "bar"
           }
          ],
          "barpolar": [
           {
            "marker": {
             "line": {
              "color": "#E5ECF6",
              "width": 0.5
             },
             "pattern": {
              "fillmode": "overlay",
              "size": 10,
              "solidity": 0.2
             }
            },
            "type": "barpolar"
           }
          ],
          "carpet": [
           {
            "aaxis": {
             "endlinecolor": "#2a3f5f",
             "gridcolor": "white",
             "linecolor": "white",
             "minorgridcolor": "white",
             "startlinecolor": "#2a3f5f"
            },
            "baxis": {
             "endlinecolor": "#2a3f5f",
             "gridcolor": "white",
             "linecolor": "white",
             "minorgridcolor": "white",
             "startlinecolor": "#2a3f5f"
            },
            "type": "carpet"
           }
          ],
          "choropleth": [
           {
            "colorbar": {
             "outlinewidth": 0,
             "ticks": ""
            },
            "type": "choropleth"
           }
          ],
          "contour": [
           {
            "colorbar": {
             "outlinewidth": 0,
             "ticks": ""
            },
            "colorscale": [
             [
              0,
              "#0d0887"
             ],
             [
              0.1111111111111111,
              "#46039f"
             ],
             [
              0.2222222222222222,
              "#7201a8"
             ],
             [
              0.3333333333333333,
              "#9c179e"
             ],
             [
              0.4444444444444444,
              "#bd3786"
             ],
             [
              0.5555555555555556,
              "#d8576b"
             ],
             [
              0.6666666666666666,
              "#ed7953"
             ],
             [
              0.7777777777777778,
              "#fb9f3a"
             ],
             [
              0.8888888888888888,
              "#fdca26"
             ],
             [
              1,
              "#f0f921"
             ]
            ],
            "type": "contour"
           }
          ],
          "contourcarpet": [
           {
            "colorbar": {
             "outlinewidth": 0,
             "ticks": ""
            },
            "type": "contourcarpet"
           }
          ],
          "heatmap": [
           {
            "colorbar": {
             "outlinewidth": 0,
             "ticks": ""
            },
            "colorscale": [
             [
              0,
              "#0d0887"
             ],
             [
              0.1111111111111111,
              "#46039f"
             ],
             [
              0.2222222222222222,
              "#7201a8"
             ],
             [
              0.3333333333333333,
              "#9c179e"
             ],
             [
              0.4444444444444444,
              "#bd3786"
             ],
             [
              0.5555555555555556,
              "#d8576b"
             ],
             [
              0.6666666666666666,
              "#ed7953"
             ],
             [
              0.7777777777777778,
              "#fb9f3a"
             ],
             [
              0.8888888888888888,
              "#fdca26"
             ],
             [
              1,
              "#f0f921"
             ]
            ],
            "type": "heatmap"
           }
          ],
          "heatmapgl": [
           {
            "colorbar": {
             "outlinewidth": 0,
             "ticks": ""
            },
            "colorscale": [
             [
              0,
              "#0d0887"
             ],
             [
              0.1111111111111111,
              "#46039f"
             ],
             [
              0.2222222222222222,
              "#7201a8"
             ],
             [
              0.3333333333333333,
              "#9c179e"
             ],
             [
              0.4444444444444444,
              "#bd3786"
             ],
             [
              0.5555555555555556,
              "#d8576b"
             ],
             [
              0.6666666666666666,
              "#ed7953"
             ],
             [
              0.7777777777777778,
              "#fb9f3a"
             ],
             [
              0.8888888888888888,
              "#fdca26"
             ],
             [
              1,
              "#f0f921"
             ]
            ],
            "type": "heatmapgl"
           }
          ],
          "histogram": [
           {
            "marker": {
             "pattern": {
              "fillmode": "overlay",
              "size": 10,
              "solidity": 0.2
             }
            },
            "type": "histogram"
           }
          ],
          "histogram2d": [
           {
            "colorbar": {
             "outlinewidth": 0,
             "ticks": ""
            },
            "colorscale": [
             [
              0,
              "#0d0887"
             ],
             [
              0.1111111111111111,
              "#46039f"
             ],
             [
              0.2222222222222222,
              "#7201a8"
             ],
             [
              0.3333333333333333,
              "#9c179e"
             ],
             [
              0.4444444444444444,
              "#bd3786"
             ],
             [
              0.5555555555555556,
              "#d8576b"
             ],
             [
              0.6666666666666666,
              "#ed7953"
             ],
             [
              0.7777777777777778,
              "#fb9f3a"
             ],
             [
              0.8888888888888888,
              "#fdca26"
             ],
             [
              1,
              "#f0f921"
             ]
            ],
            "type": "histogram2d"
           }
          ],
          "histogram2dcontour": [
           {
            "colorbar": {
             "outlinewidth": 0,
             "ticks": ""
            },
            "colorscale": [
             [
              0,
              "#0d0887"
             ],
             [
              0.1111111111111111,
              "#46039f"
             ],
             [
              0.2222222222222222,
              "#7201a8"
             ],
             [
              0.3333333333333333,
              "#9c179e"
             ],
             [
              0.4444444444444444,
              "#bd3786"
             ],
             [
              0.5555555555555556,
              "#d8576b"
             ],
             [
              0.6666666666666666,
              "#ed7953"
             ],
             [
              0.7777777777777778,
              "#fb9f3a"
             ],
             [
              0.8888888888888888,
              "#fdca26"
             ],
             [
              1,
              "#f0f921"
             ]
            ],
            "type": "histogram2dcontour"
           }
          ],
          "mesh3d": [
           {
            "colorbar": {
             "outlinewidth": 0,
             "ticks": ""
            },
            "type": "mesh3d"
           }
          ],
          "parcoords": [
           {
            "line": {
             "colorbar": {
              "outlinewidth": 0,
              "ticks": ""
             }
            },
            "type": "parcoords"
           }
          ],
          "pie": [
           {
            "automargin": true,
            "type": "pie"
           }
          ],
          "scatter": [
           {
            "fillpattern": {
             "fillmode": "overlay",
             "size": 10,
             "solidity": 0.2
            },
            "type": "scatter"
           }
          ],
          "scatter3d": [
           {
            "line": {
             "colorbar": {
              "outlinewidth": 0,
              "ticks": ""
             }
            },
            "marker": {
             "colorbar": {
              "outlinewidth": 0,
              "ticks": ""
             }
            },
            "type": "scatter3d"
           }
          ],
          "scattercarpet": [
           {
            "marker": {
             "colorbar": {
              "outlinewidth": 0,
              "ticks": ""
             }
            },
            "type": "scattercarpet"
           }
          ],
          "scattergeo": [
           {
            "marker": {
             "colorbar": {
              "outlinewidth": 0,
              "ticks": ""
             }
            },
            "type": "scattergeo"
           }
          ],
          "scattergl": [
           {
            "marker": {
             "colorbar": {
              "outlinewidth": 0,
              "ticks": ""
             }
            },
            "type": "scattergl"
           }
          ],
          "scattermapbox": [
           {
            "marker": {
             "colorbar": {
              "outlinewidth": 0,
              "ticks": ""
             }
            },
            "type": "scattermapbox"
           }
          ],
          "scatterpolar": [
           {
            "marker": {
             "colorbar": {
              "outlinewidth": 0,
              "ticks": ""
             }
            },
            "type": "scatterpolar"
           }
          ],
          "scatterpolargl": [
           {
            "marker": {
             "colorbar": {
              "outlinewidth": 0,
              "ticks": ""
             }
            },
            "type": "scatterpolargl"
           }
          ],
          "scatterternary": [
           {
            "marker": {
             "colorbar": {
              "outlinewidth": 0,
              "ticks": ""
             }
            },
            "type": "scatterternary"
           }
          ],
          "surface": [
           {
            "colorbar": {
             "outlinewidth": 0,
             "ticks": ""
            },
            "colorscale": [
             [
              0,
              "#0d0887"
             ],
             [
              0.1111111111111111,
              "#46039f"
             ],
             [
              0.2222222222222222,
              "#7201a8"
             ],
             [
              0.3333333333333333,
              "#9c179e"
             ],
             [
              0.4444444444444444,
              "#bd3786"
             ],
             [
              0.5555555555555556,
              "#d8576b"
             ],
             [
              0.6666666666666666,
              "#ed7953"
             ],
             [
              0.7777777777777778,
              "#fb9f3a"
             ],
             [
              0.8888888888888888,
              "#fdca26"
             ],
             [
              1,
              "#f0f921"
             ]
            ],
            "type": "surface"
           }
          ],
          "table": [
           {
            "cells": {
             "fill": {
              "color": "#EBF0F8"
             },
             "line": {
              "color": "white"
             }
            },
            "header": {
             "fill": {
              "color": "#C8D4E3"
             },
             "line": {
              "color": "white"
             }
            },
            "type": "table"
           }
          ]
         },
         "layout": {
          "annotationdefaults": {
           "arrowcolor": "#2a3f5f",
           "arrowhead": 0,
           "arrowwidth": 1
          },
          "autotypenumbers": "strict",
          "coloraxis": {
           "colorbar": {
            "outlinewidth": 0,
            "ticks": ""
           }
          },
          "colorscale": {
           "diverging": [
            [
             0,
             "#8e0152"
            ],
            [
             0.1,
             "#c51b7d"
            ],
            [
             0.2,
             "#de77ae"
            ],
            [
             0.3,
             "#f1b6da"
            ],
            [
             0.4,
             "#fde0ef"
            ],
            [
             0.5,
             "#f7f7f7"
            ],
            [
             0.6,
             "#e6f5d0"
            ],
            [
             0.7,
             "#b8e186"
            ],
            [
             0.8,
             "#7fbc41"
            ],
            [
             0.9,
             "#4d9221"
            ],
            [
             1,
             "#276419"
            ]
           ],
           "sequential": [
            [
             0,
             "#0d0887"
            ],
            [
             0.1111111111111111,
             "#46039f"
            ],
            [
             0.2222222222222222,
             "#7201a8"
            ],
            [
             0.3333333333333333,
             "#9c179e"
            ],
            [
             0.4444444444444444,
             "#bd3786"
            ],
            [
             0.5555555555555556,
             "#d8576b"
            ],
            [
             0.6666666666666666,
             "#ed7953"
            ],
            [
             0.7777777777777778,
             "#fb9f3a"
            ],
            [
             0.8888888888888888,
             "#fdca26"
            ],
            [
             1,
             "#f0f921"
            ]
           ],
           "sequentialminus": [
            [
             0,
             "#0d0887"
            ],
            [
             0.1111111111111111,
             "#46039f"
            ],
            [
             0.2222222222222222,
             "#7201a8"
            ],
            [
             0.3333333333333333,
             "#9c179e"
            ],
            [
             0.4444444444444444,
             "#bd3786"
            ],
            [
             0.5555555555555556,
             "#d8576b"
            ],
            [
             0.6666666666666666,
             "#ed7953"
            ],
            [
             0.7777777777777778,
             "#fb9f3a"
            ],
            [
             0.8888888888888888,
             "#fdca26"
            ],
            [
             1,
             "#f0f921"
            ]
           ]
          },
          "colorway": [
           "#636efa",
           "#EF553B",
           "#00cc96",
           "#ab63fa",
           "#FFA15A",
           "#19d3f3",
           "#FF6692",
           "#B6E880",
           "#FF97FF",
           "#FECB52"
          ],
          "font": {
           "color": "#2a3f5f"
          },
          "geo": {
           "bgcolor": "white",
           "lakecolor": "white",
           "landcolor": "#E5ECF6",
           "showlakes": true,
           "showland": true,
           "subunitcolor": "white"
          },
          "hoverlabel": {
           "align": "left"
          },
          "hovermode": "closest",
          "mapbox": {
           "style": "light"
          },
          "paper_bgcolor": "white",
          "plot_bgcolor": "#E5ECF6",
          "polar": {
           "angularaxis": {
            "gridcolor": "white",
            "linecolor": "white",
            "ticks": ""
           },
           "bgcolor": "#E5ECF6",
           "radialaxis": {
            "gridcolor": "white",
            "linecolor": "white",
            "ticks": ""
           }
          },
          "scene": {
           "xaxis": {
            "backgroundcolor": "#E5ECF6",
            "gridcolor": "white",
            "gridwidth": 2,
            "linecolor": "white",
            "showbackground": true,
            "ticks": "",
            "zerolinecolor": "white"
           },
           "yaxis": {
            "backgroundcolor": "#E5ECF6",
            "gridcolor": "white",
            "gridwidth": 2,
            "linecolor": "white",
            "showbackground": true,
            "ticks": "",
            "zerolinecolor": "white"
           },
           "zaxis": {
            "backgroundcolor": "#E5ECF6",
            "gridcolor": "white",
            "gridwidth": 2,
            "linecolor": "white",
            "showbackground": true,
            "ticks": "",
            "zerolinecolor": "white"
           }
          },
          "shapedefaults": {
           "line": {
            "color": "#2a3f5f"
           }
          },
          "ternary": {
           "aaxis": {
            "gridcolor": "white",
            "linecolor": "white",
            "ticks": ""
           },
           "baxis": {
            "gridcolor": "white",
            "linecolor": "white",
            "ticks": ""
           },
           "bgcolor": "#E5ECF6",
           "caxis": {
            "gridcolor": "white",
            "linecolor": "white",
            "ticks": ""
           }
          },
          "title": {
           "x": 0.05
          },
          "xaxis": {
           "automargin": true,
           "gridcolor": "white",
           "linecolor": "white",
           "ticks": "",
           "title": {
            "standoff": 15
           },
           "zerolinecolor": "white",
           "zerolinewidth": 2
          },
          "yaxis": {
           "automargin": true,
           "gridcolor": "white",
           "linecolor": "white",
           "ticks": "",
           "title": {
            "standoff": 15
           },
           "zerolinecolor": "white",
           "zerolinewidth": 2
          }
         }
        },
        "xaxis": {
         "anchor": "y",
         "domain": [
          0,
          0.45
         ],
         "title": {
          "text": "# of components"
         }
        },
        "xaxis2": {
         "anchor": "y2",
         "domain": [
          0.55,
          1
         ],
         "title": {
          "text": "# of components"
         }
        },
        "yaxis": {
         "anchor": "x",
         "domain": [
          0,
          1
         ],
         "title": {
          "text": "Accuracy"
         }
        },
        "yaxis2": {
         "anchor": "x2",
         "domain": [
          0,
          1
         ],
         "title": {
          "text": "Training time"
         }
        }
       }
      },
      "text/html": [
       "<div>                            <div id=\"1d573ead-cfc0-40bd-b537-1c51ebea7921\" class=\"plotly-graph-div\" style=\"height:525px; width:100%;\"></div>            <script type=\"text/javascript\">                require([\"plotly\"], function(Plotly) {                    window.PLOTLYENV=window.PLOTLYENV || {};                                    if (document.getElementById(\"1d573ead-cfc0-40bd-b537-1c51ebea7921\")) {                    Plotly.newPlot(                        \"1d573ead-cfc0-40bd-b537-1c51ebea7921\",                        [{\"line\":{\"color\":\"rgb(231,107,243)\",\"width\":2},\"name\":\"CV score\",\"x\":[2,4,6],\"y\":[0.8653395061728395,0.8653395061728395,0.8653395061728395],\"type\":\"scatter\",\"xaxis\":\"x\",\"yaxis\":\"y\"},{\"line\":{\"color\":\"rgb(0,176,246)\",\"width\":2},\"name\":\"Test score\",\"x\":[2,4,6],\"y\":[0.8316831683168316,0.8316831683168316,0.8316831683168316],\"type\":\"scatter\",\"xaxis\":\"x\",\"yaxis\":\"y\"},{\"line\":{\"color\":\"rgb(0,100,80)\",\"width\":2},\"name\":\"Training time\",\"x\":[2,4,6],\"y\":[0.006701164245605469,0.0073550987243652345,0.00805495262145996],\"type\":\"scatter\",\"xaxis\":\"x2\",\"yaxis\":\"y2\"}],                        {\"template\":{\"data\":{\"histogram2dcontour\":[{\"type\":\"histogram2dcontour\",\"colorbar\":{\"outlinewidth\":0,\"ticks\":\"\"},\"colorscale\":[[0.0,\"#0d0887\"],[0.1111111111111111,\"#46039f\"],[0.2222222222222222,\"#7201a8\"],[0.3333333333333333,\"#9c179e\"],[0.4444444444444444,\"#bd3786\"],[0.5555555555555556,\"#d8576b\"],[0.6666666666666666,\"#ed7953\"],[0.7777777777777778,\"#fb9f3a\"],[0.8888888888888888,\"#fdca26\"],[1.0,\"#f0f921\"]]}],\"choropleth\":[{\"type\":\"choropleth\",\"colorbar\":{\"outlinewidth\":0,\"ticks\":\"\"}}],\"histogram2d\":[{\"type\":\"histogram2d\",\"colorbar\":{\"outlinewidth\":0,\"ticks\":\"\"},\"colorscale\":[[0.0,\"#0d0887\"],[0.1111111111111111,\"#46039f\"],[0.2222222222222222,\"#7201a8\"],[0.3333333333333333,\"#9c179e\"],[0.4444444444444444,\"#bd3786\"],[0.5555555555555556,\"#d8576b\"],[0.6666666666666666,\"#ed7953\"],[0.7777777777777778,\"#fb9f3a\"],[0.8888888888888888,\"#fdca26\"],[1.0,\"#f0f921\"]]}],\"heatmap\":[{\"type\":\"heatmap\",\"colorbar\":{\"outlinewidth\":0,\"ticks\":\"\"},\"colorscale\":[[0.0,\"#0d0887\"],[0.1111111111111111,\"#46039f\"],[0.2222222222222222,\"#7201a8\"],[0.3333333333333333,\"#9c179e\"],[0.4444444444444444,\"#bd3786\"],[0.5555555555555556,\"#d8576b\"],[0.6666666666666666,\"#ed7953\"],[0.7777777777777778,\"#fb9f3a\"],[0.8888888888888888,\"#fdca26\"],[1.0,\"#f0f921\"]]}],\"heatmapgl\":[{\"type\":\"heatmapgl\",\"colorbar\":{\"outlinewidth\":0,\"ticks\":\"\"},\"colorscale\":[[0.0,\"#0d0887\"],[0.1111111111111111,\"#46039f\"],[0.2222222222222222,\"#7201a8\"],[0.3333333333333333,\"#9c179e\"],[0.4444444444444444,\"#bd3786\"],[0.5555555555555556,\"#d8576b\"],[0.6666666666666666,\"#ed7953\"],[0.7777777777777778,\"#fb9f3a\"],[0.8888888888888888,\"#fdca26\"],[1.0,\"#f0f921\"]]}],\"contourcarpet\":[{\"type\":\"contourcarpet\",\"colorbar\":{\"outlinewidth\":0,\"ticks\":\"\"}}],\"contour\":[{\"type\":\"contour\",\"colorbar\":{\"outlinewidth\":0,\"ticks\":\"\"},\"colorscale\":[[0.0,\"#0d0887\"],[0.1111111111111111,\"#46039f\"],[0.2222222222222222,\"#7201a8\"],[0.3333333333333333,\"#9c179e\"],[0.4444444444444444,\"#bd3786\"],[0.5555555555555556,\"#d8576b\"],[0.6666666666666666,\"#ed7953\"],[0.7777777777777778,\"#fb9f3a\"],[0.8888888888888888,\"#fdca26\"],[1.0,\"#f0f921\"]]}],\"surface\":[{\"type\":\"surface\",\"colorbar\":{\"outlinewidth\":0,\"ticks\":\"\"},\"colorscale\":[[0.0,\"#0d0887\"],[0.1111111111111111,\"#46039f\"],[0.2222222222222222,\"#7201a8\"],[0.3333333333333333,\"#9c179e\"],[0.4444444444444444,\"#bd3786\"],[0.5555555555555556,\"#d8576b\"],[0.6666666666666666,\"#ed7953\"],[0.7777777777777778,\"#fb9f3a\"],[0.8888888888888888,\"#fdca26\"],[1.0,\"#f0f921\"]]}],\"mesh3d\":[{\"type\":\"mesh3d\",\"colorbar\":{\"outlinewidth\":0,\"ticks\":\"\"}}],\"scatter\":[{\"fillpattern\":{\"fillmode\":\"overlay\",\"size\":10,\"solidity\":0.2},\"type\":\"scatter\"}],\"parcoords\":[{\"type\":\"parcoords\",\"line\":{\"colorbar\":{\"outlinewidth\":0,\"ticks\":\"\"}}}],\"scatterpolargl\":[{\"type\":\"scatterpolargl\",\"marker\":{\"colorbar\":{\"outlinewidth\":0,\"ticks\":\"\"}}}],\"bar\":[{\"error_x\":{\"color\":\"#2a3f5f\"},\"error_y\":{\"color\":\"#2a3f5f\"},\"marker\":{\"line\":{\"color\":\"#E5ECF6\",\"width\":0.5},\"pattern\":{\"fillmode\":\"overlay\",\"size\":10,\"solidity\":0.2}},\"type\":\"bar\"}],\"scattergeo\":[{\"type\":\"scattergeo\",\"marker\":{\"colorbar\":{\"outlinewidth\":0,\"ticks\":\"\"}}}],\"scatterpolar\":[{\"type\":\"scatterpolar\",\"marker\":{\"colorbar\":{\"outlinewidth\":0,\"ticks\":\"\"}}}],\"histogram\":[{\"marker\":{\"pattern\":{\"fillmode\":\"overlay\",\"size\":10,\"solidity\":0.2}},\"type\":\"histogram\"}],\"scattergl\":[{\"type\":\"scattergl\",\"marker\":{\"colorbar\":{\"outlinewidth\":0,\"ticks\":\"\"}}}],\"scatter3d\":[{\"type\":\"scatter3d\",\"line\":{\"colorbar\":{\"outlinewidth\":0,\"ticks\":\"\"}},\"marker\":{\"colorbar\":{\"outlinewidth\":0,\"ticks\":\"\"}}}],\"scattermapbox\":[{\"type\":\"scattermapbox\",\"marker\":{\"colorbar\":{\"outlinewidth\":0,\"ticks\":\"\"}}}],\"scatterternary\":[{\"type\":\"scatterternary\",\"marker\":{\"colorbar\":{\"outlinewidth\":0,\"ticks\":\"\"}}}],\"scattercarpet\":[{\"type\":\"scattercarpet\",\"marker\":{\"colorbar\":{\"outlinewidth\":0,\"ticks\":\"\"}}}],\"carpet\":[{\"aaxis\":{\"endlinecolor\":\"#2a3f5f\",\"gridcolor\":\"white\",\"linecolor\":\"white\",\"minorgridcolor\":\"white\",\"startlinecolor\":\"#2a3f5f\"},\"baxis\":{\"endlinecolor\":\"#2a3f5f\",\"gridcolor\":\"white\",\"linecolor\":\"white\",\"minorgridcolor\":\"white\",\"startlinecolor\":\"#2a3f5f\"},\"type\":\"carpet\"}],\"table\":[{\"cells\":{\"fill\":{\"color\":\"#EBF0F8\"},\"line\":{\"color\":\"white\"}},\"header\":{\"fill\":{\"color\":\"#C8D4E3\"},\"line\":{\"color\":\"white\"}},\"type\":\"table\"}],\"barpolar\":[{\"marker\":{\"line\":{\"color\":\"#E5ECF6\",\"width\":0.5},\"pattern\":{\"fillmode\":\"overlay\",\"size\":10,\"solidity\":0.2}},\"type\":\"barpolar\"}],\"pie\":[{\"automargin\":true,\"type\":\"pie\"}]},\"layout\":{\"autotypenumbers\":\"strict\",\"colorway\":[\"#636efa\",\"#EF553B\",\"#00cc96\",\"#ab63fa\",\"#FFA15A\",\"#19d3f3\",\"#FF6692\",\"#B6E880\",\"#FF97FF\",\"#FECB52\"],\"font\":{\"color\":\"#2a3f5f\"},\"hovermode\":\"closest\",\"hoverlabel\":{\"align\":\"left\"},\"paper_bgcolor\":\"white\",\"plot_bgcolor\":\"#E5ECF6\",\"polar\":{\"bgcolor\":\"#E5ECF6\",\"angularaxis\":{\"gridcolor\":\"white\",\"linecolor\":\"white\",\"ticks\":\"\"},\"radialaxis\":{\"gridcolor\":\"white\",\"linecolor\":\"white\",\"ticks\":\"\"}},\"ternary\":{\"bgcolor\":\"#E5ECF6\",\"aaxis\":{\"gridcolor\":\"white\",\"linecolor\":\"white\",\"ticks\":\"\"},\"baxis\":{\"gridcolor\":\"white\",\"linecolor\":\"white\",\"ticks\":\"\"},\"caxis\":{\"gridcolor\":\"white\",\"linecolor\":\"white\",\"ticks\":\"\"}},\"coloraxis\":{\"colorbar\":{\"outlinewidth\":0,\"ticks\":\"\"}},\"colorscale\":{\"sequential\":[[0.0,\"#0d0887\"],[0.1111111111111111,\"#46039f\"],[0.2222222222222222,\"#7201a8\"],[0.3333333333333333,\"#9c179e\"],[0.4444444444444444,\"#bd3786\"],[0.5555555555555556,\"#d8576b\"],[0.6666666666666666,\"#ed7953\"],[0.7777777777777778,\"#fb9f3a\"],[0.8888888888888888,\"#fdca26\"],[1.0,\"#f0f921\"]],\"sequentialminus\":[[0.0,\"#0d0887\"],[0.1111111111111111,\"#46039f\"],[0.2222222222222222,\"#7201a8\"],[0.3333333333333333,\"#9c179e\"],[0.4444444444444444,\"#bd3786\"],[0.5555555555555556,\"#d8576b\"],[0.6666666666666666,\"#ed7953\"],[0.7777777777777778,\"#fb9f3a\"],[0.8888888888888888,\"#fdca26\"],[1.0,\"#f0f921\"]],\"diverging\":[[0,\"#8e0152\"],[0.1,\"#c51b7d\"],[0.2,\"#de77ae\"],[0.3,\"#f1b6da\"],[0.4,\"#fde0ef\"],[0.5,\"#f7f7f7\"],[0.6,\"#e6f5d0\"],[0.7,\"#b8e186\"],[0.8,\"#7fbc41\"],[0.9,\"#4d9221\"],[1,\"#276419\"]]},\"xaxis\":{\"gridcolor\":\"white\",\"linecolor\":\"white\",\"ticks\":\"\",\"title\":{\"standoff\":15},\"zerolinecolor\":\"white\",\"automargin\":true,\"zerolinewidth\":2},\"yaxis\":{\"gridcolor\":\"white\",\"linecolor\":\"white\",\"ticks\":\"\",\"title\":{\"standoff\":15},\"zerolinecolor\":\"white\",\"automargin\":true,\"zerolinewidth\":2},\"scene\":{\"xaxis\":{\"backgroundcolor\":\"#E5ECF6\",\"gridcolor\":\"white\",\"linecolor\":\"white\",\"showbackground\":true,\"ticks\":\"\",\"zerolinecolor\":\"white\",\"gridwidth\":2},\"yaxis\":{\"backgroundcolor\":\"#E5ECF6\",\"gridcolor\":\"white\",\"linecolor\":\"white\",\"showbackground\":true,\"ticks\":\"\",\"zerolinecolor\":\"white\",\"gridwidth\":2},\"zaxis\":{\"backgroundcolor\":\"#E5ECF6\",\"gridcolor\":\"white\",\"linecolor\":\"white\",\"showbackground\":true,\"ticks\":\"\",\"zerolinecolor\":\"white\",\"gridwidth\":2}},\"shapedefaults\":{\"line\":{\"color\":\"#2a3f5f\"}},\"annotationdefaults\":{\"arrowcolor\":\"#2a3f5f\",\"arrowhead\":0,\"arrowwidth\":1},\"geo\":{\"bgcolor\":\"white\",\"landcolor\":\"#E5ECF6\",\"subunitcolor\":\"white\",\"showland\":true,\"showlakes\":true,\"lakecolor\":\"white\"},\"title\":{\"x\":0.05},\"mapbox\":{\"style\":\"light\"}}},\"xaxis\":{\"anchor\":\"y\",\"domain\":[0.0,0.45],\"title\":{\"text\":\"# of components\"}},\"yaxis\":{\"anchor\":\"x\",\"domain\":[0.0,1.0],\"title\":{\"text\":\"Accuracy\"}},\"xaxis2\":{\"anchor\":\"y2\",\"domain\":[0.55,1.0],\"title\":{\"text\":\"# of components\"}},\"yaxis2\":{\"anchor\":\"x2\",\"domain\":[0.0,1.0],\"title\":{\"text\":\"Training time\"}},\"annotations\":[{\"font\":{\"size\":16},\"showarrow\":false,\"text\":\"# of Components in PCA versus Model Accuracy\",\"x\":0.225,\"xanchor\":\"center\",\"xref\":\"paper\",\"y\":1.0,\"yanchor\":\"bottom\",\"yref\":\"paper\"},{\"font\":{\"size\":16},\"showarrow\":false,\"text\":\"# of Components in PCA versus Training Time\",\"x\":0.775,\"xanchor\":\"center\",\"xref\":\"paper\",\"y\":1.0,\"yanchor\":\"bottom\",\"yref\":\"paper\"}]},                        {\"responsive\": true}                    ).then(function(){\n",
       "                            \n",
       "var gd = document.getElementById('1d573ead-cfc0-40bd-b537-1c51ebea7921');\n",
       "var x = new MutationObserver(function (mutations, observer) {{\n",
       "        var display = window.getComputedStyle(gd).display;\n",
       "        if (!display || display === 'none') {{\n",
       "            console.log([gd, 'removed!']);\n",
       "            Plotly.purge(gd);\n",
       "            observer.disconnect();\n",
       "        }}\n",
       "}});\n",
       "\n",
       "// Listen for the removal of the full notebook cells\n",
       "var notebookContainer = gd.closest('#notebook-container');\n",
       "if (notebookContainer) {{\n",
       "    x.observe(notebookContainer, {childList: true});\n",
       "}}\n",
       "\n",
       "// Listen for the clearing of the current output cell\n",
       "var outputEl = gd.closest('.output');\n",
       "if (outputEl) {{\n",
       "    x.observe(outputEl, {childList: true});\n",
       "}}\n",
       "\n",
       "                        })                };                });            </script>        </div>"
      ]
     },
     "metadata": {},
     "output_type": "display_data"
    }
   ],
   "source": [
    "PCA_curves(PCA_cv_score,PCA_test_score,PCA_cv_training_time)"
   ]
  },
  {
   "cell_type": "markdown",
   "metadata": {},
   "source": [
    "**6. 2. 2. Logistic regression with PCA (8 components)**"
   ]
  },
  {
   "cell_type": "code",
   "execution_count": 86,
   "metadata": {},
   "outputs": [
    {
     "name": "stdout",
     "output_type": "stream",
     "text": [
      "The best accuracy of logistic regression classifier is: 0.832, where the total number of components in PCA is 2\n"
     ]
    }
   ],
   "source": [
    "i =PCA_test_score.index(max(PCA_test_score))\n",
    "print('The best accuracy of logistic regression classifier is: %.3f'%  max(PCA_test_score)+', where the total number of components in PCA is {:.0f}'.format((i+1)*2))"
   ]
  },
  {
   "cell_type": "code",
   "execution_count": 87,
   "metadata": {},
   "outputs": [
    {
     "name": "stdout",
     "output_type": "stream",
     "text": [
      "The best parameters for classifier is {'C': 0.01, 'penalty': 'l2'}\n",
      "The best training score is 0.865:\n",
      "Accuracy=0.832\n",
      "Sensitivity=1.000\n",
      "Specificity=0.000\n",
      "Precision=0.832\n",
      "F-measure=0.908\n"
     ]
    },
    {
     "data": {
      "application/vnd.plotly.v1+json": {
       "config": {
        "plotlyServerURL": "https://plot.ly"
       },
       "data": [
        {
         "type": "scatter",
         "x": [
          0,
          0,
          0,
          0.058823529411764705,
          0.058823529411764705,
          0.058823529411764705,
          0.11764705882352941,
          0.11764705882352941,
          0.17647058823529413,
          0.17647058823529413,
          0.23529411764705882,
          0.23529411764705882,
          0.29411764705882354,
          0.29411764705882354,
          0.4117647058823529,
          0.4117647058823529,
          0.4117647058823529,
          0.47058823529411764,
          0.47058823529411764,
          0.47058823529411764,
          0.47058823529411764,
          0.47058823529411764,
          0.47058823529411764,
          0.6470588235294118,
          0.6470588235294118,
          0.7058823529411765,
          0.7058823529411765,
          0.7058823529411765,
          0.7058823529411765,
          0.7058823529411765,
          0.7058823529411765,
          0.8235294117647058,
          0.8235294117647058,
          0.8823529411764706,
          0.9411764705882353,
          0.9411764705882353,
          1
         ],
         "xaxis": "x",
         "y": [
          0,
          0.011904761904761904,
          0.13095238095238096,
          0.13095238095238096,
          0.14285714285714285,
          0.16666666666666666,
          0.17857142857142858,
          0.21428571428571427,
          0.25,
          0.2976190476190476,
          0.2976190476190476,
          0.3333333333333333,
          0.34523809523809523,
          0.36904761904761907,
          0.36904761904761907,
          0.42857142857142855,
          0.5,
          0.5,
          0.5357142857142857,
          0.5595238095238095,
          0.5833333333333334,
          0.6071428571428571,
          0.6428571428571429,
          0.6785714285714286,
          0.7023809523809523,
          0.7023809523809523,
          0.7380952380952381,
          0.7857142857142857,
          0.7976190476190477,
          0.8333333333333334,
          0.8809523809523809,
          0.8809523809523809,
          0.9047619047619048,
          0.9166666666666666,
          0.9166666666666666,
          1,
          1
         ],
         "yaxis": "y"
        },
        {
         "type": "scatter",
         "x": [
          1,
          1,
          0.9880952380952381,
          0.9761904761904762,
          0.9642857142857143,
          0.9523809523809523,
          0.9404761904761905,
          0.9285714285714286,
          0.9166666666666666,
          0.9166666666666666,
          0.9047619047619048,
          0.8809523809523809,
          0.8809523809523809,
          0.8690476190476191,
          0.8571428571428571,
          0.8452380952380952,
          0.8333333333333334,
          0.7976190476190477,
          0.7857142857142857,
          0.7619047619047619,
          0.7380952380952381,
          0.7261904761904762,
          0.7142857142857143,
          0.7023809523809523,
          0.7023809523809523,
          0.6904761904761905,
          0.6785714285714286,
          0.6428571428571429,
          0.6309523809523809,
          0.6190476190476191,
          0.6071428571428571,
          0.5833333333333334,
          0.5714285714285714,
          0.5595238095238095,
          0.5357142857142857,
          0.5,
          0.5,
          0.42857142857142855,
          0.36904761904761907,
          0.36904761904761907,
          0.34523809523809523,
          0.3333333333333333,
          0.2976190476190476,
          0.2976190476190476,
          0.25,
          0.21428571428571427,
          0.17857142857142858,
          0.16666666666666666,
          0.14285714285714285,
          0.13095238095238096,
          0.13095238095238096,
          0.11904761904761904,
          0.10714285714285714,
          0.09523809523809523,
          0.08333333333333333,
          0.07142857142857142,
          0.05952380952380952,
          0.047619047619047616,
          0.03571428571428571,
          0.023809523809523808,
          0.011904761904761904,
          0
         ],
         "xaxis": "x2",
         "y": [
          0.8316831683168316,
          0.84,
          0.8383838383838383,
          0.8367346938775511,
          0.8350515463917526,
          0.8333333333333334,
          0.8315789473684211,
          0.8297872340425532,
          0.8279569892473119,
          0.8369565217391305,
          0.8444444444444444,
          0.8409090909090909,
          0.8604651162790697,
          0.8588235294117647,
          0.8571428571428571,
          0.8554216867469879,
          0.8536585365853658,
          0.8481012658227848,
          0.8461538461538461,
          0.8421052631578947,
          0.8378378378378378,
          0.8356164383561644,
          0.8333333333333334,
          0.8309859154929577,
          0.8428571428571429,
          0.8405797101449275,
          0.8382352941176471,
          0.8709677419354839,
          0.8688524590163934,
          0.8666666666666667,
          0.864406779661017,
          0.8596491228070176,
          0.8571428571428571,
          0.8545454545454545,
          0.8490566037735849,
          0.84,
          0.8571428571428571,
          0.8372093023255814,
          0.8157894736842105,
          0.8611111111111112,
          0.8529411764705882,
          0.875,
          0.8620689655172413,
          0.8928571428571429,
          0.875,
          0.9,
          0.8823529411764706,
          0.9333333333333333,
          0.9230769230769231,
          0.9166666666666666,
          1,
          1,
          1,
          1,
          1,
          1,
          1,
          1,
          1,
          1,
          1,
          1
         ],
         "yaxis": "y2"
        }
       ],
       "layout": {
        "annotations": [
         {
          "font": {
           "size": 16
          },
          "showarrow": false,
          "text": "ROC Curve (AUC=0.5697)",
          "x": 0.225,
          "xanchor": "center",
          "xref": "paper",
          "y": 1,
          "yanchor": "bottom",
          "yref": "paper"
         },
         {
          "font": {
           "size": 16
          },
          "showarrow": false,
          "text": "Precision-Recall Curve (AUC=0.5697)",
          "x": 0.775,
          "xanchor": "center",
          "xref": "paper",
          "y": 1,
          "yanchor": "bottom",
          "yref": "paper"
         }
        ],
        "shapes": [
         {
          "line": {
           "dash": "dash"
          },
          "type": "line",
          "x0": 0,
          "x1": 1,
          "xref": "x",
          "y0": 0,
          "y1": 1,
          "yref": "y"
         },
         {
          "line": {
           "dash": "dash"
          },
          "type": "line",
          "x0": 0,
          "x1": 1,
          "xref": "x2",
          "y0": 0.5,
          "y1": 0.5,
          "yref": "y2"
         }
        ],
        "template": {
         "data": {
          "bar": [
           {
            "error_x": {
             "color": "#2a3f5f"
            },
            "error_y": {
             "color": "#2a3f5f"
            },
            "marker": {
             "line": {
              "color": "#E5ECF6",
              "width": 0.5
             },
             "pattern": {
              "fillmode": "overlay",
              "size": 10,
              "solidity": 0.2
             }
            },
            "type": "bar"
           }
          ],
          "barpolar": [
           {
            "marker": {
             "line": {
              "color": "#E5ECF6",
              "width": 0.5
             },
             "pattern": {
              "fillmode": "overlay",
              "size": 10,
              "solidity": 0.2
             }
            },
            "type": "barpolar"
           }
          ],
          "carpet": [
           {
            "aaxis": {
             "endlinecolor": "#2a3f5f",
             "gridcolor": "white",
             "linecolor": "white",
             "minorgridcolor": "white",
             "startlinecolor": "#2a3f5f"
            },
            "baxis": {
             "endlinecolor": "#2a3f5f",
             "gridcolor": "white",
             "linecolor": "white",
             "minorgridcolor": "white",
             "startlinecolor": "#2a3f5f"
            },
            "type": "carpet"
           }
          ],
          "choropleth": [
           {
            "colorbar": {
             "outlinewidth": 0,
             "ticks": ""
            },
            "type": "choropleth"
           }
          ],
          "contour": [
           {
            "colorbar": {
             "outlinewidth": 0,
             "ticks": ""
            },
            "colorscale": [
             [
              0,
              "#0d0887"
             ],
             [
              0.1111111111111111,
              "#46039f"
             ],
             [
              0.2222222222222222,
              "#7201a8"
             ],
             [
              0.3333333333333333,
              "#9c179e"
             ],
             [
              0.4444444444444444,
              "#bd3786"
             ],
             [
              0.5555555555555556,
              "#d8576b"
             ],
             [
              0.6666666666666666,
              "#ed7953"
             ],
             [
              0.7777777777777778,
              "#fb9f3a"
             ],
             [
              0.8888888888888888,
              "#fdca26"
             ],
             [
              1,
              "#f0f921"
             ]
            ],
            "type": "contour"
           }
          ],
          "contourcarpet": [
           {
            "colorbar": {
             "outlinewidth": 0,
             "ticks": ""
            },
            "type": "contourcarpet"
           }
          ],
          "heatmap": [
           {
            "colorbar": {
             "outlinewidth": 0,
             "ticks": ""
            },
            "colorscale": [
             [
              0,
              "#0d0887"
             ],
             [
              0.1111111111111111,
              "#46039f"
             ],
             [
              0.2222222222222222,
              "#7201a8"
             ],
             [
              0.3333333333333333,
              "#9c179e"
             ],
             [
              0.4444444444444444,
              "#bd3786"
             ],
             [
              0.5555555555555556,
              "#d8576b"
             ],
             [
              0.6666666666666666,
              "#ed7953"
             ],
             [
              0.7777777777777778,
              "#fb9f3a"
             ],
             [
              0.8888888888888888,
              "#fdca26"
             ],
             [
              1,
              "#f0f921"
             ]
            ],
            "type": "heatmap"
           }
          ],
          "heatmapgl": [
           {
            "colorbar": {
             "outlinewidth": 0,
             "ticks": ""
            },
            "colorscale": [
             [
              0,
              "#0d0887"
             ],
             [
              0.1111111111111111,
              "#46039f"
             ],
             [
              0.2222222222222222,
              "#7201a8"
             ],
             [
              0.3333333333333333,
              "#9c179e"
             ],
             [
              0.4444444444444444,
              "#bd3786"
             ],
             [
              0.5555555555555556,
              "#d8576b"
             ],
             [
              0.6666666666666666,
              "#ed7953"
             ],
             [
              0.7777777777777778,
              "#fb9f3a"
             ],
             [
              0.8888888888888888,
              "#fdca26"
             ],
             [
              1,
              "#f0f921"
             ]
            ],
            "type": "heatmapgl"
           }
          ],
          "histogram": [
           {
            "marker": {
             "pattern": {
              "fillmode": "overlay",
              "size": 10,
              "solidity": 0.2
             }
            },
            "type": "histogram"
           }
          ],
          "histogram2d": [
           {
            "colorbar": {
             "outlinewidth": 0,
             "ticks": ""
            },
            "colorscale": [
             [
              0,
              "#0d0887"
             ],
             [
              0.1111111111111111,
              "#46039f"
             ],
             [
              0.2222222222222222,
              "#7201a8"
             ],
             [
              0.3333333333333333,
              "#9c179e"
             ],
             [
              0.4444444444444444,
              "#bd3786"
             ],
             [
              0.5555555555555556,
              "#d8576b"
             ],
             [
              0.6666666666666666,
              "#ed7953"
             ],
             [
              0.7777777777777778,
              "#fb9f3a"
             ],
             [
              0.8888888888888888,
              "#fdca26"
             ],
             [
              1,
              "#f0f921"
             ]
            ],
            "type": "histogram2d"
           }
          ],
          "histogram2dcontour": [
           {
            "colorbar": {
             "outlinewidth": 0,
             "ticks": ""
            },
            "colorscale": [
             [
              0,
              "#0d0887"
             ],
             [
              0.1111111111111111,
              "#46039f"
             ],
             [
              0.2222222222222222,
              "#7201a8"
             ],
             [
              0.3333333333333333,
              "#9c179e"
             ],
             [
              0.4444444444444444,
              "#bd3786"
             ],
             [
              0.5555555555555556,
              "#d8576b"
             ],
             [
              0.6666666666666666,
              "#ed7953"
             ],
             [
              0.7777777777777778,
              "#fb9f3a"
             ],
             [
              0.8888888888888888,
              "#fdca26"
             ],
             [
              1,
              "#f0f921"
             ]
            ],
            "type": "histogram2dcontour"
           }
          ],
          "mesh3d": [
           {
            "colorbar": {
             "outlinewidth": 0,
             "ticks": ""
            },
            "type": "mesh3d"
           }
          ],
          "parcoords": [
           {
            "line": {
             "colorbar": {
              "outlinewidth": 0,
              "ticks": ""
             }
            },
            "type": "parcoords"
           }
          ],
          "pie": [
           {
            "automargin": true,
            "type": "pie"
           }
          ],
          "scatter": [
           {
            "fillpattern": {
             "fillmode": "overlay",
             "size": 10,
             "solidity": 0.2
            },
            "type": "scatter"
           }
          ],
          "scatter3d": [
           {
            "line": {
             "colorbar": {
              "outlinewidth": 0,
              "ticks": ""
             }
            },
            "marker": {
             "colorbar": {
              "outlinewidth": 0,
              "ticks": ""
             }
            },
            "type": "scatter3d"
           }
          ],
          "scattercarpet": [
           {
            "marker": {
             "colorbar": {
              "outlinewidth": 0,
              "ticks": ""
             }
            },
            "type": "scattercarpet"
           }
          ],
          "scattergeo": [
           {
            "marker": {
             "colorbar": {
              "outlinewidth": 0,
              "ticks": ""
             }
            },
            "type": "scattergeo"
           }
          ],
          "scattergl": [
           {
            "marker": {
             "colorbar": {
              "outlinewidth": 0,
              "ticks": ""
             }
            },
            "type": "scattergl"
           }
          ],
          "scattermapbox": [
           {
            "marker": {
             "colorbar": {
              "outlinewidth": 0,
              "ticks": ""
             }
            },
            "type": "scattermapbox"
           }
          ],
          "scatterpolar": [
           {
            "marker": {
             "colorbar": {
              "outlinewidth": 0,
              "ticks": ""
             }
            },
            "type": "scatterpolar"
           }
          ],
          "scatterpolargl": [
           {
            "marker": {
             "colorbar": {
              "outlinewidth": 0,
              "ticks": ""
             }
            },
            "type": "scatterpolargl"
           }
          ],
          "scatterternary": [
           {
            "marker": {
             "colorbar": {
              "outlinewidth": 0,
              "ticks": ""
             }
            },
            "type": "scatterternary"
           }
          ],
          "surface": [
           {
            "colorbar": {
             "outlinewidth": 0,
             "ticks": ""
            },
            "colorscale": [
             [
              0,
              "#0d0887"
             ],
             [
              0.1111111111111111,
              "#46039f"
             ],
             [
              0.2222222222222222,
              "#7201a8"
             ],
             [
              0.3333333333333333,
              "#9c179e"
             ],
             [
              0.4444444444444444,
              "#bd3786"
             ],
             [
              0.5555555555555556,
              "#d8576b"
             ],
             [
              0.6666666666666666,
              "#ed7953"
             ],
             [
              0.7777777777777778,
              "#fb9f3a"
             ],
             [
              0.8888888888888888,
              "#fdca26"
             ],
             [
              1,
              "#f0f921"
             ]
            ],
            "type": "surface"
           }
          ],
          "table": [
           {
            "cells": {
             "fill": {
              "color": "#EBF0F8"
             },
             "line": {
              "color": "white"
             }
            },
            "header": {
             "fill": {
              "color": "#C8D4E3"
             },
             "line": {
              "color": "white"
             }
            },
            "type": "table"
           }
          ]
         },
         "layout": {
          "annotationdefaults": {
           "arrowcolor": "#2a3f5f",
           "arrowhead": 0,
           "arrowwidth": 1
          },
          "autotypenumbers": "strict",
          "coloraxis": {
           "colorbar": {
            "outlinewidth": 0,
            "ticks": ""
           }
          },
          "colorscale": {
           "diverging": [
            [
             0,
             "#8e0152"
            ],
            [
             0.1,
             "#c51b7d"
            ],
            [
             0.2,
             "#de77ae"
            ],
            [
             0.3,
             "#f1b6da"
            ],
            [
             0.4,
             "#fde0ef"
            ],
            [
             0.5,
             "#f7f7f7"
            ],
            [
             0.6,
             "#e6f5d0"
            ],
            [
             0.7,
             "#b8e186"
            ],
            [
             0.8,
             "#7fbc41"
            ],
            [
             0.9,
             "#4d9221"
            ],
            [
             1,
             "#276419"
            ]
           ],
           "sequential": [
            [
             0,
             "#0d0887"
            ],
            [
             0.1111111111111111,
             "#46039f"
            ],
            [
             0.2222222222222222,
             "#7201a8"
            ],
            [
             0.3333333333333333,
             "#9c179e"
            ],
            [
             0.4444444444444444,
             "#bd3786"
            ],
            [
             0.5555555555555556,
             "#d8576b"
            ],
            [
             0.6666666666666666,
             "#ed7953"
            ],
            [
             0.7777777777777778,
             "#fb9f3a"
            ],
            [
             0.8888888888888888,
             "#fdca26"
            ],
            [
             1,
             "#f0f921"
            ]
           ],
           "sequentialminus": [
            [
             0,
             "#0d0887"
            ],
            [
             0.1111111111111111,
             "#46039f"
            ],
            [
             0.2222222222222222,
             "#7201a8"
            ],
            [
             0.3333333333333333,
             "#9c179e"
            ],
            [
             0.4444444444444444,
             "#bd3786"
            ],
            [
             0.5555555555555556,
             "#d8576b"
            ],
            [
             0.6666666666666666,
             "#ed7953"
            ],
            [
             0.7777777777777778,
             "#fb9f3a"
            ],
            [
             0.8888888888888888,
             "#fdca26"
            ],
            [
             1,
             "#f0f921"
            ]
           ]
          },
          "colorway": [
           "#636efa",
           "#EF553B",
           "#00cc96",
           "#ab63fa",
           "#FFA15A",
           "#19d3f3",
           "#FF6692",
           "#B6E880",
           "#FF97FF",
           "#FECB52"
          ],
          "font": {
           "color": "#2a3f5f"
          },
          "geo": {
           "bgcolor": "white",
           "lakecolor": "white",
           "landcolor": "#E5ECF6",
           "showlakes": true,
           "showland": true,
           "subunitcolor": "white"
          },
          "hoverlabel": {
           "align": "left"
          },
          "hovermode": "closest",
          "mapbox": {
           "style": "light"
          },
          "paper_bgcolor": "white",
          "plot_bgcolor": "#E5ECF6",
          "polar": {
           "angularaxis": {
            "gridcolor": "white",
            "linecolor": "white",
            "ticks": ""
           },
           "bgcolor": "#E5ECF6",
           "radialaxis": {
            "gridcolor": "white",
            "linecolor": "white",
            "ticks": ""
           }
          },
          "scene": {
           "xaxis": {
            "backgroundcolor": "#E5ECF6",
            "gridcolor": "white",
            "gridwidth": 2,
            "linecolor": "white",
            "showbackground": true,
            "ticks": "",
            "zerolinecolor": "white"
           },
           "yaxis": {
            "backgroundcolor": "#E5ECF6",
            "gridcolor": "white",
            "gridwidth": 2,
            "linecolor": "white",
            "showbackground": true,
            "ticks": "",
            "zerolinecolor": "white"
           },
           "zaxis": {
            "backgroundcolor": "#E5ECF6",
            "gridcolor": "white",
            "gridwidth": 2,
            "linecolor": "white",
            "showbackground": true,
            "ticks": "",
            "zerolinecolor": "white"
           }
          },
          "shapedefaults": {
           "line": {
            "color": "#2a3f5f"
           }
          },
          "ternary": {
           "aaxis": {
            "gridcolor": "white",
            "linecolor": "white",
            "ticks": ""
           },
           "baxis": {
            "gridcolor": "white",
            "linecolor": "white",
            "ticks": ""
           },
           "bgcolor": "#E5ECF6",
           "caxis": {
            "gridcolor": "white",
            "linecolor": "white",
            "ticks": ""
           }
          },
          "title": {
           "x": 0.05
          },
          "xaxis": {
           "automargin": true,
           "gridcolor": "white",
           "linecolor": "white",
           "ticks": "",
           "title": {
            "standoff": 15
           },
           "zerolinecolor": "white",
           "zerolinewidth": 2
          },
          "yaxis": {
           "automargin": true,
           "gridcolor": "white",
           "linecolor": "white",
           "ticks": "",
           "title": {
            "standoff": 15
           },
           "zerolinecolor": "white",
           "zerolinewidth": 2
          }
         }
        },
        "xaxis": {
         "anchor": "y",
         "domain": [
          0,
          0.45
         ],
         "title": {
          "text": "False Positive Rate / 1-Specificity"
         }
        },
        "xaxis2": {
         "anchor": "y2",
         "domain": [
          0.55,
          1
         ],
         "title": {
          "text": "Recall"
         }
        },
        "yaxis": {
         "anchor": "x",
         "domain": [
          0,
          1
         ],
         "title": {
          "text": "True Positive Rate / Recall"
         }
        },
        "yaxis2": {
         "anchor": "x2",
         "domain": [
          0,
          1
         ],
         "title": {
          "text": "Precision"
         }
        }
       }
      },
      "text/html": [
       "<div>                            <div id=\"56fcdbce-c8f0-48c6-b972-1bb9339d62e1\" class=\"plotly-graph-div\" style=\"height:525px; width:100%;\"></div>            <script type=\"text/javascript\">                require([\"plotly\"], function(Plotly) {                    window.PLOTLYENV=window.PLOTLYENV || {};                                    if (document.getElementById(\"56fcdbce-c8f0-48c6-b972-1bb9339d62e1\")) {                    Plotly.newPlot(                        \"56fcdbce-c8f0-48c6-b972-1bb9339d62e1\",                        [{\"x\":[0.0,0.0,0.0,0.058823529411764705,0.058823529411764705,0.058823529411764705,0.11764705882352941,0.11764705882352941,0.17647058823529413,0.17647058823529413,0.23529411764705882,0.23529411764705882,0.29411764705882354,0.29411764705882354,0.4117647058823529,0.4117647058823529,0.4117647058823529,0.47058823529411764,0.47058823529411764,0.47058823529411764,0.47058823529411764,0.47058823529411764,0.47058823529411764,0.6470588235294118,0.6470588235294118,0.7058823529411765,0.7058823529411765,0.7058823529411765,0.7058823529411765,0.7058823529411765,0.7058823529411765,0.8235294117647058,0.8235294117647058,0.8823529411764706,0.9411764705882353,0.9411764705882353,1.0],\"y\":[0.0,0.011904761904761904,0.13095238095238096,0.13095238095238096,0.14285714285714285,0.16666666666666666,0.17857142857142858,0.21428571428571427,0.25,0.2976190476190476,0.2976190476190476,0.3333333333333333,0.34523809523809523,0.36904761904761907,0.36904761904761907,0.42857142857142855,0.5,0.5,0.5357142857142857,0.5595238095238095,0.5833333333333334,0.6071428571428571,0.6428571428571429,0.6785714285714286,0.7023809523809523,0.7023809523809523,0.7380952380952381,0.7857142857142857,0.7976190476190477,0.8333333333333334,0.8809523809523809,0.8809523809523809,0.9047619047619048,0.9166666666666666,0.9166666666666666,1.0,1.0],\"type\":\"scatter\",\"xaxis\":\"x\",\"yaxis\":\"y\"},{\"x\":[1.0,1.0,0.9880952380952381,0.9761904761904762,0.9642857142857143,0.9523809523809523,0.9404761904761905,0.9285714285714286,0.9166666666666666,0.9166666666666666,0.9047619047619048,0.8809523809523809,0.8809523809523809,0.8690476190476191,0.8571428571428571,0.8452380952380952,0.8333333333333334,0.7976190476190477,0.7857142857142857,0.7619047619047619,0.7380952380952381,0.7261904761904762,0.7142857142857143,0.7023809523809523,0.7023809523809523,0.6904761904761905,0.6785714285714286,0.6428571428571429,0.6309523809523809,0.6190476190476191,0.6071428571428571,0.5833333333333334,0.5714285714285714,0.5595238095238095,0.5357142857142857,0.5,0.5,0.42857142857142855,0.36904761904761907,0.36904761904761907,0.34523809523809523,0.3333333333333333,0.2976190476190476,0.2976190476190476,0.25,0.21428571428571427,0.17857142857142858,0.16666666666666666,0.14285714285714285,0.13095238095238096,0.13095238095238096,0.11904761904761904,0.10714285714285714,0.09523809523809523,0.08333333333333333,0.07142857142857142,0.05952380952380952,0.047619047619047616,0.03571428571428571,0.023809523809523808,0.011904761904761904,0.0],\"y\":[0.8316831683168316,0.84,0.8383838383838383,0.8367346938775511,0.8350515463917526,0.8333333333333334,0.8315789473684211,0.8297872340425532,0.8279569892473119,0.8369565217391305,0.8444444444444444,0.8409090909090909,0.8604651162790697,0.8588235294117647,0.8571428571428571,0.8554216867469879,0.8536585365853658,0.8481012658227848,0.8461538461538461,0.8421052631578947,0.8378378378378378,0.8356164383561644,0.8333333333333334,0.8309859154929577,0.8428571428571429,0.8405797101449275,0.8382352941176471,0.8709677419354839,0.8688524590163934,0.8666666666666667,0.864406779661017,0.8596491228070176,0.8571428571428571,0.8545454545454545,0.8490566037735849,0.84,0.8571428571428571,0.8372093023255814,0.8157894736842105,0.8611111111111112,0.8529411764705882,0.875,0.8620689655172413,0.8928571428571429,0.875,0.9,0.8823529411764706,0.9333333333333333,0.9230769230769231,0.9166666666666666,1.0,1.0,1.0,1.0,1.0,1.0,1.0,1.0,1.0,1.0,1.0,1.0],\"type\":\"scatter\",\"xaxis\":\"x2\",\"yaxis\":\"y2\"}],                        {\"template\":{\"data\":{\"histogram2dcontour\":[{\"type\":\"histogram2dcontour\",\"colorbar\":{\"outlinewidth\":0,\"ticks\":\"\"},\"colorscale\":[[0.0,\"#0d0887\"],[0.1111111111111111,\"#46039f\"],[0.2222222222222222,\"#7201a8\"],[0.3333333333333333,\"#9c179e\"],[0.4444444444444444,\"#bd3786\"],[0.5555555555555556,\"#d8576b\"],[0.6666666666666666,\"#ed7953\"],[0.7777777777777778,\"#fb9f3a\"],[0.8888888888888888,\"#fdca26\"],[1.0,\"#f0f921\"]]}],\"choropleth\":[{\"type\":\"choropleth\",\"colorbar\":{\"outlinewidth\":0,\"ticks\":\"\"}}],\"histogram2d\":[{\"type\":\"histogram2d\",\"colorbar\":{\"outlinewidth\":0,\"ticks\":\"\"},\"colorscale\":[[0.0,\"#0d0887\"],[0.1111111111111111,\"#46039f\"],[0.2222222222222222,\"#7201a8\"],[0.3333333333333333,\"#9c179e\"],[0.4444444444444444,\"#bd3786\"],[0.5555555555555556,\"#d8576b\"],[0.6666666666666666,\"#ed7953\"],[0.7777777777777778,\"#fb9f3a\"],[0.8888888888888888,\"#fdca26\"],[1.0,\"#f0f921\"]]}],\"heatmap\":[{\"type\":\"heatmap\",\"colorbar\":{\"outlinewidth\":0,\"ticks\":\"\"},\"colorscale\":[[0.0,\"#0d0887\"],[0.1111111111111111,\"#46039f\"],[0.2222222222222222,\"#7201a8\"],[0.3333333333333333,\"#9c179e\"],[0.4444444444444444,\"#bd3786\"],[0.5555555555555556,\"#d8576b\"],[0.6666666666666666,\"#ed7953\"],[0.7777777777777778,\"#fb9f3a\"],[0.8888888888888888,\"#fdca26\"],[1.0,\"#f0f921\"]]}],\"heatmapgl\":[{\"type\":\"heatmapgl\",\"colorbar\":{\"outlinewidth\":0,\"ticks\":\"\"},\"colorscale\":[[0.0,\"#0d0887\"],[0.1111111111111111,\"#46039f\"],[0.2222222222222222,\"#7201a8\"],[0.3333333333333333,\"#9c179e\"],[0.4444444444444444,\"#bd3786\"],[0.5555555555555556,\"#d8576b\"],[0.6666666666666666,\"#ed7953\"],[0.7777777777777778,\"#fb9f3a\"],[0.8888888888888888,\"#fdca26\"],[1.0,\"#f0f921\"]]}],\"contourcarpet\":[{\"type\":\"contourcarpet\",\"colorbar\":{\"outlinewidth\":0,\"ticks\":\"\"}}],\"contour\":[{\"type\":\"contour\",\"colorbar\":{\"outlinewidth\":0,\"ticks\":\"\"},\"colorscale\":[[0.0,\"#0d0887\"],[0.1111111111111111,\"#46039f\"],[0.2222222222222222,\"#7201a8\"],[0.3333333333333333,\"#9c179e\"],[0.4444444444444444,\"#bd3786\"],[0.5555555555555556,\"#d8576b\"],[0.6666666666666666,\"#ed7953\"],[0.7777777777777778,\"#fb9f3a\"],[0.8888888888888888,\"#fdca26\"],[1.0,\"#f0f921\"]]}],\"surface\":[{\"type\":\"surface\",\"colorbar\":{\"outlinewidth\":0,\"ticks\":\"\"},\"colorscale\":[[0.0,\"#0d0887\"],[0.1111111111111111,\"#46039f\"],[0.2222222222222222,\"#7201a8\"],[0.3333333333333333,\"#9c179e\"],[0.4444444444444444,\"#bd3786\"],[0.5555555555555556,\"#d8576b\"],[0.6666666666666666,\"#ed7953\"],[0.7777777777777778,\"#fb9f3a\"],[0.8888888888888888,\"#fdca26\"],[1.0,\"#f0f921\"]]}],\"mesh3d\":[{\"type\":\"mesh3d\",\"colorbar\":{\"outlinewidth\":0,\"ticks\":\"\"}}],\"scatter\":[{\"fillpattern\":{\"fillmode\":\"overlay\",\"size\":10,\"solidity\":0.2},\"type\":\"scatter\"}],\"parcoords\":[{\"type\":\"parcoords\",\"line\":{\"colorbar\":{\"outlinewidth\":0,\"ticks\":\"\"}}}],\"scatterpolargl\":[{\"type\":\"scatterpolargl\",\"marker\":{\"colorbar\":{\"outlinewidth\":0,\"ticks\":\"\"}}}],\"bar\":[{\"error_x\":{\"color\":\"#2a3f5f\"},\"error_y\":{\"color\":\"#2a3f5f\"},\"marker\":{\"line\":{\"color\":\"#E5ECF6\",\"width\":0.5},\"pattern\":{\"fillmode\":\"overlay\",\"size\":10,\"solidity\":0.2}},\"type\":\"bar\"}],\"scattergeo\":[{\"type\":\"scattergeo\",\"marker\":{\"colorbar\":{\"outlinewidth\":0,\"ticks\":\"\"}}}],\"scatterpolar\":[{\"type\":\"scatterpolar\",\"marker\":{\"colorbar\":{\"outlinewidth\":0,\"ticks\":\"\"}}}],\"histogram\":[{\"marker\":{\"pattern\":{\"fillmode\":\"overlay\",\"size\":10,\"solidity\":0.2}},\"type\":\"histogram\"}],\"scattergl\":[{\"type\":\"scattergl\",\"marker\":{\"colorbar\":{\"outlinewidth\":0,\"ticks\":\"\"}}}],\"scatter3d\":[{\"type\":\"scatter3d\",\"line\":{\"colorbar\":{\"outlinewidth\":0,\"ticks\":\"\"}},\"marker\":{\"colorbar\":{\"outlinewidth\":0,\"ticks\":\"\"}}}],\"scattermapbox\":[{\"type\":\"scattermapbox\",\"marker\":{\"colorbar\":{\"outlinewidth\":0,\"ticks\":\"\"}}}],\"scatterternary\":[{\"type\":\"scatterternary\",\"marker\":{\"colorbar\":{\"outlinewidth\":0,\"ticks\":\"\"}}}],\"scattercarpet\":[{\"type\":\"scattercarpet\",\"marker\":{\"colorbar\":{\"outlinewidth\":0,\"ticks\":\"\"}}}],\"carpet\":[{\"aaxis\":{\"endlinecolor\":\"#2a3f5f\",\"gridcolor\":\"white\",\"linecolor\":\"white\",\"minorgridcolor\":\"white\",\"startlinecolor\":\"#2a3f5f\"},\"baxis\":{\"endlinecolor\":\"#2a3f5f\",\"gridcolor\":\"white\",\"linecolor\":\"white\",\"minorgridcolor\":\"white\",\"startlinecolor\":\"#2a3f5f\"},\"type\":\"carpet\"}],\"table\":[{\"cells\":{\"fill\":{\"color\":\"#EBF0F8\"},\"line\":{\"color\":\"white\"}},\"header\":{\"fill\":{\"color\":\"#C8D4E3\"},\"line\":{\"color\":\"white\"}},\"type\":\"table\"}],\"barpolar\":[{\"marker\":{\"line\":{\"color\":\"#E5ECF6\",\"width\":0.5},\"pattern\":{\"fillmode\":\"overlay\",\"size\":10,\"solidity\":0.2}},\"type\":\"barpolar\"}],\"pie\":[{\"automargin\":true,\"type\":\"pie\"}]},\"layout\":{\"autotypenumbers\":\"strict\",\"colorway\":[\"#636efa\",\"#EF553B\",\"#00cc96\",\"#ab63fa\",\"#FFA15A\",\"#19d3f3\",\"#FF6692\",\"#B6E880\",\"#FF97FF\",\"#FECB52\"],\"font\":{\"color\":\"#2a3f5f\"},\"hovermode\":\"closest\",\"hoverlabel\":{\"align\":\"left\"},\"paper_bgcolor\":\"white\",\"plot_bgcolor\":\"#E5ECF6\",\"polar\":{\"bgcolor\":\"#E5ECF6\",\"angularaxis\":{\"gridcolor\":\"white\",\"linecolor\":\"white\",\"ticks\":\"\"},\"radialaxis\":{\"gridcolor\":\"white\",\"linecolor\":\"white\",\"ticks\":\"\"}},\"ternary\":{\"bgcolor\":\"#E5ECF6\",\"aaxis\":{\"gridcolor\":\"white\",\"linecolor\":\"white\",\"ticks\":\"\"},\"baxis\":{\"gridcolor\":\"white\",\"linecolor\":\"white\",\"ticks\":\"\"},\"caxis\":{\"gridcolor\":\"white\",\"linecolor\":\"white\",\"ticks\":\"\"}},\"coloraxis\":{\"colorbar\":{\"outlinewidth\":0,\"ticks\":\"\"}},\"colorscale\":{\"sequential\":[[0.0,\"#0d0887\"],[0.1111111111111111,\"#46039f\"],[0.2222222222222222,\"#7201a8\"],[0.3333333333333333,\"#9c179e\"],[0.4444444444444444,\"#bd3786\"],[0.5555555555555556,\"#d8576b\"],[0.6666666666666666,\"#ed7953\"],[0.7777777777777778,\"#fb9f3a\"],[0.8888888888888888,\"#fdca26\"],[1.0,\"#f0f921\"]],\"sequentialminus\":[[0.0,\"#0d0887\"],[0.1111111111111111,\"#46039f\"],[0.2222222222222222,\"#7201a8\"],[0.3333333333333333,\"#9c179e\"],[0.4444444444444444,\"#bd3786\"],[0.5555555555555556,\"#d8576b\"],[0.6666666666666666,\"#ed7953\"],[0.7777777777777778,\"#fb9f3a\"],[0.8888888888888888,\"#fdca26\"],[1.0,\"#f0f921\"]],\"diverging\":[[0,\"#8e0152\"],[0.1,\"#c51b7d\"],[0.2,\"#de77ae\"],[0.3,\"#f1b6da\"],[0.4,\"#fde0ef\"],[0.5,\"#f7f7f7\"],[0.6,\"#e6f5d0\"],[0.7,\"#b8e186\"],[0.8,\"#7fbc41\"],[0.9,\"#4d9221\"],[1,\"#276419\"]]},\"xaxis\":{\"gridcolor\":\"white\",\"linecolor\":\"white\",\"ticks\":\"\",\"title\":{\"standoff\":15},\"zerolinecolor\":\"white\",\"automargin\":true,\"zerolinewidth\":2},\"yaxis\":{\"gridcolor\":\"white\",\"linecolor\":\"white\",\"ticks\":\"\",\"title\":{\"standoff\":15},\"zerolinecolor\":\"white\",\"automargin\":true,\"zerolinewidth\":2},\"scene\":{\"xaxis\":{\"backgroundcolor\":\"#E5ECF6\",\"gridcolor\":\"white\",\"linecolor\":\"white\",\"showbackground\":true,\"ticks\":\"\",\"zerolinecolor\":\"white\",\"gridwidth\":2},\"yaxis\":{\"backgroundcolor\":\"#E5ECF6\",\"gridcolor\":\"white\",\"linecolor\":\"white\",\"showbackground\":true,\"ticks\":\"\",\"zerolinecolor\":\"white\",\"gridwidth\":2},\"zaxis\":{\"backgroundcolor\":\"#E5ECF6\",\"gridcolor\":\"white\",\"linecolor\":\"white\",\"showbackground\":true,\"ticks\":\"\",\"zerolinecolor\":\"white\",\"gridwidth\":2}},\"shapedefaults\":{\"line\":{\"color\":\"#2a3f5f\"}},\"annotationdefaults\":{\"arrowcolor\":\"#2a3f5f\",\"arrowhead\":0,\"arrowwidth\":1},\"geo\":{\"bgcolor\":\"white\",\"landcolor\":\"#E5ECF6\",\"subunitcolor\":\"white\",\"showland\":true,\"showlakes\":true,\"lakecolor\":\"white\"},\"title\":{\"x\":0.05},\"mapbox\":{\"style\":\"light\"}}},\"xaxis\":{\"anchor\":\"y\",\"domain\":[0.0,0.45],\"title\":{\"text\":\"False Positive Rate / 1-Specificity\"}},\"yaxis\":{\"anchor\":\"x\",\"domain\":[0.0,1.0],\"title\":{\"text\":\"True Positive Rate / Recall\"}},\"xaxis2\":{\"anchor\":\"y2\",\"domain\":[0.55,1.0],\"title\":{\"text\":\"Recall\"}},\"yaxis2\":{\"anchor\":\"x2\",\"domain\":[0.0,1.0],\"title\":{\"text\":\"Precision\"}},\"annotations\":[{\"font\":{\"size\":16},\"showarrow\":false,\"text\":\"ROC Curve (AUC=0.5697)\",\"x\":0.225,\"xanchor\":\"center\",\"xref\":\"paper\",\"y\":1.0,\"yanchor\":\"bottom\",\"yref\":\"paper\"},{\"font\":{\"size\":16},\"showarrow\":false,\"text\":\"Precision-Recall Curve (AUC=0.5697)\",\"x\":0.775,\"xanchor\":\"center\",\"xref\":\"paper\",\"y\":1.0,\"yanchor\":\"bottom\",\"yref\":\"paper\"}],\"shapes\":[{\"line\":{\"dash\":\"dash\"},\"type\":\"line\",\"x0\":0,\"x1\":1,\"xref\":\"x\",\"y0\":0,\"y1\":1,\"yref\":\"y\"},{\"line\":{\"dash\":\"dash\"},\"type\":\"line\",\"x0\":0,\"x1\":1,\"xref\":\"x2\",\"y0\":0.5,\"y1\":0.5,\"yref\":\"y2\"}]},                        {\"responsive\": true}                    ).then(function(){\n",
       "                            \n",
       "var gd = document.getElementById('56fcdbce-c8f0-48c6-b972-1bb9339d62e1');\n",
       "var x = new MutationObserver(function (mutations, observer) {{\n",
       "        var display = window.getComputedStyle(gd).display;\n",
       "        if (!display || display === 'none') {{\n",
       "            console.log([gd, 'removed!']);\n",
       "            Plotly.purge(gd);\n",
       "            observer.disconnect();\n",
       "        }}\n",
       "}});\n",
       "\n",
       "// Listen for the removal of the full notebook cells\n",
       "var notebookContainer = gd.closest('#notebook-container');\n",
       "if (notebookContainer) {{\n",
       "    x.observe(notebookContainer, {childList: true});\n",
       "}}\n",
       "\n",
       "// Listen for the clearing of the current output cell\n",
       "var outputEl = gd.closest('.output');\n",
       "if (outputEl) {{\n",
       "    x.observe(outputEl, {childList: true});\n",
       "}}\n",
       "\n",
       "                        })                };                });            </script>        </div>"
      ]
     },
     "metadata": {},
     "output_type": "display_data"
    }
   ],
   "source": [
    "pca = PCA(n_components=(i+1)*2, svd_solver=\"full\",random_state=random_state)\n",
    "X_PCA_train = pca.fit_transform(X_train)\n",
    "X_PCA_test = pca.transform(X_test)\n",
    "# Model Selection\n",
    "cv_results, best_param, best_result = modelselection(classifier_log,parameters_log, scoring, X_PCA_train)\n",
    "\n",
    "# Classifier with the best hyperparameters\n",
    "logReg_PCA = LogisticRegression(penalty = best_param['penalty'],\n",
    "                            C = best_param['C'],\n",
    "                            random_state=random_state)\n",
    "logReg_PCA.fit(X_PCA_train, y_train)\n",
    "\n",
    "# Metrics\n",
    "logReg_PCA_metrics = metrics(X_PCA_test,logReg_PCA)\n",
    "\n",
    "# ROC Curve & Precision-Recall Curves\n",
    "y_score = logReg_PCA.predict_proba(X_PCA_test)[:, 1] # predict probabilities\n",
    "plot_roc_prc()"
   ]
  },
  {
   "cell_type": "markdown",
   "metadata": {},
   "source": [
    "**6. Model comparison**<br>\n",
    "<br>\n",
    "**6. 1. Logistic Regression**"
   ]
  },
  {
   "cell_type": "code",
   "execution_count": 88,
   "metadata": {},
   "outputs": [
    {
     "name": "stdout",
     "output_type": "stream",
     "text": [
      "The best parameters for classifier is {'C': 0.01, 'penalty': 'l2'}\n",
      "The best training score is 0.865:\n"
     ]
    }
   ],
   "source": [
    "classifier_log = LogisticRegression(random_state=random_state,solver='lbfgs', max_iter=1000)\n",
    "parameters_log = {\n",
    "            'penalty' : ['l2'],  \n",
    "            'C' : [0.01, 0.1, 1, 10, 100]\n",
    "}\n",
    "scoring='accuracy'   # scoring parameters: https://scikit-learn.org/stable/modules/model_evaluation.html#scoring-parameter\n",
    "# Find the best hyperparameters\n",
    "cv_results, best_param, best_result = modelselection(classifier_log,parameters_log, scoring, X_train)"
   ]
  },
  {
   "cell_type": "code",
   "execution_count": 89,
   "metadata": {},
   "outputs": [
    {
     "name": "stdout",
     "output_type": "stream",
     "text": [
      "Accuracy=0.832\n",
      "Sensitivity=1.000\n",
      "Specificity=0.000\n",
      "Precision=0.832\n",
      "F-measure=0.908\n"
     ]
    }
   ],
   "source": [
    "# Classifier with the best hyperparameters\n",
    "logReg_clf = LogisticRegression(penalty = best_param['penalty'],\n",
    "                            C = best_param['C'],\n",
    "                            random_state=random_state)\n",
    "logReg_clf.fit(X_train, y_train)\n",
    "\n",
    "# Metrics\n",
    "logReg_metrics = metrics(X_test,logReg_clf)"
   ]
  },
  {
   "cell_type": "markdown",
   "metadata": {},
   "source": [
    "**6. 2. Logistic regression with PCA**"
   ]
  },
  {
   "cell_type": "code",
   "execution_count": 90,
   "metadata": {},
   "outputs": [],
   "source": [
    "def compare_pca(n_components):\n",
    "    cv_score, test_score, cv_training_time = [], [], []\n",
    "    for n in n_components:\n",
    "        print(\"The number of components in PCA is:%d \"% n)\n",
    "        pca = PCA(n_components=n, svd_solver=\"full\",random_state=random_state)\n",
    "        X_PCA_train = pca.fit_transform(X_train)\n",
    "        X_PCA_test = pca.transform(X_test)\n",
    "        # Model Selection\n",
    "        cv_results, best_param, best_result = modelselection(classifier_log,parameters_log, scoring, X_PCA_train)\n",
    "        training_time = np.mean(np.array(cv_results['mean_fit_time'])+np.array(cv_results['mean_score_time']))\n",
    "        cv_score.append(best_result)\n",
    "        cv_training_time.append(training_time)\n",
    "        CV_clf = LogisticRegression(penalty = best_param['penalty'],\n",
    "                                    C = best_param['C'],\n",
    "                                    random_state=random_state)\n",
    "        CV_clf.fit(X_PCA_train, y_train)\n",
    "        score = CV_clf.score(X_PCA_test, y_test)\n",
    "        test_score.append(score)\n",
    "    print(cv_score, test_score, cv_training_time)\n",
    "    return cv_score, test_score, cv_training_time"
   ]
  },
  {
   "cell_type": "code",
   "execution_count": 91,
   "metadata": {},
   "outputs": [
    {
     "name": "stdout",
     "output_type": "stream",
     "text": [
      "The number of components in PCA is:2 \n",
      "The best parameters for classifier is {'C': 0.01, 'penalty': 'l2'}\n",
      "The best training score is 0.865:\n",
      "The number of components in PCA is:4 \n",
      "The best parameters for classifier is {'C': 0.01, 'penalty': 'l2'}\n",
      "The best training score is 0.865:\n",
      "The number of components in PCA is:6 \n",
      "The best parameters for classifier is {'C': 0.01, 'penalty': 'l2'}\n",
      "The best training score is 0.865:\n",
      "[0.8653395061728395, 0.8653395061728395, 0.8653395061728395] [0.8316831683168316, 0.8316831683168316, 0.8316831683168316] [0.006401739120483399, 0.006619777679443359, 0.008265228271484376]\n"
     ]
    }
   ],
   "source": [
    "n_features = X_train.shape[1]\n",
    "n = np.arange(2, n_features+2, 2) \n",
    "\n",
    "PCA_cv_score, PCA_test_score, PCA_cv_training_time= compare_pca(n_components = n)"
   ]
  },
  {
   "cell_type": "markdown",
   "metadata": {},
   "source": [
    "**6. 2. 1. # of components in PCA vs model's precision and training time**"
   ]
  },
  {
   "cell_type": "code",
   "execution_count": 92,
   "metadata": {},
   "outputs": [
    {
     "data": {
      "application/vnd.plotly.v1+json": {
       "config": {
        "plotlyServerURL": "https://plot.ly"
       },
       "data": [
        {
         "line": {
          "color": "rgb(231,107,243)",
          "width": 2
         },
         "name": "CV score",
         "type": "scatter",
         "x": [
          2,
          4,
          6
         ],
         "xaxis": "x",
         "y": [
          0.8653395061728395,
          0.8653395061728395,
          0.8653395061728395
         ],
         "yaxis": "y"
        },
        {
         "line": {
          "color": "rgb(0,176,246)",
          "width": 2
         },
         "name": "Test score",
         "type": "scatter",
         "x": [
          2,
          4,
          6
         ],
         "xaxis": "x",
         "y": [
          0.8316831683168316,
          0.8316831683168316,
          0.8316831683168316
         ],
         "yaxis": "y"
        },
        {
         "line": {
          "color": "rgb(0,100,80)",
          "width": 2
         },
         "name": "Training time",
         "type": "scatter",
         "x": [
          2,
          4,
          6
         ],
         "xaxis": "x2",
         "y": [
          0.006401739120483399,
          0.006619777679443359,
          0.008265228271484376
         ],
         "yaxis": "y2"
        }
       ],
       "layout": {
        "annotations": [
         {
          "font": {
           "size": 16
          },
          "showarrow": false,
          "text": "# of Components in PCA versus Model Accuracy",
          "x": 0.225,
          "xanchor": "center",
          "xref": "paper",
          "y": 1,
          "yanchor": "bottom",
          "yref": "paper"
         },
         {
          "font": {
           "size": 16
          },
          "showarrow": false,
          "text": "# of Components in PCA versus Training Time",
          "x": 0.775,
          "xanchor": "center",
          "xref": "paper",
          "y": 1,
          "yanchor": "bottom",
          "yref": "paper"
         }
        ],
        "template": {
         "data": {
          "bar": [
           {
            "error_x": {
             "color": "#2a3f5f"
            },
            "error_y": {
             "color": "#2a3f5f"
            },
            "marker": {
             "line": {
              "color": "#E5ECF6",
              "width": 0.5
             },
             "pattern": {
              "fillmode": "overlay",
              "size": 10,
              "solidity": 0.2
             }
            },
            "type": "bar"
           }
          ],
          "barpolar": [
           {
            "marker": {
             "line": {
              "color": "#E5ECF6",
              "width": 0.5
             },
             "pattern": {
              "fillmode": "overlay",
              "size": 10,
              "solidity": 0.2
             }
            },
            "type": "barpolar"
           }
          ],
          "carpet": [
           {
            "aaxis": {
             "endlinecolor": "#2a3f5f",
             "gridcolor": "white",
             "linecolor": "white",
             "minorgridcolor": "white",
             "startlinecolor": "#2a3f5f"
            },
            "baxis": {
             "endlinecolor": "#2a3f5f",
             "gridcolor": "white",
             "linecolor": "white",
             "minorgridcolor": "white",
             "startlinecolor": "#2a3f5f"
            },
            "type": "carpet"
           }
          ],
          "choropleth": [
           {
            "colorbar": {
             "outlinewidth": 0,
             "ticks": ""
            },
            "type": "choropleth"
           }
          ],
          "contour": [
           {
            "colorbar": {
             "outlinewidth": 0,
             "ticks": ""
            },
            "colorscale": [
             [
              0,
              "#0d0887"
             ],
             [
              0.1111111111111111,
              "#46039f"
             ],
             [
              0.2222222222222222,
              "#7201a8"
             ],
             [
              0.3333333333333333,
              "#9c179e"
             ],
             [
              0.4444444444444444,
              "#bd3786"
             ],
             [
              0.5555555555555556,
              "#d8576b"
             ],
             [
              0.6666666666666666,
              "#ed7953"
             ],
             [
              0.7777777777777778,
              "#fb9f3a"
             ],
             [
              0.8888888888888888,
              "#fdca26"
             ],
             [
              1,
              "#f0f921"
             ]
            ],
            "type": "contour"
           }
          ],
          "contourcarpet": [
           {
            "colorbar": {
             "outlinewidth": 0,
             "ticks": ""
            },
            "type": "contourcarpet"
           }
          ],
          "heatmap": [
           {
            "colorbar": {
             "outlinewidth": 0,
             "ticks": ""
            },
            "colorscale": [
             [
              0,
              "#0d0887"
             ],
             [
              0.1111111111111111,
              "#46039f"
             ],
             [
              0.2222222222222222,
              "#7201a8"
             ],
             [
              0.3333333333333333,
              "#9c179e"
             ],
             [
              0.4444444444444444,
              "#bd3786"
             ],
             [
              0.5555555555555556,
              "#d8576b"
             ],
             [
              0.6666666666666666,
              "#ed7953"
             ],
             [
              0.7777777777777778,
              "#fb9f3a"
             ],
             [
              0.8888888888888888,
              "#fdca26"
             ],
             [
              1,
              "#f0f921"
             ]
            ],
            "type": "heatmap"
           }
          ],
          "heatmapgl": [
           {
            "colorbar": {
             "outlinewidth": 0,
             "ticks": ""
            },
            "colorscale": [
             [
              0,
              "#0d0887"
             ],
             [
              0.1111111111111111,
              "#46039f"
             ],
             [
              0.2222222222222222,
              "#7201a8"
             ],
             [
              0.3333333333333333,
              "#9c179e"
             ],
             [
              0.4444444444444444,
              "#bd3786"
             ],
             [
              0.5555555555555556,
              "#d8576b"
             ],
             [
              0.6666666666666666,
              "#ed7953"
             ],
             [
              0.7777777777777778,
              "#fb9f3a"
             ],
             [
              0.8888888888888888,
              "#fdca26"
             ],
             [
              1,
              "#f0f921"
             ]
            ],
            "type": "heatmapgl"
           }
          ],
          "histogram": [
           {
            "marker": {
             "pattern": {
              "fillmode": "overlay",
              "size": 10,
              "solidity": 0.2
             }
            },
            "type": "histogram"
           }
          ],
          "histogram2d": [
           {
            "colorbar": {
             "outlinewidth": 0,
             "ticks": ""
            },
            "colorscale": [
             [
              0,
              "#0d0887"
             ],
             [
              0.1111111111111111,
              "#46039f"
             ],
             [
              0.2222222222222222,
              "#7201a8"
             ],
             [
              0.3333333333333333,
              "#9c179e"
             ],
             [
              0.4444444444444444,
              "#bd3786"
             ],
             [
              0.5555555555555556,
              "#d8576b"
             ],
             [
              0.6666666666666666,
              "#ed7953"
             ],
             [
              0.7777777777777778,
              "#fb9f3a"
             ],
             [
              0.8888888888888888,
              "#fdca26"
             ],
             [
              1,
              "#f0f921"
             ]
            ],
            "type": "histogram2d"
           }
          ],
          "histogram2dcontour": [
           {
            "colorbar": {
             "outlinewidth": 0,
             "ticks": ""
            },
            "colorscale": [
             [
              0,
              "#0d0887"
             ],
             [
              0.1111111111111111,
              "#46039f"
             ],
             [
              0.2222222222222222,
              "#7201a8"
             ],
             [
              0.3333333333333333,
              "#9c179e"
             ],
             [
              0.4444444444444444,
              "#bd3786"
             ],
             [
              0.5555555555555556,
              "#d8576b"
             ],
             [
              0.6666666666666666,
              "#ed7953"
             ],
             [
              0.7777777777777778,
              "#fb9f3a"
             ],
             [
              0.8888888888888888,
              "#fdca26"
             ],
             [
              1,
              "#f0f921"
             ]
            ],
            "type": "histogram2dcontour"
           }
          ],
          "mesh3d": [
           {
            "colorbar": {
             "outlinewidth": 0,
             "ticks": ""
            },
            "type": "mesh3d"
           }
          ],
          "parcoords": [
           {
            "line": {
             "colorbar": {
              "outlinewidth": 0,
              "ticks": ""
             }
            },
            "type": "parcoords"
           }
          ],
          "pie": [
           {
            "automargin": true,
            "type": "pie"
           }
          ],
          "scatter": [
           {
            "fillpattern": {
             "fillmode": "overlay",
             "size": 10,
             "solidity": 0.2
            },
            "type": "scatter"
           }
          ],
          "scatter3d": [
           {
            "line": {
             "colorbar": {
              "outlinewidth": 0,
              "ticks": ""
             }
            },
            "marker": {
             "colorbar": {
              "outlinewidth": 0,
              "ticks": ""
             }
            },
            "type": "scatter3d"
           }
          ],
          "scattercarpet": [
           {
            "marker": {
             "colorbar": {
              "outlinewidth": 0,
              "ticks": ""
             }
            },
            "type": "scattercarpet"
           }
          ],
          "scattergeo": [
           {
            "marker": {
             "colorbar": {
              "outlinewidth": 0,
              "ticks": ""
             }
            },
            "type": "scattergeo"
           }
          ],
          "scattergl": [
           {
            "marker": {
             "colorbar": {
              "outlinewidth": 0,
              "ticks": ""
             }
            },
            "type": "scattergl"
           }
          ],
          "scattermapbox": [
           {
            "marker": {
             "colorbar": {
              "outlinewidth": 0,
              "ticks": ""
             }
            },
            "type": "scattermapbox"
           }
          ],
          "scatterpolar": [
           {
            "marker": {
             "colorbar": {
              "outlinewidth": 0,
              "ticks": ""
             }
            },
            "type": "scatterpolar"
           }
          ],
          "scatterpolargl": [
           {
            "marker": {
             "colorbar": {
              "outlinewidth": 0,
              "ticks": ""
             }
            },
            "type": "scatterpolargl"
           }
          ],
          "scatterternary": [
           {
            "marker": {
             "colorbar": {
              "outlinewidth": 0,
              "ticks": ""
             }
            },
            "type": "scatterternary"
           }
          ],
          "surface": [
           {
            "colorbar": {
             "outlinewidth": 0,
             "ticks": ""
            },
            "colorscale": [
             [
              0,
              "#0d0887"
             ],
             [
              0.1111111111111111,
              "#46039f"
             ],
             [
              0.2222222222222222,
              "#7201a8"
             ],
             [
              0.3333333333333333,
              "#9c179e"
             ],
             [
              0.4444444444444444,
              "#bd3786"
             ],
             [
              0.5555555555555556,
              "#d8576b"
             ],
             [
              0.6666666666666666,
              "#ed7953"
             ],
             [
              0.7777777777777778,
              "#fb9f3a"
             ],
             [
              0.8888888888888888,
              "#fdca26"
             ],
             [
              1,
              "#f0f921"
             ]
            ],
            "type": "surface"
           }
          ],
          "table": [
           {
            "cells": {
             "fill": {
              "color": "#EBF0F8"
             },
             "line": {
              "color": "white"
             }
            },
            "header": {
             "fill": {
              "color": "#C8D4E3"
             },
             "line": {
              "color": "white"
             }
            },
            "type": "table"
           }
          ]
         },
         "layout": {
          "annotationdefaults": {
           "arrowcolor": "#2a3f5f",
           "arrowhead": 0,
           "arrowwidth": 1
          },
          "autotypenumbers": "strict",
          "coloraxis": {
           "colorbar": {
            "outlinewidth": 0,
            "ticks": ""
           }
          },
          "colorscale": {
           "diverging": [
            [
             0,
             "#8e0152"
            ],
            [
             0.1,
             "#c51b7d"
            ],
            [
             0.2,
             "#de77ae"
            ],
            [
             0.3,
             "#f1b6da"
            ],
            [
             0.4,
             "#fde0ef"
            ],
            [
             0.5,
             "#f7f7f7"
            ],
            [
             0.6,
             "#e6f5d0"
            ],
            [
             0.7,
             "#b8e186"
            ],
            [
             0.8,
             "#7fbc41"
            ],
            [
             0.9,
             "#4d9221"
            ],
            [
             1,
             "#276419"
            ]
           ],
           "sequential": [
            [
             0,
             "#0d0887"
            ],
            [
             0.1111111111111111,
             "#46039f"
            ],
            [
             0.2222222222222222,
             "#7201a8"
            ],
            [
             0.3333333333333333,
             "#9c179e"
            ],
            [
             0.4444444444444444,
             "#bd3786"
            ],
            [
             0.5555555555555556,
             "#d8576b"
            ],
            [
             0.6666666666666666,
             "#ed7953"
            ],
            [
             0.7777777777777778,
             "#fb9f3a"
            ],
            [
             0.8888888888888888,
             "#fdca26"
            ],
            [
             1,
             "#f0f921"
            ]
           ],
           "sequentialminus": [
            [
             0,
             "#0d0887"
            ],
            [
             0.1111111111111111,
             "#46039f"
            ],
            [
             0.2222222222222222,
             "#7201a8"
            ],
            [
             0.3333333333333333,
             "#9c179e"
            ],
            [
             0.4444444444444444,
             "#bd3786"
            ],
            [
             0.5555555555555556,
             "#d8576b"
            ],
            [
             0.6666666666666666,
             "#ed7953"
            ],
            [
             0.7777777777777778,
             "#fb9f3a"
            ],
            [
             0.8888888888888888,
             "#fdca26"
            ],
            [
             1,
             "#f0f921"
            ]
           ]
          },
          "colorway": [
           "#636efa",
           "#EF553B",
           "#00cc96",
           "#ab63fa",
           "#FFA15A",
           "#19d3f3",
           "#FF6692",
           "#B6E880",
           "#FF97FF",
           "#FECB52"
          ],
          "font": {
           "color": "#2a3f5f"
          },
          "geo": {
           "bgcolor": "white",
           "lakecolor": "white",
           "landcolor": "#E5ECF6",
           "showlakes": true,
           "showland": true,
           "subunitcolor": "white"
          },
          "hoverlabel": {
           "align": "left"
          },
          "hovermode": "closest",
          "mapbox": {
           "style": "light"
          },
          "paper_bgcolor": "white",
          "plot_bgcolor": "#E5ECF6",
          "polar": {
           "angularaxis": {
            "gridcolor": "white",
            "linecolor": "white",
            "ticks": ""
           },
           "bgcolor": "#E5ECF6",
           "radialaxis": {
            "gridcolor": "white",
            "linecolor": "white",
            "ticks": ""
           }
          },
          "scene": {
           "xaxis": {
            "backgroundcolor": "#E5ECF6",
            "gridcolor": "white",
            "gridwidth": 2,
            "linecolor": "white",
            "showbackground": true,
            "ticks": "",
            "zerolinecolor": "white"
           },
           "yaxis": {
            "backgroundcolor": "#E5ECF6",
            "gridcolor": "white",
            "gridwidth": 2,
            "linecolor": "white",
            "showbackground": true,
            "ticks": "",
            "zerolinecolor": "white"
           },
           "zaxis": {
            "backgroundcolor": "#E5ECF6",
            "gridcolor": "white",
            "gridwidth": 2,
            "linecolor": "white",
            "showbackground": true,
            "ticks": "",
            "zerolinecolor": "white"
           }
          },
          "shapedefaults": {
           "line": {
            "color": "#2a3f5f"
           }
          },
          "ternary": {
           "aaxis": {
            "gridcolor": "white",
            "linecolor": "white",
            "ticks": ""
           },
           "baxis": {
            "gridcolor": "white",
            "linecolor": "white",
            "ticks": ""
           },
           "bgcolor": "#E5ECF6",
           "caxis": {
            "gridcolor": "white",
            "linecolor": "white",
            "ticks": ""
           }
          },
          "title": {
           "x": 0.05
          },
          "xaxis": {
           "automargin": true,
           "gridcolor": "white",
           "linecolor": "white",
           "ticks": "",
           "title": {
            "standoff": 15
           },
           "zerolinecolor": "white",
           "zerolinewidth": 2
          },
          "yaxis": {
           "automargin": true,
           "gridcolor": "white",
           "linecolor": "white",
           "ticks": "",
           "title": {
            "standoff": 15
           },
           "zerolinecolor": "white",
           "zerolinewidth": 2
          }
         }
        },
        "xaxis": {
         "anchor": "y",
         "domain": [
          0,
          0.45
         ],
         "title": {
          "text": "# of components"
         }
        },
        "xaxis2": {
         "anchor": "y2",
         "domain": [
          0.55,
          1
         ],
         "title": {
          "text": "# of components"
         }
        },
        "yaxis": {
         "anchor": "x",
         "domain": [
          0,
          1
         ],
         "title": {
          "text": "Accuracy"
         }
        },
        "yaxis2": {
         "anchor": "x2",
         "domain": [
          0,
          1
         ],
         "title": {
          "text": "Training time"
         }
        }
       }
      },
      "text/html": [
       "<div>                            <div id=\"072d7d1c-63e6-4bb4-bb49-2a6fbd0994cf\" class=\"plotly-graph-div\" style=\"height:525px; width:100%;\"></div>            <script type=\"text/javascript\">                require([\"plotly\"], function(Plotly) {                    window.PLOTLYENV=window.PLOTLYENV || {};                                    if (document.getElementById(\"072d7d1c-63e6-4bb4-bb49-2a6fbd0994cf\")) {                    Plotly.newPlot(                        \"072d7d1c-63e6-4bb4-bb49-2a6fbd0994cf\",                        [{\"line\":{\"color\":\"rgb(231,107,243)\",\"width\":2},\"name\":\"CV score\",\"x\":[2,4,6],\"y\":[0.8653395061728395,0.8653395061728395,0.8653395061728395],\"type\":\"scatter\",\"xaxis\":\"x\",\"yaxis\":\"y\"},{\"line\":{\"color\":\"rgb(0,176,246)\",\"width\":2},\"name\":\"Test score\",\"x\":[2,4,6],\"y\":[0.8316831683168316,0.8316831683168316,0.8316831683168316],\"type\":\"scatter\",\"xaxis\":\"x\",\"yaxis\":\"y\"},{\"line\":{\"color\":\"rgb(0,100,80)\",\"width\":2},\"name\":\"Training time\",\"x\":[2,4,6],\"y\":[0.006401739120483399,0.006619777679443359,0.008265228271484376],\"type\":\"scatter\",\"xaxis\":\"x2\",\"yaxis\":\"y2\"}],                        {\"template\":{\"data\":{\"histogram2dcontour\":[{\"type\":\"histogram2dcontour\",\"colorbar\":{\"outlinewidth\":0,\"ticks\":\"\"},\"colorscale\":[[0.0,\"#0d0887\"],[0.1111111111111111,\"#46039f\"],[0.2222222222222222,\"#7201a8\"],[0.3333333333333333,\"#9c179e\"],[0.4444444444444444,\"#bd3786\"],[0.5555555555555556,\"#d8576b\"],[0.6666666666666666,\"#ed7953\"],[0.7777777777777778,\"#fb9f3a\"],[0.8888888888888888,\"#fdca26\"],[1.0,\"#f0f921\"]]}],\"choropleth\":[{\"type\":\"choropleth\",\"colorbar\":{\"outlinewidth\":0,\"ticks\":\"\"}}],\"histogram2d\":[{\"type\":\"histogram2d\",\"colorbar\":{\"outlinewidth\":0,\"ticks\":\"\"},\"colorscale\":[[0.0,\"#0d0887\"],[0.1111111111111111,\"#46039f\"],[0.2222222222222222,\"#7201a8\"],[0.3333333333333333,\"#9c179e\"],[0.4444444444444444,\"#bd3786\"],[0.5555555555555556,\"#d8576b\"],[0.6666666666666666,\"#ed7953\"],[0.7777777777777778,\"#fb9f3a\"],[0.8888888888888888,\"#fdca26\"],[1.0,\"#f0f921\"]]}],\"heatmap\":[{\"type\":\"heatmap\",\"colorbar\":{\"outlinewidth\":0,\"ticks\":\"\"},\"colorscale\":[[0.0,\"#0d0887\"],[0.1111111111111111,\"#46039f\"],[0.2222222222222222,\"#7201a8\"],[0.3333333333333333,\"#9c179e\"],[0.4444444444444444,\"#bd3786\"],[0.5555555555555556,\"#d8576b\"],[0.6666666666666666,\"#ed7953\"],[0.7777777777777778,\"#fb9f3a\"],[0.8888888888888888,\"#fdca26\"],[1.0,\"#f0f921\"]]}],\"heatmapgl\":[{\"type\":\"heatmapgl\",\"colorbar\":{\"outlinewidth\":0,\"ticks\":\"\"},\"colorscale\":[[0.0,\"#0d0887\"],[0.1111111111111111,\"#46039f\"],[0.2222222222222222,\"#7201a8\"],[0.3333333333333333,\"#9c179e\"],[0.4444444444444444,\"#bd3786\"],[0.5555555555555556,\"#d8576b\"],[0.6666666666666666,\"#ed7953\"],[0.7777777777777778,\"#fb9f3a\"],[0.8888888888888888,\"#fdca26\"],[1.0,\"#f0f921\"]]}],\"contourcarpet\":[{\"type\":\"contourcarpet\",\"colorbar\":{\"outlinewidth\":0,\"ticks\":\"\"}}],\"contour\":[{\"type\":\"contour\",\"colorbar\":{\"outlinewidth\":0,\"ticks\":\"\"},\"colorscale\":[[0.0,\"#0d0887\"],[0.1111111111111111,\"#46039f\"],[0.2222222222222222,\"#7201a8\"],[0.3333333333333333,\"#9c179e\"],[0.4444444444444444,\"#bd3786\"],[0.5555555555555556,\"#d8576b\"],[0.6666666666666666,\"#ed7953\"],[0.7777777777777778,\"#fb9f3a\"],[0.8888888888888888,\"#fdca26\"],[1.0,\"#f0f921\"]]}],\"surface\":[{\"type\":\"surface\",\"colorbar\":{\"outlinewidth\":0,\"ticks\":\"\"},\"colorscale\":[[0.0,\"#0d0887\"],[0.1111111111111111,\"#46039f\"],[0.2222222222222222,\"#7201a8\"],[0.3333333333333333,\"#9c179e\"],[0.4444444444444444,\"#bd3786\"],[0.5555555555555556,\"#d8576b\"],[0.6666666666666666,\"#ed7953\"],[0.7777777777777778,\"#fb9f3a\"],[0.8888888888888888,\"#fdca26\"],[1.0,\"#f0f921\"]]}],\"mesh3d\":[{\"type\":\"mesh3d\",\"colorbar\":{\"outlinewidth\":0,\"ticks\":\"\"}}],\"scatter\":[{\"fillpattern\":{\"fillmode\":\"overlay\",\"size\":10,\"solidity\":0.2},\"type\":\"scatter\"}],\"parcoords\":[{\"type\":\"parcoords\",\"line\":{\"colorbar\":{\"outlinewidth\":0,\"ticks\":\"\"}}}],\"scatterpolargl\":[{\"type\":\"scatterpolargl\",\"marker\":{\"colorbar\":{\"outlinewidth\":0,\"ticks\":\"\"}}}],\"bar\":[{\"error_x\":{\"color\":\"#2a3f5f\"},\"error_y\":{\"color\":\"#2a3f5f\"},\"marker\":{\"line\":{\"color\":\"#E5ECF6\",\"width\":0.5},\"pattern\":{\"fillmode\":\"overlay\",\"size\":10,\"solidity\":0.2}},\"type\":\"bar\"}],\"scattergeo\":[{\"type\":\"scattergeo\",\"marker\":{\"colorbar\":{\"outlinewidth\":0,\"ticks\":\"\"}}}],\"scatterpolar\":[{\"type\":\"scatterpolar\",\"marker\":{\"colorbar\":{\"outlinewidth\":0,\"ticks\":\"\"}}}],\"histogram\":[{\"marker\":{\"pattern\":{\"fillmode\":\"overlay\",\"size\":10,\"solidity\":0.2}},\"type\":\"histogram\"}],\"scattergl\":[{\"type\":\"scattergl\",\"marker\":{\"colorbar\":{\"outlinewidth\":0,\"ticks\":\"\"}}}],\"scatter3d\":[{\"type\":\"scatter3d\",\"line\":{\"colorbar\":{\"outlinewidth\":0,\"ticks\":\"\"}},\"marker\":{\"colorbar\":{\"outlinewidth\":0,\"ticks\":\"\"}}}],\"scattermapbox\":[{\"type\":\"scattermapbox\",\"marker\":{\"colorbar\":{\"outlinewidth\":0,\"ticks\":\"\"}}}],\"scatterternary\":[{\"type\":\"scatterternary\",\"marker\":{\"colorbar\":{\"outlinewidth\":0,\"ticks\":\"\"}}}],\"scattercarpet\":[{\"type\":\"scattercarpet\",\"marker\":{\"colorbar\":{\"outlinewidth\":0,\"ticks\":\"\"}}}],\"carpet\":[{\"aaxis\":{\"endlinecolor\":\"#2a3f5f\",\"gridcolor\":\"white\",\"linecolor\":\"white\",\"minorgridcolor\":\"white\",\"startlinecolor\":\"#2a3f5f\"},\"baxis\":{\"endlinecolor\":\"#2a3f5f\",\"gridcolor\":\"white\",\"linecolor\":\"white\",\"minorgridcolor\":\"white\",\"startlinecolor\":\"#2a3f5f\"},\"type\":\"carpet\"}],\"table\":[{\"cells\":{\"fill\":{\"color\":\"#EBF0F8\"},\"line\":{\"color\":\"white\"}},\"header\":{\"fill\":{\"color\":\"#C8D4E3\"},\"line\":{\"color\":\"white\"}},\"type\":\"table\"}],\"barpolar\":[{\"marker\":{\"line\":{\"color\":\"#E5ECF6\",\"width\":0.5},\"pattern\":{\"fillmode\":\"overlay\",\"size\":10,\"solidity\":0.2}},\"type\":\"barpolar\"}],\"pie\":[{\"automargin\":true,\"type\":\"pie\"}]},\"layout\":{\"autotypenumbers\":\"strict\",\"colorway\":[\"#636efa\",\"#EF553B\",\"#00cc96\",\"#ab63fa\",\"#FFA15A\",\"#19d3f3\",\"#FF6692\",\"#B6E880\",\"#FF97FF\",\"#FECB52\"],\"font\":{\"color\":\"#2a3f5f\"},\"hovermode\":\"closest\",\"hoverlabel\":{\"align\":\"left\"},\"paper_bgcolor\":\"white\",\"plot_bgcolor\":\"#E5ECF6\",\"polar\":{\"bgcolor\":\"#E5ECF6\",\"angularaxis\":{\"gridcolor\":\"white\",\"linecolor\":\"white\",\"ticks\":\"\"},\"radialaxis\":{\"gridcolor\":\"white\",\"linecolor\":\"white\",\"ticks\":\"\"}},\"ternary\":{\"bgcolor\":\"#E5ECF6\",\"aaxis\":{\"gridcolor\":\"white\",\"linecolor\":\"white\",\"ticks\":\"\"},\"baxis\":{\"gridcolor\":\"white\",\"linecolor\":\"white\",\"ticks\":\"\"},\"caxis\":{\"gridcolor\":\"white\",\"linecolor\":\"white\",\"ticks\":\"\"}},\"coloraxis\":{\"colorbar\":{\"outlinewidth\":0,\"ticks\":\"\"}},\"colorscale\":{\"sequential\":[[0.0,\"#0d0887\"],[0.1111111111111111,\"#46039f\"],[0.2222222222222222,\"#7201a8\"],[0.3333333333333333,\"#9c179e\"],[0.4444444444444444,\"#bd3786\"],[0.5555555555555556,\"#d8576b\"],[0.6666666666666666,\"#ed7953\"],[0.7777777777777778,\"#fb9f3a\"],[0.8888888888888888,\"#fdca26\"],[1.0,\"#f0f921\"]],\"sequentialminus\":[[0.0,\"#0d0887\"],[0.1111111111111111,\"#46039f\"],[0.2222222222222222,\"#7201a8\"],[0.3333333333333333,\"#9c179e\"],[0.4444444444444444,\"#bd3786\"],[0.5555555555555556,\"#d8576b\"],[0.6666666666666666,\"#ed7953\"],[0.7777777777777778,\"#fb9f3a\"],[0.8888888888888888,\"#fdca26\"],[1.0,\"#f0f921\"]],\"diverging\":[[0,\"#8e0152\"],[0.1,\"#c51b7d\"],[0.2,\"#de77ae\"],[0.3,\"#f1b6da\"],[0.4,\"#fde0ef\"],[0.5,\"#f7f7f7\"],[0.6,\"#e6f5d0\"],[0.7,\"#b8e186\"],[0.8,\"#7fbc41\"],[0.9,\"#4d9221\"],[1,\"#276419\"]]},\"xaxis\":{\"gridcolor\":\"white\",\"linecolor\":\"white\",\"ticks\":\"\",\"title\":{\"standoff\":15},\"zerolinecolor\":\"white\",\"automargin\":true,\"zerolinewidth\":2},\"yaxis\":{\"gridcolor\":\"white\",\"linecolor\":\"white\",\"ticks\":\"\",\"title\":{\"standoff\":15},\"zerolinecolor\":\"white\",\"automargin\":true,\"zerolinewidth\":2},\"scene\":{\"xaxis\":{\"backgroundcolor\":\"#E5ECF6\",\"gridcolor\":\"white\",\"linecolor\":\"white\",\"showbackground\":true,\"ticks\":\"\",\"zerolinecolor\":\"white\",\"gridwidth\":2},\"yaxis\":{\"backgroundcolor\":\"#E5ECF6\",\"gridcolor\":\"white\",\"linecolor\":\"white\",\"showbackground\":true,\"ticks\":\"\",\"zerolinecolor\":\"white\",\"gridwidth\":2},\"zaxis\":{\"backgroundcolor\":\"#E5ECF6\",\"gridcolor\":\"white\",\"linecolor\":\"white\",\"showbackground\":true,\"ticks\":\"\",\"zerolinecolor\":\"white\",\"gridwidth\":2}},\"shapedefaults\":{\"line\":{\"color\":\"#2a3f5f\"}},\"annotationdefaults\":{\"arrowcolor\":\"#2a3f5f\",\"arrowhead\":0,\"arrowwidth\":1},\"geo\":{\"bgcolor\":\"white\",\"landcolor\":\"#E5ECF6\",\"subunitcolor\":\"white\",\"showland\":true,\"showlakes\":true,\"lakecolor\":\"white\"},\"title\":{\"x\":0.05},\"mapbox\":{\"style\":\"light\"}}},\"xaxis\":{\"anchor\":\"y\",\"domain\":[0.0,0.45],\"title\":{\"text\":\"# of components\"}},\"yaxis\":{\"anchor\":\"x\",\"domain\":[0.0,1.0],\"title\":{\"text\":\"Accuracy\"}},\"xaxis2\":{\"anchor\":\"y2\",\"domain\":[0.55,1.0],\"title\":{\"text\":\"# of components\"}},\"yaxis2\":{\"anchor\":\"x2\",\"domain\":[0.0,1.0],\"title\":{\"text\":\"Training time\"}},\"annotations\":[{\"font\":{\"size\":16},\"showarrow\":false,\"text\":\"# of Components in PCA versus Model Accuracy\",\"x\":0.225,\"xanchor\":\"center\",\"xref\":\"paper\",\"y\":1.0,\"yanchor\":\"bottom\",\"yref\":\"paper\"},{\"font\":{\"size\":16},\"showarrow\":false,\"text\":\"# of Components in PCA versus Training Time\",\"x\":0.775,\"xanchor\":\"center\",\"xref\":\"paper\",\"y\":1.0,\"yanchor\":\"bottom\",\"yref\":\"paper\"}]},                        {\"responsive\": true}                    ).then(function(){\n",
       "                            \n",
       "var gd = document.getElementById('072d7d1c-63e6-4bb4-bb49-2a6fbd0994cf');\n",
       "var x = new MutationObserver(function (mutations, observer) {{\n",
       "        var display = window.getComputedStyle(gd).display;\n",
       "        if (!display || display === 'none') {{\n",
       "            console.log([gd, 'removed!']);\n",
       "            Plotly.purge(gd);\n",
       "            observer.disconnect();\n",
       "        }}\n",
       "}});\n",
       "\n",
       "// Listen for the removal of the full notebook cells\n",
       "var notebookContainer = gd.closest('#notebook-container');\n",
       "if (notebookContainer) {{\n",
       "    x.observe(notebookContainer, {childList: true});\n",
       "}}\n",
       "\n",
       "// Listen for the clearing of the current output cell\n",
       "var outputEl = gd.closest('.output');\n",
       "if (outputEl) {{\n",
       "    x.observe(outputEl, {childList: true});\n",
       "}}\n",
       "\n",
       "                        })                };                });            </script>        </div>"
      ]
     },
     "metadata": {},
     "output_type": "display_data"
    }
   ],
   "source": [
    "PCA_curves(PCA_cv_score,PCA_test_score,PCA_cv_training_time)"
   ]
  },
  {
   "cell_type": "markdown",
   "metadata": {},
   "source": [
    "**6. 2. Logistic regression with PCA (8 componentes)**"
   ]
  },
  {
   "cell_type": "code",
   "execution_count": 93,
   "metadata": {},
   "outputs": [
    {
     "name": "stdout",
     "output_type": "stream",
     "text": [
      "The best accuracy of logistic regression classifier is: 0.832, where the total number of components in PCA is 2\n"
     ]
    }
   ],
   "source": [
    "i =PCA_test_score.index(max(PCA_test_score))\n",
    "print('The best accuracy of logistic regression classifier is: %.3f'%  max(PCA_test_score)+', where the total number of components in PCA is {:.0f}'.format((i+1)*2))"
   ]
  },
  {
   "cell_type": "code",
   "execution_count": 94,
   "metadata": {},
   "outputs": [
    {
     "name": "stdout",
     "output_type": "stream",
     "text": [
      "The best parameters for classifier is {'C': 0.01, 'penalty': 'l2'}\n",
      "The best training score is 0.865:\n",
      "Accuracy=0.832\n",
      "Sensitivity=1.000\n",
      "Specificity=0.000\n",
      "Precision=0.832\n",
      "F-measure=0.908\n"
     ]
    },
    {
     "data": {
      "application/vnd.plotly.v1+json": {
       "config": {
        "plotlyServerURL": "https://plot.ly"
       },
       "data": [
        {
         "type": "scatter",
         "x": [
          0,
          0,
          0,
          0.058823529411764705,
          0.058823529411764705,
          0.058823529411764705,
          0.11764705882352941,
          0.11764705882352941,
          0.17647058823529413,
          0.17647058823529413,
          0.23529411764705882,
          0.23529411764705882,
          0.29411764705882354,
          0.29411764705882354,
          0.4117647058823529,
          0.4117647058823529,
          0.4117647058823529,
          0.47058823529411764,
          0.47058823529411764,
          0.47058823529411764,
          0.47058823529411764,
          0.47058823529411764,
          0.47058823529411764,
          0.6470588235294118,
          0.6470588235294118,
          0.7058823529411765,
          0.7058823529411765,
          0.7058823529411765,
          0.7058823529411765,
          0.7058823529411765,
          0.7058823529411765,
          0.8235294117647058,
          0.8235294117647058,
          0.8823529411764706,
          0.9411764705882353,
          0.9411764705882353,
          1
         ],
         "xaxis": "x",
         "y": [
          0,
          0.011904761904761904,
          0.13095238095238096,
          0.13095238095238096,
          0.14285714285714285,
          0.16666666666666666,
          0.17857142857142858,
          0.21428571428571427,
          0.25,
          0.2976190476190476,
          0.2976190476190476,
          0.3333333333333333,
          0.34523809523809523,
          0.36904761904761907,
          0.36904761904761907,
          0.42857142857142855,
          0.5,
          0.5,
          0.5357142857142857,
          0.5595238095238095,
          0.5833333333333334,
          0.6071428571428571,
          0.6428571428571429,
          0.6785714285714286,
          0.7023809523809523,
          0.7023809523809523,
          0.7380952380952381,
          0.7857142857142857,
          0.7976190476190477,
          0.8333333333333334,
          0.8809523809523809,
          0.8809523809523809,
          0.9047619047619048,
          0.9166666666666666,
          0.9166666666666666,
          1,
          1
         ],
         "yaxis": "y"
        },
        {
         "type": "scatter",
         "x": [
          1,
          1,
          0.9880952380952381,
          0.9761904761904762,
          0.9642857142857143,
          0.9523809523809523,
          0.9404761904761905,
          0.9285714285714286,
          0.9166666666666666,
          0.9166666666666666,
          0.9047619047619048,
          0.8809523809523809,
          0.8809523809523809,
          0.8690476190476191,
          0.8571428571428571,
          0.8452380952380952,
          0.8333333333333334,
          0.7976190476190477,
          0.7857142857142857,
          0.7619047619047619,
          0.7380952380952381,
          0.7261904761904762,
          0.7142857142857143,
          0.7023809523809523,
          0.7023809523809523,
          0.6904761904761905,
          0.6785714285714286,
          0.6428571428571429,
          0.6309523809523809,
          0.6190476190476191,
          0.6071428571428571,
          0.5833333333333334,
          0.5714285714285714,
          0.5595238095238095,
          0.5357142857142857,
          0.5,
          0.5,
          0.42857142857142855,
          0.36904761904761907,
          0.36904761904761907,
          0.34523809523809523,
          0.3333333333333333,
          0.2976190476190476,
          0.2976190476190476,
          0.25,
          0.21428571428571427,
          0.17857142857142858,
          0.16666666666666666,
          0.14285714285714285,
          0.13095238095238096,
          0.13095238095238096,
          0.11904761904761904,
          0.10714285714285714,
          0.09523809523809523,
          0.08333333333333333,
          0.07142857142857142,
          0.05952380952380952,
          0.047619047619047616,
          0.03571428571428571,
          0.023809523809523808,
          0.011904761904761904,
          0
         ],
         "xaxis": "x2",
         "y": [
          0.8316831683168316,
          0.84,
          0.8383838383838383,
          0.8367346938775511,
          0.8350515463917526,
          0.8333333333333334,
          0.8315789473684211,
          0.8297872340425532,
          0.8279569892473119,
          0.8369565217391305,
          0.8444444444444444,
          0.8409090909090909,
          0.8604651162790697,
          0.8588235294117647,
          0.8571428571428571,
          0.8554216867469879,
          0.8536585365853658,
          0.8481012658227848,
          0.8461538461538461,
          0.8421052631578947,
          0.8378378378378378,
          0.8356164383561644,
          0.8333333333333334,
          0.8309859154929577,
          0.8428571428571429,
          0.8405797101449275,
          0.8382352941176471,
          0.8709677419354839,
          0.8688524590163934,
          0.8666666666666667,
          0.864406779661017,
          0.8596491228070176,
          0.8571428571428571,
          0.8545454545454545,
          0.8490566037735849,
          0.84,
          0.8571428571428571,
          0.8372093023255814,
          0.8157894736842105,
          0.8611111111111112,
          0.8529411764705882,
          0.875,
          0.8620689655172413,
          0.8928571428571429,
          0.875,
          0.9,
          0.8823529411764706,
          0.9333333333333333,
          0.9230769230769231,
          0.9166666666666666,
          1,
          1,
          1,
          1,
          1,
          1,
          1,
          1,
          1,
          1,
          1,
          1
         ],
         "yaxis": "y2"
        }
       ],
       "layout": {
        "annotations": [
         {
          "font": {
           "size": 16
          },
          "showarrow": false,
          "text": "ROC Curve (AUC=0.5697)",
          "x": 0.225,
          "xanchor": "center",
          "xref": "paper",
          "y": 1,
          "yanchor": "bottom",
          "yref": "paper"
         },
         {
          "font": {
           "size": 16
          },
          "showarrow": false,
          "text": "Precision-Recall Curve (AUC=0.5697)",
          "x": 0.775,
          "xanchor": "center",
          "xref": "paper",
          "y": 1,
          "yanchor": "bottom",
          "yref": "paper"
         }
        ],
        "shapes": [
         {
          "line": {
           "dash": "dash"
          },
          "type": "line",
          "x0": 0,
          "x1": 1,
          "xref": "x",
          "y0": 0,
          "y1": 1,
          "yref": "y"
         },
         {
          "line": {
           "dash": "dash"
          },
          "type": "line",
          "x0": 0,
          "x1": 1,
          "xref": "x2",
          "y0": 0.5,
          "y1": 0.5,
          "yref": "y2"
         }
        ],
        "template": {
         "data": {
          "bar": [
           {
            "error_x": {
             "color": "#2a3f5f"
            },
            "error_y": {
             "color": "#2a3f5f"
            },
            "marker": {
             "line": {
              "color": "#E5ECF6",
              "width": 0.5
             },
             "pattern": {
              "fillmode": "overlay",
              "size": 10,
              "solidity": 0.2
             }
            },
            "type": "bar"
           }
          ],
          "barpolar": [
           {
            "marker": {
             "line": {
              "color": "#E5ECF6",
              "width": 0.5
             },
             "pattern": {
              "fillmode": "overlay",
              "size": 10,
              "solidity": 0.2
             }
            },
            "type": "barpolar"
           }
          ],
          "carpet": [
           {
            "aaxis": {
             "endlinecolor": "#2a3f5f",
             "gridcolor": "white",
             "linecolor": "white",
             "minorgridcolor": "white",
             "startlinecolor": "#2a3f5f"
            },
            "baxis": {
             "endlinecolor": "#2a3f5f",
             "gridcolor": "white",
             "linecolor": "white",
             "minorgridcolor": "white",
             "startlinecolor": "#2a3f5f"
            },
            "type": "carpet"
           }
          ],
          "choropleth": [
           {
            "colorbar": {
             "outlinewidth": 0,
             "ticks": ""
            },
            "type": "choropleth"
           }
          ],
          "contour": [
           {
            "colorbar": {
             "outlinewidth": 0,
             "ticks": ""
            },
            "colorscale": [
             [
              0,
              "#0d0887"
             ],
             [
              0.1111111111111111,
              "#46039f"
             ],
             [
              0.2222222222222222,
              "#7201a8"
             ],
             [
              0.3333333333333333,
              "#9c179e"
             ],
             [
              0.4444444444444444,
              "#bd3786"
             ],
             [
              0.5555555555555556,
              "#d8576b"
             ],
             [
              0.6666666666666666,
              "#ed7953"
             ],
             [
              0.7777777777777778,
              "#fb9f3a"
             ],
             [
              0.8888888888888888,
              "#fdca26"
             ],
             [
              1,
              "#f0f921"
             ]
            ],
            "type": "contour"
           }
          ],
          "contourcarpet": [
           {
            "colorbar": {
             "outlinewidth": 0,
             "ticks": ""
            },
            "type": "contourcarpet"
           }
          ],
          "heatmap": [
           {
            "colorbar": {
             "outlinewidth": 0,
             "ticks": ""
            },
            "colorscale": [
             [
              0,
              "#0d0887"
             ],
             [
              0.1111111111111111,
              "#46039f"
             ],
             [
              0.2222222222222222,
              "#7201a8"
             ],
             [
              0.3333333333333333,
              "#9c179e"
             ],
             [
              0.4444444444444444,
              "#bd3786"
             ],
             [
              0.5555555555555556,
              "#d8576b"
             ],
             [
              0.6666666666666666,
              "#ed7953"
             ],
             [
              0.7777777777777778,
              "#fb9f3a"
             ],
             [
              0.8888888888888888,
              "#fdca26"
             ],
             [
              1,
              "#f0f921"
             ]
            ],
            "type": "heatmap"
           }
          ],
          "heatmapgl": [
           {
            "colorbar": {
             "outlinewidth": 0,
             "ticks": ""
            },
            "colorscale": [
             [
              0,
              "#0d0887"
             ],
             [
              0.1111111111111111,
              "#46039f"
             ],
             [
              0.2222222222222222,
              "#7201a8"
             ],
             [
              0.3333333333333333,
              "#9c179e"
             ],
             [
              0.4444444444444444,
              "#bd3786"
             ],
             [
              0.5555555555555556,
              "#d8576b"
             ],
             [
              0.6666666666666666,
              "#ed7953"
             ],
             [
              0.7777777777777778,
              "#fb9f3a"
             ],
             [
              0.8888888888888888,
              "#fdca26"
             ],
             [
              1,
              "#f0f921"
             ]
            ],
            "type": "heatmapgl"
           }
          ],
          "histogram": [
           {
            "marker": {
             "pattern": {
              "fillmode": "overlay",
              "size": 10,
              "solidity": 0.2
             }
            },
            "type": "histogram"
           }
          ],
          "histogram2d": [
           {
            "colorbar": {
             "outlinewidth": 0,
             "ticks": ""
            },
            "colorscale": [
             [
              0,
              "#0d0887"
             ],
             [
              0.1111111111111111,
              "#46039f"
             ],
             [
              0.2222222222222222,
              "#7201a8"
             ],
             [
              0.3333333333333333,
              "#9c179e"
             ],
             [
              0.4444444444444444,
              "#bd3786"
             ],
             [
              0.5555555555555556,
              "#d8576b"
             ],
             [
              0.6666666666666666,
              "#ed7953"
             ],
             [
              0.7777777777777778,
              "#fb9f3a"
             ],
             [
              0.8888888888888888,
              "#fdca26"
             ],
             [
              1,
              "#f0f921"
             ]
            ],
            "type": "histogram2d"
           }
          ],
          "histogram2dcontour": [
           {
            "colorbar": {
             "outlinewidth": 0,
             "ticks": ""
            },
            "colorscale": [
             [
              0,
              "#0d0887"
             ],
             [
              0.1111111111111111,
              "#46039f"
             ],
             [
              0.2222222222222222,
              "#7201a8"
             ],
             [
              0.3333333333333333,
              "#9c179e"
             ],
             [
              0.4444444444444444,
              "#bd3786"
             ],
             [
              0.5555555555555556,
              "#d8576b"
             ],
             [
              0.6666666666666666,
              "#ed7953"
             ],
             [
              0.7777777777777778,
              "#fb9f3a"
             ],
             [
              0.8888888888888888,
              "#fdca26"
             ],
             [
              1,
              "#f0f921"
             ]
            ],
            "type": "histogram2dcontour"
           }
          ],
          "mesh3d": [
           {
            "colorbar": {
             "outlinewidth": 0,
             "ticks": ""
            },
            "type": "mesh3d"
           }
          ],
          "parcoords": [
           {
            "line": {
             "colorbar": {
              "outlinewidth": 0,
              "ticks": ""
             }
            },
            "type": "parcoords"
           }
          ],
          "pie": [
           {
            "automargin": true,
            "type": "pie"
           }
          ],
          "scatter": [
           {
            "fillpattern": {
             "fillmode": "overlay",
             "size": 10,
             "solidity": 0.2
            },
            "type": "scatter"
           }
          ],
          "scatter3d": [
           {
            "line": {
             "colorbar": {
              "outlinewidth": 0,
              "ticks": ""
             }
            },
            "marker": {
             "colorbar": {
              "outlinewidth": 0,
              "ticks": ""
             }
            },
            "type": "scatter3d"
           }
          ],
          "scattercarpet": [
           {
            "marker": {
             "colorbar": {
              "outlinewidth": 0,
              "ticks": ""
             }
            },
            "type": "scattercarpet"
           }
          ],
          "scattergeo": [
           {
            "marker": {
             "colorbar": {
              "outlinewidth": 0,
              "ticks": ""
             }
            },
            "type": "scattergeo"
           }
          ],
          "scattergl": [
           {
            "marker": {
             "colorbar": {
              "outlinewidth": 0,
              "ticks": ""
             }
            },
            "type": "scattergl"
           }
          ],
          "scattermapbox": [
           {
            "marker": {
             "colorbar": {
              "outlinewidth": 0,
              "ticks": ""
             }
            },
            "type": "scattermapbox"
           }
          ],
          "scatterpolar": [
           {
            "marker": {
             "colorbar": {
              "outlinewidth": 0,
              "ticks": ""
             }
            },
            "type": "scatterpolar"
           }
          ],
          "scatterpolargl": [
           {
            "marker": {
             "colorbar": {
              "outlinewidth": 0,
              "ticks": ""
             }
            },
            "type": "scatterpolargl"
           }
          ],
          "scatterternary": [
           {
            "marker": {
             "colorbar": {
              "outlinewidth": 0,
              "ticks": ""
             }
            },
            "type": "scatterternary"
           }
          ],
          "surface": [
           {
            "colorbar": {
             "outlinewidth": 0,
             "ticks": ""
            },
            "colorscale": [
             [
              0,
              "#0d0887"
             ],
             [
              0.1111111111111111,
              "#46039f"
             ],
             [
              0.2222222222222222,
              "#7201a8"
             ],
             [
              0.3333333333333333,
              "#9c179e"
             ],
             [
              0.4444444444444444,
              "#bd3786"
             ],
             [
              0.5555555555555556,
              "#d8576b"
             ],
             [
              0.6666666666666666,
              "#ed7953"
             ],
             [
              0.7777777777777778,
              "#fb9f3a"
             ],
             [
              0.8888888888888888,
              "#fdca26"
             ],
             [
              1,
              "#f0f921"
             ]
            ],
            "type": "surface"
           }
          ],
          "table": [
           {
            "cells": {
             "fill": {
              "color": "#EBF0F8"
             },
             "line": {
              "color": "white"
             }
            },
            "header": {
             "fill": {
              "color": "#C8D4E3"
             },
             "line": {
              "color": "white"
             }
            },
            "type": "table"
           }
          ]
         },
         "layout": {
          "annotationdefaults": {
           "arrowcolor": "#2a3f5f",
           "arrowhead": 0,
           "arrowwidth": 1
          },
          "autotypenumbers": "strict",
          "coloraxis": {
           "colorbar": {
            "outlinewidth": 0,
            "ticks": ""
           }
          },
          "colorscale": {
           "diverging": [
            [
             0,
             "#8e0152"
            ],
            [
             0.1,
             "#c51b7d"
            ],
            [
             0.2,
             "#de77ae"
            ],
            [
             0.3,
             "#f1b6da"
            ],
            [
             0.4,
             "#fde0ef"
            ],
            [
             0.5,
             "#f7f7f7"
            ],
            [
             0.6,
             "#e6f5d0"
            ],
            [
             0.7,
             "#b8e186"
            ],
            [
             0.8,
             "#7fbc41"
            ],
            [
             0.9,
             "#4d9221"
            ],
            [
             1,
             "#276419"
            ]
           ],
           "sequential": [
            [
             0,
             "#0d0887"
            ],
            [
             0.1111111111111111,
             "#46039f"
            ],
            [
             0.2222222222222222,
             "#7201a8"
            ],
            [
             0.3333333333333333,
             "#9c179e"
            ],
            [
             0.4444444444444444,
             "#bd3786"
            ],
            [
             0.5555555555555556,
             "#d8576b"
            ],
            [
             0.6666666666666666,
             "#ed7953"
            ],
            [
             0.7777777777777778,
             "#fb9f3a"
            ],
            [
             0.8888888888888888,
             "#fdca26"
            ],
            [
             1,
             "#f0f921"
            ]
           ],
           "sequentialminus": [
            [
             0,
             "#0d0887"
            ],
            [
             0.1111111111111111,
             "#46039f"
            ],
            [
             0.2222222222222222,
             "#7201a8"
            ],
            [
             0.3333333333333333,
             "#9c179e"
            ],
            [
             0.4444444444444444,
             "#bd3786"
            ],
            [
             0.5555555555555556,
             "#d8576b"
            ],
            [
             0.6666666666666666,
             "#ed7953"
            ],
            [
             0.7777777777777778,
             "#fb9f3a"
            ],
            [
             0.8888888888888888,
             "#fdca26"
            ],
            [
             1,
             "#f0f921"
            ]
           ]
          },
          "colorway": [
           "#636efa",
           "#EF553B",
           "#00cc96",
           "#ab63fa",
           "#FFA15A",
           "#19d3f3",
           "#FF6692",
           "#B6E880",
           "#FF97FF",
           "#FECB52"
          ],
          "font": {
           "color": "#2a3f5f"
          },
          "geo": {
           "bgcolor": "white",
           "lakecolor": "white",
           "landcolor": "#E5ECF6",
           "showlakes": true,
           "showland": true,
           "subunitcolor": "white"
          },
          "hoverlabel": {
           "align": "left"
          },
          "hovermode": "closest",
          "mapbox": {
           "style": "light"
          },
          "paper_bgcolor": "white",
          "plot_bgcolor": "#E5ECF6",
          "polar": {
           "angularaxis": {
            "gridcolor": "white",
            "linecolor": "white",
            "ticks": ""
           },
           "bgcolor": "#E5ECF6",
           "radialaxis": {
            "gridcolor": "white",
            "linecolor": "white",
            "ticks": ""
           }
          },
          "scene": {
           "xaxis": {
            "backgroundcolor": "#E5ECF6",
            "gridcolor": "white",
            "gridwidth": 2,
            "linecolor": "white",
            "showbackground": true,
            "ticks": "",
            "zerolinecolor": "white"
           },
           "yaxis": {
            "backgroundcolor": "#E5ECF6",
            "gridcolor": "white",
            "gridwidth": 2,
            "linecolor": "white",
            "showbackground": true,
            "ticks": "",
            "zerolinecolor": "white"
           },
           "zaxis": {
            "backgroundcolor": "#E5ECF6",
            "gridcolor": "white",
            "gridwidth": 2,
            "linecolor": "white",
            "showbackground": true,
            "ticks": "",
            "zerolinecolor": "white"
           }
          },
          "shapedefaults": {
           "line": {
            "color": "#2a3f5f"
           }
          },
          "ternary": {
           "aaxis": {
            "gridcolor": "white",
            "linecolor": "white",
            "ticks": ""
           },
           "baxis": {
            "gridcolor": "white",
            "linecolor": "white",
            "ticks": ""
           },
           "bgcolor": "#E5ECF6",
           "caxis": {
            "gridcolor": "white",
            "linecolor": "white",
            "ticks": ""
           }
          },
          "title": {
           "x": 0.05
          },
          "xaxis": {
           "automargin": true,
           "gridcolor": "white",
           "linecolor": "white",
           "ticks": "",
           "title": {
            "standoff": 15
           },
           "zerolinecolor": "white",
           "zerolinewidth": 2
          },
          "yaxis": {
           "automargin": true,
           "gridcolor": "white",
           "linecolor": "white",
           "ticks": "",
           "title": {
            "standoff": 15
           },
           "zerolinecolor": "white",
           "zerolinewidth": 2
          }
         }
        },
        "xaxis": {
         "anchor": "y",
         "domain": [
          0,
          0.45
         ],
         "title": {
          "text": "False Positive Rate / 1-Specificity"
         }
        },
        "xaxis2": {
         "anchor": "y2",
         "domain": [
          0.55,
          1
         ],
         "title": {
          "text": "Recall"
         }
        },
        "yaxis": {
         "anchor": "x",
         "domain": [
          0,
          1
         ],
         "title": {
          "text": "True Positive Rate / Recall"
         }
        },
        "yaxis2": {
         "anchor": "x2",
         "domain": [
          0,
          1
         ],
         "title": {
          "text": "Precision"
         }
        }
       }
      },
      "text/html": [
       "<div>                            <div id=\"3856ce44-9737-46d1-ac52-aec0ad0e50df\" class=\"plotly-graph-div\" style=\"height:525px; width:100%;\"></div>            <script type=\"text/javascript\">                require([\"plotly\"], function(Plotly) {                    window.PLOTLYENV=window.PLOTLYENV || {};                                    if (document.getElementById(\"3856ce44-9737-46d1-ac52-aec0ad0e50df\")) {                    Plotly.newPlot(                        \"3856ce44-9737-46d1-ac52-aec0ad0e50df\",                        [{\"x\":[0.0,0.0,0.0,0.058823529411764705,0.058823529411764705,0.058823529411764705,0.11764705882352941,0.11764705882352941,0.17647058823529413,0.17647058823529413,0.23529411764705882,0.23529411764705882,0.29411764705882354,0.29411764705882354,0.4117647058823529,0.4117647058823529,0.4117647058823529,0.47058823529411764,0.47058823529411764,0.47058823529411764,0.47058823529411764,0.47058823529411764,0.47058823529411764,0.6470588235294118,0.6470588235294118,0.7058823529411765,0.7058823529411765,0.7058823529411765,0.7058823529411765,0.7058823529411765,0.7058823529411765,0.8235294117647058,0.8235294117647058,0.8823529411764706,0.9411764705882353,0.9411764705882353,1.0],\"y\":[0.0,0.011904761904761904,0.13095238095238096,0.13095238095238096,0.14285714285714285,0.16666666666666666,0.17857142857142858,0.21428571428571427,0.25,0.2976190476190476,0.2976190476190476,0.3333333333333333,0.34523809523809523,0.36904761904761907,0.36904761904761907,0.42857142857142855,0.5,0.5,0.5357142857142857,0.5595238095238095,0.5833333333333334,0.6071428571428571,0.6428571428571429,0.6785714285714286,0.7023809523809523,0.7023809523809523,0.7380952380952381,0.7857142857142857,0.7976190476190477,0.8333333333333334,0.8809523809523809,0.8809523809523809,0.9047619047619048,0.9166666666666666,0.9166666666666666,1.0,1.0],\"type\":\"scatter\",\"xaxis\":\"x\",\"yaxis\":\"y\"},{\"x\":[1.0,1.0,0.9880952380952381,0.9761904761904762,0.9642857142857143,0.9523809523809523,0.9404761904761905,0.9285714285714286,0.9166666666666666,0.9166666666666666,0.9047619047619048,0.8809523809523809,0.8809523809523809,0.8690476190476191,0.8571428571428571,0.8452380952380952,0.8333333333333334,0.7976190476190477,0.7857142857142857,0.7619047619047619,0.7380952380952381,0.7261904761904762,0.7142857142857143,0.7023809523809523,0.7023809523809523,0.6904761904761905,0.6785714285714286,0.6428571428571429,0.6309523809523809,0.6190476190476191,0.6071428571428571,0.5833333333333334,0.5714285714285714,0.5595238095238095,0.5357142857142857,0.5,0.5,0.42857142857142855,0.36904761904761907,0.36904761904761907,0.34523809523809523,0.3333333333333333,0.2976190476190476,0.2976190476190476,0.25,0.21428571428571427,0.17857142857142858,0.16666666666666666,0.14285714285714285,0.13095238095238096,0.13095238095238096,0.11904761904761904,0.10714285714285714,0.09523809523809523,0.08333333333333333,0.07142857142857142,0.05952380952380952,0.047619047619047616,0.03571428571428571,0.023809523809523808,0.011904761904761904,0.0],\"y\":[0.8316831683168316,0.84,0.8383838383838383,0.8367346938775511,0.8350515463917526,0.8333333333333334,0.8315789473684211,0.8297872340425532,0.8279569892473119,0.8369565217391305,0.8444444444444444,0.8409090909090909,0.8604651162790697,0.8588235294117647,0.8571428571428571,0.8554216867469879,0.8536585365853658,0.8481012658227848,0.8461538461538461,0.8421052631578947,0.8378378378378378,0.8356164383561644,0.8333333333333334,0.8309859154929577,0.8428571428571429,0.8405797101449275,0.8382352941176471,0.8709677419354839,0.8688524590163934,0.8666666666666667,0.864406779661017,0.8596491228070176,0.8571428571428571,0.8545454545454545,0.8490566037735849,0.84,0.8571428571428571,0.8372093023255814,0.8157894736842105,0.8611111111111112,0.8529411764705882,0.875,0.8620689655172413,0.8928571428571429,0.875,0.9,0.8823529411764706,0.9333333333333333,0.9230769230769231,0.9166666666666666,1.0,1.0,1.0,1.0,1.0,1.0,1.0,1.0,1.0,1.0,1.0,1.0],\"type\":\"scatter\",\"xaxis\":\"x2\",\"yaxis\":\"y2\"}],                        {\"template\":{\"data\":{\"histogram2dcontour\":[{\"type\":\"histogram2dcontour\",\"colorbar\":{\"outlinewidth\":0,\"ticks\":\"\"},\"colorscale\":[[0.0,\"#0d0887\"],[0.1111111111111111,\"#46039f\"],[0.2222222222222222,\"#7201a8\"],[0.3333333333333333,\"#9c179e\"],[0.4444444444444444,\"#bd3786\"],[0.5555555555555556,\"#d8576b\"],[0.6666666666666666,\"#ed7953\"],[0.7777777777777778,\"#fb9f3a\"],[0.8888888888888888,\"#fdca26\"],[1.0,\"#f0f921\"]]}],\"choropleth\":[{\"type\":\"choropleth\",\"colorbar\":{\"outlinewidth\":0,\"ticks\":\"\"}}],\"histogram2d\":[{\"type\":\"histogram2d\",\"colorbar\":{\"outlinewidth\":0,\"ticks\":\"\"},\"colorscale\":[[0.0,\"#0d0887\"],[0.1111111111111111,\"#46039f\"],[0.2222222222222222,\"#7201a8\"],[0.3333333333333333,\"#9c179e\"],[0.4444444444444444,\"#bd3786\"],[0.5555555555555556,\"#d8576b\"],[0.6666666666666666,\"#ed7953\"],[0.7777777777777778,\"#fb9f3a\"],[0.8888888888888888,\"#fdca26\"],[1.0,\"#f0f921\"]]}],\"heatmap\":[{\"type\":\"heatmap\",\"colorbar\":{\"outlinewidth\":0,\"ticks\":\"\"},\"colorscale\":[[0.0,\"#0d0887\"],[0.1111111111111111,\"#46039f\"],[0.2222222222222222,\"#7201a8\"],[0.3333333333333333,\"#9c179e\"],[0.4444444444444444,\"#bd3786\"],[0.5555555555555556,\"#d8576b\"],[0.6666666666666666,\"#ed7953\"],[0.7777777777777778,\"#fb9f3a\"],[0.8888888888888888,\"#fdca26\"],[1.0,\"#f0f921\"]]}],\"heatmapgl\":[{\"type\":\"heatmapgl\",\"colorbar\":{\"outlinewidth\":0,\"ticks\":\"\"},\"colorscale\":[[0.0,\"#0d0887\"],[0.1111111111111111,\"#46039f\"],[0.2222222222222222,\"#7201a8\"],[0.3333333333333333,\"#9c179e\"],[0.4444444444444444,\"#bd3786\"],[0.5555555555555556,\"#d8576b\"],[0.6666666666666666,\"#ed7953\"],[0.7777777777777778,\"#fb9f3a\"],[0.8888888888888888,\"#fdca26\"],[1.0,\"#f0f921\"]]}],\"contourcarpet\":[{\"type\":\"contourcarpet\",\"colorbar\":{\"outlinewidth\":0,\"ticks\":\"\"}}],\"contour\":[{\"type\":\"contour\",\"colorbar\":{\"outlinewidth\":0,\"ticks\":\"\"},\"colorscale\":[[0.0,\"#0d0887\"],[0.1111111111111111,\"#46039f\"],[0.2222222222222222,\"#7201a8\"],[0.3333333333333333,\"#9c179e\"],[0.4444444444444444,\"#bd3786\"],[0.5555555555555556,\"#d8576b\"],[0.6666666666666666,\"#ed7953\"],[0.7777777777777778,\"#fb9f3a\"],[0.8888888888888888,\"#fdca26\"],[1.0,\"#f0f921\"]]}],\"surface\":[{\"type\":\"surface\",\"colorbar\":{\"outlinewidth\":0,\"ticks\":\"\"},\"colorscale\":[[0.0,\"#0d0887\"],[0.1111111111111111,\"#46039f\"],[0.2222222222222222,\"#7201a8\"],[0.3333333333333333,\"#9c179e\"],[0.4444444444444444,\"#bd3786\"],[0.5555555555555556,\"#d8576b\"],[0.6666666666666666,\"#ed7953\"],[0.7777777777777778,\"#fb9f3a\"],[0.8888888888888888,\"#fdca26\"],[1.0,\"#f0f921\"]]}],\"mesh3d\":[{\"type\":\"mesh3d\",\"colorbar\":{\"outlinewidth\":0,\"ticks\":\"\"}}],\"scatter\":[{\"fillpattern\":{\"fillmode\":\"overlay\",\"size\":10,\"solidity\":0.2},\"type\":\"scatter\"}],\"parcoords\":[{\"type\":\"parcoords\",\"line\":{\"colorbar\":{\"outlinewidth\":0,\"ticks\":\"\"}}}],\"scatterpolargl\":[{\"type\":\"scatterpolargl\",\"marker\":{\"colorbar\":{\"outlinewidth\":0,\"ticks\":\"\"}}}],\"bar\":[{\"error_x\":{\"color\":\"#2a3f5f\"},\"error_y\":{\"color\":\"#2a3f5f\"},\"marker\":{\"line\":{\"color\":\"#E5ECF6\",\"width\":0.5},\"pattern\":{\"fillmode\":\"overlay\",\"size\":10,\"solidity\":0.2}},\"type\":\"bar\"}],\"scattergeo\":[{\"type\":\"scattergeo\",\"marker\":{\"colorbar\":{\"outlinewidth\":0,\"ticks\":\"\"}}}],\"scatterpolar\":[{\"type\":\"scatterpolar\",\"marker\":{\"colorbar\":{\"outlinewidth\":0,\"ticks\":\"\"}}}],\"histogram\":[{\"marker\":{\"pattern\":{\"fillmode\":\"overlay\",\"size\":10,\"solidity\":0.2}},\"type\":\"histogram\"}],\"scattergl\":[{\"type\":\"scattergl\",\"marker\":{\"colorbar\":{\"outlinewidth\":0,\"ticks\":\"\"}}}],\"scatter3d\":[{\"type\":\"scatter3d\",\"line\":{\"colorbar\":{\"outlinewidth\":0,\"ticks\":\"\"}},\"marker\":{\"colorbar\":{\"outlinewidth\":0,\"ticks\":\"\"}}}],\"scattermapbox\":[{\"type\":\"scattermapbox\",\"marker\":{\"colorbar\":{\"outlinewidth\":0,\"ticks\":\"\"}}}],\"scatterternary\":[{\"type\":\"scatterternary\",\"marker\":{\"colorbar\":{\"outlinewidth\":0,\"ticks\":\"\"}}}],\"scattercarpet\":[{\"type\":\"scattercarpet\",\"marker\":{\"colorbar\":{\"outlinewidth\":0,\"ticks\":\"\"}}}],\"carpet\":[{\"aaxis\":{\"endlinecolor\":\"#2a3f5f\",\"gridcolor\":\"white\",\"linecolor\":\"white\",\"minorgridcolor\":\"white\",\"startlinecolor\":\"#2a3f5f\"},\"baxis\":{\"endlinecolor\":\"#2a3f5f\",\"gridcolor\":\"white\",\"linecolor\":\"white\",\"minorgridcolor\":\"white\",\"startlinecolor\":\"#2a3f5f\"},\"type\":\"carpet\"}],\"table\":[{\"cells\":{\"fill\":{\"color\":\"#EBF0F8\"},\"line\":{\"color\":\"white\"}},\"header\":{\"fill\":{\"color\":\"#C8D4E3\"},\"line\":{\"color\":\"white\"}},\"type\":\"table\"}],\"barpolar\":[{\"marker\":{\"line\":{\"color\":\"#E5ECF6\",\"width\":0.5},\"pattern\":{\"fillmode\":\"overlay\",\"size\":10,\"solidity\":0.2}},\"type\":\"barpolar\"}],\"pie\":[{\"automargin\":true,\"type\":\"pie\"}]},\"layout\":{\"autotypenumbers\":\"strict\",\"colorway\":[\"#636efa\",\"#EF553B\",\"#00cc96\",\"#ab63fa\",\"#FFA15A\",\"#19d3f3\",\"#FF6692\",\"#B6E880\",\"#FF97FF\",\"#FECB52\"],\"font\":{\"color\":\"#2a3f5f\"},\"hovermode\":\"closest\",\"hoverlabel\":{\"align\":\"left\"},\"paper_bgcolor\":\"white\",\"plot_bgcolor\":\"#E5ECF6\",\"polar\":{\"bgcolor\":\"#E5ECF6\",\"angularaxis\":{\"gridcolor\":\"white\",\"linecolor\":\"white\",\"ticks\":\"\"},\"radialaxis\":{\"gridcolor\":\"white\",\"linecolor\":\"white\",\"ticks\":\"\"}},\"ternary\":{\"bgcolor\":\"#E5ECF6\",\"aaxis\":{\"gridcolor\":\"white\",\"linecolor\":\"white\",\"ticks\":\"\"},\"baxis\":{\"gridcolor\":\"white\",\"linecolor\":\"white\",\"ticks\":\"\"},\"caxis\":{\"gridcolor\":\"white\",\"linecolor\":\"white\",\"ticks\":\"\"}},\"coloraxis\":{\"colorbar\":{\"outlinewidth\":0,\"ticks\":\"\"}},\"colorscale\":{\"sequential\":[[0.0,\"#0d0887\"],[0.1111111111111111,\"#46039f\"],[0.2222222222222222,\"#7201a8\"],[0.3333333333333333,\"#9c179e\"],[0.4444444444444444,\"#bd3786\"],[0.5555555555555556,\"#d8576b\"],[0.6666666666666666,\"#ed7953\"],[0.7777777777777778,\"#fb9f3a\"],[0.8888888888888888,\"#fdca26\"],[1.0,\"#f0f921\"]],\"sequentialminus\":[[0.0,\"#0d0887\"],[0.1111111111111111,\"#46039f\"],[0.2222222222222222,\"#7201a8\"],[0.3333333333333333,\"#9c179e\"],[0.4444444444444444,\"#bd3786\"],[0.5555555555555556,\"#d8576b\"],[0.6666666666666666,\"#ed7953\"],[0.7777777777777778,\"#fb9f3a\"],[0.8888888888888888,\"#fdca26\"],[1.0,\"#f0f921\"]],\"diverging\":[[0,\"#8e0152\"],[0.1,\"#c51b7d\"],[0.2,\"#de77ae\"],[0.3,\"#f1b6da\"],[0.4,\"#fde0ef\"],[0.5,\"#f7f7f7\"],[0.6,\"#e6f5d0\"],[0.7,\"#b8e186\"],[0.8,\"#7fbc41\"],[0.9,\"#4d9221\"],[1,\"#276419\"]]},\"xaxis\":{\"gridcolor\":\"white\",\"linecolor\":\"white\",\"ticks\":\"\",\"title\":{\"standoff\":15},\"zerolinecolor\":\"white\",\"automargin\":true,\"zerolinewidth\":2},\"yaxis\":{\"gridcolor\":\"white\",\"linecolor\":\"white\",\"ticks\":\"\",\"title\":{\"standoff\":15},\"zerolinecolor\":\"white\",\"automargin\":true,\"zerolinewidth\":2},\"scene\":{\"xaxis\":{\"backgroundcolor\":\"#E5ECF6\",\"gridcolor\":\"white\",\"linecolor\":\"white\",\"showbackground\":true,\"ticks\":\"\",\"zerolinecolor\":\"white\",\"gridwidth\":2},\"yaxis\":{\"backgroundcolor\":\"#E5ECF6\",\"gridcolor\":\"white\",\"linecolor\":\"white\",\"showbackground\":true,\"ticks\":\"\",\"zerolinecolor\":\"white\",\"gridwidth\":2},\"zaxis\":{\"backgroundcolor\":\"#E5ECF6\",\"gridcolor\":\"white\",\"linecolor\":\"white\",\"showbackground\":true,\"ticks\":\"\",\"zerolinecolor\":\"white\",\"gridwidth\":2}},\"shapedefaults\":{\"line\":{\"color\":\"#2a3f5f\"}},\"annotationdefaults\":{\"arrowcolor\":\"#2a3f5f\",\"arrowhead\":0,\"arrowwidth\":1},\"geo\":{\"bgcolor\":\"white\",\"landcolor\":\"#E5ECF6\",\"subunitcolor\":\"white\",\"showland\":true,\"showlakes\":true,\"lakecolor\":\"white\"},\"title\":{\"x\":0.05},\"mapbox\":{\"style\":\"light\"}}},\"xaxis\":{\"anchor\":\"y\",\"domain\":[0.0,0.45],\"title\":{\"text\":\"False Positive Rate / 1-Specificity\"}},\"yaxis\":{\"anchor\":\"x\",\"domain\":[0.0,1.0],\"title\":{\"text\":\"True Positive Rate / Recall\"}},\"xaxis2\":{\"anchor\":\"y2\",\"domain\":[0.55,1.0],\"title\":{\"text\":\"Recall\"}},\"yaxis2\":{\"anchor\":\"x2\",\"domain\":[0.0,1.0],\"title\":{\"text\":\"Precision\"}},\"annotations\":[{\"font\":{\"size\":16},\"showarrow\":false,\"text\":\"ROC Curve (AUC=0.5697)\",\"x\":0.225,\"xanchor\":\"center\",\"xref\":\"paper\",\"y\":1.0,\"yanchor\":\"bottom\",\"yref\":\"paper\"},{\"font\":{\"size\":16},\"showarrow\":false,\"text\":\"Precision-Recall Curve (AUC=0.5697)\",\"x\":0.775,\"xanchor\":\"center\",\"xref\":\"paper\",\"y\":1.0,\"yanchor\":\"bottom\",\"yref\":\"paper\"}],\"shapes\":[{\"line\":{\"dash\":\"dash\"},\"type\":\"line\",\"x0\":0,\"x1\":1,\"xref\":\"x\",\"y0\":0,\"y1\":1,\"yref\":\"y\"},{\"line\":{\"dash\":\"dash\"},\"type\":\"line\",\"x0\":0,\"x1\":1,\"xref\":\"x2\",\"y0\":0.5,\"y1\":0.5,\"yref\":\"y2\"}]},                        {\"responsive\": true}                    ).then(function(){\n",
       "                            \n",
       "var gd = document.getElementById('3856ce44-9737-46d1-ac52-aec0ad0e50df');\n",
       "var x = new MutationObserver(function (mutations, observer) {{\n",
       "        var display = window.getComputedStyle(gd).display;\n",
       "        if (!display || display === 'none') {{\n",
       "            console.log([gd, 'removed!']);\n",
       "            Plotly.purge(gd);\n",
       "            observer.disconnect();\n",
       "        }}\n",
       "}});\n",
       "\n",
       "// Listen for the removal of the full notebook cells\n",
       "var notebookContainer = gd.closest('#notebook-container');\n",
       "if (notebookContainer) {{\n",
       "    x.observe(notebookContainer, {childList: true});\n",
       "}}\n",
       "\n",
       "// Listen for the clearing of the current output cell\n",
       "var outputEl = gd.closest('.output');\n",
       "if (outputEl) {{\n",
       "    x.observe(outputEl, {childList: true});\n",
       "}}\n",
       "\n",
       "                        })                };                });            </script>        </div>"
      ]
     },
     "metadata": {},
     "output_type": "display_data"
    }
   ],
   "source": [
    "pca = PCA(n_components=(i+1)*2, svd_solver=\"full\",random_state=random_state)\n",
    "X_PCA_train = pca.fit_transform(X_train)\n",
    "X_PCA_test = pca.transform(X_test)\n",
    "# Model Selection\n",
    "cv_results, best_param, best_result = modelselection(classifier_log,parameters_log, scoring, X_PCA_train)\n",
    "\n",
    "# Classifier with the best hyperparameters\n",
    "logReg_PCA = LogisticRegression(penalty = best_param['penalty'],\n",
    "                            C = best_param['C'],\n",
    "                            random_state=random_state)\n",
    "logReg_PCA.fit(X_PCA_train, y_train)\n",
    "\n",
    "# Metrics\n",
    "logReg_PCA_metrics = metrics(X_PCA_test,logReg_PCA)\n",
    "\n",
    "# ROC Curve & Precision-Recall Curves\n",
    "y_score = logReg_PCA.predict_proba(X_PCA_test)[:, 1] # predict probabilities\n",
    "fig = plot_roc_prc()\n",
    "fig.show()\n",
    "fig.write_image(\"roc.png\")"
   ]
  },
  {
   "cell_type": "markdown",
   "metadata": {},
   "source": [
    "\n",
    "We can control the balance between True Positive Rate (TPR) and False Positive Rate (FPR) by predicting probabilities and adjusting a threshold. If the threshold above α% indicates a malignant tumor, different values of α generate different final values of TPR and FPR. For example, the probability in [0.0, 0.49] means a negative result (0) with the default threshold of 0.5, but it could yield a positive result (1) if a threshold of 0.2 is chosen. How to choose the threshold depends on our main concern. In this case, we may be much more concerned about having a high true positive rate (or low false negative rate) than having a high true negative rate (or low false positive rate). A high true positive rate means that patients would receive early treatment as much as possible. Sometimes, we also need a relatively low false positive value to achieve a balance, as incorrectly identifying a benign tumor as malignant will cause excess mental stress in patients.\n",
    "\n",
    "\n",
    "\n",
    "\n",
    "\n"
   ]
  },
  {
   "cell_type": "markdown",
   "metadata": {},
   "source": [
    "**6. 2. 3. Adjusting thresholds for the metrics**"
   ]
  },
  {
   "cell_type": "code",
   "execution_count": 95,
   "metadata": {},
   "outputs": [
    {
     "name": "stdout",
     "output_type": "stream",
     "text": [
      "threshold = 0.1 : Accuracy=0.832 Sensitivity=1.000 Specificity=0.000 Precision=0.832\n",
      "threshold = 0.2 : Accuracy=0.832 Sensitivity=1.000 Specificity=0.000 Precision=0.832\n",
      "threshold = 0.3 : Accuracy=0.832 Sensitivity=1.000 Specificity=0.000 Precision=0.832\n",
      "threshold = 0.4 : Accuracy=0.832 Sensitivity=1.000 Specificity=0.000 Precision=0.832\n",
      "threshold = 0.5 : Accuracy=0.832 Sensitivity=1.000 Specificity=0.000 Precision=0.832\n",
      "threshold = 0.6 : Accuracy=0.832 Sensitivity=1.000 Specificity=0.000 Precision=0.832\n",
      "threshold = 0.7 : Accuracy=0.832 Sensitivity=1.000 Specificity=0.000 Precision=0.832\n",
      "threshold = 0.8 : Accuracy=0.812 Sensitivity=0.964 Specificity=0.059 Precision=0.835\n",
      "threshold = 0.9 : Accuracy=0.168 Sensitivity=0.000 Specificity=1.000 Precision=nan\n"
     ]
    },
    {
     "name": "stderr",
     "output_type": "stream",
     "text": [
      "C:\\Users\\luism\\AppData\\Local\\Temp\\ipykernel_16352\\206181554.py:18: RuntimeWarning:\n",
      "\n",
      "invalid value encountered in scalar divide\n",
      "\n"
     ]
    },
    {
     "data": {
      "image/png": "[encoded data removed]",
      "text/plain": [
       "<Figure size 1500x1500 with 18 Axes>"
      ]
     },
     "metadata": {},
     "output_type": "display_data"
    }
   ],
   "source": [
    "thresholds = [0.1,0.2,0.3,0.4,0.5,0.6,0.7,0.8,0.9]\n",
    "fig, axs = plt.subplots(nrows=3, ncols=3, figsize=(15, 15))\n",
    "\n",
    "for n, ax in zip(thresholds,axs.ravel()):\n",
    "    y_score = logReg_PCA.predict_proba(X_PCA_test)[:,1] > n\n",
    "    \n",
    "    cm = confusion_matrix(y_test, y_score)\n",
    "    \n",
    "    tp = cm[1,1]\n",
    "    fn = cm[1,0]\n",
    "    fp = cm[0,1]\n",
    "    tn = cm[0,0]\n",
    "\n",
    "    print('threshold = %s :'%n,\n",
    "          'Accuracy={:.3f}'.format((tp+tn)/(tp+tn+fp+fn)),\n",
    "          'Sensitivity={:.3f}'.format(tp/(tp+fn)),\n",
    "          'Specificity={:.3f}'.format(tn/(tn+fp)),\n",
    "          'Precision={:.3f}'.format(tp/(tp+fp)))\n",
    "    \n",
    "    im=ax.matshow(cm, cmap='Blues', alpha=0.7)\n",
    "\n",
    "    for i, j in itertools.product(range(cm.shape[0]), range(cm.shape[1])) :\n",
    "        ax.text(j, i, cm[i, j], horizontalalignment = 'center')\n",
    "        \n",
    "    ax.set_ylabel('True label',fontsize=12)\n",
    "    ax.set_xlabel('Predicted label',fontsize=12)\n",
    "    ax.set_title('Threshold = %s'%n, fontsize=12)\n",
    "    fig.colorbar(im, ax=ax,orientation='vertical');\n",
    "plt.show()"
   ]
  },
  {
   "cell_type": "code",
   "execution_count": 96,
   "metadata": {},
   "outputs": [
    {
     "data": {
      "image/png": "[encoded data removed]",
      "text/plain": [
       "<Figure size 1500x600 with 1 Axes>"
      ]
     },
     "metadata": {},
     "output_type": "display_data"
    }
   ],
   "source": [
    "models_metrics = {'logisticRegression': [round(elem, 3) for elem in logReg_metrics], \n",
    "                 'logReg+PCA': [round(elem, 3) for elem in logReg_PCA_metrics],\n",
    "                }\n",
    "index=['Accuracy','Sensitivity','Specificity','Precision', 'F-measure']\n",
    "df_scores = pd.DataFrame(data = models_metrics, index=index)\n",
    "ax = df_scores.plot(kind='bar', figsize = (15,6), ylim = (0.90, 1.02), \n",
    "                    color = ['gold', 'mediumturquoise', 'darkorange', 'lightgreen','cyan'],\n",
    "                    rot = 0, title ='Models performance (test scores)',\n",
    "                    edgecolor = 'grey', alpha = 0.5)\n",
    "ax.legend(loc='upper center', ncol=5, title=\"models\")\n",
    "for container in ax.containers:\n",
    "    ax.bar_label(container)\n",
    "plt.show()\n",
    "# plt.savefig(\"model_performance.jpg\") #didnt work"
   ]
  },
  {
   "cell_type": "markdown",
   "metadata": {},
   "source": [
    "**7. Creating the pipeline in MLOps** "
   ]
  },
  {
   "cell_type": "code",
   "execution_count": 99,
   "metadata": {},
   "outputs": [
    {
     "name": "stderr",
     "output_type": "stream",
     "text": [
      "2024/05/06 22:25:58 INFO mlflow.tracking.fluent: Experiment with name 'Thesis' does not exist. Creating a new experiment.\n"
     ]
    },
    {
     "name": "stdout",
     "output_type": "stream",
     "text": [
      "MLflow run completed.\n"
     ]
    }
   ],
   "source": [
    "# Set up MLflow tracking\n",
    "mlflow.set_tracking_uri('http://127.0.0.1:5000')\n",
    "mlflow.set_experiment('Thesis')\n",
    "\n",
    "# Start MLflow run and log parameters\n",
    "with mlflow.start_run():\n",
    "    mlflow.log_param('Logistic_regression', 1)\n",
    "\n",
    "    # Log evaluation metrics\n",
    "    mlflow.log_metric('Accuracy', logReg_metrics[0])\n",
    "    mlflow.log_metric('Sensitivity', logReg_metrics[1])\n",
    "    mlflow.log_metric('Specificity', logReg_metrics[2])\n",
    "    mlflow.log_metric('Precision', logReg_metrics[3])\n",
    "    mlflow.log_metric('F-measure', logReg_metrics[4])\n",
    "\n",
    "    # Log confusion matrix as artifact\n",
    "    mlflow.log_artifact('roc.png', 'roc.png')\n",
    "\n",
    "    # Log model performance plot as artifact\n",
    "    mlflow.log_artifact('model_performance.png', 'model_performance.png')  # Log the PNG file\n",
    "\n",
    "print('MLflow run completed.')\n",
    "\n",
    "# Detener el flujo de MLflow\n",
    "mlflow.end_run()"
   ]
  },
  {
   "cell_type": "markdown",
   "metadata": {},
   "source": [
    "**Conclusion**\n",
    "\n",
    "We have to check data to get better scores in all parametters, for the end of this investigation the sensitivity is very important but data has to be checked to get better scores."
   ]
  }
 ],
 "metadata": {
  "kernelspec": {
   "display_name": "Python 3 (ipykernel)",
   "language": "python",
   "name": "python3"
  },
  "language_info": {
   "codemirror_mode": {
    "name": "ipython",
    "version": 3
   },
   "file_extension": ".py",
   "mimetype": "text/x-python",
   "name": "python",
   "nbconvert_exporter": "python",
   "pygments_lexer": "ipython3",
   "version": "3.11.5"
  }
 },
 "nbformat": 4,
 "nbformat_minor": 2
}
